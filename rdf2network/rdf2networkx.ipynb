{
 "cells": [
  {
   "cell_type": "code",
   "execution_count": 1,
   "metadata": {
    "id": "sZJA7QRc-lnW"
   },
   "outputs": [],
   "source": [
    "# Install required packages in the current Jupyter kernel\n",
    "# Uncomment the following lines if you need to install these libraries\n",
    "# If you run into permission issues, try with the --user option\n",
    "#import sys\n",
    "#!pip install -q rdflib networkx matplotlib\n",
    "#!{sys.executable} -m pip install rdflib networkx matplotlib pandas stringdb --user\n"
   ]
  },
  {
   "cell_type": "code",
   "execution_count": 60,
   "metadata": {},
   "outputs": [
    {
     "name": "stdout",
     "output_type": "stream",
     "text": [
      "The autoreload extension is already loaded. To reload it, use:\n",
      "  %reload_ext autoreload\n"
     ]
    }
   ],
   "source": [
    "%load_ext autoreload\n",
    "%autoreload 2\n",
    "import sampler\n",
    "import grabhogs_sparql"
   ]
  },
  {
   "cell_type": "code",
   "execution_count": 61,
   "metadata": {
    "id": "aVA-JNpI-lna",
    "outputId": "a418ca78-5317-4b62-9367-642d64e2c709"
   },
   "outputs": [
    {
     "name": "stdout",
     "output_type": "stream",
     "text": [
      "rdflib Graph loaded successfully with 2620310 triples\n"
     ]
    }
   ],
   "source": [
    "datapath = '/work/FAC/FBM/DBC/cdessim2/default/dmoi/datasets/STRING/rdf/protein.links.rdf.v11.5/402676.protein.links.rdf.v11.5.txt.gz'\n",
    "# RDF graph loading\n",
    "rg = sampler.load_graph(datapath)"
   ]
  },
  {
   "cell_type": "code",
   "execution_count": 62,
   "metadata": {},
   "outputs": [
    {
     "name": "stdout",
     "output_type": "stream",
     "text": [
      "seed https://string-db.org/network/402676.B6K529\n",
      "[a rdfg:Graph;rdflib:storage [a rdflib:Store;rdfs:label 'Memory']].\n"
     ]
    }
   ],
   "source": [
    "subjs = rg.subjects( unique = True)\n",
    "subg = sampler.sample(rg , subject_iter = subjs , layer_limit= 2 , sample_run = 10)\n",
    "print(subg)"
   ]
  },
  {
   "cell_type": "code",
   "execution_count": 63,
   "metadata": {},
   "outputs": [],
   "source": [
    "G = rdflib.extras.external_graph_libs.rdflib_to_networkx_multidigraph( subg , lambda s, p, o: {'data':{'key':p  , 'weight':1} } )"
   ]
  },
  {
   "cell_type": "code",
   "execution_count": 65,
   "metadata": {},
   "outputs": [
    {
     "name": "stdout",
     "output_type": "stream",
     "text": [
      "rdflib Graph loaded successfully with 14559 triples\n",
      "[a rdfg:Graph;rdflib:storage [a rdflib:Store;rdfs:label 'Memory']].\n"
     ]
    }
   ],
   "source": [
    "datapath2 = '/work/FAC/FBM/DBC/cdessim2/default/dmoi/datasets/STRING/rdf/protein.info.rdf.v11.5/402676.protein.info.rdf.v11.5.txt.gz'\n",
    "# RDF graph loading\n",
    "rg_info  = sampler.load_graph(datapath2)\n",
    "string_ids_dict , subg = sampler.add_xrefs( rg_info , subg )"
   ]
  },
  {
   "cell_type": "code",
   "execution_count": 69,
   "metadata": {},
   "outputs": [
    {
     "name": "stdout",
     "output_type": "stream",
     "text": [
      "Total time for 656 SPARQL queries: 190.3214874267578 seconds (multiple batch calls in: 22 cases)\n",
      "Num errors: 0\n"
     ]
    }
   ],
   "source": [
    "proteins_by_species , results_subj_para , results_subj_ortho , results_obj_para , results_obj_ortho = grabhogs_sparql.grab_hogs( G , subg , cross_ref)"
   ]
  },
  {
   "cell_type": "code",
   "execution_count": null,
   "metadata": {},
   "outputs": [],
   "source": [
    "# SPEED UP for cross-refs Uniprot - STRING:\n",
    "# Using Fuseki server with local TDB2 database for cross-refs only\n",
    "error_taxa = set()\n",
    "error_proteins = set()\n",
    "\n",
    "def map2string_SPARQL(uniprot_id):\n",
    "    sparql_STRING = SPARQLWrapper(\"http://dna081:3030/string_fuseki/sparql\")\n",
    "    get_string_id_for_gene = \"\"\"\n",
    "    PREFIX lscr: <http://purl.org/lscr#>\n",
    "    SELECT DISTINCT ?string_id where {\n",
    "        ?string_id lscr:xrefUniprot \\\"\"\"\" + uniprot_id  + \"\"\"\\\"\n",
    "    } LIMIT 1\n",
    "    \n",
    "    \"\"\"\n",
    "    \n",
    "    sparql_STRING.setQuery(get_string_id_for_gene)\n",
    "    sparql_STRING.setReturnFormat(JSON)\n",
    "    json_results = sparql_STRING.query().convert()\n",
    "    if(len(json_results[\"results\"][\"bindings\"]) > 0):\n",
    "        return json_results[\"results\"][\"bindings\"][0][\"string_id\"][\"value\"]\n",
    "    error_proteins.add(uniprot_id)\n",
    "    return None\n",
    "\n",
    "results_string_per_protein = {}\n",
    "num_api_errors = 0\n",
    "\n",
    "start_time = time.time()\n",
    "found_in_api = set()\n",
    "\n",
    "for taxon_id in proteins_by_species.keys():\n",
    "    for protein in proteins_by_species[taxon_id]:\n",
    "        try:\n",
    "            string_id = map2string_SPARQL(\"http://purl.uniprot.org/uniprot/\" + protein)\n",
    "            if(string_id is not None):\n",
    "                results_string_per_protein[protein] = string_id\n",
    "                continue\n",
    "            # invoking the STRING API is costly, only do this for validation:\n",
    "            #try:\n",
    "            #    string_id = stringdb.get_string_ids([protein], int(taxon_id))\n",
    "            #    if not string_id.empty:\n",
    "            #        results_string_per_protein[protein] = string_id\n",
    "            #        found_in_api.add(protein)\n",
    "            #except Exception:\n",
    "            #    pass\n",
    "        except Exception:\n",
    "            #print(proteins_by_species[taxon_id])\n",
    "            #print(\"Error computing IDs for taxon {}\".format(taxon_id))\n",
    "            traceback.print_exc()\n",
    "            error_taxa.add(taxon_id)\n",
    "            error_proteins.add(protein)\n",
    "            num_api_errors += 1\n",
    "            pass\n",
    "end_time = time.time()\n",
    "\n",
    "print(\"Total time in STRING SPARQL calls: {} seconds. Number of results {} with {} errors\".format(end_time - start_time,len(results_string_per_protein), num_api_errors))\n"
   ]
  },
  {
   "cell_type": "code",
   "execution_count": 19,
   "metadata": {},
   "outputs": [
    {
     "name": "stderr",
     "output_type": "stream",
     "text": [
      "/tmp/27457130/ipykernel_1151111/706341601.py:2: DeprecationWarning: Sampling from a set deprecated\n",
      "since Python 3.9 and will be removed in a subsequent version.\n",
      "  for i, val in enumerate(random.sample(found_in_api, 10)):\n"
     ]
    },
    {
     "ename": "ValueError",
     "evalue": "Sample larger than population or is negative",
     "output_type": "error",
     "traceback": [
      "\u001b[0;31m---------------------------------------------------------------------------\u001b[0m",
      "\u001b[0;31mValueError\u001b[0m                                Traceback (most recent call last)",
      "Cell \u001b[0;32mIn[19], line 2\u001b[0m\n\u001b[1;32m      1\u001b[0m \u001b[38;5;66;03m# some examples of IDs we can find in the API but not in the RDF\u001b[39;00m\n\u001b[0;32m----> 2\u001b[0m \u001b[38;5;28;01mfor\u001b[39;00m i, val \u001b[38;5;129;01min\u001b[39;00m \u001b[38;5;28menumerate\u001b[39m(\u001b[43mrandom\u001b[49m\u001b[38;5;241;43m.\u001b[39;49m\u001b[43msample\u001b[49m\u001b[43m(\u001b[49m\u001b[43mfound_in_api\u001b[49m\u001b[43m,\u001b[49m\u001b[43m \u001b[49m\u001b[38;5;241;43m10\u001b[39;49m\u001b[43m)\u001b[49m):\n\u001b[1;32m      3\u001b[0m     \u001b[38;5;28mprint\u001b[39m(val)\n\u001b[1;32m      4\u001b[0m     \u001b[38;5;28mprint\u001b[39m(results_string_per_protein[val])\n",
      "File \u001b[0;32m/work/FAC/FBM/DBC/cdessim2/default/dmoi/miniconda3/envs/ML2/lib/python3.10/random.py:482\u001b[0m, in \u001b[0;36mRandom.sample\u001b[0;34m(self, population, k, counts)\u001b[0m\n\u001b[1;32m    480\u001b[0m randbelow \u001b[38;5;241m=\u001b[39m \u001b[38;5;28mself\u001b[39m\u001b[38;5;241m.\u001b[39m_randbelow\n\u001b[1;32m    481\u001b[0m \u001b[38;5;28;01mif\u001b[39;00m \u001b[38;5;129;01mnot\u001b[39;00m \u001b[38;5;241m0\u001b[39m \u001b[38;5;241m<\u001b[39m\u001b[38;5;241m=\u001b[39m k \u001b[38;5;241m<\u001b[39m\u001b[38;5;241m=\u001b[39m n:\n\u001b[0;32m--> 482\u001b[0m     \u001b[38;5;28;01mraise\u001b[39;00m \u001b[38;5;167;01mValueError\u001b[39;00m(\u001b[38;5;124m\"\u001b[39m\u001b[38;5;124mSample larger than population or is negative\u001b[39m\u001b[38;5;124m\"\u001b[39m)\n\u001b[1;32m    483\u001b[0m result \u001b[38;5;241m=\u001b[39m [\u001b[38;5;28;01mNone\u001b[39;00m] \u001b[38;5;241m*\u001b[39m k\n\u001b[1;32m    484\u001b[0m setsize \u001b[38;5;241m=\u001b[39m \u001b[38;5;241m21\u001b[39m        \u001b[38;5;66;03m# size of a small set minus size of an empty list\u001b[39;00m\n",
      "\u001b[0;31mValueError\u001b[0m: Sample larger than population or is negative"
     ]
    }
   ],
   "source": [
    "# some examples of IDs we can find in the API but not in the RDF\n",
    "\n",
    "for i, val in enumerate(random.sample(found_in_api, 10)):\n",
    "    print(val)\n",
    "    print(results_string_per_protein[val])"
   ]
  },
  {
   "cell_type": "code",
   "execution_count": null,
   "metadata": {},
   "outputs": [],
   "source": [
    "#error_taxa\n",
    "#proteins_by_species[\"10160\"]\n",
    "# sample entry:\n",
    "for key in results_string_per_protein.keys():\n",
    "    print(results_string_per_protein[key])\n",
    "    break"
   ]
  },
  {
   "cell_type": "code",
   "execution_count": null,
   "metadata": {},
   "outputs": [],
   "source": [
    "#sample response\n",
    "\n",
    "start_time = time.time()\n",
    "results_obj_para = query_orthologs(\"<http://purl.uniprot.org/uniprot/B6JXK8>\", SPARQLWrapper(\"https://sparql.omabrowser.org/sparql/\"))\n",
    "\n",
    "end_time = time.time()\n",
    "print(\"Total time : {} seconds\".format(end_time - start_time))"
   ]
  },
  {
   "cell_type": "code",
   "execution_count": null,
   "metadata": {},
   "outputs": [],
   "source": [
    "# example usage\n",
    "uniprot_id = \"http://purl.uniprot.org/uniprot/A0A3B5R6M3\" \n",
    "results =  map2string_SPARQL(uniprot_id)\n",
    "print(results)"
   ]
  },
  {
   "cell_type": "code",
   "execution_count": null,
   "metadata": {},
   "outputs": [],
   "source": [
    "import colour\n",
    "import itertools\n",
    "\n",
    "red = colour.Color('red')\n",
    "blue = colour.Color('blue')\n",
    "\n",
    "c = [ c.hex_l for c in  list(red.range_to(blue, len(preds))) ]\n",
    "colors = { p:c[i] for i,p in enumerate(preds)}\n",
    "delta = 2/len(preds)\n",
    "curve = { p:delta*i for i,p in enumerate(preds) }\n",
    "style = itertools.cycle([ '-', '--' ])\n",
    "line_style = { p:next(style) for p in preds }"
   ]
  },
  {
   "cell_type": "code",
   "execution_count": null,
   "metadata": {},
   "outputs": [],
   "source": [
    "print(colors)"
   ]
  },
  {
   "cell_type": "code",
   "execution_count": null,
   "metadata": {},
   "outputs": [],
   "source": [
    "\n",
    "pos = nx.circular_layout( G )\n",
    "\n",
    "f = plt.figure()\n",
    "f.set_figwidth(15)\n",
    "f.set_figheight(15)\n",
    "plt.plot()\n",
    "\n",
    "#plot the whole mess\n",
    "ax = plt.gca()\n",
    "\n",
    "for e in G.edges(data = True):\n",
    "    ax.annotate(\"\",\n",
    "                xy=pos[e[0]], xycoords='data',\n",
    "                xytext=pos[e[1]], textcoords='data',\n",
    "                arrowprops=dict(arrowstyle=\"-\", color=colors[e[2]['data']['key']],\n",
    "                                shrinkA=5, shrinkB=5, lw = e[2]['data']['weight'], ls = line_style[e[2]['data']['key']],\n",
    "                                patchA=None, patchB=None, alpha = e[2]['data']['weight'],\n",
    "                                connectionstyle=\"arc3,rad=rrr\".replace('rrr',str(0.3*curve[e[2]['data']['key']])\n",
    "                                ),\n",
    "                                ),\n",
    "                )\n",
    "\n",
    "nx.draw_networkx_nodes(G, pos, node_color = 'b', node_size = 150, alpha = .5)\n",
    "labels=nx.draw_networkx_labels(G , pos = pos , font_size= 15 , font_color='w')\n",
    "\n",
    "plt.axis('off')\n",
    "plt.show()\n"
   ]
  },
  {
   "cell_type": "code",
   "execution_count": null,
   "metadata": {},
   "outputs": [],
   "source": [
    "import gzip\n",
    "omadata = '/work/FAC/FBM/DBC/cdessim2/default/dmoi/datasets/OMA/rdf/oma_hogs_rdf_0.ttl.gz'\n",
    "with gzip.open(omadata,'rb') as inputdata:\n",
    "    \n",
    "    OMArg = RDFGraph()\n",
    "    OMArg.parse(inputdata.read(), format='turtle')\n",
    "    print(\"rdflib Graph loaded successfully with {} triples\".format(len(OMArg)))\n",
    "    "
   ]
  },
  {
   "cell_type": "code",
   "execution_count": null,
   "metadata": {},
   "outputs": [],
   "source": [
    "preds = OMArg.predicates(subject=None, object=None, unique=True)\n",
    "preds = [ p for  p in preds]\n",
    "print(preds)"
   ]
  },
  {
   "cell_type": "code",
   "execution_count": null,
   "metadata": {},
   "outputs": [],
   "source": [
    "omadata = '/work/FAC/FBM/DBC/cdessim2/default/dmoi/datasets/OMA/rdf/xref_desc.ttl.gz'\n",
    "with gzip.open(omadata,'rb') as inputdata:\n",
    "    XREFrg = RDFGraph()\n",
    "    XREFrg.parse(inputdata.read(), format='turtle')\n",
    "    print(\"rdflib Graph loaded successfully with {} triples\".format(len(XREFrg)))"
   ]
  },
  {
   "cell_type": "code",
   "execution_count": 27,
   "metadata": {},
   "outputs": [
    {
     "name": "stdout",
     "output_type": "stream",
     "text": [
      "rdflib Graph loaded successfully with 17287741 triples\n",
      "rdflib Graph loaded successfully with 17287741 triples\n",
      "rdflib Graph loaded successfully with 17287741 triples\n",
      "rdflib Graph loaded successfully with 17287741 triples\n",
      "rdflib Graph loaded successfully with 17287741 triples\n",
      "rdflib Graph loaded successfully with 17287741 triples\n",
      "rdflib Graph loaded successfully with 17287741 triples\n",
      "rdflib Graph loaded successfully with 17287741 triples\n",
      "rdflib Graph loaded successfully with 17287741 triples\n",
      "rdflib Graph loaded successfully with 17287741 triples\n",
      "rdflib Graph loaded successfully with 17287741 triples\n",
      "rdflib Graph loaded successfully with 17287741 triples\n",
      "rdflib Graph loaded successfully with 17287741 triples\n",
      "rdflib Graph loaded successfully with 17287741 triples\n",
      "rdflib Graph loaded successfully with 17287741 triples\n",
      "rdflib Graph loaded successfully with 17287741 triples\n",
      "rdflib Graph loaded successfully with 17287741 triples\n",
      "rdflib Graph loaded successfully with 17287741 triples\n",
      "rdflib Graph loaded successfully with 17287741 triples\n",
      "rdflib Graph loaded successfully with 17287741 triples\n",
      "rdflib Graph loaded successfully with 17287741 triples\n",
      "rdflib Graph loaded successfully with 17287741 triples\n",
      "rdflib Graph loaded successfully with 17287741 triples\n",
      "rdflib Graph loaded successfully with 17287741 triples\n",
      "rdflib Graph loaded successfully with 17287741 triples\n",
      "rdflib Graph loaded successfully with 17287741 triples\n",
      "rdflib Graph loaded successfully with 17287741 triples\n",
      "rdflib Graph loaded successfully with 17287741 triples\n",
      "rdflib Graph loaded successfully with 17287741 triples\n",
      "rdflib Graph loaded successfully with 17287741 triples\n",
      "rdflib Graph loaded successfully with 17287741 triples\n",
      "rdflib Graph loaded successfully with 17287741 triples\n",
      "rdflib Graph loaded successfully with 17287741 triples\n",
      "rdflib Graph loaded successfully with 17287741 triples\n",
      "rdflib Graph loaded successfully with 17287741 triples\n",
      "rdflib Graph loaded successfully with 17287741 triples\n",
      "rdflib Graph loaded successfully with 17287741 triples\n",
      "rdflib Graph loaded successfully with 17287741 triples\n",
      "rdflib Graph loaded successfully with 17287741 triples\n",
      "rdflib Graph loaded successfully with 17287741 triples\n",
      "rdflib Graph loaded successfully with 17287741 triples\n",
      "rdflib Graph loaded successfully with 17287741 triples\n",
      "rdflib Graph loaded successfully with 17287741 triples\n",
      "rdflib Graph loaded successfully with 17287741 triples\n",
      "rdflib Graph loaded successfully with 17287741 triples\n",
      "rdflib Graph loaded successfully with 17287741 triples\n",
      "rdflib Graph loaded successfully with 17287741 triples\n",
      "rdflib Graph loaded successfully with 17287741 triples\n",
      "rdflib Graph loaded successfully with 17287741 triples\n",
      "rdflib Graph loaded successfully with 17287741 triples\n",
      "rdflib Graph loaded successfully with 17287741 triples\n",
      "rdflib Graph loaded successfully with 17287741 triples\n",
      "rdflib Graph loaded successfully with 17287741 triples\n",
      "rdflib Graph loaded successfully with 17287741 triples\n",
      "rdflib Graph loaded successfully with 17287741 triples\n",
      "rdflib Graph loaded successfully with 17287741 triples\n",
      "rdflib Graph loaded successfully with 17287741 triples\n",
      "rdflib Graph loaded successfully with 17287741 triples\n",
      "rdflib Graph loaded successfully with 17287741 triples\n",
      "rdflib Graph loaded successfully with 17287741 triples\n",
      "rdflib Graph loaded successfully with 17287741 triples\n",
      "rdflib Graph loaded successfully with 17287741 triples\n",
      "rdflib Graph loaded successfully with 17287741 triples\n",
      "rdflib Graph loaded successfully with 17287741 triples\n",
      "rdflib Graph loaded successfully with 17287741 triples\n",
      "rdflib Graph loaded successfully with 17287741 triples\n",
      "rdflib Graph loaded successfully with 17287741 triples\n",
      "rdflib Graph loaded successfully with 17287741 triples\n",
      "rdflib Graph loaded successfully with 17287741 triples\n",
      "rdflib Graph loaded successfully with 17287741 triples\n",
      "rdflib Graph loaded successfully with 17287741 triples\n",
      "rdflib Graph loaded successfully with 17287741 triples\n",
      "rdflib Graph loaded successfully with 17287741 triples\n",
      "rdflib Graph loaded successfully with 17287741 triples\n",
      "rdflib Graph loaded successfully with 17287741 triples\n",
      "rdflib Graph loaded successfully with 17287741 triples\n",
      "rdflib Graph loaded successfully with 17287741 triples\n",
      "rdflib Graph loaded successfully with 17287741 triples\n",
      "rdflib Graph loaded successfully with 17287741 triples\n",
      "rdflib Graph loaded successfully with 17287741 triples\n",
      "rdflib Graph loaded successfully with 17287741 triples\n",
      "rdflib Graph loaded successfully with 17287741 triples\n",
      "rdflib Graph loaded successfully with 17287741 triples\n",
      "rdflib Graph loaded successfully with 17287741 triples\n",
      "rdflib Graph loaded successfully with 17287741 triples\n",
      "rdflib Graph loaded successfully with 17287741 triples\n",
      "rdflib Graph loaded successfully with 17287741 triples\n",
      "rdflib Graph loaded successfully with 17287741 triples\n",
      "rdflib Graph loaded successfully with 17287741 triples\n",
      "rdflib Graph loaded successfully with 17287741 triples\n",
      "rdflib Graph loaded successfully with 17287741 triples\n"
     ]
    }
   ],
   "source": [
    "#query for hogs here\n",
    "\n",
    "\n",
    "#check bloom filters for interactors in diff species\n",
    "\n",
    "\n",
    "#construct networkx graph of the whole subnetwork across species with phylo links for hog\n",
    "\n"
   ]
  },
  {
   "cell_type": "code",
   "execution_count": 28,
   "metadata": {},
   "outputs": [
    {
     "name": "stdout",
     "output_type": "stream",
     "text": [
      "[rdflib.term.URIRef('http://www.w3.org/2000/01/rdf-schema#comment')]\n"
     ]
    }
   ],
   "source": [
    "preds = XREFrg.predicates(subject=None, object=None, unique=True)\n",
    "preds = [ p for  p in preds]\n",
    "print(preds)"
   ]
  },
  {
   "cell_type": "code",
   "execution_count": 15,
   "metadata": {},
   "outputs": [
    {
     "name": "stdout",
     "output_type": "stream",
     "text": [
      "[[(BloomFilter(ideal_num_elements_n=100000000, error_rate_p=0.001000, num_bits_m=1437758757), 76358434)], [(BloomFilter(ideal_num_elements_n=100000000, error_rate_p=0.001000, num_bits_m=1437758757), 80606663)], [(BloomFilter(ideal_num_elements_n=100000000, error_rate_p=0.001000, num_bits_m=1437758757), 71174921)], [(BloomFilter(ideal_num_elements_n=100000000, error_rate_p=0.001000, num_bits_m=1437758757), 77390257)], [(BloomFilter(ideal_num_elements_n=100000000, error_rate_p=0.001000, num_bits_m=1437758757), 70656044)], [(BloomFilter(ideal_num_elements_n=100000000, error_rate_p=0.001000, num_bits_m=1437758757), 78053087)], [(BloomFilter(ideal_num_elements_n=100000000, error_rate_p=0.001000, num_bits_m=1437758757), 69379149)], [(BloomFilter(ideal_num_elements_n=100000000, error_rate_p=0.001000, num_bits_m=1437758757), 63716625)], [(BloomFilter(ideal_num_elements_n=100000000, error_rate_p=0.001000, num_bits_m=1437758757), 75075008)], [(BloomFilter(ideal_num_elements_n=100000000, error_rate_p=0.001000, num_bits_m=1437758757), 72801832)], [(BloomFilter(ideal_num_elements_n=100000000, error_rate_p=0.001000, num_bits_m=1437758757), 76124108)], [(BloomFilter(ideal_num_elements_n=100000000, error_rate_p=0.001000, num_bits_m=1437758757), 75269648)], [(BloomFilter(ideal_num_elements_n=100000000, error_rate_p=0.001000, num_bits_m=1437758757), 72762747)], [(BloomFilter(ideal_num_elements_n=100000000, error_rate_p=0.001000, num_bits_m=1437758757), 74370193)], [(BloomFilter(ideal_num_elements_n=100000000, error_rate_p=0.001000, num_bits_m=1437758757), 77012601)], [(BloomFilter(ideal_num_elements_n=100000000, error_rate_p=0.001000, num_bits_m=1437758757), 69876615)], [(BloomFilter(ideal_num_elements_n=100000000, error_rate_p=0.001000, num_bits_m=1437758757), 76340664)], [(BloomFilter(ideal_num_elements_n=100000000, error_rate_p=0.001000, num_bits_m=1437758757), 70167346)], [(BloomFilter(ideal_num_elements_n=100000000, error_rate_p=0.001000, num_bits_m=1437758757), 72362902)], [(BloomFilter(ideal_num_elements_n=100000000, error_rate_p=0.001000, num_bits_m=1437758757), 76815912)], [(BloomFilter(ideal_num_elements_n=100000000, error_rate_p=0.001000, num_bits_m=1437758757), 74948947)], [(BloomFilter(ideal_num_elements_n=100000000, error_rate_p=0.001000, num_bits_m=1437758757), 71867197)], [(BloomFilter(ideal_num_elements_n=100000000, error_rate_p=0.001000, num_bits_m=1437758757), 64438567)], [(BloomFilter(ideal_num_elements_n=100000000, error_rate_p=0.001000, num_bits_m=1437758757), 75005458)], [(BloomFilter(ideal_num_elements_n=100000000, error_rate_p=0.001000, num_bits_m=1437758757), 72221637)], [(BloomFilter(ideal_num_elements_n=100000000, error_rate_p=0.001000, num_bits_m=1437758757), 65481492)], [(BloomFilter(ideal_num_elements_n=100000000, error_rate_p=0.001000, num_bits_m=1437758757), 73062106)], [(BloomFilter(ideal_num_elements_n=100000000, error_rate_p=0.001000, num_bits_m=1437758757), 76348561)], [(BloomFilter(ideal_num_elements_n=100000000, error_rate_p=0.001000, num_bits_m=1437758757), 69086979)], [(BloomFilter(ideal_num_elements_n=100000000, error_rate_p=0.001000, num_bits_m=1437758757), 64240695)], [(BloomFilter(ideal_num_elements_n=100000000, error_rate_p=0.001000, num_bits_m=1437758757), 76025577)], [(BloomFilter(ideal_num_elements_n=100000000, error_rate_p=0.001000, num_bits_m=1437758757), 71661117)], [(BloomFilter(ideal_num_elements_n=100000000, error_rate_p=0.001000, num_bits_m=1437758757), 83355209)], [(BloomFilter(ideal_num_elements_n=100000000, error_rate_p=0.001000, num_bits_m=1437758757), 64233837)], [(BloomFilter(ideal_num_elements_n=100000000, error_rate_p=0.001000, num_bits_m=1437758757), 72169772)], [(BloomFilter(ideal_num_elements_n=100000000, error_rate_p=0.001000, num_bits_m=1437758757), 72701541)], [(BloomFilter(ideal_num_elements_n=100000000, error_rate_p=0.001000, num_bits_m=1437758757), 72689902)], [(BloomFilter(ideal_num_elements_n=100000000, error_rate_p=0.001000, num_bits_m=1437758757), 81414682)], [(BloomFilter(ideal_num_elements_n=100000000, error_rate_p=0.001000, num_bits_m=1437758757), 74824039)], [(BloomFilter(ideal_num_elements_n=100000000, error_rate_p=0.001000, num_bits_m=1437758757), 75750838)], [(BloomFilter(ideal_num_elements_n=100000000, error_rate_p=0.001000, num_bits_m=1437758757), 69012464)], [(BloomFilter(ideal_num_elements_n=100000000, error_rate_p=0.001000, num_bits_m=1437758757), 81370577)], [(BloomFilter(ideal_num_elements_n=100000000, error_rate_p=0.001000, num_bits_m=1437758757), 73132051)], [(BloomFilter(ideal_num_elements_n=100000000, error_rate_p=0.001000, num_bits_m=1437758757), 75272337)], [(BloomFilter(ideal_num_elements_n=100000000, error_rate_p=0.001000, num_bits_m=1437758757), 72800107)], [(BloomFilter(ideal_num_elements_n=100000000, error_rate_p=0.001000, num_bits_m=1437758757), 71974251)], [(BloomFilter(ideal_num_elements_n=100000000, error_rate_p=0.001000, num_bits_m=1437758757), 64877225)], [(BloomFilter(ideal_num_elements_n=100000000, error_rate_p=0.001000, num_bits_m=1437758757), 76639882)], [(BloomFilter(ideal_num_elements_n=100000000, error_rate_p=0.001000, num_bits_m=1437758757), 72547060)], [(BloomFilter(ideal_num_elements_n=100000000, error_rate_p=0.001000, num_bits_m=1437758757), 75192503)], [(BloomFilter(ideal_num_elements_n=100000000, error_rate_p=0.001000, num_bits_m=1437758757), 74743659)], [(BloomFilter(ideal_num_elements_n=100000000, error_rate_p=0.001000, num_bits_m=1437758757), 72069553)], [(BloomFilter(ideal_num_elements_n=100000000, error_rate_p=0.001000, num_bits_m=1437758757), 79399755)], [(BloomFilter(ideal_num_elements_n=100000000, error_rate_p=0.001000, num_bits_m=1437758757), 75395753)], [(BloomFilter(ideal_num_elements_n=100000000, error_rate_p=0.001000, num_bits_m=1437758757), 77978353)], [(BloomFilter(ideal_num_elements_n=100000000, error_rate_p=0.001000, num_bits_m=1437758757), 72135224)], [(BloomFilter(ideal_num_elements_n=100000000, error_rate_p=0.001000, num_bits_m=1437758757), 73453386)], [(BloomFilter(ideal_num_elements_n=100000000, error_rate_p=0.001000, num_bits_m=1437758757), 74422825)], [(BloomFilter(ideal_num_elements_n=100000000, error_rate_p=0.001000, num_bits_m=1437758757), 73745402)], [(BloomFilter(ideal_num_elements_n=100000000, error_rate_p=0.001000, num_bits_m=1437758757), 79871282)], [(BloomFilter(ideal_num_elements_n=100000000, error_rate_p=0.001000, num_bits_m=1437758757), 75438966)], [(BloomFilter(ideal_num_elements_n=100000000, error_rate_p=0.001000, num_bits_m=1437758757), 73022520)], [(BloomFilter(ideal_num_elements_n=100000000, error_rate_p=0.001000, num_bits_m=1437758757), 76049654)], [(BloomFilter(ideal_num_elements_n=100000000, error_rate_p=0.001000, num_bits_m=1437758757), 72530779)], [(BloomFilter(ideal_num_elements_n=100000000, error_rate_p=0.001000, num_bits_m=1437758757), 68781624)], [(BloomFilter(ideal_num_elements_n=100000000, error_rate_p=0.001000, num_bits_m=1437758757), 69860202)], [(BloomFilter(ideal_num_elements_n=100000000, error_rate_p=0.001000, num_bits_m=1437758757), 75655117)], [(BloomFilter(ideal_num_elements_n=100000000, error_rate_p=0.001000, num_bits_m=1437758757), 76164444)], [(BloomFilter(ideal_num_elements_n=100000000, error_rate_p=0.001000, num_bits_m=1437758757), 76514583)], [(BloomFilter(ideal_num_elements_n=100000000, error_rate_p=0.001000, num_bits_m=1437758757), 71044162)], [(BloomFilter(ideal_num_elements_n=100000000, error_rate_p=0.001000, num_bits_m=1437758757), 73075308)], [(BloomFilter(ideal_num_elements_n=100000000, error_rate_p=0.001000, num_bits_m=1437758757), 74891331)], [(BloomFilter(ideal_num_elements_n=100000000, error_rate_p=0.001000, num_bits_m=1437758757), 68229466)], [(BloomFilter(ideal_num_elements_n=100000000, error_rate_p=0.001000, num_bits_m=1437758757), 76866193)], [(BloomFilter(ideal_num_elements_n=100000000, error_rate_p=0.001000, num_bits_m=1437758757), 75628505)], [(BloomFilter(ideal_num_elements_n=100000000, error_rate_p=0.001000, num_bits_m=1437758757), 77367158)], [(BloomFilter(ideal_num_elements_n=100000000, error_rate_p=0.001000, num_bits_m=1437758757), 72620750)], [(BloomFilter(ideal_num_elements_n=100000000, error_rate_p=0.001000, num_bits_m=1437758757), 70684058)], [(BloomFilter(ideal_num_elements_n=100000000, error_rate_p=0.001000, num_bits_m=1437758757), 73943829)], [(BloomFilter(ideal_num_elements_n=100000000, error_rate_p=0.001000, num_bits_m=1437758757), 73275575)], [(BloomFilter(ideal_num_elements_n=100000000, error_rate_p=0.001000, num_bits_m=1437758757), 78330950)], [(BloomFilter(ideal_num_elements_n=100000000, error_rate_p=0.001000, num_bits_m=1437758757), 76031446)], [(BloomFilter(ideal_num_elements_n=100000000, error_rate_p=0.001000, num_bits_m=1437758757), 73869454)], [(BloomFilter(ideal_num_elements_n=100000000, error_rate_p=0.001000, num_bits_m=1437758757), 79191832)], [(BloomFilter(ideal_num_elements_n=100000000, error_rate_p=0.001000, num_bits_m=1437758757), 75085036)], [(BloomFilter(ideal_num_elements_n=100000000, error_rate_p=0.001000, num_bits_m=1437758757), 76755927)], [(BloomFilter(ideal_num_elements_n=100000000, error_rate_p=0.001000, num_bits_m=1437758757), 78374541)], [(BloomFilter(ideal_num_elements_n=100000000, error_rate_p=0.001000, num_bits_m=1437758757), 66072085)], [(BloomFilter(ideal_num_elements_n=100000000, error_rate_p=0.001000, num_bits_m=1437758757), 68528524)], [(BloomFilter(ideal_num_elements_n=100000000, error_rate_p=0.001000, num_bits_m=1437758757), 73438930)], [(BloomFilter(ideal_num_elements_n=100000000, error_rate_p=0.001000, num_bits_m=1437758757), 77810833)], [(BloomFilter(ideal_num_elements_n=100000000, error_rate_p=0.001000, num_bits_m=1437758757), 63601836)], [(BloomFilter(ideal_num_elements_n=100000000, error_rate_p=0.001000, num_bits_m=1437758757), 76485511)], [(BloomFilter(ideal_num_elements_n=100000000, error_rate_p=0.001000, num_bits_m=1437758757), 69980476)], [(BloomFilter(ideal_num_elements_n=100000000, error_rate_p=0.001000, num_bits_m=1437758757), 74958196)], [(BloomFilter(ideal_num_elements_n=100000000, error_rate_p=0.001000, num_bits_m=1437758757), 76412519)], [(BloomFilter(ideal_num_elements_n=100000000, error_rate_p=0.001000, num_bits_m=1437758757), 64504297)], [(BloomFilter(ideal_num_elements_n=100000000, error_rate_p=0.001000, num_bits_m=1437758757), 77759562)], [(BloomFilter(ideal_num_elements_n=100000000, error_rate_p=0.001000, num_bits_m=1437758757), 73521409)], [(BloomFilter(ideal_num_elements_n=100000000, error_rate_p=0.001000, num_bits_m=1437758757), 64208630)], [(BloomFilter(ideal_num_elements_n=100000000, error_rate_p=0.001000, num_bits_m=1437758757), 75165241)], [(BloomFilter(ideal_num_elements_n=100000000, error_rate_p=0.001000, num_bits_m=1437758757), 63721339)], [(BloomFilter(ideal_num_elements_n=100000000, error_rate_p=0.001000, num_bits_m=1437758757), 73618127)], [(BloomFilter(ideal_num_elements_n=100000000, error_rate_p=0.001000, num_bits_m=1437758757), 68258738)], [(BloomFilter(ideal_num_elements_n=100000000, error_rate_p=0.001000, num_bits_m=1437758757), 75008042)], [(BloomFilter(ideal_num_elements_n=100000000, error_rate_p=0.001000, num_bits_m=1437758757), 73725413)], [(BloomFilter(ideal_num_elements_n=100000000, error_rate_p=0.001000, num_bits_m=1437758757), 77621006)], [(BloomFilter(ideal_num_elements_n=100000000, error_rate_p=0.001000, num_bits_m=1437758757), 70084349)], [(BloomFilter(ideal_num_elements_n=100000000, error_rate_p=0.001000, num_bits_m=1437758757), 66114580)], [(BloomFilter(ideal_num_elements_n=100000000, error_rate_p=0.001000, num_bits_m=1437758757), 73605211)], [(BloomFilter(ideal_num_elements_n=100000000, error_rate_p=0.001000, num_bits_m=1437758757), 70108254)], [(BloomFilter(ideal_num_elements_n=100000000, error_rate_p=0.001000, num_bits_m=1437758757), 75468889)], [(BloomFilter(ideal_num_elements_n=100000000, error_rate_p=0.001000, num_bits_m=1437758757), 71188437)], [(BloomFilter(ideal_num_elements_n=100000000, error_rate_p=0.001000, num_bits_m=1437758757), 73182639)], [(BloomFilter(ideal_num_elements_n=100000000, error_rate_p=0.001000, num_bits_m=1437758757), 67260000)], [(BloomFilter(ideal_num_elements_n=100000000, error_rate_p=0.001000, num_bits_m=1437758757), 75081653)], [(BloomFilter(ideal_num_elements_n=100000000, error_rate_p=0.001000, num_bits_m=1437758757), 73713019)], [(BloomFilter(ideal_num_elements_n=100000000, error_rate_p=0.001000, num_bits_m=1437758757), 70362141)], [(BloomFilter(ideal_num_elements_n=100000000, error_rate_p=0.001000, num_bits_m=1437758757), 75075444)], [(BloomFilter(ideal_num_elements_n=100000000, error_rate_p=0.001000, num_bits_m=1437758757), 70919797)], [(BloomFilter(ideal_num_elements_n=100000000, error_rate_p=0.001000, num_bits_m=1437758757), 69283406)], [(BloomFilter(ideal_num_elements_n=100000000, error_rate_p=0.001000, num_bits_m=1437758757), 63672373)], [(BloomFilter(ideal_num_elements_n=100000000, error_rate_p=0.001000, num_bits_m=1437758757), 71856464)], [(BloomFilter(ideal_num_elements_n=100000000, error_rate_p=0.001000, num_bits_m=1437758757), 76461266)], [(BloomFilter(ideal_num_elements_n=100000000, error_rate_p=0.001000, num_bits_m=1437758757), 72003074)], [(BloomFilter(ideal_num_elements_n=100000000, error_rate_p=0.001000, num_bits_m=1437758757), 75505842)], [(BloomFilter(ideal_num_elements_n=100000000, error_rate_p=0.001000, num_bits_m=1437758757), 74404847)], [(BloomFilter(ideal_num_elements_n=100000000, error_rate_p=0.001000, num_bits_m=1437758757), 70356117)], [(BloomFilter(ideal_num_elements_n=100000000, error_rate_p=0.001000, num_bits_m=1437758757), 76839655)], [(BloomFilter(ideal_num_elements_n=100000000, error_rate_p=0.001000, num_bits_m=1437758757), 65787860)], [(BloomFilter(ideal_num_elements_n=100000000, error_rate_p=0.001000, num_bits_m=1437758757), 69896966)], [(BloomFilter(ideal_num_elements_n=100000000, error_rate_p=0.001000, num_bits_m=1437758757), 68457251)], [(BloomFilter(ideal_num_elements_n=100000000, error_rate_p=0.001000, num_bits_m=1437758757), 74567903)], [(BloomFilter(ideal_num_elements_n=100000000, error_rate_p=0.001000, num_bits_m=1437758757), 81967567)], [(BloomFilter(ideal_num_elements_n=100000000, error_rate_p=0.001000, num_bits_m=1437758757), 68788433)], [(BloomFilter(ideal_num_elements_n=100000000, error_rate_p=0.001000, num_bits_m=1437758757), 80885645)], [(BloomFilter(ideal_num_elements_n=100000000, error_rate_p=0.001000, num_bits_m=1437758757), 74582996)], [(BloomFilter(ideal_num_elements_n=100000000, error_rate_p=0.001000, num_bits_m=1437758757), 69480090)], [(BloomFilter(ideal_num_elements_n=100000000, error_rate_p=0.001000, num_bits_m=1437758757), 71524252)], [(BloomFilter(ideal_num_elements_n=100000000, error_rate_p=0.001000, num_bits_m=1437758757), 74723286)], [(BloomFilter(ideal_num_elements_n=100000000, error_rate_p=0.001000, num_bits_m=1437758757), 70521822)], [(BloomFilter(ideal_num_elements_n=100000000, error_rate_p=0.001000, num_bits_m=1437758757), 72031609)], [(BloomFilter(ideal_num_elements_n=100000000, error_rate_p=0.001000, num_bits_m=1437758757), 74656769)], [(BloomFilter(ideal_num_elements_n=100000000, error_rate_p=0.001000, num_bits_m=1437758757), 68189422)], [(BloomFilter(ideal_num_elements_n=100000000, error_rate_p=0.001000, num_bits_m=1437758757), 77112462)], [(BloomFilter(ideal_num_elements_n=100000000, error_rate_p=0.001000, num_bits_m=1437758757), 73499199)], [(BloomFilter(ideal_num_elements_n=100000000, error_rate_p=0.001000, num_bits_m=1437758757), 72105441)], [(BloomFilter(ideal_num_elements_n=100000000, error_rate_p=0.001000, num_bits_m=1437758757), 73147767)], [(BloomFilter(ideal_num_elements_n=100000000, error_rate_p=0.001000, num_bits_m=1437758757), 64239756)], [(BloomFilter(ideal_num_elements_n=100000000, error_rate_p=0.001000, num_bits_m=1437758757), 72762837)], [(BloomFilter(ideal_num_elements_n=100000000, error_rate_p=0.001000, num_bits_m=1437758757), 71468324)], [(BloomFilter(ideal_num_elements_n=100000000, error_rate_p=0.001000, num_bits_m=1437758757), 68903073)], [(BloomFilter(ideal_num_elements_n=100000000, error_rate_p=0.001000, num_bits_m=1437758757), 68617928)], [[(BloomFilter(ideal_num_elements_n=100000000, error_rate_p=0.001000, num_bits_m=1437758757), 1089746228)], [(BloomFilter(ideal_num_elements_n=100000000, error_rate_p=0.001000, num_bits_m=1437758757), 986466698)], [(BloomFilter(ideal_num_elements_n=100000000, error_rate_p=0.001000, num_bits_m=1437758757), 1012062058)], [(BloomFilter(ideal_num_elements_n=100000000, error_rate_p=0.001000, num_bits_m=1437758757), 993933079)], [(BloomFilter(ideal_num_elements_n=100000000, error_rate_p=0.001000, num_bits_m=1437758757), 1027008149)], [(BloomFilter(ideal_num_elements_n=100000000, error_rate_p=0.001000, num_bits_m=1437758757), 1022627788)], [(BloomFilter(ideal_num_elements_n=100000000, error_rate_p=0.001000, num_bits_m=1437758757), 1033604926)], [(BloomFilter(ideal_num_elements_n=100000000, error_rate_p=0.001000, num_bits_m=1437758757), 1019197037)], [(BloomFilter(ideal_num_elements_n=100000000, error_rate_p=0.001000, num_bits_m=1437758757), 1030065339)], [(BloomFilter(ideal_num_elements_n=100000000, error_rate_p=0.001000, num_bits_m=1437758757), 1025900814)], [(BloomFilter(ideal_num_elements_n=100000000, error_rate_p=0.001000, num_bits_m=1437758757), 1017260781)], [(BloomFilter(ideal_num_elements_n=100000000, error_rate_p=0.001000, num_bits_m=1437758757), 1020753761)], [(BloomFilter(ideal_num_elements_n=100000000, error_rate_p=0.001000, num_bits_m=1437758757), 944191784)], [(BloomFilter(ideal_num_elements_n=100000000, error_rate_p=0.001000, num_bits_m=1437758757), 928497026)], [(BloomFilter(ideal_num_elements_n=100000000, error_rate_p=0.001000, num_bits_m=1437758757), 957140574)], [(BloomFilter(ideal_num_elements_n=100000000, error_rate_p=0.001000, num_bits_m=1437758757), 961643144)], [(BloomFilter(ideal_num_elements_n=100000000, error_rate_p=0.001000, num_bits_m=1437758757), 954131146)], [(BloomFilter(ideal_num_elements_n=100000000, error_rate_p=0.001000, num_bits_m=1437758757), 1003234695)], [(BloomFilter(ideal_num_elements_n=100000000, error_rate_p=0.001000, num_bits_m=1437758757), 994684510)], [(BloomFilter(ideal_num_elements_n=100000000, error_rate_p=0.001000, num_bits_m=1437758757), 970169447)], [(BloomFilter(ideal_num_elements_n=100000000, error_rate_p=0.001000, num_bits_m=1437758757), 60037853)]], [(BloomFilter(ideal_num_elements_n=100000000, error_rate_p=0.001000, num_bits_m=1437758757), 72733158)], [(BloomFilter(ideal_num_elements_n=100000000, error_rate_p=0.001000, num_bits_m=1437758757), 72845149)], [(BloomFilter(ideal_num_elements_n=100000000, error_rate_p=0.001000, num_bits_m=1437758757), 73080621)], [(BloomFilter(ideal_num_elements_n=100000000, error_rate_p=0.001000, num_bits_m=1437758757), 72396813)], [(BloomFilter(ideal_num_elements_n=100000000, error_rate_p=0.001000, num_bits_m=1437758757), 84529132)], [(BloomFilter(ideal_num_elements_n=100000000, error_rate_p=0.001000, num_bits_m=1437758757), 70221607)], [(BloomFilter(ideal_num_elements_n=100000000, error_rate_p=0.001000, num_bits_m=1437758757), 71698469)], [(BloomFilter(ideal_num_elements_n=100000000, error_rate_p=0.001000, num_bits_m=1437758757), 76853122)], [(BloomFilter(ideal_num_elements_n=100000000, error_rate_p=0.001000, num_bits_m=1437758757), 76661898)], [(BloomFilter(ideal_num_elements_n=100000000, error_rate_p=0.001000, num_bits_m=1437758757), 74965052)], [(BloomFilter(ideal_num_elements_n=100000000, error_rate_p=0.001000, num_bits_m=1437758757), 86178593)], [(BloomFilter(ideal_num_elements_n=100000000, error_rate_p=0.001000, num_bits_m=1437758757), 67724929)], [(BloomFilter(ideal_num_elements_n=100000000, error_rate_p=0.001000, num_bits_m=1437758757), 69805841)], [(BloomFilter(ideal_num_elements_n=100000000, error_rate_p=0.001000, num_bits_m=1437758757), 75708078)], [(BloomFilter(ideal_num_elements_n=100000000, error_rate_p=0.001000, num_bits_m=1437758757), 71125771)], [(BloomFilter(ideal_num_elements_n=100000000, error_rate_p=0.001000, num_bits_m=1437758757), 69897105)], [(BloomFilter(ideal_num_elements_n=100000000, error_rate_p=0.001000, num_bits_m=1437758757), 67746471)], [(BloomFilter(ideal_num_elements_n=100000000, error_rate_p=0.001000, num_bits_m=1437758757), 72043046)], [(BloomFilter(ideal_num_elements_n=100000000, error_rate_p=0.001000, num_bits_m=1437758757), 71295649)], [(BloomFilter(ideal_num_elements_n=100000000, error_rate_p=0.001000, num_bits_m=1437758757), 77954547)], [(BloomFilter(ideal_num_elements_n=100000000, error_rate_p=0.001000, num_bits_m=1437758757), 67950349)], [(BloomFilter(ideal_num_elements_n=100000000, error_rate_p=0.001000, num_bits_m=1437758757), 63715318)], [(BloomFilter(ideal_num_elements_n=100000000, error_rate_p=0.001000, num_bits_m=1437758757), 74379562)], [(BloomFilter(ideal_num_elements_n=100000000, error_rate_p=0.001000, num_bits_m=1437758757), 76023940)], [(BloomFilter(ideal_num_elements_n=100000000, error_rate_p=0.001000, num_bits_m=1437758757), 76722329)], [(BloomFilter(ideal_num_elements_n=100000000, error_rate_p=0.001000, num_bits_m=1437758757), 72724431)], [(BloomFilter(ideal_num_elements_n=100000000, error_rate_p=0.001000, num_bits_m=1437758757), 69018001)], [(BloomFilter(ideal_num_elements_n=100000000, error_rate_p=0.001000, num_bits_m=1437758757), 72983529)], [(BloomFilter(ideal_num_elements_n=100000000, error_rate_p=0.001000, num_bits_m=1437758757), 71151046)], [(BloomFilter(ideal_num_elements_n=100000000, error_rate_p=0.001000, num_bits_m=1437758757), 76577723)], [(BloomFilter(ideal_num_elements_n=100000000, error_rate_p=0.001000, num_bits_m=1437758757), 70062290)], [(BloomFilter(ideal_num_elements_n=100000000, error_rate_p=0.001000, num_bits_m=1437758757), 74731654)], [(BloomFilter(ideal_num_elements_n=100000000, error_rate_p=0.001000, num_bits_m=1437758757), 71419698)], [(BloomFilter(ideal_num_elements_n=100000000, error_rate_p=0.001000, num_bits_m=1437758757), 74819380)], [(BloomFilter(ideal_num_elements_n=100000000, error_rate_p=0.001000, num_bits_m=1437758757), 74850336)], [(BloomFilter(ideal_num_elements_n=100000000, error_rate_p=0.001000, num_bits_m=1437758757), 70187931)], [(BloomFilter(ideal_num_elements_n=100000000, error_rate_p=0.001000, num_bits_m=1437758757), 77136833)], [(BloomFilter(ideal_num_elements_n=100000000, error_rate_p=0.001000, num_bits_m=1437758757), 80281928)], [(BloomFilter(ideal_num_elements_n=100000000, error_rate_p=0.001000, num_bits_m=1437758757), 71213107)], [(BloomFilter(ideal_num_elements_n=100000000, error_rate_p=0.001000, num_bits_m=1437758757), 69500820)], [(BloomFilter(ideal_num_elements_n=100000000, error_rate_p=0.001000, num_bits_m=1437758757), 70529575)], [(BloomFilter(ideal_num_elements_n=100000000, error_rate_p=0.001000, num_bits_m=1437758757), 75460547)], [(BloomFilter(ideal_num_elements_n=100000000, error_rate_p=0.001000, num_bits_m=1437758757), 70580896)], [(BloomFilter(ideal_num_elements_n=100000000, error_rate_p=0.001000, num_bits_m=1437758757), 75953471)], [(BloomFilter(ideal_num_elements_n=100000000, error_rate_p=0.001000, num_bits_m=1437758757), 71407788)], [(BloomFilter(ideal_num_elements_n=100000000, error_rate_p=0.001000, num_bits_m=1437758757), 81313766)], [(BloomFilter(ideal_num_elements_n=100000000, error_rate_p=0.001000, num_bits_m=1437758757), 75289002)], [(BloomFilter(ideal_num_elements_n=100000000, error_rate_p=0.001000, num_bits_m=1437758757), 72921889)], [(BloomFilter(ideal_num_elements_n=100000000, error_rate_p=0.001000, num_bits_m=1437758757), 73676239)], [(BloomFilter(ideal_num_elements_n=100000000, error_rate_p=0.001000, num_bits_m=1437758757), 63517388)], [(BloomFilter(ideal_num_elements_n=100000000, error_rate_p=0.001000, num_bits_m=1437758757), 64710116)], [(BloomFilter(ideal_num_elements_n=100000000, error_rate_p=0.001000, num_bits_m=1437758757), 76646040)], [(BloomFilter(ideal_num_elements_n=100000000, error_rate_p=0.001000, num_bits_m=1437758757), 77237463)], [(BloomFilter(ideal_num_elements_n=100000000, error_rate_p=0.001000, num_bits_m=1437758757), 81931559)], [(BloomFilter(ideal_num_elements_n=100000000, error_rate_p=0.001000, num_bits_m=1437758757), 74258323)], [(BloomFilter(ideal_num_elements_n=100000000, error_rate_p=0.001000, num_bits_m=1437758757), 69611332)], [(BloomFilter(ideal_num_elements_n=100000000, error_rate_p=0.001000, num_bits_m=1437758757), 79472469)], [(BloomFilter(ideal_num_elements_n=100000000, error_rate_p=0.001000, num_bits_m=1437758757), 72845210)], [(BloomFilter(ideal_num_elements_n=100000000, error_rate_p=0.001000, num_bits_m=1437758757), 68761982)], [(BloomFilter(ideal_num_elements_n=100000000, error_rate_p=0.001000, num_bits_m=1437758757), 76135762)], [(BloomFilter(ideal_num_elements_n=100000000, error_rate_p=0.001000, num_bits_m=1437758757), 79907777)], [(BloomFilter(ideal_num_elements_n=100000000, error_rate_p=0.001000, num_bits_m=1437758757), 74846921)], [(BloomFilter(ideal_num_elements_n=100000000, error_rate_p=0.001000, num_bits_m=1437758757), 74981098)], [(BloomFilter(ideal_num_elements_n=100000000, error_rate_p=0.001000, num_bits_m=1437758757), 79820041)], [(BloomFilter(ideal_num_elements_n=100000000, error_rate_p=0.001000, num_bits_m=1437758757), 71997396)], [(BloomFilter(ideal_num_elements_n=100000000, error_rate_p=0.001000, num_bits_m=1437758757), 68074913)], [(BloomFilter(ideal_num_elements_n=100000000, error_rate_p=0.001000, num_bits_m=1437758757), 73543214)], [(BloomFilter(ideal_num_elements_n=100000000, error_rate_p=0.001000, num_bits_m=1437758757), 74856245)], [(BloomFilter(ideal_num_elements_n=100000000, error_rate_p=0.001000, num_bits_m=1437758757), 74560169)], [(BloomFilter(ideal_num_elements_n=100000000, error_rate_p=0.001000, num_bits_m=1437758757), 71767920)], [(BloomFilter(ideal_num_elements_n=100000000, error_rate_p=0.001000, num_bits_m=1437758757), 76810979)], [(BloomFilter(ideal_num_elements_n=100000000, error_rate_p=0.001000, num_bits_m=1437758757), 73838521)], [(BloomFilter(ideal_num_elements_n=100000000, error_rate_p=0.001000, num_bits_m=1437758757), 75530978)], [(BloomFilter(ideal_num_elements_n=100000000, error_rate_p=0.001000, num_bits_m=1437758757), 63568316)], [(BloomFilter(ideal_num_elements_n=100000000, error_rate_p=0.001000, num_bits_m=1437758757), 76544143)], [(BloomFilter(ideal_num_elements_n=100000000, error_rate_p=0.001000, num_bits_m=1437758757), 65240503)], [(BloomFilter(ideal_num_elements_n=100000000, error_rate_p=0.001000, num_bits_m=1437758757), 73680012)], [(BloomFilter(ideal_num_elements_n=100000000, error_rate_p=0.001000, num_bits_m=1437758757), 70585893)], [(BloomFilter(ideal_num_elements_n=100000000, error_rate_p=0.001000, num_bits_m=1437758757), 73111523)], [(BloomFilter(ideal_num_elements_n=100000000, error_rate_p=0.001000, num_bits_m=1437758757), 75335563)], [(BloomFilter(ideal_num_elements_n=100000000, error_rate_p=0.001000, num_bits_m=1437758757), 86271839)], [(BloomFilter(ideal_num_elements_n=100000000, error_rate_p=0.001000, num_bits_m=1437758757), 65314824)], [(BloomFilter(ideal_num_elements_n=100000000, error_rate_p=0.001000, num_bits_m=1437758757), 67198544)], [(BloomFilter(ideal_num_elements_n=100000000, error_rate_p=0.001000, num_bits_m=1437758757), 73259571)], [(BloomFilter(ideal_num_elements_n=100000000, error_rate_p=0.001000, num_bits_m=1437758757), 74251724)], [(BloomFilter(ideal_num_elements_n=100000000, error_rate_p=0.001000, num_bits_m=1437758757), 75635072)], [(BloomFilter(ideal_num_elements_n=100000000, error_rate_p=0.001000, num_bits_m=1437758757), 85611680)], [(BloomFilter(ideal_num_elements_n=100000000, error_rate_p=0.001000, num_bits_m=1437758757), 74621389)], [(BloomFilter(ideal_num_elements_n=100000000, error_rate_p=0.001000, num_bits_m=1437758757), 70233593)], [(BloomFilter(ideal_num_elements_n=100000000, error_rate_p=0.001000, num_bits_m=1437758757), 74170572)], [(BloomFilter(ideal_num_elements_n=100000000, error_rate_p=0.001000, num_bits_m=1437758757), 76723149)], [(BloomFilter(ideal_num_elements_n=100000000, error_rate_p=0.001000, num_bits_m=1437758757), 73144836)], [(BloomFilter(ideal_num_elements_n=100000000, error_rate_p=0.001000, num_bits_m=1437758757), 74499764)], [(BloomFilter(ideal_num_elements_n=100000000, error_rate_p=0.001000, num_bits_m=1437758757), 69547298)], [(BloomFilter(ideal_num_elements_n=100000000, error_rate_p=0.001000, num_bits_m=1437758757), 75176123)], [(BloomFilter(ideal_num_elements_n=100000000, error_rate_p=0.001000, num_bits_m=1437758757), 72097424)], [(BloomFilter(ideal_num_elements_n=100000000, error_rate_p=0.001000, num_bits_m=1437758757), 70273524)], [(BloomFilter(ideal_num_elements_n=100000000, error_rate_p=0.001000, num_bits_m=1437758757), 78552765)], [(BloomFilter(ideal_num_elements_n=100000000, error_rate_p=0.001000, num_bits_m=1437758757), 77007212)], [(BloomFilter(ideal_num_elements_n=100000000, error_rate_p=0.001000, num_bits_m=1437758757), 67929057)], [(BloomFilter(ideal_num_elements_n=100000000, error_rate_p=0.001000, num_bits_m=1437758757), 70376777)], [(BloomFilter(ideal_num_elements_n=100000000, error_rate_p=0.001000, num_bits_m=1437758757), 73031310)], [(BloomFilter(ideal_num_elements_n=100000000, error_rate_p=0.001000, num_bits_m=1437758757), 81646734)], [(BloomFilter(ideal_num_elements_n=100000000, error_rate_p=0.001000, num_bits_m=1437758757), 70979989)], [(BloomFilter(ideal_num_elements_n=100000000, error_rate_p=0.001000, num_bits_m=1437758757), 76116852)], [(BloomFilter(ideal_num_elements_n=100000000, error_rate_p=0.001000, num_bits_m=1437758757), 67597824)], [(BloomFilter(ideal_num_elements_n=100000000, error_rate_p=0.001000, num_bits_m=1437758757), 77885352)], [(BloomFilter(ideal_num_elements_n=100000000, error_rate_p=0.001000, num_bits_m=1437758757), 74348306)], [(BloomFilter(ideal_num_elements_n=100000000, error_rate_p=0.001000, num_bits_m=1437758757), 70783875)], [(BloomFilter(ideal_num_elements_n=100000000, error_rate_p=0.001000, num_bits_m=1437758757), 72545433)], [(BloomFilter(ideal_num_elements_n=100000000, error_rate_p=0.001000, num_bits_m=1437758757), 72958115)], [(BloomFilter(ideal_num_elements_n=100000000, error_rate_p=0.001000, num_bits_m=1437758757), 71153265)], [(BloomFilter(ideal_num_elements_n=100000000, error_rate_p=0.001000, num_bits_m=1437758757), 75186691)], [(BloomFilter(ideal_num_elements_n=100000000, error_rate_p=0.001000, num_bits_m=1437758757), 75649986)], [(BloomFilter(ideal_num_elements_n=100000000, error_rate_p=0.001000, num_bits_m=1437758757), 69520976)], [(BloomFilter(ideal_num_elements_n=100000000, error_rate_p=0.001000, num_bits_m=1437758757), 69949419)], [(BloomFilter(ideal_num_elements_n=100000000, error_rate_p=0.001000, num_bits_m=1437758757), 72354456)], [(BloomFilter(ideal_num_elements_n=100000000, error_rate_p=0.001000, num_bits_m=1437758757), 74212843)], [(BloomFilter(ideal_num_elements_n=100000000, error_rate_p=0.001000, num_bits_m=1437758757), 69297314)], [(BloomFilter(ideal_num_elements_n=100000000, error_rate_p=0.001000, num_bits_m=1437758757), 64193584)], [(BloomFilter(ideal_num_elements_n=100000000, error_rate_p=0.001000, num_bits_m=1437758757), 81242781)]]\n"
     ]
    }
   ],
   "source": [
    "import pickle \n",
    "import glob\n",
    "\n",
    "filters = './filters/bloomfinal_big*.pkl'\n",
    "filters = glob.glob(filters)\n",
    "filters = [ pickle.load(open(f, 'rb')) for f in filters ]\n",
    "print(filters)"
   ]
  },
  {
   "cell_type": "code",
   "execution_count": 16,
   "metadata": {},
   "outputs": [
    {
     "name": "stdout",
     "output_type": "stream",
     "text": [
      "False\n",
      "False\n",
      "False\n"
     ]
    }
   ],
   "source": [
    "def check_filters(val,filters = filters):\n",
    "    for f in filters:\n",
    "        if val in f[0]:\n",
    "            return True\n",
    "    return False\n",
    "print(check_filters('crap'))\n",
    "print(check_filters('23.BEL05_00185 _23.BEL05_00025 '.encode()))\n",
    "print(check_filters('23.BEL05_00045 23.BEL05_02665'))"
   ]
  },
  {
   "cell_type": "code",
   "execution_count": 17,
   "metadata": {},
   "outputs": [
    {
     "name": "stdout",
     "output_type": "stream",
     "text": [
      "Dask DataFrame Structure:\n",
      "                   protein1 protein2 neighborhood neighborhood_transferred fusion cooccurence homology coexpression coexpression_transferred experiments experiments_transferred database database_transferred textmining textmining_transferred combined_score\n",
      "npartitions=102701                                                                                                                                                                                                                                             \n",
      "                     object   object        int64                    int64  int64       int64    int64        int64                    int64       int64                   int64    int64                int64      int64                  int64          int64\n",
      "                        ...      ...          ...                      ...    ...         ...      ...          ...                      ...         ...                     ...      ...                  ...        ...                    ...            ...\n",
      "...                     ...      ...          ...                      ...    ...         ...      ...          ...                      ...         ...                     ...      ...                  ...        ...                    ...            ...\n",
      "                        ...      ...          ...                      ...    ...         ...      ...          ...                      ...         ...                     ...      ...                  ...        ...                    ...            ...\n",
      "                        ...      ...          ...                      ...    ...         ...      ...          ...                      ...         ...                     ...      ...                  ...        ...                    ...            ...\n",
      "Dask Name: read-csv, 102701 tasks\n"
     ]
    },
    {
     "name": "stderr",
     "output_type": "stream",
     "text": [
      "/work/FAC/FBM/DBC/cdessim2/default/dmoi/miniconda3/envs/ML2/lib/python3.10/site-packages/dask/dataframe/io/csv.py:129: DtypeWarning: Columns (0,1) have mixed types.Specify dtype option on import or set low_memory=False.\n",
      "  df = pandas_read_text(\n",
      "\n",
      "KeyboardInterrupt\n",
      "\n"
     ]
    }
   ],
   "source": [
    "import dask\n",
    "from dask.distributed import fire_and_forget\n",
    "from dask.distributed import Client, Variable , Queue , Lock ,LocalCluster\n",
    "from dask_jobqueue import SLURMCluster\n",
    "from dask.distributed import  utils_perf\n",
    "from dask.distributed import Client, LocalCluster\n",
    "import dask\n",
    "import redis\n",
    "from bloom_filter2 import BloomFilter\n",
    "import lzma\n",
    "from dask import dataframe as dd\n",
    "path = '/work/FAC/FBM/DBC/cdessim2/default/dmoi/'\n",
    "link_df = dd.read_csv(path + 'datasets/STRING/protein.links.full.v11.5.txt',  blocksize=15e6 , header = 0, sep = ' ')\n",
    "print(link_df)\n",
    "sampledf = link_df.sample(frac = .0000000001).compute()\n",
    "print(sampledf)"
   ]
  },
  {
   "cell_type": "code",
   "execution_count": 18,
   "metadata": {},
   "outputs": [
    {
     "name": "stdout",
     "output_type": "stream",
     "text": [
      "                  0               1  2  3  4    5  6  7    8  9  10 11 12 13  \\\n",
      "1     23.BEL05_00185  23.BEL05_00025  0  0  0  169  0  0    0  0  0  0  0  0   \n",
      "2     23.BEL05_00025  23.BEL05_00390  0  0  0  155  0  0    0  0  0  0  0  0   \n",
      "3     23.BEL05_00390  23.BEL05_00025  0  0  0  155  0  0    0  0  0  0  0  0   \n",
      "4     23.BEL05_00025  23.BEL05_00435  0  0  0  196  0  0  174  0  0  0  0  0   \n",
      "5     23.BEL05_00435  23.BEL05_00025  0  0  0  196  0  0  174  0  0  0  0  0   \n",
      "...              ...             ... .. .. ..  ... .. ..  ... .. .. .. .. ..   \n",
      "996   23.BEL05_00035  23.BEL05_01175  0  0  0  150  0  0    0  0  0  0  0  0   \n",
      "997   23.BEL05_01175  23.BEL05_00035  0  0  0  150  0  0    0  0  0  0  0  0   \n",
      "998   23.BEL05_00035  23.BEL05_01195  0  0  0    0  0  0    0  0  0  0  0  0   \n",
      "999   23.BEL05_01195  23.BEL05_00035  0  0  0    0  0  0    0  0  0  0  0  0   \n",
      "1000  23.BEL05_00035  23.BEL05_01235  0  0  0  154  0  0    0  0  0  0  0  0   \n",
      "\n",
      "       14   15  \n",
      "1       0  169  \n",
      "2       0  155  \n",
      "3       0  155  \n",
      "4       0  308  \n",
      "5       0  308  \n",
      "...   ...  ...  \n",
      "996    55  162  \n",
      "997    55  162  \n",
      "998   214  214  \n",
      "999   214  214  \n",
      "1000    0  154  \n",
      "\n",
      "[1000 rows x 16 columns]\n"
     ]
    }
   ],
   "source": [
    "sample = 1000\n",
    "data ={}\n",
    "import pandas as pd\n",
    "path = '/work/FAC/FBM/DBC/cdessim2/default/dmoi/'\n",
    "with open(path + 'datasets/STRING/protein.links.full.v11.5.txt' ) as stringlinks:\n",
    "    for i,line in enumerate( stringlinks):\n",
    "        if i > sample:\n",
    "            break\n",
    "        if i > 0:\n",
    "            data[i]= {j:w for j,w in enumerate(line.split())}\n",
    "sampledf = pd.DataFrame.from_dict(data, orient = 'index')\n",
    "print(sampledf)"
   ]
  },
  {
   "cell_type": "code",
   "execution_count": 19,
   "metadata": {},
   "outputs": [
    {
     "name": "stdout",
     "output_type": "stream",
     "text": [
      "                   0               1  2  3  4    5  6  7    8  9 10 11 12 13  \\\n",
      "1     23.BEL05_00185  23.BEL05_00025  0  0  0  169  0  0    0  0  0  0  0  0   \n",
      "2     23.BEL05_00025  23.BEL05_00390  0  0  0  155  0  0    0  0  0  0  0  0   \n",
      "3     23.BEL05_00390  23.BEL05_00025  0  0  0  155  0  0    0  0  0  0  0  0   \n",
      "4     23.BEL05_00025  23.BEL05_00435  0  0  0  196  0  0  174  0  0  0  0  0   \n",
      "5     23.BEL05_00435  23.BEL05_00025  0  0  0  196  0  0  174  0  0  0  0  0   \n",
      "...              ...             ... .. .. ..  ... .. ..  ... .. .. .. .. ..   \n",
      "996   23.BEL05_00035  23.BEL05_01175  0  0  0  150  0  0    0  0  0  0  0  0   \n",
      "997   23.BEL05_01175  23.BEL05_00035  0  0  0  150  0  0    0  0  0  0  0  0   \n",
      "998   23.BEL05_00035  23.BEL05_01195  0  0  0    0  0  0    0  0  0  0  0  0   \n",
      "999   23.BEL05_01195  23.BEL05_00035  0  0  0    0  0  0    0  0  0  0  0  0   \n",
      "1000  23.BEL05_00035  23.BEL05_01235  0  0  0  154  0  0    0  0  0  0  0  0   \n",
      "\n",
      "       14   15                      protlinks  \n",
      "1       0  169  23.BEL05_00185_23.BEL05_00025  \n",
      "2       0  155  23.BEL05_00025_23.BEL05_00390  \n",
      "3       0  155  23.BEL05_00390_23.BEL05_00025  \n",
      "4       0  308  23.BEL05_00025_23.BEL05_00435  \n",
      "5       0  308  23.BEL05_00435_23.BEL05_00025  \n",
      "...   ...  ...                            ...  \n",
      "996    55  162  23.BEL05_00035_23.BEL05_01175  \n",
      "997    55  162  23.BEL05_01175_23.BEL05_00035  \n",
      "998   214  214  23.BEL05_00035_23.BEL05_01195  \n",
      "999   214  214  23.BEL05_01195_23.BEL05_00035  \n",
      "1000    0  154  23.BEL05_00035_23.BEL05_01235  \n",
      "\n",
      "[1000 rows x 17 columns]\n"
     ]
    },
    {
     "name": "stderr",
     "output_type": "stream",
     "text": [
      "/tmp/25549704/ipykernel_2112516/3218239898.py:4: UserWarning: Pandas doesn't allow columns to be created via a new attribute name - see https://pandas.pydata.org/pandas-docs/stable/indexing.html#attribute-access\n",
      "  df.protein1 = df[0].map(lambda x:str(x))\n",
      "/tmp/25549704/ipykernel_2112516/3218239898.py:5: UserWarning: Pandas doesn't allow columns to be created via a new attribute name - see https://pandas.pydata.org/pandas-docs/stable/indexing.html#attribute-access\n",
      "  df.protein2 = df[1].map(lambda x:str(x))\n"
     ]
    }
   ],
   "source": [
    "def add_links(df):\n",
    "    df = df[~df[0].isna()]\n",
    "    df = df[~df[1].isna()]\n",
    "    df.protein1 = df[0].map(lambda x:str(x))\n",
    "    df.protein2 = df[1].map(lambda x:str(x))\n",
    "    df['protlinks'] = df[0] + '_' + df[1] \n",
    "    return df\n",
    "sampledf = add_links(sampledf)\n",
    "print(sampledf)"
   ]
  },
  {
   "cell_type": "code",
   "execution_count": 21,
   "metadata": {},
   "outputs": [
    {
     "name": "stdout",
     "output_type": "stream",
     "text": [
      "0\n"
     ]
    }
   ],
   "source": [
    "#check sampledf in filters\n",
    "sampledf['check'] = sampledf.protlinks.map( lambda x : 1 if check_filters(x) == True else 0 )\n",
    "print(sampledf.check.sum())"
   ]
  },
  {
   "cell_type": "code",
   "execution_count": 29,
   "metadata": {},
   "outputs": [],
   "source": [
    "\n",
    "\n",
    "#sample string subnet\n",
    "\n",
    "#get OMA HOGs\n",
    "\n",
    "#jump to a few close species \n",
    "\n",
    "#\n",
    "\n",
    "#collapse nodes with degree 2\n"
   ]
  },
  {
   "cell_type": "code",
   "execution_count": 30,
   "metadata": {},
   "outputs": [],
   "source": [
    "i = 0 \n",
    "from rdflib.namespace import RDF\n",
    "\n",
    "for s, p, o in rg.triples((None,  RDF.type, None)):\n",
    "    print(f\"{s} is a {o}\")\n",
    "    if i > 10:\n",
    "        break"
   ]
  },
  {
   "cell_type": "code",
   "execution_count": null,
   "metadata": {},
   "outputs": [],
   "source": [
    "#map string neighbours to OMA entries\n",
    "\n",
    "#jump a few steps in HOGs\n",
    "\n",
    "#fish for STRING interactions in other species\n",
    "\n",
    "\n"
   ]
  }
 ],
 "metadata": {
  "colab": {
   "provenance": []
  },
  "kernelspec": {
   "display_name": "Python 3 (ipykernel)",
   "language": "python",
   "name": "python3"
  },
  "language_info": {
   "codemirror_mode": {
    "name": "ipython",
    "version": 3
   },
   "file_extension": ".py",
   "mimetype": "text/x-python",
   "name": "python",
   "nbconvert_exporter": "python",
   "pygments_lexer": "ipython3",
   "version": "3.10.8"
  }
 },
 "nbformat": 4,
 "nbformat_minor": 4
}
