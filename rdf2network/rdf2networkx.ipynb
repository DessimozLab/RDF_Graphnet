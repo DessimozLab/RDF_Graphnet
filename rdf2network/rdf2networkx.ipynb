{
 "cells": [
  {
   "cell_type": "code",
   "execution_count": 1,
   "metadata": {
    "id": "sZJA7QRc-lnW"
   },
   "outputs": [],
   "source": [
    "# Install required packages in the current Jupyter kernel\n",
    "# Uncomment the following lines if you need to install these libraries\n",
    "# If you run into permission issues, try with the --user option\n",
    "#import sys\n",
    "#!pip install -q rdflib networkx matplotlib\n",
    "#!{sys.executable} -m pip install rdflib networkx matplotlib pandas stringdb --user\n"
   ]
  },
  {
   "cell_type": "code",
   "execution_count": 2,
   "metadata": {},
   "outputs": [],
   "source": [
    "%load_ext autoreload\n",
    "%autoreload 2\n",
    "import sampler\n",
    "import grabhogs_sparql\n",
    "import map2string_fast\n",
    "import addfrombloom\n",
    "import rdflib\n",
    "import SPARQLWrapper\n",
    "import colour\n",
    "import itertools\n",
    "import networkx as nx\n",
    "import glob\n",
    "from matplotlib import pyplot as plt"
   ]
  },
  {
   "cell_type": "code",
   "execution_count": 3,
   "metadata": {
    "id": "aVA-JNpI-lna",
    "outputId": "a418ca78-5317-4b62-9367-642d64e2c709"
   },
   "outputs": [
    {
     "name": "stdout",
     "output_type": "stream",
     "text": [
      "rdflib Graph loaded successfully with 2620310 triples\n",
      "rdflib Graph loaded successfully with 14559 triples\n"
     ]
    }
   ],
   "source": [
    "datapath = '/work/FAC/FBM/DBC/cdessim2/default/dmoi/datasets/STRING/rdf/protein.links.rdf.v11.5/402676.protein.links.rdf.v11.5.txt.gz'\n",
    "# RDF graph loading\n",
    "rg = sampler.load_graph(datapath)\n",
    "\n",
    "datapath2 = '/work/FAC/FBM/DBC/cdessim2/default/dmoi/datasets/STRING/rdf/protein.info.rdf.v11.5/402676.protein.info.rdf.v11.5.txt.gz'\n",
    "# RDF graph loading\n",
    "rg_info  = sampler.load_graph(datapath2)"
   ]
  },
  {
   "cell_type": "code",
   "execution_count": 4,
   "metadata": {},
   "outputs": [
    {
     "name": "stdout",
     "output_type": "stream",
     "text": [
      "1831\n"
     ]
    }
   ],
   "source": [
    "links = '/work/FAC/FBM/DBC/cdessim2/default/dmoi/datasets/STRING/rdf/protein.links.rdf.v11.5/*.protein.links.rdf.v11.5.txt.gz'\n",
    "linkfiles = glob.glob(links)\n",
    "linkfiles = { l:{ 'links':l , 'info':l.replace('protein.links' , 'protein.info' ) } for l in linkfiles}\n",
    "print(len(linkfiles ))"
   ]
  },
  {
   "cell_type": "code",
   "execution_count": 5,
   "metadata": {},
   "outputs": [
    {
     "name": "stdout",
     "output_type": "stream",
     "text": [
      "https://string-db.org/network/402676.B6K4T6\n"
     ]
    }
   ],
   "source": [
    "subjs = rg.subjects( unique = True)\n",
    "seed = next(subjs)\n",
    "print(seed)"
   ]
  },
  {
   "cell_type": "code",
   "execution_count": 6,
   "metadata": {},
   "outputs": [
    {
     "name": "stdout",
     "output_type": "stream",
     "text": [
      "176 704\n",
      "{rdflib.term.URIRef('https://string-db.org/rdf/any-confidence'), rdflib.term.URIRef('https://string-db.org/rdf/highest-confidence-cutoff'), rdflib.term.URIRef('https://string-db.org/rdf/medium-confidence-cutoff'), rdflib.term.URIRef('https://string-db.org/rdf/high-confidence-cutoff')}\n",
      "rdflib Graph sampled successfully with 596 triples\n"
     ]
    }
   ],
   "source": [
    "subg = sampler.sample( rg = rg , seed = seed,  layer_limit= 2 , sample_run = 20 )\n",
    "print(set([p for p in subg.predicates()]))\n",
    "print(\"rdflib Graph sampled successfully with {} triples\".format(len(subg)))"
   ]
  },
  {
   "cell_type": "code",
   "execution_count": 7,
   "metadata": {
    "id": "aVA-JNpI-lna",
    "outputId": "a418ca78-5317-4b62-9367-642d64e2c709"
   },
   "outputs": [
    {
     "name": "stdout",
     "output_type": "stream",
     "text": [
      "57\n",
      "57\n",
      "rdflib Graph annotated successfully with 653 triples\n",
      "{rdflib.term.URIRef('https://string-db.org/rdf/any-confidence'), rdflib.term.URIRef('http://purl.org/lscr#xrefUniprot'), rdflib.term.URIRef('https://string-db.org/rdf/highest-confidence-cutoff'), rdflib.term.URIRef('https://string-db.org/rdf/medium-confidence-cutoff'), rdflib.term.URIRef('https://string-db.org/rdf/high-confidence-cutoff')}\n",
      "https://string-db.org/network/402676.B6JVA8 http://purl.org/lscr#xrefUniprot http://purl.uniprot.org/uniprot/B6JVA8\n",
      "https://string-db.org/network/402676.B6JV67 http://purl.org/lscr#xrefUniprot http://purl.uniprot.org/uniprot/B6JV67\n",
      "https://string-db.org/network/402676.B6JUU0 http://purl.org/lscr#xrefUniprot http://purl.uniprot.org/uniprot/B6JUU0\n",
      "https://string-db.org/network/402676.B6JWW4 http://purl.org/lscr#xrefUniprot http://purl.uniprot.org/uniprot/B6JWW4\n",
      "https://string-db.org/network/402676.B6K038 http://purl.org/lscr#xrefUniprot http://purl.uniprot.org/uniprot/B6K038\n",
      "https://string-db.org/network/402676.B6JYQ4 http://purl.org/lscr#xrefUniprot http://purl.uniprot.org/uniprot/B6JYQ4\n",
      "https://string-db.org/network/402676.B6JYD1 http://purl.org/lscr#xrefUniprot http://purl.uniprot.org/uniprot/B6JYD1\n",
      "https://string-db.org/network/402676.B6JXV0 http://purl.org/lscr#xrefUniprot http://purl.uniprot.org/uniprot/B6JXV0\n",
      "https://string-db.org/network/402676.B6K4A8 http://purl.org/lscr#xrefUniprot http://purl.uniprot.org/uniprot/B6K4A8\n",
      "https://string-db.org/network/402676.B6JVA4 http://purl.org/lscr#xrefUniprot http://purl.uniprot.org/uniprot/B6JVA4\n",
      "https://string-db.org/network/402676.B6JXG0 http://purl.org/lscr#xrefUniprot http://purl.uniprot.org/uniprot/B6JXG0\n"
     ]
    }
   ],
   "source": [
    "subg = sampler.add_xrefs( rg_info , subg )\n",
    "print(\"rdflib Graph annotated successfully with {} triples\".format(len(subg)))\n",
    "print(set([p for p in subg.predicates()]))\n",
    "cross_ref = rdflib.term.URIRef(\"http://purl.org/lscr#xrefUniprot\")\n",
    "i = 0 \n",
    "for s,p,o in subg.triples((None, cross_ref, None)):\n",
    "    print(s,p,o)\n",
    "    i+= 1\n",
    "    if i > 10:\n",
    "        break"
   ]
  },
  {
   "cell_type": "code",
   "execution_count": 8,
   "metadata": {},
   "outputs": [],
   "source": [
    "#proteins_by_species , results_subj_para , results_subj_ortho  = grabhogs_sparql.grab_hogs( subg , cross_ref = rdflib.term.URIRef(\"http://purl.org/lscr#xrefUniprot\") )"
   ]
  },
  {
   "cell_type": "code",
   "execution_count": 9,
   "metadata": {},
   "outputs": [],
   "source": [
    "#print(results_subj_ortho)"
   ]
  },
  {
   "cell_type": "code",
   "execution_count": 10,
   "metadata": {},
   "outputs": [
    {
     "name": "stdout",
     "output_type": "stream",
     "text": [
      "57\n",
      "Total time for 114 SPARQL queries: 40.11890888214111 seconds (multiple batch calls in: 0 cases)\n",
      "Num errors: 0\n"
     ]
    }
   ],
   "source": [
    "orthograph =  grabhogs_sparql.grab_hogs_graph( subg , cross_ref , sparql_endpoint= None\n",
    "            , USE_CASE = 1 , verbose = True , cross_ref_prop = rdflib.term.URIRef(\"http://purl.org/lscr#xrefUniprot\"))"
   ]
  },
  {
   "cell_type": "code",
   "execution_count": 11,
   "metadata": {},
   "outputs": [
    {
     "name": "stdout",
     "output_type": "stream",
     "text": [
      "rdflib Graph annotated successfully with 684998 triples\n"
     ]
    }
   ],
   "source": [
    "from rdflib import Graph, URIRef\n",
    "print(\"rdflib Graph annotated successfully with {} triples\".format(len(orthograph)))\n",
    "#get all species\n",
    "taxa = [ 'protein1_uniprot_taxon_orth' , 'protein1_uniprot_taxon_para']\n",
    "species = set( [ o for t in taxa  for s,p,o in orthograph.triples((None, URIRef(t), None))  ])\n"
   ]
  },
  {
   "cell_type": "code",
   "execution_count": 12,
   "metadata": {},
   "outputs": [],
   "source": [
    "#get all the results for that species\n",
    "taxa = [ 'orth_protein_uniprot_taxon_orth' , 'para_protein_uniprot_taxon_para']\n",
    "#get all proteins for each species\n",
    "prots_by_species = { spec: set([s  for s,p,o in orthograph.triples((None, URIRef(t), spec ))]) for t in taxa for spec in species  }\n",
    "prots_by_species = { spec:prots_by_species[spec] for spec in prots_by_species if len(prots_by_species[spec])   }\n",
    "prots_by_species = { spec:[ p.replace('https://string-db.org/network/' , '' ) for p in prots_by_species[spec] ] for spec in prots_by_species }"
   ]
  },
  {
   "cell_type": "code",
   "execution_count": 13,
   "metadata": {},
   "outputs": [],
   "source": [
    "server = 'dna071'\n",
    "ortho_xrefgraph = map2string_fast.mapall(prots_by_species , serverurl= \"http://\"+server+\":3030/string_fuseki/sparql\" , retgraph = True)"
   ]
  },
  {
   "cell_type": "code",
   "execution_count": 14,
   "metadata": {},
   "outputs": [],
   "source": [
    "orthograph += ortho_xrefgraph\n",
    "subg += orthograph\n",
    "#we have interactions for one species and ortho info to all others"
   ]
  },
  {
   "cell_type": "code",
   "execution_count": 15,
   "metadata": {},
   "outputs": [],
   "source": [
    "filters = addfrombloom.load_filters()"
   ]
  },
  {
   "cell_type": "code",
   "execution_count": 16,
   "metadata": {},
   "outputs": [
    {
     "name": "stdout",
     "output_type": "stream",
     "text": [
      "684998 {rdflib.term.URIRef('taxon_taxon_para'), rdflib.term.URIRef('protein1_orth_protein_uniprot'), rdflib.term.URIRef('taxon_para_protein_uniprot'), rdflib.term.URIRef('protein1_uniprot_orth_protein_uniprot'), rdflib.term.URIRef('protein1_uniprot_taxon_para'), rdflib.term.URIRef('protein1_taxon_para'), rdflib.term.URIRef('orth_protein_orth_protein_uniprot'), rdflib.term.URIRef('taxon_para_protein'), rdflib.term.URIRef('protein1_orth_protein'), rdflib.term.URIRef('protein1_uniprot_taxon_orth'), rdflib.term.URIRef('taxon_taxon_orth'), rdflib.term.URIRef('taxon_orth_protein_uniprot'), rdflib.term.URIRef('para_protein_taxon_para'), rdflib.term.URIRef('protein1_uniprot_taxon'), rdflib.term.URIRef('orth_protein_uniprot_taxon_orth'), rdflib.term.URIRef('protein1_taxon'), rdflib.term.URIRef('protein1_taxon_orth'), rdflib.term.URIRef('protein1_para_protein_uniprot'), rdflib.term.URIRef('orth_protein_taxon_orth'), rdflib.term.URIRef('protein1_protein1_uniprot'), rdflib.term.URIRef('para_protein_uniprot_taxon_para'), rdflib.term.URIRef('taxon_orth_protein'), rdflib.term.URIRef('protein1_uniprot_para_protein_uniprot'), rdflib.term.URIRef('protein1_uniprot_para_protein'), rdflib.term.URIRef('protein1_para_protein'), rdflib.term.URIRef('protein1_uniprot_orth_protein'), rdflib.term.URIRef('para_protein_para_protein_uniprot')}\n"
     ]
    },
    {
     "data": {
      "text/plain": [
       "[]"
      ]
     },
     "execution_count": 16,
     "metadata": {},
     "output_type": "execute_result"
    }
   ],
   "source": [
    "#lets add the interactions for all using the bloom filters\n",
    "print( len(orthograph ) , set([p for p in orthograph.predicates() ]) )\n",
    "#get string ids by species\n",
    "pred = rdflib.term.URIRef('http://purl.org/lscr#xrefUniprot')\n",
    "interactions = []\n",
    "for spec in prots_by_species:\n",
    "    stringids = [ s for prot in prots_by_species[spec] for s,p,o in orthograph.triples((None, pred , prot )) ]\n",
    "    #stringids = [ s.replace('https://string-db.org/network/' , '' ) for s in stringids ]\n",
    "    if len(stringids ) > 2 :\n",
    "        interactions += addfrombloom.check_allvall( objects = stringids , urlstring = 'https://string-db.org/network/' , filters = filters )\n",
    "[subg.add(t) for t in interactions]"
   ]
  },
  {
   "cell_type": "code",
   "execution_count": 17,
   "metadata": {},
   "outputs": [],
   "source": [
    "#halelujah we have a graph with everything in it\n",
    "#serialize to turtle format\n",
    "v = subg.serialize(format=\"ttl\")\n",
    "with open('testgraph.ttl', 'w') as graphout:\n",
    "    graphout.write(v)"
   ]
  },
  {
   "cell_type": "code",
   "execution_count": 18,
   "metadata": {},
   "outputs": [
    {
     "name": "stdout",
     "output_type": "stream",
     "text": [
      "1664371\n",
      "1664371\n"
     ]
    }
   ],
   "source": [
    "print(len(subg))\n",
    "readg = Graph()\n",
    "readg.parse('testgraph.ttl')\n",
    "print(len(readg))\n",
    "#we can save the subgraphs in rdf...\n"
   ]
  },
  {
   "cell_type": "code",
   "execution_count": 27,
   "metadata": {},
   "outputs": [
    {
     "name": "stdout",
     "output_type": "stream",
     "text": [
      "<generator object NamespaceManager.namespaces at 0x7fb263864eb0>\n",
      "[('owl', rdflib.term.URIRef('http://www.w3.org/2002/07/owl#')), ('rdf', rdflib.term.URIRef('http://www.w3.org/1999/02/22-rdf-syntax-ns#')), ('rdfs', rdflib.term.URIRef('http://www.w3.org/2000/01/rdf-schema#')), ('xsd', rdflib.term.URIRef('http://www.w3.org/2001/XMLSchema#')), ('xml', rdflib.term.URIRef('http://www.w3.org/XML/1998/namespace')), ('ns1', rdflib.term.URIRef('http://purl.org/lscr#')), ('ns2', rdflib.term.URIRef('https://string-db.org/rdf/'))]\n"
     ]
    }
   ],
   "source": [
    "# create a new heterodata object\n",
    "from torch_geometric.data import HeteroData , Data\n",
    "from rdflib import RDF\n",
    "\n",
    "def test_heterograph(rdf_graph , verbose = True):\n",
    "    data = HeteroData()\n",
    "    # assign edge types from the predicate\n",
    "    edge_types = set([p for s,p,o in rdf_graph])\n",
    "    edge_types = {e:i for i,e in enumerate(edge_types)}\n",
    "\n",
    "    print( ex_ns )\n",
    "    \n",
    "    person.n3(rdf_graph.ex_ns)\n",
    "    #find all subject and object types in the namespace\n",
    "    types = [ type_uri for type_uri in ex_ns ]\n",
    "    #create and index for all of the objects with each type\n",
    "    if verbose == True:\n",
    "        print(types ) \n",
    "    node_index_by_type = {}\n",
    "    \n",
    "    for t in types:\n",
    "        node_index_by_type[t] = { tup[0]:i for i,tup in enumerate(rdf_graph.triples(( None , RDF.type, t) ) ) }\n",
    "    print(node_index_by_type)\n",
    "    \n",
    "    for edge_type in edge_types:\n",
    "        for t1,t2 in itertools.product(node_index_by_type,node_index_by_type):\n",
    "                # create a dictionary of nodes\n",
    "                rows = node_index_by_type[t1]\n",
    "                columns = node_index_by_type[t2]\n",
    "                triples =  [ (s,p,o) for s,p,o in rdf_graph.triples((None, edge_type, None))   if ( s in node_index_by_type[t1] and o in node_index_by_type[t2] ) ]\n",
    "                if len(triples)>0:\n",
    "                    adj = scipy.sparse.lil_matrix( shape = (len(rows), len(columns)))\n",
    "                    for s,p,o in triples:\n",
    "                        adj[rows[s], columns[o]] = 1\n",
    "                    if verbose == True:\n",
    "                        print(adj)\n",
    "                    data[ stype.n3() , p.n3() , otype.n3() ].edge_index = from_scipy_sparse_matrix(adj)\n",
    "                    \n",
    "    return data\n",
    "\n",
    "data = test_heterograph(subg)"
   ]
  },
  {
   "cell_type": "code",
   "execution_count": null,
   "metadata": {},
   "outputs": [
    {
     "name": "stdout",
     "output_type": "stream",
     "text": [
      "(rdflib.term.URIRef('https://string-db.org/network/402676.B6JXG0'), rdflib.term.URIRef('http://purl.org/lscr#xrefUniprot'), rdflib.term.Literal('http://purl.uniprot.org/uniprot/B6JXG0'))\n",
      "URIs:\n",
      "ns3 213839\n",
      "ns4 302906\n",
      "ns5 168253\n",
      "ns6 596\n",
      "\n",
      "Blank nodes:\n",
      "\n",
      "Literals:\n",
      "unknown 57\n",
      "2.2281651496887207\n"
     ]
    }
   ],
   "source": [
    "print((s,p,o))\n",
    "\n",
    "import time\n",
    "from rdflib import Graph, RDF, RDFS, OWL , Literal , BNode\n",
    "\n",
    "def separate_graph(g):\n",
    "    \n",
    "    # Create empty dictionaries for the different types of objects\n",
    "    uris = {}\n",
    "    bnodes = {}\n",
    "    literals = {}\n",
    "    # Iterate over all triples in the graph\n",
    "    for s, p, o in g:\n",
    "        if isinstance(o, URIRef):\n",
    "            uri_type = g.qname(o).split(\":\")[0]  # get the namespace prefix\n",
    "            if uri_type not in uris:\n",
    "                uris[uri_type] = []\n",
    "            uris[uri_type].append(o)\n",
    "\n",
    "        elif isinstance(o, BNode):\n",
    "            if o not in bnodes:\n",
    "                bnodes[o] = []\n",
    "\n",
    "            # Iterate over all triples that have the BNode as a subject\n",
    "            for s2, p2, o2 in g.triples((o, None, None)):\n",
    "                bnodes[o].append((s2, p2, o2))\n",
    "\n",
    "        elif isinstance(o, Literal):\n",
    "            literal_type = None\n",
    "            if RDF.type in g[o]:\n",
    "                for t in g[o][RDF.type]:\n",
    "                    if t in [RDFS.Literal, OWL.DatatypeProperty]:\n",
    "                        continue\n",
    "                    if isinstance(t, URIRef):\n",
    "                        literal_type = g.qname(t).split(\":\")[0]  # get the namespace prefix\n",
    "                        break\n",
    "\n",
    "            if literal_type is None:\n",
    "                literal_type = \"unknown\"\n",
    "\n",
    "            if literal_type not in literals:\n",
    "                literals[literal_type] = []\n",
    "            literals[literal_type].append(o)\n",
    "\n",
    "    # Print out the results\n",
    "    print(\"URIs:\")\n",
    "    for uri_type, uris in uris.items():\n",
    "        print(uri_type, len(uris))\n",
    "\n",
    "    print(\"\\nBlank nodes:\")\n",
    "    for bnode, triples in bnodes.items():\n",
    "        print(bnode, len(triples))\n",
    "\n",
    "    print(\"\\nLiterals:\")\n",
    "    for literal_type, literals in literals.items():\n",
    "        print(literal_type, len(literals))\n",
    "t0 = time.time()\n",
    "separate_graph(subg)\n",
    "print(time.time()-t0)\n",
    "\n",
    "def separate_graph_further(g):\n",
    "\n",
    "\n",
    "    # Create empty dictionaries for the different types of objects\n",
    "    uris = {}\n",
    "    bnodes = {}\n",
    "    literals = {}\n",
    "\n",
    "    # Iterate over all triples in the graph\n",
    "    for s, p, o in g:\n",
    "        if isinstance(o, URIRef):\n",
    "            uri_type = g.qname(o)\n",
    "            if uri_type not in data:\n",
    "                data[uri_type] = {}\n",
    "            if RDF.type in g[o]:\n",
    "                for t in g[o][RDF.type]:\n",
    "                    if t in [RDFS.Resource, OWL.Thing]:\n",
    "                        continue\n",
    "                    if isinstance(t, URIRef):\n",
    "                        type_name = g.qname(t)\n",
    "                        if type_name not in data[uri_type]:\n",
    "                            data[uri_type][type_name] = []\n",
    "                        data[uri_type][type_name].append(o)\n",
    "        else:\n",
    "            if isinstance(o, Literal):\n",
    "                literal_type = None\n",
    "                if RDF.type in g[o]:\n",
    "                    for t in g[o][RDF.type]:\n",
    "                        if t in [RDFS.Literal, OWL.DatatypeProperty]:\n",
    "                            continue\n",
    "                        if isinstance(t, URIRef):\n",
    "                            literal_type = g.qname(t)\n",
    "                            break\n",
    "\n",
    "                if literal_type is None:\n",
    "                    literal_type = \"unknown\"\n",
    "\n",
    "                if literal_type not in data:\n",
    "                    data[literal_type] = []\n",
    "                data[literal_type].append(o)\n",
    "\n",
    "    # Print out the results\n",
    "    for uri_type, types in data.items():\n",
    "        print(f\"Namespace: {uri_type}\")\n",
    "        for type_name, uris in types.items():\n",
    "            print(f\"  Type: {type_name}\")\n",
    "            print(f\"    URIs: {len(uris)}\")\n",
    "        print(\"\\n\")\n",
    "\n",
    "t0 = time.time()\n",
    "separate_graph_further(subg)\n",
    "print(time.time()-t0)\n"
   ]
  },
  {
   "cell_type": "code",
   "execution_count": null,
   "metadata": {},
   "outputs": [],
   "source": [
    "G = rdflib.extras.external_graph_libs.rdflib_to_networkx_multidigraph( subg , lambda s, p, o: {'data':{'key':p  , 'weight':1} } )"
   ]
  },
  {
   "cell_type": "code",
   "execution_count": null,
   "metadata": {},
   "outputs": [],
   "source": [
    "# example usage\n",
    "uniprot_id = \"http://purl.uniprot.org/uniprot/A0A3B5R6M3\" \n",
    "serverurl = '\n",
    "results =  map2string_fast.map2string_SPARQL(uniprot_id , serverurl = )\n",
    "print(results)"
   ]
  },
  {
   "cell_type": "code",
   "execution_count": null,
   "metadata": {},
   "outputs": [],
   "source": [
    "preds = [ p for p in rg.predicates( unique = True)]\n",
    "red = colour.Color('red')\n",
    "blue = colour.Color('blue')\n",
    "c = [ c.hex_l for c in  list(red.range_to(blue, len(preds))) ]\n",
    "colors = { p:c[i] for i,p in enumerate(preds)}\n",
    "delta = 2/len(preds)\n",
    "curve = { p:delta*i for i,p in enumerate(preds) }\n",
    "style = itertools.cycle([ '-', '--' ])\n",
    "line_style = { p:next(style) for p in preds }"
   ]
  },
  {
   "cell_type": "code",
   "execution_count": null,
   "metadata": {},
   "outputs": [],
   "source": [
    "pos = nx.circular_layout( G )\n",
    "f = plt.figure()\n",
    "f.set_figwidth(15)\n",
    "f.set_figheight(15)\n",
    "plt.plot()\n",
    "#plot the whole mess\n",
    "ax = plt.gca()\n",
    "for e in G.edges(data = True):\n",
    "    ax.annotate(\"\",\n",
    "                xy=pos[e[0]], xycoords='data',\n",
    "                xytext=pos[e[1]], textcoords='data',\n",
    "                arrowprops=dict(arrowstyle=\"-\", color=colors[e[2]['data']['key']],\n",
    "                                shrinkA=5, shrinkB=5, lw = e[2]['data']['weight'], ls = line_style[e[2]['data']['key']],\n",
    "                                patchA=None, patchB=None, alpha = e[2]['data']['weight'],\n",
    "                                connectionstyle=\"arc3,rad=rrr\".replace('rrr',str(0.3*curve[e[2]['data']['key']])\n",
    "                                ),\n",
    "                                ),\n",
    "                )\n",
    "\n",
    "nx.draw_networkx_nodes(G, pos, node_color = 'b', node_size = 150, alpha = .5)\n",
    "labels=nx.draw_networkx_labels(G , pos = pos , font_size= 15 , font_color='w')\n",
    "\n",
    "plt.axis('off')\n",
    "plt.show()\n"
   ]
  },
  {
   "cell_type": "code",
   "execution_count": null,
   "metadata": {},
   "outputs": [],
   "source": []
  },
  {
   "cell_type": "code",
   "execution_count": null,
   "metadata": {},
   "outputs": [],
   "source": [
    "#map string neighbours to OMA entries\n",
    "\n",
    "#jump a few steps in HOGs\n",
    "\n",
    "#fish for STRING interactions in other species\n",
    "\n",
    "\n"
   ]
  }
 ],
 "metadata": {
  "colab": {
   "provenance": []
  },
  "kernelspec": {
   "display_name": "Python 3 (ipykernel)",
   "language": "python",
   "name": "python3"
  },
  "language_info": {
   "codemirror_mode": {
    "name": "ipython",
    "version": 3
   },
   "file_extension": ".py",
   "mimetype": "text/x-python",
   "name": "python",
   "nbconvert_exporter": "python",
   "pygments_lexer": "ipython3",
   "version": "3.10.8"
  }
 },
 "nbformat": 4,
 "nbformat_minor": 4
}
