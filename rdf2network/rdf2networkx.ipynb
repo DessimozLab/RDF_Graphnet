{
 "cells": [
  {
   "cell_type": "code",
   "execution_count": 1,
   "metadata": {
    "id": "sZJA7QRc-lnW"
   },
   "outputs": [],
   "source": [
    "# Install required packages in the current Jupyter kernel\n",
    "# Uncomment the following lines if you need to install these libraries\n",
    "# If you run into permission issues, try with the --user option\n",
    "#import sys\n",
    "#!pip install -q rdflib networkx matplotlib\n",
    "#!{sys.executable} -m pip install rdflib networkx matplotlib pandas stringdb --user\n"
   ]
  },
  {
   "cell_type": "code",
   "execution_count": 3,
   "metadata": {},
   "outputs": [
    {
     "name": "stdout",
     "output_type": "stream",
     "text": [
      "The autoreload extension is already loaded. To reload it, use:\n",
      "  %reload_ext autoreload\n"
     ]
    }
   ],
   "source": [
    "%load_ext autoreload\n",
    "%autoreload 2\n",
    "import sampler\n",
    "import grabhogs_sparql\n",
    "import map2string_fast\n",
    "import addfrombloom\n",
    "import rdflib\n",
    "import SPARQLWrapper\n",
    "import colour\n",
    "import itertools\n",
    "import networkx as nx\n",
    "import glob\n",
    "from matplotlib import pyplot as plt"
   ]
  },
  {
   "cell_type": "code",
   "execution_count": null,
   "metadata": {
    "id": "aVA-JNpI-lna",
    "outputId": "a418ca78-5317-4b62-9367-642d64e2c709"
   },
   "outputs": [],
   "source": [
    "datapath = '/work/FAC/FBM/DBC/cdessim2/default/dmoi/datasets/STRING/rdf/protein.links.rdf.v11.5/402676.protein.links.rdf.v11.5.txt.gz'\n",
    "# RDF graph loading\n",
    "rg = sampler.load_graph(datapath)\n",
    "\n",
    "datapath2 = '/work/FAC/FBM/DBC/cdessim2/default/dmoi/datasets/STRING/rdf/protein.info.rdf.v11.5/402676.protein.info.rdf.v11.5.txt.gz'\n",
    "# RDF graph loading\n",
    "rg_info  = sampler.load_graph(datapath2)"
   ]
  },
  {
   "cell_type": "code",
   "execution_count": null,
   "metadata": {},
   "outputs": [],
   "source": [
    "links = '/work/FAC/FBM/DBC/cdessim2/default/dmoi/datasets/STRING/rdf/protein.links.rdf.v11.5/*.protein.links.rdf.v11.5.txt.gz'\n",
    "linkfiles = glob.glob(links)\n",
    "linkfiles = { l:{ 'links':l , 'info':l.replace('protein.links' , 'protein.info' ) } for l in linkfiles}\n",
    "print(len(linkfiles ))"
   ]
  },
  {
   "cell_type": "code",
   "execution_count": null,
   "metadata": {},
   "outputs": [],
   "source": [
    "subjs = rg.subjects( unique = True)\n",
    "seed = next(subjs)\n",
    "print(seed)"
   ]
  },
  {
   "cell_type": "code",
   "execution_count": null,
   "metadata": {},
   "outputs": [],
   "source": [
    "subg = sampler.sample( rg = rg , seed = seed,  layer_limit= 2 , sample_run = 20 )\n",
    "print(set([p for p in subg.predicates()]))\n",
    "print(\"rdflib Graph sampled successfully with {} triples\".format(len(subg)))\n",
    "\n"
   ]
  },
  {
   "cell_type": "code",
   "execution_count": null,
   "metadata": {
    "id": "aVA-JNpI-lna",
    "outputId": "a418ca78-5317-4b62-9367-642d64e2c709"
   },
   "outputs": [],
   "source": [
    "subg = sampler.add_xrefs( rg_info , subg )\n",
    "print(\"rdflib Graph annotated successfully with {} triples\".format(len(subg)))\n",
    "print(set([p for p in subg.predicates()]))\n",
    "cross_ref = rdflib.term.URIRef(\"http://purl.org/lscr#xrefUniprot\")\n",
    "i = 0 \n",
    "for s,p,o in subg.triples((None, cross_ref, None)):\n",
    "    print(s,p,o)\n",
    "    i+= 1\n",
    "    if i > 10:\n",
    "        break"
   ]
  },
  {
   "cell_type": "code",
   "execution_count": null,
   "metadata": {},
   "outputs": [],
   "source": [
    "#proteins_by_species , results_subj_para , results_subj_ortho  = grabhogs_sparql.grab_hogs( subg , cross_ref = rdflib.term.URIRef(\"http://purl.org/lscr#xrefUniprot\") )"
   ]
  },
  {
   "cell_type": "code",
   "execution_count": null,
   "metadata": {},
   "outputs": [],
   "source": [
    "#print(results_subj_ortho)"
   ]
  },
  {
   "cell_type": "code",
   "execution_count": null,
   "metadata": {},
   "outputs": [],
   "source": [
    "orthograph =  grabhogs_sparql.grab_hogs_graph( subg , cross_ref , sparql_endpoint= None\n",
    "            , USE_CASE = 1 , verbose = True , cross_ref_prop = rdflib.term.URIRef(\"http://purl.org/lscr#xrefUniprot\"))"
   ]
  },
  {
   "cell_type": "code",
   "execution_count": 40,
   "metadata": {},
   "outputs": [
    {
     "name": "stdout",
     "output_type": "stream",
     "text": [
      "rdflib Graph annotated successfully with 446218 triples\n"
     ]
    }
   ],
   "source": [
    "from rdflib import Graph, URIRef\n",
    "print(\"rdflib Graph annotated successfully with {} triples\".format(len(orthograph)))\n",
    "#get all species\n",
    "taxa = [ 'protein1_uniprot_taxon_orth' , 'protein1_uniprot_taxon_para']\n",
    "species = set( [ o for t in taxa  for s,p,o in orthograph.triples((None, URIRef(t), None))  ])\n"
   ]
  },
  {
   "cell_type": "code",
   "execution_count": 41,
   "metadata": {},
   "outputs": [],
   "source": [
    "#get all the results for that species\n",
    "taxa = [ 'orth_protein_uniprot_taxon_orth' , 'para_protein_uniprot_taxon_para']\n",
    "#get all proteins for each species\n",
    "prots_by_species = { spec: set([s  for s,p,o in orthograph.triples((None, URIRef(t), spec ))]) for t in taxa for spec in species  }\n",
    "prots_by_species = { spec:prots_by_species[spec] for spec in prots_by_species if len(prots_by_species[spec])   }\n",
    "prots_by_species = { spec:[ p.replace('http://purl.uniprot.org/uniprot/' , '' ) for p in prots_by_species[spec] ] for spec in prots_by_species }\n"
   ]
  },
  {
   "cell_type": "code",
   "execution_count": 42,
   "metadata": {},
   "outputs": [
    {
     "name": "stdout",
     "output_type": "stream",
     "text": [
      "5848\n"
     ]
    }
   ],
   "source": [
    "server = 'dna067'\n",
    "ortho_xrefgraph = map2string_fast.mapall(prots_by_species , serverurl= \"http://\"+server+\":3030/string_fuseki/sparql\" , retgraph = True)\n",
    "print(len(ortho_xrefgraph))"
   ]
  },
  {
   "cell_type": "code",
   "execution_count": 43,
   "metadata": {},
   "outputs": [],
   "source": [
    "orthograph += ortho_xrefgraph\n",
    "subg += orthograph\n",
    "#we have interactions for one species and ortho info to all others"
   ]
  },
  {
   "cell_type": "code",
   "execution_count": null,
   "metadata": {},
   "outputs": [],
   "source": [
    "filters = addfrombloom.load_filters()"
   ]
  },
  {
   "cell_type": "code",
   "execution_count": 56,
   "metadata": {},
   "outputs": [
    {
     "name": "stdout",
     "output_type": "stream",
     "text": [
      "found 78 interactions for species http://purl.uniprot.org/taxonomy/29073\n",
      "453818\n",
      "453857\n",
      "saving\n",
      "found 76 interactions for species http://purl.uniprot.org/taxonomy/7227\n",
      "453857\n",
      "453895\n",
      "found 116 interactions for species http://purl.uniprot.org/taxonomy/10116\n",
      "453895\n",
      "453953\n",
      "found 78 interactions for species http://purl.uniprot.org/taxonomy/7217\n",
      "453953\n",
      "453992\n",
      "found 60 interactions for species http://purl.uniprot.org/taxonomy/9739\n",
      "453992\n",
      "454022\n",
      "found 24 interactions for species http://purl.uniprot.org/taxonomy/9545\n",
      "454022\n",
      "454034\n",
      "found 216 interactions for species http://purl.uniprot.org/taxonomy/988480\n",
      "454034\n",
      "454142\n",
      "found 86 interactions for species http://purl.uniprot.org/taxonomy/72359\n",
      "454142\n",
      "454185\n",
      "saving\n",
      "found 138 interactions for species http://purl.uniprot.org/taxonomy/284811\n",
      "454185\n",
      "454254\n",
      "found 184 interactions for species http://purl.uniprot.org/taxonomy/48709\n",
      "454254\n",
      "454346\n",
      "found 102 interactions for species http://purl.uniprot.org/taxonomy/161767\n",
      "454346\n",
      "454397\n",
      "found 134 interactions for species http://purl.uniprot.org/taxonomy/214684\n",
      "454397\n",
      "454464\n",
      "found 156 interactions for species http://purl.uniprot.org/taxonomy/8081\n",
      "454464\n",
      "454542\n",
      "found 120 interactions for species http://purl.uniprot.org/taxonomy/692275\n",
      "454542\n",
      "454602\n",
      "found 240 interactions for species http://purl.uniprot.org/taxonomy/154538\n",
      "454602\n",
      "454722\n",
      "saving\n",
      "found 172 interactions for species http://purl.uniprot.org/taxonomy/341663\n",
      "454722\n",
      "454808\n",
      "found 92 interactions for species http://purl.uniprot.org/taxonomy/6945\n",
      "454808\n",
      "454854\n",
      "found 90 interactions for species http://purl.uniprot.org/taxonomy/663331\n",
      "454854\n",
      "454899\n",
      "found 46 interactions for species http://purl.uniprot.org/taxonomy/9598\n",
      "454899\n",
      "454922\n",
      "found 96 interactions for species http://purl.uniprot.org/taxonomy/610380\n",
      "454922\n",
      "454970\n",
      "found 200 interactions for species http://purl.uniprot.org/taxonomy/10181\n",
      "454970\n",
      "455070\n",
      "saving\n",
      "found 120 interactions for species http://purl.uniprot.org/taxonomy/4956\n",
      "455070\n",
      "455190\n",
      "found 24 interactions for species http://purl.uniprot.org/taxonomy/37293\n",
      "455190\n",
      "455214\n",
      "found 170 interactions for species http://purl.uniprot.org/taxonomy/225164\n",
      "455214\n",
      "455384\n",
      "found 24 interactions for species http://purl.uniprot.org/taxonomy/367110\n",
      "455384\n",
      "455408\n",
      "found 8 interactions for species http://purl.uniprot.org/taxonomy/6334\n",
      "455408\n",
      "455416\n",
      "found 84 interactions for species http://purl.uniprot.org/taxonomy/400682\n",
      "455416\n",
      "455500\n",
      "found 256 interactions for species http://purl.uniprot.org/taxonomy/9986\n",
      "455500\n",
      "455756\n",
      "found 240 interactions for species http://purl.uniprot.org/taxonomy/597362\n",
      "455756\n",
      "455996\n",
      "found 120 interactions for species http://purl.uniprot.org/taxonomy/502779\n",
      "455996\n",
      "456116\n",
      "saving\n",
      "found 488 interactions for species http://purl.uniprot.org/taxonomy/9940\n",
      "456116\n",
      "456604\n",
      "found 114 interactions for species http://purl.uniprot.org/taxonomy/61819\n",
      "456604\n",
      "456718\n",
      "found 40 interactions for species http://purl.uniprot.org/taxonomy/561896\n",
      "456718\n",
      "456758\n",
      "found 32 interactions for species http://purl.uniprot.org/taxonomy/121845\n",
      "456758\n",
      "456790\n",
      "found 122 interactions for species http://purl.uniprot.org/taxonomy/1168221\n",
      "456790\n",
      "456912\n",
      "saving\n",
      "found 76 interactions for species http://purl.uniprot.org/taxonomy/7238\n",
      "456912\n",
      "456988\n",
      "found 32 interactions for species http://purl.uniprot.org/taxonomy/6183\n",
      "456988\n",
      "457020\n",
      "found 34 interactions for species http://purl.uniprot.org/taxonomy/44316\n",
      "457020\n",
      "457054\n",
      "found 134 interactions for species http://purl.uniprot.org/taxonomy/60175\n",
      "457054\n",
      "457188\n",
      "found 80 interactions for species http://purl.uniprot.org/taxonomy/7757\n",
      "457188\n",
      "457268\n",
      "found 18 interactions for species http://purl.uniprot.org/taxonomy/5007\n",
      "457268\n",
      "457286\n",
      "found 236 interactions for species http://purl.uniprot.org/taxonomy/684364\n",
      "457286\n",
      "457522\n",
      "found 66 interactions for species http://purl.uniprot.org/taxonomy/7244\n",
      "457522\n",
      "457588\n",
      "saving\n",
      "found 44 interactions for species http://purl.uniprot.org/taxonomy/77166\n",
      "457588\n",
      "457632\n",
      "found 100 interactions for species http://purl.uniprot.org/taxonomy/767770\n",
      "457632\n",
      "457732\n",
      "found 92 interactions for species http://purl.uniprot.org/taxonomy/8030\n",
      "457732\n",
      "457824\n",
      "found 18 interactions for species http://purl.uniprot.org/taxonomy/9555\n",
      "457824\n",
      "457842\n",
      "found 142 interactions for species http://purl.uniprot.org/taxonomy/1287681\n",
      "457842\n",
      "457984\n",
      "found 120 interactions for species http://purl.uniprot.org/taxonomy/332952\n",
      "457984\n",
      "458104\n",
      "found 90 interactions for species http://purl.uniprot.org/taxonomy/379532\n",
      "458104\n",
      "458194\n",
      "found 102 interactions for species http://purl.uniprot.org/taxonomy/7165\n",
      "458194\n",
      "458296\n",
      "found 86 interactions for species http://purl.uniprot.org/taxonomy/402676\n",
      "458296\n",
      "458382\n",
      "saving\n",
      "found 66 interactions for species http://purl.uniprot.org/taxonomy/698492\n",
      "458382\n",
      "458448\n",
      "found 172 interactions for species http://purl.uniprot.org/taxonomy/10090\n",
      "458448\n",
      "458620\n",
      "found 138 interactions for species http://purl.uniprot.org/taxonomy/5599\n",
      "458620\n",
      "458758\n",
      "found 202 interactions for species http://purl.uniprot.org/taxonomy/1432141\n",
      "458758\n",
      "458960\n",
      "found 20 interactions for species http://purl.uniprot.org/taxonomy/885580\n",
      "458960\n",
      "458980\n",
      "found 58 interactions for species http://purl.uniprot.org/taxonomy/7739\n",
      "458980\n",
      "459038\n",
      "found 722 interactions for species http://purl.uniprot.org/taxonomy/135651\n",
      "459038\n",
      "459760\n",
      "found 110 interactions for species http://purl.uniprot.org/taxonomy/426428\n",
      "459760\n",
      "459870\n",
      "saving\n",
      "found 142 interactions for species http://purl.uniprot.org/taxonomy/441959\n",
      "459870\n",
      "460012\n",
      "found 76 interactions for species http://purl.uniprot.org/taxonomy/502780\n",
      "460012\n",
      "460088\n",
      "found 104 interactions for species http://purl.uniprot.org/taxonomy/242507\n",
      "460088\n",
      "460192\n",
      "found 152 interactions for species http://purl.uniprot.org/taxonomy/1071383\n",
      "460192\n",
      "460344\n",
      "found 100 interactions for species http://purl.uniprot.org/taxonomy/9031\n",
      "460344\n",
      "460444\n",
      "found 200 interactions for species http://purl.uniprot.org/taxonomy/51511\n",
      "460444\n",
      "460644\n",
      "found 392 interactions for species http://purl.uniprot.org/taxonomy/31234\n",
      "460644\n",
      "461036\n",
      "saving\n",
      "found 142 interactions for species http://purl.uniprot.org/taxonomy/1230383\n",
      "461036\n",
      "461178\n",
      "found 116 interactions for species http://purl.uniprot.org/taxonomy/13249\n",
      "461178\n",
      "461294\n",
      "found 126 interactions for species http://purl.uniprot.org/taxonomy/237631\n",
      "461294\n",
      "461420\n",
      "found 112 interactions for species http://purl.uniprot.org/taxonomy/80972\n",
      "461420\n",
      "461532\n",
      "found 24 interactions for species http://purl.uniprot.org/taxonomy/554373\n",
      "461532\n",
      "461556\n",
      "saving\n",
      "found 258 interactions for species http://purl.uniprot.org/taxonomy/47427\n",
      "461556\n",
      "461814\n",
      "found 46 interactions for species http://purl.uniprot.org/taxonomy/39432\n",
      "461814\n",
      "461860\n",
      "found 106 interactions for species http://purl.uniprot.org/taxonomy/1076935\n",
      "461860\n",
      "461966\n",
      "found 74 interactions for species http://purl.uniprot.org/taxonomy/5217\n",
      "461966\n",
      "462040\n",
      "found 182 interactions for species http://purl.uniprot.org/taxonomy/7918\n",
      "462040\n",
      "462222\n",
      "saving\n",
      "found 58 interactions for species http://purl.uniprot.org/taxonomy/6290\n",
      "462222\n",
      "462280\n",
      "found 80 interactions for species http://purl.uniprot.org/taxonomy/660122\n",
      "462280\n",
      "462360\n",
      "found 120 interactions for species http://purl.uniprot.org/taxonomy/665912\n",
      "462360\n",
      "462480\n",
      "found 76 interactions for species http://purl.uniprot.org/taxonomy/1237896\n",
      "462480\n",
      "462556\n",
      "found 144 interactions for species http://purl.uniprot.org/taxonomy/121224\n",
      "462556\n",
      "462700\n",
      "found 100 interactions for species http://purl.uniprot.org/taxonomy/294746\n",
      "462700\n",
      "462800\n",
      "found 68 interactions for species http://purl.uniprot.org/taxonomy/8840\n",
      "462800\n",
      "462868\n",
      "saving\n",
      "found 92 interactions for species http://purl.uniprot.org/taxonomy/227321\n",
      "462868\n",
      "462960\n",
      "found 148 interactions for species http://purl.uniprot.org/taxonomy/946362\n",
      "462960\n",
      "463108\n",
      "found 70 interactions for species http://purl.uniprot.org/taxonomy/9606\n",
      "463108\n",
      "463178\n",
      "found 58 interactions for species http://purl.uniprot.org/taxonomy/2754530\n",
      "463178\n",
      "463236\n",
      "found 186 interactions for species http://purl.uniprot.org/taxonomy/983966\n",
      "463236\n",
      "463422\n",
      "found 100 interactions for species http://purl.uniprot.org/taxonomy/526221\n",
      "463422\n",
      "463522\n",
      "found 102 interactions for species http://purl.uniprot.org/taxonomy/284813\n",
      "463522\n",
      "463624\n",
      "found 76 interactions for species http://purl.uniprot.org/taxonomy/10029\n",
      "463624\n",
      "463700\n",
      "saving\n"
     ]
    },
    {
     "ename": "KeyboardInterrupt",
     "evalue": "",
     "output_type": "error",
     "traceback": [
      "\u001b[0;31m---------------------------------------------------------------------------\u001b[0m",
      "\u001b[0;31mKeyboardInterrupt\u001b[0m                         Traceback (most recent call last)",
      "Cell \u001b[0;32mIn[56], line 19\u001b[0m\n\u001b[1;32m     17\u001b[0m \u001b[38;5;28;01mif\u001b[39;00m i \u001b[38;5;241m%\u001b[39m \u001b[38;5;241m10\u001b[39m \u001b[38;5;241m==\u001b[39m \u001b[38;5;241m0\u001b[39m :\n\u001b[1;32m     18\u001b[0m     \u001b[38;5;28mprint\u001b[39m(\u001b[38;5;124m'\u001b[39m\u001b[38;5;124msaving\u001b[39m\u001b[38;5;124m'\u001b[39m)\n\u001b[0;32m---> 19\u001b[0m     v \u001b[38;5;241m=\u001b[39m \u001b[43msubg\u001b[49m\u001b[38;5;241;43m.\u001b[39;49m\u001b[43mserialize\u001b[49m\u001b[43m(\u001b[49m\u001b[38;5;28;43mformat\u001b[39;49m\u001b[38;5;241;43m=\u001b[39;49m\u001b[38;5;124;43m\"\u001b[39;49m\u001b[38;5;124;43mttl\u001b[39;49m\u001b[38;5;124;43m\"\u001b[39;49m\u001b[43m)\u001b[49m\n\u001b[1;32m     20\u001b[0m     \u001b[38;5;28;01mwith\u001b[39;00m \u001b[38;5;28mopen\u001b[39m(\u001b[38;5;124m'\u001b[39m\u001b[38;5;124mtestgraph_\u001b[39m\u001b[38;5;124m'\u001b[39m\u001b[38;5;241m+\u001b[39m\u001b[38;5;28mstr\u001b[39m(i)\u001b[38;5;241m+\u001b[39m\u001b[38;5;124m'\u001b[39m\u001b[38;5;124m.ttl\u001b[39m\u001b[38;5;124m'\u001b[39m, \u001b[38;5;124m'\u001b[39m\u001b[38;5;124mw\u001b[39m\u001b[38;5;124m'\u001b[39m) \u001b[38;5;28;01mas\u001b[39;00m graphout:\n\u001b[1;32m     21\u001b[0m         graphout\u001b[38;5;241m.\u001b[39mwrite(v)\n",
      "File \u001b[0;32m/work/FAC/FBM/DBC/cdessim2/default/dmoi/miniconda3/envs/ML2/lib/python3.10/site-packages/rdflib/graph.py:1186\u001b[0m, in \u001b[0;36mGraph.serialize\u001b[0;34m(self, destination, format, base, encoding, **args)\u001b[0m\n\u001b[1;32m   1184\u001b[0m stream \u001b[38;5;241m=\u001b[39m BytesIO()\n\u001b[1;32m   1185\u001b[0m \u001b[38;5;28;01mif\u001b[39;00m encoding \u001b[38;5;129;01mis\u001b[39;00m \u001b[38;5;28;01mNone\u001b[39;00m:\n\u001b[0;32m-> 1186\u001b[0m     \u001b[43mserializer\u001b[49m\u001b[38;5;241;43m.\u001b[39;49m\u001b[43mserialize\u001b[49m\u001b[43m(\u001b[49m\u001b[43mstream\u001b[49m\u001b[43m,\u001b[49m\u001b[43m \u001b[49m\u001b[43mbase\u001b[49m\u001b[38;5;241;43m=\u001b[39;49m\u001b[43mbase\u001b[49m\u001b[43m,\u001b[49m\u001b[43m \u001b[49m\u001b[43mencoding\u001b[49m\u001b[38;5;241;43m=\u001b[39;49m\u001b[38;5;124;43m\"\u001b[39;49m\u001b[38;5;124;43mutf-8\u001b[39;49m\u001b[38;5;124;43m\"\u001b[39;49m\u001b[43m,\u001b[49m\u001b[43m \u001b[49m\u001b[38;5;241;43m*\u001b[39;49m\u001b[38;5;241;43m*\u001b[39;49m\u001b[43margs\u001b[49m\u001b[43m)\u001b[49m\n\u001b[1;32m   1187\u001b[0m     \u001b[38;5;28;01mreturn\u001b[39;00m stream\u001b[38;5;241m.\u001b[39mgetvalue()\u001b[38;5;241m.\u001b[39mdecode(\u001b[38;5;124m\"\u001b[39m\u001b[38;5;124mutf-8\u001b[39m\u001b[38;5;124m\"\u001b[39m)\n\u001b[1;32m   1188\u001b[0m \u001b[38;5;28;01melse\u001b[39;00m:\n",
      "File \u001b[0;32m/work/FAC/FBM/DBC/cdessim2/default/dmoi/miniconda3/envs/ML2/lib/python3.10/site-packages/rdflib/plugins/serializers/turtle.py:238\u001b[0m, in \u001b[0;36mTurtleSerializer.serialize\u001b[0;34m(self, stream, base, encoding, spacious, **args)\u001b[0m\n\u001b[1;32m    235\u001b[0m \u001b[38;5;28;01mif\u001b[39;00m spacious \u001b[38;5;129;01mis\u001b[39;00m \u001b[38;5;129;01mnot\u001b[39;00m \u001b[38;5;28;01mNone\u001b[39;00m:\n\u001b[1;32m    236\u001b[0m     \u001b[38;5;28mself\u001b[39m\u001b[38;5;241m.\u001b[39m_spacious \u001b[38;5;241m=\u001b[39m spacious\n\u001b[0;32m--> 238\u001b[0m \u001b[38;5;28;43mself\u001b[39;49m\u001b[38;5;241;43m.\u001b[39;49m\u001b[43mpreprocess\u001b[49m\u001b[43m(\u001b[49m\u001b[43m)\u001b[49m\n\u001b[1;32m    239\u001b[0m subjects_list \u001b[38;5;241m=\u001b[39m \u001b[38;5;28mself\u001b[39m\u001b[38;5;241m.\u001b[39morderSubjects()\n\u001b[1;32m    241\u001b[0m \u001b[38;5;28mself\u001b[39m\u001b[38;5;241m.\u001b[39mstartDocument()\n",
      "File \u001b[0;32m/work/FAC/FBM/DBC/cdessim2/default/dmoi/miniconda3/envs/ML2/lib/python3.10/site-packages/rdflib/plugins/serializers/turtle.py:102\u001b[0m, in \u001b[0;36mRecursiveSerializer.preprocess\u001b[0;34m(self)\u001b[0m\n\u001b[1;32m    100\u001b[0m \u001b[38;5;28;01mdef\u001b[39;00m \u001b[38;5;21mpreprocess\u001b[39m(\u001b[38;5;28mself\u001b[39m):\n\u001b[1;32m    101\u001b[0m     \u001b[38;5;28;01mfor\u001b[39;00m triple \u001b[38;5;129;01min\u001b[39;00m \u001b[38;5;28mself\u001b[39m\u001b[38;5;241m.\u001b[39mstore\u001b[38;5;241m.\u001b[39mtriples((\u001b[38;5;28;01mNone\u001b[39;00m, \u001b[38;5;28;01mNone\u001b[39;00m, \u001b[38;5;28;01mNone\u001b[39;00m)):\n\u001b[0;32m--> 102\u001b[0m         \u001b[38;5;28;43mself\u001b[39;49m\u001b[38;5;241;43m.\u001b[39;49m\u001b[43mpreprocessTriple\u001b[49m\u001b[43m(\u001b[49m\u001b[43mtriple\u001b[49m\u001b[43m)\u001b[49m\n",
      "File \u001b[0;32m/work/FAC/FBM/DBC/cdessim2/default/dmoi/miniconda3/envs/ML2/lib/python3.10/site-packages/rdflib/plugins/serializers/turtle.py:264\u001b[0m, in \u001b[0;36mTurtleSerializer.preprocessTriple\u001b[0;34m(self, triple)\u001b[0m\n\u001b[1;32m    262\u001b[0m     \u001b[38;5;28;01mcontinue\u001b[39;00m\n\u001b[1;32m    263\u001b[0m \u001b[38;5;66;03m# Don't use generated prefixes for subjects and objects\u001b[39;00m\n\u001b[0;32m--> 264\u001b[0m \u001b[38;5;28;43mself\u001b[39;49m\u001b[38;5;241;43m.\u001b[39;49m\u001b[43mgetQName\u001b[49m\u001b[43m(\u001b[49m\u001b[43mnode\u001b[49m\u001b[43m,\u001b[49m\u001b[43m \u001b[49m\u001b[43mgen_prefix\u001b[49m\u001b[38;5;241;43m=\u001b[39;49m\u001b[43m(\u001b[49m\u001b[43mi\u001b[49m\u001b[43m \u001b[49m\u001b[38;5;241;43m==\u001b[39;49m\u001b[43m \u001b[49m\u001b[43mVERB\u001b[49m\u001b[43m)\u001b[49m\u001b[43m)\u001b[49m\n\u001b[1;32m    265\u001b[0m \u001b[38;5;28;01mif\u001b[39;00m \u001b[38;5;28misinstance\u001b[39m(node, Literal) \u001b[38;5;129;01mand\u001b[39;00m node\u001b[38;5;241m.\u001b[39mdatatype:\n\u001b[1;32m    266\u001b[0m     \u001b[38;5;28mself\u001b[39m\u001b[38;5;241m.\u001b[39mgetQName(node\u001b[38;5;241m.\u001b[39mdatatype, gen_prefix\u001b[38;5;241m=\u001b[39m_GEN_QNAME_FOR_DT)\n",
      "File \u001b[0;32m/work/FAC/FBM/DBC/cdessim2/default/dmoi/miniconda3/envs/ML2/lib/python3.10/site-packages/rdflib/plugins/serializers/turtle.py:296\u001b[0m, in \u001b[0;36mTurtleSerializer.getQName\u001b[0;34m(self, uri, gen_prefix)\u001b[0m\n\u001b[1;32m    293\u001b[0m local \u001b[38;5;241m=\u001b[39m local\u001b[38;5;241m.\u001b[39mreplace(\u001b[38;5;124mr\u001b[39m\u001b[38;5;124m\"\u001b[39m\u001b[38;5;124m(\u001b[39m\u001b[38;5;124m\"\u001b[39m, \u001b[38;5;124mr\u001b[39m\u001b[38;5;124m\"\u001b[39m\u001b[38;5;124m\\\u001b[39m\u001b[38;5;124m(\u001b[39m\u001b[38;5;124m\"\u001b[39m)\u001b[38;5;241m.\u001b[39mreplace(\u001b[38;5;124mr\u001b[39m\u001b[38;5;124m\"\u001b[39m\u001b[38;5;124m)\u001b[39m\u001b[38;5;124m\"\u001b[39m, \u001b[38;5;124mr\u001b[39m\u001b[38;5;124m\"\u001b[39m\u001b[38;5;124m\\\u001b[39m\u001b[38;5;124m)\u001b[39m\u001b[38;5;124m\"\u001b[39m)\n\u001b[1;32m    295\u001b[0m \u001b[38;5;66;03m# QName cannot end with .\u001b[39;00m\n\u001b[0;32m--> 296\u001b[0m \u001b[38;5;28;01mif\u001b[39;00m \u001b[43mlocal\u001b[49m\u001b[38;5;241;43m.\u001b[39;49m\u001b[43mendswith\u001b[49m\u001b[43m(\u001b[49m\u001b[38;5;124;43m\"\u001b[39;49m\u001b[38;5;124;43m.\u001b[39;49m\u001b[38;5;124;43m\"\u001b[39;49m\u001b[43m)\u001b[49m:\n\u001b[1;32m    297\u001b[0m     \u001b[38;5;28;01mreturn\u001b[39;00m \u001b[38;5;28;01mNone\u001b[39;00m\n\u001b[1;32m    299\u001b[0m prefix \u001b[38;5;241m=\u001b[39m \u001b[38;5;28mself\u001b[39m\u001b[38;5;241m.\u001b[39maddNamespace(prefix, namespace)\n",
      "\u001b[0;31mKeyboardInterrupt\u001b[0m: "
     ]
    }
   ],
   "source": [
    "import addfrombloom\n",
    "pred = rdflib.term.URIRef('http://purl.org/lscr#xrefUniprot')\n",
    "interactions = []\n",
    "for i,spec in enumerate(prots_by_species):\n",
    "    stringids = [ s for prot in prots_by_species[spec] for s,p,o in orthograph.triples((None, pred , URIRef('http://purl.uniprot.org/uniprot/'+prot) )) ]\n",
    "    stringids = [ s.replace('https://string-db.org/network/' , '' ) for s in stringids ]\n",
    "    before = len(interactions)\n",
    "    if len(stringids ) > 2 :\n",
    "        interactions += addfrombloom.check_allvall( objects = stringids , urlstring = 'https://string-db.org/network/' , filters = filters )\n",
    "        if len(interactions)-before>0:\n",
    "            print('found {} interactions for species {}'.format(len(interactions)-before , spec))\n",
    "            print(len(subg))\n",
    "            for inter in interactions:\n",
    "                subg = subg.add( inter)\n",
    "            print(len(subg))\n",
    "            interactions = []\n",
    "    if i % 10 == 0 :\n",
    "        print('saving')\n",
    "        v = subg.serialize(format=\"ttl\")\n",
    "        with open('testgraph_'+str(i)+'.ttl', 'w') as graphout:\n",
    "            graphout.write(v)"
   ]
  },
  {
   "cell_type": "code",
   "execution_count": null,
   "metadata": {},
   "outputs": [],
   "source": [
    "#halelujah we have a graph with everything in it\n",
    "#serialize to turtle format\n",
    "v = subg.serialize(format=\"ttl\")\n",
    "with open('testgraph.ttl', 'w') as graphout:\n",
    "    graphout.write(v)"
   ]
  },
  {
   "cell_type": "code",
   "execution_count": 4,
   "metadata": {},
   "outputs": [
    {
     "name": "stdout",
     "output_type": "stream",
     "text": [
      "454722\n"
     ]
    }
   ],
   "source": [
    "import rdflib\n",
    "readg = rdflib.Graph()\n",
    "readg.parse('./testgraph_20.ttl')\n",
    "print(len(readg))\n",
    "#we can save the subgraphs in rdf..."
   ]
  },
  {
   "cell_type": "code",
   "execution_count": 22,
   "metadata": {},
   "outputs": [
    {
     "name": "stdout",
     "output_type": "stream",
     "text": [
      "ns4 36489 ns4 36489\n",
      "nadj: 14413.0\n",
      "ns4 36489 ns4 36489\n",
      "file:///work/FAC/FBM/DBC/cdessim2/default/dmoi/projects/RDF_Graphnet/rdf2network/protein1_para_protein 14413\n",
      "nadj: 33804.0\n",
      "ns4 36489 ns4 36489\n",
      "file:///work/FAC/FBM/DBC/cdessim2/default/dmoi/projects/RDF_Graphnet/rdf2network/protein1_orth_protein 33804\n",
      "ns4 36489 ns3 1073\n",
      "nadj: 55.0\n",
      "ns4 36489 ns3 1073\n",
      "file:///work/FAC/FBM/DBC/cdessim2/default/dmoi/projects/RDF_Graphnet/rdf2network/protein1_taxon 55\n",
      "nadj: 9342.0\n",
      "ns4 36489 ns3 1073\n",
      "file:///work/FAC/FBM/DBC/cdessim2/default/dmoi/projects/RDF_Graphnet/rdf2network/para_protein_taxon_para 9342\n",
      "nadj: 20703.0\n",
      "ns4 36489 ns3 1073\n",
      "file:///work/FAC/FBM/DBC/cdessim2/default/dmoi/projects/RDF_Graphnet/rdf2network/protein1_taxon_orth 20703\n",
      "nadj: 5917.0\n",
      "ns4 36489 ns3 1073\n",
      "file:///work/FAC/FBM/DBC/cdessim2/default/dmoi/projects/RDF_Graphnet/rdf2network/protein1_taxon_para 5917\n",
      "nadj: 27910.0\n",
      "ns4 36489 ns3 1073\n",
      "file:///work/FAC/FBM/DBC/cdessim2/default/dmoi/projects/RDF_Graphnet/rdf2network/orth_protein_taxon_orth 27910\n",
      "ns4 36489 ns5 43126\n",
      "nadj: 55.0\n",
      "ns4 36489 ns5 43126\n",
      "file:///work/FAC/FBM/DBC/cdessim2/default/dmoi/projects/RDF_Graphnet/rdf2network/protein1_protein1_uniprot 55\n",
      "nadj: 35473.0\n",
      "ns4 36489 ns5 43126\n",
      "file:///work/FAC/FBM/DBC/cdessim2/default/dmoi/projects/RDF_Graphnet/rdf2network/orth_protein_orth_protein_uniprot 35473\n",
      "nadj: 15379.0\n",
      "ns4 36489 ns5 43126\n",
      "file:///work/FAC/FBM/DBC/cdessim2/default/dmoi/projects/RDF_Graphnet/rdf2network/protein1_para_protein_uniprot 15379\n",
      "nadj: 36478.0\n",
      "ns4 36489 ns5 43126\n",
      "file:///work/FAC/FBM/DBC/cdessim2/default/dmoi/projects/RDF_Graphnet/rdf2network/protein1_orth_protein_uniprot 36478\n",
      "nadj: 11860.0\n",
      "ns4 36489 ns5 43126\n",
      "file:///work/FAC/FBM/DBC/cdessim2/default/dmoi/projects/RDF_Graphnet/rdf2network/para_protein_para_protein_uniprot 11860\n",
      "ns4 36489 ns6 5896\n",
      "ns3 1073 ns4 36489\n",
      "nadj: 27910.0\n",
      "ns3 1073 ns4 36489\n",
      "file:///work/FAC/FBM/DBC/cdessim2/default/dmoi/projects/RDF_Graphnet/rdf2network/taxon_orth_protein 27910\n",
      "nadj: 9342.0\n",
      "ns3 1073 ns4 36489\n",
      "file:///work/FAC/FBM/DBC/cdessim2/default/dmoi/projects/RDF_Graphnet/rdf2network/taxon_para_protein 9342\n",
      "ns3 1073 ns3 1073\n",
      "nadj: 468.0\n",
      "ns3 1073 ns3 1073\n",
      "file:///work/FAC/FBM/DBC/cdessim2/default/dmoi/projects/RDF_Graphnet/rdf2network/taxon_taxon_para 468\n",
      "nadj: 1064.0\n",
      "ns3 1073 ns3 1073\n",
      "file:///work/FAC/FBM/DBC/cdessim2/default/dmoi/projects/RDF_Graphnet/rdf2network/taxon_taxon_orth 1064\n",
      "ns3 1073 ns5 43126\n",
      "nadj: 33138.0\n",
      "ns3 1073 ns5 43126\n",
      "file:///work/FAC/FBM/DBC/cdessim2/default/dmoi/projects/RDF_Graphnet/rdf2network/taxon_orth_protein_uniprot 33138\n",
      "nadj: 10965.0\n",
      "ns3 1073 ns5 43126\n",
      "file:///work/FAC/FBM/DBC/cdessim2/default/dmoi/projects/RDF_Graphnet/rdf2network/taxon_para_protein_uniprot 10965\n",
      "ns3 1073 ns6 5896\n",
      "ns5 43126 ns4 36489\n",
      "nadj: 9739.0\n",
      "ns5 43126 ns4 36489\n",
      "file:///work/FAC/FBM/DBC/cdessim2/default/dmoi/projects/RDF_Graphnet/rdf2network/protein1_uniprot_para_protein 9739\n",
      "nadj: 28368.0\n",
      "ns5 43126 ns4 36489\n",
      "file:///work/FAC/FBM/DBC/cdessim2/default/dmoi/projects/RDF_Graphnet/rdf2network/protein1_uniprot_orth_protein 28368\n",
      "ns5 43126 ns3 1073\n",
      "nadj: 33275.0\n",
      "ns5 43126 ns3 1073\n",
      "file:///work/FAC/FBM/DBC/cdessim2/default/dmoi/projects/RDF_Graphnet/rdf2network/orth_protein_uniprot_taxon_orth 33275\n",
      "nadj: 4639.0\n",
      "ns5 43126 ns3 1073\n",
      "file:///work/FAC/FBM/DBC/cdessim2/default/dmoi/projects/RDF_Graphnet/rdf2network/protein1_uniprot_taxon_para 4639\n",
      "nadj: 51.0\n",
      "ns5 43126 ns3 1073\n",
      "file:///work/FAC/FBM/DBC/cdessim2/default/dmoi/projects/RDF_Graphnet/rdf2network/protein1_uniprot_taxon 51\n",
      "nadj: 19703.0\n",
      "ns5 43126 ns3 1073\n",
      "file:///work/FAC/FBM/DBC/cdessim2/default/dmoi/projects/RDF_Graphnet/rdf2network/protein1_uniprot_taxon_orth 19703\n",
      "nadj: 11010.0\n",
      "ns5 43126 ns3 1073\n",
      "file:///work/FAC/FBM/DBC/cdessim2/default/dmoi/projects/RDF_Graphnet/rdf2network/para_protein_uniprot_taxon_para 11010\n",
      "ns5 43126 ns5 43126\n",
      "nadj: 33694.0\n",
      "ns5 43126 ns5 43126\n",
      "file:///work/FAC/FBM/DBC/cdessim2/default/dmoi/projects/RDF_Graphnet/rdf2network/protein1_uniprot_orth_protein_uniprot 33694\n",
      "nadj: 11463.0\n",
      "ns5 43126 ns5 43126\n",
      "file:///work/FAC/FBM/DBC/cdessim2/default/dmoi/projects/RDF_Graphnet/rdf2network/protein1_uniprot_para_protein_uniprot 11463\n",
      "ns5 43126 ns6 5896\n",
      "ns6 5896 ns4 36489\n",
      "ns6 5896 ns3 1073\n",
      "ns6 5896 ns5 43126\n",
      "nadj: 5848.0\n",
      "ns6 5896 ns5 43126\n",
      "http://purl.org/lscr#xrefUniprot 5848\n",
      "ns6 5896 ns6 5896\n",
      "nadj: 97.0\n",
      "ns6 5896 ns6 5896\n",
      "https://string-db.org/rdf/highest-confidence-cutoff 97\n",
      "nadj: 1369.0\n",
      "ns6 5896 ns6 5896\n",
      "https://string-db.org/rdf/high-confidence-cutoff 1369\n",
      "nadj: 1021.0\n",
      "ns6 5896 ns6 5896\n",
      "https://string-db.org/rdf/any-confidence 1021\n",
      "nadj: 117.0\n",
      "ns6 5896 ns6 5896\n",
      "https://string-db.org/rdf/medium-confidence-cutoff 117\n",
      "HeteroData(\n",
      "  \u001b[1mns4\u001b[0m={ x=[334965, 1] },\n",
      "  \u001b[1mns3\u001b[0m={ x=[217024, 1] },\n",
      "  \u001b[1mns5\u001b[0m={ x=[346295, 1] },\n",
      "  \u001b[1mns6\u001b[0m={ x=[11108, 1] },\n",
      "  \u001b[1m(ns4, <file:///work/FAC/FBM/DBC/cdessim2/default/dmoi/projects/RDF_Graphnet/rdf2network/protein1_para_protein>, ns4)\u001b[0m={ edge_index=[2, 363777] },\n",
      "  \u001b[1m(ns4, <file:///work/FAC/FBM/DBC/cdessim2/default/dmoi/projects/RDF_Graphnet/rdf2network/protein1_orth_protein>, ns4)\u001b[0m={ edge_index=[2, 402573] },\n",
      "  \u001b[1m(ns4, <file:///work/FAC/FBM/DBC/cdessim2/default/dmoi/projects/RDF_Graphnet/rdf2network/protein1_taxon>, ns3)\u001b[0m={ edge_index=[2, 55] },\n",
      "  \u001b[1m(ns4, <file:///work/FAC/FBM/DBC/cdessim2/default/dmoi/projects/RDF_Graphnet/rdf2network/para_protein_taxon_para>, ns3)\u001b[0m={ edge_index=[2, 9342] },\n",
      "  \u001b[1m(ns4, <file:///work/FAC/FBM/DBC/cdessim2/default/dmoi/projects/RDF_Graphnet/rdf2network/protein1_taxon_orth>, ns3)\u001b[0m={ edge_index=[2, 20703] },\n",
      "  \u001b[1m(ns4, <file:///work/FAC/FBM/DBC/cdessim2/default/dmoi/projects/RDF_Graphnet/rdf2network/protein1_taxon_para>, ns3)\u001b[0m={ edge_index=[2, 5917] },\n",
      "  \u001b[1m(ns4, <file:///work/FAC/FBM/DBC/cdessim2/default/dmoi/projects/RDF_Graphnet/rdf2network/orth_protein_taxon_orth>, ns3)\u001b[0m={ edge_index=[2, 27910] },\n",
      "  \u001b[1m(ns4, <file:///work/FAC/FBM/DBC/cdessim2/default/dmoi/projects/RDF_Graphnet/rdf2network/protein1_protein1_uniprot>, ns5)\u001b[0m={ edge_index=[2, 55] },\n",
      "  \u001b[1m(ns4, <file:///work/FAC/FBM/DBC/cdessim2/default/dmoi/projects/RDF_Graphnet/rdf2network/orth_protein_orth_protein_uniprot>, ns5)\u001b[0m={ edge_index=[2, 35473] },\n",
      "  \u001b[1m(ns4, <file:///work/FAC/FBM/DBC/cdessim2/default/dmoi/projects/RDF_Graphnet/rdf2network/protein1_para_protein_uniprot>, ns5)\u001b[0m={ edge_index=[2, 15379] },\n",
      "  \u001b[1m(ns4, <file:///work/FAC/FBM/DBC/cdessim2/default/dmoi/projects/RDF_Graphnet/rdf2network/protein1_orth_protein_uniprot>, ns5)\u001b[0m={ edge_index=[2, 36478] },\n",
      "  \u001b[1m(ns4, <file:///work/FAC/FBM/DBC/cdessim2/default/dmoi/projects/RDF_Graphnet/rdf2network/para_protein_para_protein_uniprot>, ns5)\u001b[0m={ edge_index=[2, 11860] },\n",
      "  \u001b[1m(ns3, <file:///work/FAC/FBM/DBC/cdessim2/default/dmoi/projects/RDF_Graphnet/rdf2network/taxon_orth_protein>, ns4)\u001b[0m={ edge_index=[2, 27910] },\n",
      "  \u001b[1m(ns3, <file:///work/FAC/FBM/DBC/cdessim2/default/dmoi/projects/RDF_Graphnet/rdf2network/taxon_para_protein>, ns4)\u001b[0m={ edge_index=[2, 9342] },\n",
      "  \u001b[1m(ns3, <file:///work/FAC/FBM/DBC/cdessim2/default/dmoi/projects/RDF_Graphnet/rdf2network/taxon_taxon_para>, ns3)\u001b[0m={ edge_index=[2, 217959] },\n",
      "  \u001b[1m(ns3, <file:///work/FAC/FBM/DBC/cdessim2/default/dmoi/projects/RDF_Graphnet/rdf2network/taxon_taxon_orth>, ns3)\u001b[0m={ edge_index=[2, 219152] },\n",
      "  \u001b[1m(ns3, <file:///work/FAC/FBM/DBC/cdessim2/default/dmoi/projects/RDF_Graphnet/rdf2network/taxon_orth_protein_uniprot>, ns5)\u001b[0m={ edge_index=[2, 33138] },\n",
      "  \u001b[1m(ns3, <file:///work/FAC/FBM/DBC/cdessim2/default/dmoi/projects/RDF_Graphnet/rdf2network/taxon_para_protein_uniprot>, ns5)\u001b[0m={ edge_index=[2, 10965] },\n",
      "  \u001b[1m(ns5, <file:///work/FAC/FBM/DBC/cdessim2/default/dmoi/projects/RDF_Graphnet/rdf2network/protein1_uniprot_para_protein>, ns4)\u001b[0m={ edge_index=[2, 9739] },\n",
      "  \u001b[1m(ns5, <file:///work/FAC/FBM/DBC/cdessim2/default/dmoi/projects/RDF_Graphnet/rdf2network/protein1_uniprot_orth_protein>, ns4)\u001b[0m={ edge_index=[2, 28368] },\n",
      "  \u001b[1m(ns5, <file:///work/FAC/FBM/DBC/cdessim2/default/dmoi/projects/RDF_Graphnet/rdf2network/orth_protein_uniprot_taxon_orth>, ns3)\u001b[0m={ edge_index=[2, 33275] },\n",
      "  \u001b[1m(ns5, <file:///work/FAC/FBM/DBC/cdessim2/default/dmoi/projects/RDF_Graphnet/rdf2network/protein1_uniprot_taxon_para>, ns3)\u001b[0m={ edge_index=[2, 4639] },\n",
      "  \u001b[1m(ns5, <file:///work/FAC/FBM/DBC/cdessim2/default/dmoi/projects/RDF_Graphnet/rdf2network/protein1_uniprot_taxon>, ns3)\u001b[0m={ edge_index=[2, 51] },\n",
      "  \u001b[1m(ns5, <file:///work/FAC/FBM/DBC/cdessim2/default/dmoi/projects/RDF_Graphnet/rdf2network/protein1_uniprot_taxon_orth>, ns3)\u001b[0m={ edge_index=[2, 19703] },\n",
      "  \u001b[1m(ns5, <file:///work/FAC/FBM/DBC/cdessim2/default/dmoi/projects/RDF_Graphnet/rdf2network/para_protein_uniprot_taxon_para>, ns3)\u001b[0m={ edge_index=[2, 11010] },\n",
      "  \u001b[1m(ns5, <file:///work/FAC/FBM/DBC/cdessim2/default/dmoi/projects/RDF_Graphnet/rdf2network/protein1_uniprot_orth_protein_uniprot>, ns5)\u001b[0m={ edge_index=[2, 413683] },\n",
      "  \u001b[1m(ns5, <file:///work/FAC/FBM/DBC/cdessim2/default/dmoi/projects/RDF_Graphnet/rdf2network/protein1_uniprot_para_protein_uniprot>, ns5)\u001b[0m={ edge_index=[2, 369217] },\n",
      "  \u001b[1m(ns6, <http://purl.org/lscr#xrefUniprot>, ns5)\u001b[0m={ edge_index=[2, 5848] },\n",
      "  \u001b[1m(ns6, <https://string-db.org/rdf/highest-confidence-cutoff>, ns6)\u001b[0m={ edge_index=[2, 11252] },\n",
      "  \u001b[1m(ns6, <https://string-db.org/rdf/high-confidence-cutoff>, ns6)\u001b[0m={ edge_index=[2, 13792] },\n",
      "  \u001b[1m(ns6, <https://string-db.org/rdf/any-confidence>, ns6)\u001b[0m={ edge_index=[2, 13096] },\n",
      "  \u001b[1m(ns6, <https://string-db.org/rdf/medium-confidence-cutoff>, ns6)\u001b[0m={ edge_index=[2, 11288] },\n",
      "  \u001b[1m(ns3, rev_<file:///work/FAC/FBM/DBC/cdessim2/default/dmoi/projects/RDF_Graphnet/rdf2network/protein1_taxon>, ns4)\u001b[0m={ edge_index=[2, 55] },\n",
      "  \u001b[1m(ns3, rev_<file:///work/FAC/FBM/DBC/cdessim2/default/dmoi/projects/RDF_Graphnet/rdf2network/para_protein_taxon_para>, ns4)\u001b[0m={ edge_index=[2, 9342] },\n",
      "  \u001b[1m(ns3, rev_<file:///work/FAC/FBM/DBC/cdessim2/default/dmoi/projects/RDF_Graphnet/rdf2network/protein1_taxon_orth>, ns4)\u001b[0m={ edge_index=[2, 20703] },\n",
      "  \u001b[1m(ns3, rev_<file:///work/FAC/FBM/DBC/cdessim2/default/dmoi/projects/RDF_Graphnet/rdf2network/protein1_taxon_para>, ns4)\u001b[0m={ edge_index=[2, 5917] },\n",
      "  \u001b[1m(ns3, rev_<file:///work/FAC/FBM/DBC/cdessim2/default/dmoi/projects/RDF_Graphnet/rdf2network/orth_protein_taxon_orth>, ns4)\u001b[0m={ edge_index=[2, 27910] },\n",
      "  \u001b[1m(ns5, rev_<file:///work/FAC/FBM/DBC/cdessim2/default/dmoi/projects/RDF_Graphnet/rdf2network/protein1_protein1_uniprot>, ns4)\u001b[0m={ edge_index=[2, 55] },\n",
      "  \u001b[1m(ns5, rev_<file:///work/FAC/FBM/DBC/cdessim2/default/dmoi/projects/RDF_Graphnet/rdf2network/orth_protein_orth_protein_uniprot>, ns4)\u001b[0m={ edge_index=[2, 35473] },\n",
      "  \u001b[1m(ns5, rev_<file:///work/FAC/FBM/DBC/cdessim2/default/dmoi/projects/RDF_Graphnet/rdf2network/protein1_para_protein_uniprot>, ns4)\u001b[0m={ edge_index=[2, 15379] },\n",
      "  \u001b[1m(ns5, rev_<file:///work/FAC/FBM/DBC/cdessim2/default/dmoi/projects/RDF_Graphnet/rdf2network/protein1_orth_protein_uniprot>, ns4)\u001b[0m={ edge_index=[2, 36478] },\n",
      "  \u001b[1m(ns5, rev_<file:///work/FAC/FBM/DBC/cdessim2/default/dmoi/projects/RDF_Graphnet/rdf2network/para_protein_para_protein_uniprot>, ns4)\u001b[0m={ edge_index=[2, 11860] },\n",
      "  \u001b[1m(ns4, rev_<file:///work/FAC/FBM/DBC/cdessim2/default/dmoi/projects/RDF_Graphnet/rdf2network/taxon_orth_protein>, ns3)\u001b[0m={ edge_index=[2, 27910] },\n",
      "  \u001b[1m(ns4, rev_<file:///work/FAC/FBM/DBC/cdessim2/default/dmoi/projects/RDF_Graphnet/rdf2network/taxon_para_protein>, ns3)\u001b[0m={ edge_index=[2, 9342] },\n",
      "  \u001b[1m(ns5, rev_<file:///work/FAC/FBM/DBC/cdessim2/default/dmoi/projects/RDF_Graphnet/rdf2network/taxon_orth_protein_uniprot>, ns3)\u001b[0m={ edge_index=[2, 33138] },\n",
      "  \u001b[1m(ns5, rev_<file:///work/FAC/FBM/DBC/cdessim2/default/dmoi/projects/RDF_Graphnet/rdf2network/taxon_para_protein_uniprot>, ns3)\u001b[0m={ edge_index=[2, 10965] },\n",
      "  \u001b[1m(ns4, rev_<file:///work/FAC/FBM/DBC/cdessim2/default/dmoi/projects/RDF_Graphnet/rdf2network/protein1_uniprot_para_protein>, ns5)\u001b[0m={ edge_index=[2, 9739] },\n",
      "  \u001b[1m(ns4, rev_<file:///work/FAC/FBM/DBC/cdessim2/default/dmoi/projects/RDF_Graphnet/rdf2network/protein1_uniprot_orth_protein>, ns5)\u001b[0m={ edge_index=[2, 28368] },\n",
      "  \u001b[1m(ns3, rev_<file:///work/FAC/FBM/DBC/cdessim2/default/dmoi/projects/RDF_Graphnet/rdf2network/orth_protein_uniprot_taxon_orth>, ns5)\u001b[0m={ edge_index=[2, 33275] },\n",
      "  \u001b[1m(ns3, rev_<file:///work/FAC/FBM/DBC/cdessim2/default/dmoi/projects/RDF_Graphnet/rdf2network/protein1_uniprot_taxon_para>, ns5)\u001b[0m={ edge_index=[2, 4639] },\n",
      "  \u001b[1m(ns3, rev_<file:///work/FAC/FBM/DBC/cdessim2/default/dmoi/projects/RDF_Graphnet/rdf2network/protein1_uniprot_taxon>, ns5)\u001b[0m={ edge_index=[2, 51] },\n",
      "  \u001b[1m(ns3, rev_<file:///work/FAC/FBM/DBC/cdessim2/default/dmoi/projects/RDF_Graphnet/rdf2network/protein1_uniprot_taxon_orth>, ns5)\u001b[0m={ edge_index=[2, 19703] },\n",
      "  \u001b[1m(ns3, rev_<file:///work/FAC/FBM/DBC/cdessim2/default/dmoi/projects/RDF_Graphnet/rdf2network/para_protein_uniprot_taxon_para>, ns5)\u001b[0m={ edge_index=[2, 11010] },\n",
      "  \u001b[1m(ns5, rev_<http://purl.org/lscr#xrefUniprot>, ns6)\u001b[0m={ edge_index=[2, 5848] }\n",
      ") {'ns4': 1, 'ns3': 1, 'ns5': 1, 'ns6': 1} {('ns4', '<file:///work/FAC/FBM/DBC/cdessim2/default/dmoi/projects/RDF_Graphnet/rdf2network/protein1_para_protein>', 'ns4'): 1, ('ns4', 'rev_<file:///work/FAC/FBM/DBC/cdessim2/default/dmoi/projects/RDF_Graphnet/rdf2network/protein1_para_protein>', 'ns4'): 1, ('ns4', '<file:///work/FAC/FBM/DBC/cdessim2/default/dmoi/projects/RDF_Graphnet/rdf2network/protein1_orth_protein>', 'ns4'): 1, ('ns4', 'rev_<file:///work/FAC/FBM/DBC/cdessim2/default/dmoi/projects/RDF_Graphnet/rdf2network/protein1_orth_protein>', 'ns4'): 1, ('ns4', '<file:///work/FAC/FBM/DBC/cdessim2/default/dmoi/projects/RDF_Graphnet/rdf2network/protein1_taxon>', 'ns3'): 1, ('ns3', 'rev_<file:///work/FAC/FBM/DBC/cdessim2/default/dmoi/projects/RDF_Graphnet/rdf2network/protein1_taxon>', 'ns4'): 1, ('ns4', '<file:///work/FAC/FBM/DBC/cdessim2/default/dmoi/projects/RDF_Graphnet/rdf2network/para_protein_taxon_para>', 'ns3'): 1, ('ns3', 'rev_<file:///work/FAC/FBM/DBC/cdessim2/default/dmoi/projects/RDF_Graphnet/rdf2network/para_protein_taxon_para>', 'ns4'): 1, ('ns4', '<file:///work/FAC/FBM/DBC/cdessim2/default/dmoi/projects/RDF_Graphnet/rdf2network/protein1_taxon_orth>', 'ns3'): 1, ('ns3', 'rev_<file:///work/FAC/FBM/DBC/cdessim2/default/dmoi/projects/RDF_Graphnet/rdf2network/protein1_taxon_orth>', 'ns4'): 1, ('ns4', '<file:///work/FAC/FBM/DBC/cdessim2/default/dmoi/projects/RDF_Graphnet/rdf2network/protein1_taxon_para>', 'ns3'): 1, ('ns3', 'rev_<file:///work/FAC/FBM/DBC/cdessim2/default/dmoi/projects/RDF_Graphnet/rdf2network/protein1_taxon_para>', 'ns4'): 1, ('ns4', '<file:///work/FAC/FBM/DBC/cdessim2/default/dmoi/projects/RDF_Graphnet/rdf2network/orth_protein_taxon_orth>', 'ns3'): 1, ('ns3', 'rev_<file:///work/FAC/FBM/DBC/cdessim2/default/dmoi/projects/RDF_Graphnet/rdf2network/orth_protein_taxon_orth>', 'ns4'): 1, ('ns4', '<file:///work/FAC/FBM/DBC/cdessim2/default/dmoi/projects/RDF_Graphnet/rdf2network/protein1_protein1_uniprot>', 'ns5'): 1, ('ns5', 'rev_<file:///work/FAC/FBM/DBC/cdessim2/default/dmoi/projects/RDF_Graphnet/rdf2network/protein1_protein1_uniprot>', 'ns4'): 1, ('ns4', '<file:///work/FAC/FBM/DBC/cdessim2/default/dmoi/projects/RDF_Graphnet/rdf2network/orth_protein_orth_protein_uniprot>', 'ns5'): 1, ('ns5', 'rev_<file:///work/FAC/FBM/DBC/cdessim2/default/dmoi/projects/RDF_Graphnet/rdf2network/orth_protein_orth_protein_uniprot>', 'ns4'): 1, ('ns4', '<file:///work/FAC/FBM/DBC/cdessim2/default/dmoi/projects/RDF_Graphnet/rdf2network/protein1_para_protein_uniprot>', 'ns5'): 1, ('ns5', 'rev_<file:///work/FAC/FBM/DBC/cdessim2/default/dmoi/projects/RDF_Graphnet/rdf2network/protein1_para_protein_uniprot>', 'ns4'): 1, ('ns4', '<file:///work/FAC/FBM/DBC/cdessim2/default/dmoi/projects/RDF_Graphnet/rdf2network/protein1_orth_protein_uniprot>', 'ns5'): 1, ('ns5', 'rev_<file:///work/FAC/FBM/DBC/cdessim2/default/dmoi/projects/RDF_Graphnet/rdf2network/protein1_orth_protein_uniprot>', 'ns4'): 1, ('ns4', '<file:///work/FAC/FBM/DBC/cdessim2/default/dmoi/projects/RDF_Graphnet/rdf2network/para_protein_para_protein_uniprot>', 'ns5'): 1, ('ns5', 'rev_<file:///work/FAC/FBM/DBC/cdessim2/default/dmoi/projects/RDF_Graphnet/rdf2network/para_protein_para_protein_uniprot>', 'ns4'): 1, ('ns3', '<file:///work/FAC/FBM/DBC/cdessim2/default/dmoi/projects/RDF_Graphnet/rdf2network/taxon_orth_protein>', 'ns4'): 1, ('ns4', 'rev_<file:///work/FAC/FBM/DBC/cdessim2/default/dmoi/projects/RDF_Graphnet/rdf2network/taxon_orth_protein>', 'ns3'): 1, ('ns3', '<file:///work/FAC/FBM/DBC/cdessim2/default/dmoi/projects/RDF_Graphnet/rdf2network/taxon_para_protein>', 'ns4'): 1, ('ns4', 'rev_<file:///work/FAC/FBM/DBC/cdessim2/default/dmoi/projects/RDF_Graphnet/rdf2network/taxon_para_protein>', 'ns3'): 1, ('ns3', '<file:///work/FAC/FBM/DBC/cdessim2/default/dmoi/projects/RDF_Graphnet/rdf2network/taxon_taxon_para>', 'ns3'): 1, ('ns3', 'rev_<file:///work/FAC/FBM/DBC/cdessim2/default/dmoi/projects/RDF_Graphnet/rdf2network/taxon_taxon_para>', 'ns3'): 1, ('ns3', '<file:///work/FAC/FBM/DBC/cdessim2/default/dmoi/projects/RDF_Graphnet/rdf2network/taxon_taxon_orth>', 'ns3'): 1, ('ns3', 'rev_<file:///work/FAC/FBM/DBC/cdessim2/default/dmoi/projects/RDF_Graphnet/rdf2network/taxon_taxon_orth>', 'ns3'): 1, ('ns3', '<file:///work/FAC/FBM/DBC/cdessim2/default/dmoi/projects/RDF_Graphnet/rdf2network/taxon_orth_protein_uniprot>', 'ns5'): 1, ('ns5', 'rev_<file:///work/FAC/FBM/DBC/cdessim2/default/dmoi/projects/RDF_Graphnet/rdf2network/taxon_orth_protein_uniprot>', 'ns3'): 1, ('ns3', '<file:///work/FAC/FBM/DBC/cdessim2/default/dmoi/projects/RDF_Graphnet/rdf2network/taxon_para_protein_uniprot>', 'ns5'): 1, ('ns5', 'rev_<file:///work/FAC/FBM/DBC/cdessim2/default/dmoi/projects/RDF_Graphnet/rdf2network/taxon_para_protein_uniprot>', 'ns3'): 1, ('ns5', '<file:///work/FAC/FBM/DBC/cdessim2/default/dmoi/projects/RDF_Graphnet/rdf2network/protein1_uniprot_para_protein>', 'ns4'): 1, ('ns4', 'rev_<file:///work/FAC/FBM/DBC/cdessim2/default/dmoi/projects/RDF_Graphnet/rdf2network/protein1_uniprot_para_protein>', 'ns5'): 1, ('ns5', '<file:///work/FAC/FBM/DBC/cdessim2/default/dmoi/projects/RDF_Graphnet/rdf2network/protein1_uniprot_orth_protein>', 'ns4'): 1, ('ns4', 'rev_<file:///work/FAC/FBM/DBC/cdessim2/default/dmoi/projects/RDF_Graphnet/rdf2network/protein1_uniprot_orth_protein>', 'ns5'): 1, ('ns5', '<file:///work/FAC/FBM/DBC/cdessim2/default/dmoi/projects/RDF_Graphnet/rdf2network/orth_protein_uniprot_taxon_orth>', 'ns3'): 1, ('ns3', 'rev_<file:///work/FAC/FBM/DBC/cdessim2/default/dmoi/projects/RDF_Graphnet/rdf2network/orth_protein_uniprot_taxon_orth>', 'ns5'): 1, ('ns5', '<file:///work/FAC/FBM/DBC/cdessim2/default/dmoi/projects/RDF_Graphnet/rdf2network/protein1_uniprot_taxon_para>', 'ns3'): 1, ('ns3', 'rev_<file:///work/FAC/FBM/DBC/cdessim2/default/dmoi/projects/RDF_Graphnet/rdf2network/protein1_uniprot_taxon_para>', 'ns5'): 1, ('ns5', '<file:///work/FAC/FBM/DBC/cdessim2/default/dmoi/projects/RDF_Graphnet/rdf2network/protein1_uniprot_taxon>', 'ns3'): 1, ('ns3', 'rev_<file:///work/FAC/FBM/DBC/cdessim2/default/dmoi/projects/RDF_Graphnet/rdf2network/protein1_uniprot_taxon>', 'ns5'): 1, ('ns5', '<file:///work/FAC/FBM/DBC/cdessim2/default/dmoi/projects/RDF_Graphnet/rdf2network/protein1_uniprot_taxon_orth>', 'ns3'): 1, ('ns3', 'rev_<file:///work/FAC/FBM/DBC/cdessim2/default/dmoi/projects/RDF_Graphnet/rdf2network/protein1_uniprot_taxon_orth>', 'ns5'): 1, ('ns5', '<file:///work/FAC/FBM/DBC/cdessim2/default/dmoi/projects/RDF_Graphnet/rdf2network/para_protein_uniprot_taxon_para>', 'ns3'): 1, ('ns3', 'rev_<file:///work/FAC/FBM/DBC/cdessim2/default/dmoi/projects/RDF_Graphnet/rdf2network/para_protein_uniprot_taxon_para>', 'ns5'): 1, ('ns5', '<file:///work/FAC/FBM/DBC/cdessim2/default/dmoi/projects/RDF_Graphnet/rdf2network/protein1_uniprot_orth_protein_uniprot>', 'ns5'): 1, ('ns5', 'rev_<file:///work/FAC/FBM/DBC/cdessim2/default/dmoi/projects/RDF_Graphnet/rdf2network/protein1_uniprot_orth_protein_uniprot>', 'ns5'): 1, ('ns5', '<file:///work/FAC/FBM/DBC/cdessim2/default/dmoi/projects/RDF_Graphnet/rdf2network/protein1_uniprot_para_protein_uniprot>', 'ns5'): 1, ('ns5', 'rev_<file:///work/FAC/FBM/DBC/cdessim2/default/dmoi/projects/RDF_Graphnet/rdf2network/protein1_uniprot_para_protein_uniprot>', 'ns5'): 1, ('ns6', '<http://purl.org/lscr#xrefUniprot>', 'ns5'): 1, ('ns5', 'rev_<http://purl.org/lscr#xrefUniprot>', 'ns6'): 1, ('ns6', '<https://string-db.org/rdf/highest-confidence-cutoff>', 'ns6'): 1, ('ns6', 'rev_<https://string-db.org/rdf/highest-confidence-cutoff>', 'ns6'): 1, ('ns6', '<https://string-db.org/rdf/high-confidence-cutoff>', 'ns6'): 1, ('ns6', 'rev_<https://string-db.org/rdf/high-confidence-cutoff>', 'ns6'): 1, ('ns6', '<https://string-db.org/rdf/any-confidence>', 'ns6'): 1, ('ns6', 'rev_<https://string-db.org/rdf/any-confidence>', 'ns6'): 1, ('ns6', '<https://string-db.org/rdf/medium-confidence-cutoff>', 'ns6'): 1, ('ns6', 'rev_<https://string-db.org/rdf/medium-confidence-cutoff>', 'ns6'): 1}\n"
     ]
    }
   ],
   "source": [
    "# create a new heterodata object\n",
    "from rdflib import URIRef\n",
    "from torch_geometric.data import HeteroData , Data\n",
    "import torch_geometric.transforms as T\n",
    "import torch_geometric.utils \n",
    "from rdflib import RDF\n",
    "import numpy as np\n",
    "import itertools\n",
    "import scipy.sparse\n",
    "import torch\n",
    "\n",
    "def sparse2pairs(sparsemat, matrows = None):\n",
    "    '''\n",
    "    This functino takes a sparse matrix and returns a list of pairs of the non zero entries\n",
    "    args:\n",
    "        sparsemat: a sparse matrix\n",
    "        matrows: a list of the matrix rows to keep\n",
    "    Returns:    \n",
    "        a list of pairs of the non zero entries\n",
    "    '''\n",
    "    if matrows :\n",
    "        sparsemat = sparsemat[matrows,:]\n",
    "        sparsemat = sparsemat[:,matrows]\n",
    "    sparsemat = scipy.sparse.find(sparsemat)\n",
    "    return np.vstack([sparsemat[0],sparsemat[1]])\n",
    "\n",
    "def test_heterograph(rdf_graph , verbose = True):\n",
    "    data = HeteroData()\n",
    "    # assign edge types from the predicate\n",
    "    edge_types = set([p for s,p,o in rdf_graph])\n",
    "    edge_types = {e:i for i,e in enumerate(edge_types)}\n",
    "    uris = {}\n",
    "    subtypes = {}\n",
    "    for sub, pred, obj in rdf_graph:\n",
    "        for o in (sub,obj):\n",
    "            if isinstance(o, URIRef):\n",
    "                uri_type = rdf_graph.qname(o).split(\":\")[0]  # get the namespace prefix\n",
    "                if uri_type not in uris:\n",
    "                    uris[uri_type] = []\n",
    "                    subtypes[uri_type] = set([])\n",
    "                uris[uri_type].append(o)\n",
    "                subtypes[uri_type].add( ''.join(o.n3().split('/')[0:-1] )  )\n",
    "    \n",
    "    \n",
    "    allsubtypes = {}\n",
    "    inputdims = {}\n",
    "\n",
    "    for t in subtypes:\n",
    "        #compile the x data matrix for each subtype\n",
    "        subtype_dict = { ty:i for i,ty in enumerate(subtypes[t])}\n",
    "        allsubtypes[t] = subtype_dict\n",
    "        indices = [ subtype_dict[''.join(o.n3().split('/')[0:-1])] for o in uris[t] ]\n",
    "        x= np.zeros( (len(uris[t]), len(subtype_dict)))\n",
    "        inputdims[t] = len(subtype_dict)\n",
    "        x[:,indices] = 1\n",
    "        #for now this is 1hot for subtype\n",
    "        #add some more descriptive data here if you have it\n",
    "        data[t].x = torch.tensor(x , dtype=torch.float )\n",
    "    \n",
    "    node_index_by_type = { uritype : { n:i for i,n in enumerate( set(uris[uritype]) ) } for uritype in uris }\n",
    "    #todo add the diff types of uris within each namespace as 1hot encoded for x attribute of each node\n",
    "    \n",
    "    interactions = {}\n",
    "    for t1,t2 in itertools.product(node_index_by_type,node_index_by_type):\n",
    "            rows = node_index_by_type[t1]\n",
    "            columns = node_index_by_type[t2]\n",
    "            \n",
    "            if verbose == True:\n",
    "                print(t1,len(rows),t2, len(columns)) \n",
    "            for edge_type in edge_types:\n",
    "                \n",
    "                #add the number of input dimension for the rows here\n",
    "                #for now this is just the subtype 1 hot. theres prob a more elegant way to pass this info along or get it from the data obj\n",
    "                \n",
    "                # create a dictionary of nodes\n",
    "                triples =  [ (s,p,o) for s,p,o in rdf_graph.triples((None, edge_type, None))  if ( s in rows and o in columns )  ]\n",
    "                if len(triples)>0:\n",
    "\n",
    "                    interactions[(t1,edge_type.n3(),t2)] = len(allsubtypes[t1])\n",
    "                    interactions[(t2, 'rev_'+edge_type.n3(),t1)] = len(allsubtypes[t1])\n",
    "\n",
    "\n",
    "                    adj = scipy.sparse.lil_matrix((len(rows), len(columns)))\n",
    "                    for s,p,o in triples:\n",
    "                        adj[rows[s], columns[o]] = 1\n",
    "                    if verbose == True:\n",
    "                        print('nadj:', adj.sum())\n",
    "                        print( t1,len(node_index_by_type[t1]) ,t2, len(node_index_by_type[t2]))\n",
    "                        print( edge_type , len(triples) )\n",
    "                    if adj.sum() >0 :\n",
    "                        #between subgraphs\n",
    "                        data[ t1 , edge_type.n3() , t2 ].edge_index = torch.tensor( sparse2pairs(adj) ,  dtype=torch.long )\n",
    "                        if t1 == t2:\n",
    "                            #within a subgraph of the same namespace\n",
    "                            torch_geometric.utils.add_self_loops(data[ t1 , edge_type.n3() , t2 ].edge_index )\n",
    "    \n",
    "    data = T.ToUndirected()(data)\n",
    "    data = T.AddSelfLoops()(data)\n",
    "    return data , inputdims , interactions \n",
    "data , inputdims , interactions  = test_heterograph(readg)\n",
    "print(data , inputdims , interactions )"
   ]
  },
  {
   "cell_type": "code",
   "execution_count": 62,
   "metadata": {},
   "outputs": [],
   "source": [
    "#set the network prediction link type\n",
    "pred_s,pred_p,pred_o = ('ns6', '<https://string-db.org/rdf/any-confidence>', 'ns6')\n",
    "#final dim before the dot product\n"
   ]
  },
  {
   "cell_type": "code",
   "execution_count": 63,
   "metadata": {},
   "outputs": [
    {
     "name": "stdout",
     "output_type": "stream",
     "text": [
      "{('ns4', '<file:///work/FAC/FBM/DBC/cdessim2/default/dmoi/projects/RDF_Graphnet/rdf2network/protein1_para_protein>', 'ns4'): EdgeConv(), ('ns4', 'rev_<file:///work/FAC/FBM/DBC/cdessim2/default/dmoi/projects/RDF_Graphnet/rdf2network/protein1_para_protein>', 'ns4'): EdgeConv(), ('ns4', '<file:///work/FAC/FBM/DBC/cdessim2/default/dmoi/projects/RDF_Graphnet/rdf2network/protein1_orth_protein>', 'ns4'): EdgeConv(), ('ns4', 'rev_<file:///work/FAC/FBM/DBC/cdessim2/default/dmoi/projects/RDF_Graphnet/rdf2network/protein1_orth_protein>', 'ns4'): EdgeConv(), ('ns4', '<file:///work/FAC/FBM/DBC/cdessim2/default/dmoi/projects/RDF_Graphnet/rdf2network/protein1_taxon>', 'ns3'): EdgeConv(), ('ns3', 'rev_<file:///work/FAC/FBM/DBC/cdessim2/default/dmoi/projects/RDF_Graphnet/rdf2network/protein1_taxon>', 'ns4'): EdgeConv(), ('ns4', '<file:///work/FAC/FBM/DBC/cdessim2/default/dmoi/projects/RDF_Graphnet/rdf2network/para_protein_taxon_para>', 'ns3'): EdgeConv(), ('ns3', 'rev_<file:///work/FAC/FBM/DBC/cdessim2/default/dmoi/projects/RDF_Graphnet/rdf2network/para_protein_taxon_para>', 'ns4'): EdgeConv(), ('ns4', '<file:///work/FAC/FBM/DBC/cdessim2/default/dmoi/projects/RDF_Graphnet/rdf2network/protein1_taxon_orth>', 'ns3'): EdgeConv(), ('ns3', 'rev_<file:///work/FAC/FBM/DBC/cdessim2/default/dmoi/projects/RDF_Graphnet/rdf2network/protein1_taxon_orth>', 'ns4'): EdgeConv(), ('ns4', '<file:///work/FAC/FBM/DBC/cdessim2/default/dmoi/projects/RDF_Graphnet/rdf2network/protein1_taxon_para>', 'ns3'): EdgeConv(), ('ns3', 'rev_<file:///work/FAC/FBM/DBC/cdessim2/default/dmoi/projects/RDF_Graphnet/rdf2network/protein1_taxon_para>', 'ns4'): EdgeConv(), ('ns4', '<file:///work/FAC/FBM/DBC/cdessim2/default/dmoi/projects/RDF_Graphnet/rdf2network/orth_protein_taxon_orth>', 'ns3'): EdgeConv(), ('ns3', 'rev_<file:///work/FAC/FBM/DBC/cdessim2/default/dmoi/projects/RDF_Graphnet/rdf2network/orth_protein_taxon_orth>', 'ns4'): EdgeConv(), ('ns4', '<file:///work/FAC/FBM/DBC/cdessim2/default/dmoi/projects/RDF_Graphnet/rdf2network/protein1_protein1_uniprot>', 'ns5'): EdgeConv(), ('ns5', 'rev_<file:///work/FAC/FBM/DBC/cdessim2/default/dmoi/projects/RDF_Graphnet/rdf2network/protein1_protein1_uniprot>', 'ns4'): EdgeConv(), ('ns4', '<file:///work/FAC/FBM/DBC/cdessim2/default/dmoi/projects/RDF_Graphnet/rdf2network/orth_protein_orth_protein_uniprot>', 'ns5'): EdgeConv(), ('ns5', 'rev_<file:///work/FAC/FBM/DBC/cdessim2/default/dmoi/projects/RDF_Graphnet/rdf2network/orth_protein_orth_protein_uniprot>', 'ns4'): EdgeConv(), ('ns4', '<file:///work/FAC/FBM/DBC/cdessim2/default/dmoi/projects/RDF_Graphnet/rdf2network/protein1_para_protein_uniprot>', 'ns5'): EdgeConv(), ('ns5', 'rev_<file:///work/FAC/FBM/DBC/cdessim2/default/dmoi/projects/RDF_Graphnet/rdf2network/protein1_para_protein_uniprot>', 'ns4'): EdgeConv(), ('ns4', '<file:///work/FAC/FBM/DBC/cdessim2/default/dmoi/projects/RDF_Graphnet/rdf2network/protein1_orth_protein_uniprot>', 'ns5'): EdgeConv(), ('ns5', 'rev_<file:///work/FAC/FBM/DBC/cdessim2/default/dmoi/projects/RDF_Graphnet/rdf2network/protein1_orth_protein_uniprot>', 'ns4'): EdgeConv(), ('ns4', '<file:///work/FAC/FBM/DBC/cdessim2/default/dmoi/projects/RDF_Graphnet/rdf2network/para_protein_para_protein_uniprot>', 'ns5'): EdgeConv(), ('ns5', 'rev_<file:///work/FAC/FBM/DBC/cdessim2/default/dmoi/projects/RDF_Graphnet/rdf2network/para_protein_para_protein_uniprot>', 'ns4'): EdgeConv(), ('ns3', '<file:///work/FAC/FBM/DBC/cdessim2/default/dmoi/projects/RDF_Graphnet/rdf2network/taxon_orth_protein>', 'ns4'): EdgeConv(), ('ns4', 'rev_<file:///work/FAC/FBM/DBC/cdessim2/default/dmoi/projects/RDF_Graphnet/rdf2network/taxon_orth_protein>', 'ns3'): EdgeConv(), ('ns3', '<file:///work/FAC/FBM/DBC/cdessim2/default/dmoi/projects/RDF_Graphnet/rdf2network/taxon_para_protein>', 'ns4'): EdgeConv(), ('ns4', 'rev_<file:///work/FAC/FBM/DBC/cdessim2/default/dmoi/projects/RDF_Graphnet/rdf2network/taxon_para_protein>', 'ns3'): EdgeConv(), ('ns3', '<file:///work/FAC/FBM/DBC/cdessim2/default/dmoi/projects/RDF_Graphnet/rdf2network/taxon_taxon_para>', 'ns3'): EdgeConv(), ('ns3', 'rev_<file:///work/FAC/FBM/DBC/cdessim2/default/dmoi/projects/RDF_Graphnet/rdf2network/taxon_taxon_para>', 'ns3'): EdgeConv(), ('ns3', '<file:///work/FAC/FBM/DBC/cdessim2/default/dmoi/projects/RDF_Graphnet/rdf2network/taxon_taxon_orth>', 'ns3'): EdgeConv(), ('ns3', 'rev_<file:///work/FAC/FBM/DBC/cdessim2/default/dmoi/projects/RDF_Graphnet/rdf2network/taxon_taxon_orth>', 'ns3'): EdgeConv(), ('ns3', '<file:///work/FAC/FBM/DBC/cdessim2/default/dmoi/projects/RDF_Graphnet/rdf2network/taxon_orth_protein_uniprot>', 'ns5'): EdgeConv(), ('ns5', 'rev_<file:///work/FAC/FBM/DBC/cdessim2/default/dmoi/projects/RDF_Graphnet/rdf2network/taxon_orth_protein_uniprot>', 'ns3'): EdgeConv(), ('ns3', '<file:///work/FAC/FBM/DBC/cdessim2/default/dmoi/projects/RDF_Graphnet/rdf2network/taxon_para_protein_uniprot>', 'ns5'): EdgeConv(), ('ns5', 'rev_<file:///work/FAC/FBM/DBC/cdessim2/default/dmoi/projects/RDF_Graphnet/rdf2network/taxon_para_protein_uniprot>', 'ns3'): EdgeConv(), ('ns5', '<file:///work/FAC/FBM/DBC/cdessim2/default/dmoi/projects/RDF_Graphnet/rdf2network/protein1_uniprot_para_protein>', 'ns4'): EdgeConv(), ('ns4', 'rev_<file:///work/FAC/FBM/DBC/cdessim2/default/dmoi/projects/RDF_Graphnet/rdf2network/protein1_uniprot_para_protein>', 'ns5'): EdgeConv(), ('ns5', '<file:///work/FAC/FBM/DBC/cdessim2/default/dmoi/projects/RDF_Graphnet/rdf2network/protein1_uniprot_orth_protein>', 'ns4'): EdgeConv(), ('ns4', 'rev_<file:///work/FAC/FBM/DBC/cdessim2/default/dmoi/projects/RDF_Graphnet/rdf2network/protein1_uniprot_orth_protein>', 'ns5'): EdgeConv(), ('ns5', '<file:///work/FAC/FBM/DBC/cdessim2/default/dmoi/projects/RDF_Graphnet/rdf2network/orth_protein_uniprot_taxon_orth>', 'ns3'): EdgeConv(), ('ns3', 'rev_<file:///work/FAC/FBM/DBC/cdessim2/default/dmoi/projects/RDF_Graphnet/rdf2network/orth_protein_uniprot_taxon_orth>', 'ns5'): EdgeConv(), ('ns5', '<file:///work/FAC/FBM/DBC/cdessim2/default/dmoi/projects/RDF_Graphnet/rdf2network/protein1_uniprot_taxon_para>', 'ns3'): EdgeConv(), ('ns3', 'rev_<file:///work/FAC/FBM/DBC/cdessim2/default/dmoi/projects/RDF_Graphnet/rdf2network/protein1_uniprot_taxon_para>', 'ns5'): EdgeConv(), ('ns5', '<file:///work/FAC/FBM/DBC/cdessim2/default/dmoi/projects/RDF_Graphnet/rdf2network/protein1_uniprot_taxon>', 'ns3'): EdgeConv(), ('ns3', 'rev_<file:///work/FAC/FBM/DBC/cdessim2/default/dmoi/projects/RDF_Graphnet/rdf2network/protein1_uniprot_taxon>', 'ns5'): EdgeConv(), ('ns5', '<file:///work/FAC/FBM/DBC/cdessim2/default/dmoi/projects/RDF_Graphnet/rdf2network/protein1_uniprot_taxon_orth>', 'ns3'): EdgeConv(), ('ns3', 'rev_<file:///work/FAC/FBM/DBC/cdessim2/default/dmoi/projects/RDF_Graphnet/rdf2network/protein1_uniprot_taxon_orth>', 'ns5'): EdgeConv(), ('ns5', '<file:///work/FAC/FBM/DBC/cdessim2/default/dmoi/projects/RDF_Graphnet/rdf2network/para_protein_uniprot_taxon_para>', 'ns3'): EdgeConv(), ('ns3', 'rev_<file:///work/FAC/FBM/DBC/cdessim2/default/dmoi/projects/RDF_Graphnet/rdf2network/para_protein_uniprot_taxon_para>', 'ns5'): EdgeConv(), ('ns5', '<file:///work/FAC/FBM/DBC/cdessim2/default/dmoi/projects/RDF_Graphnet/rdf2network/protein1_uniprot_orth_protein_uniprot>', 'ns5'): EdgeConv(), ('ns5', 'rev_<file:///work/FAC/FBM/DBC/cdessim2/default/dmoi/projects/RDF_Graphnet/rdf2network/protein1_uniprot_orth_protein_uniprot>', 'ns5'): EdgeConv(), ('ns5', '<file:///work/FAC/FBM/DBC/cdessim2/default/dmoi/projects/RDF_Graphnet/rdf2network/protein1_uniprot_para_protein_uniprot>', 'ns5'): EdgeConv(), ('ns5', 'rev_<file:///work/FAC/FBM/DBC/cdessim2/default/dmoi/projects/RDF_Graphnet/rdf2network/protein1_uniprot_para_protein_uniprot>', 'ns5'): EdgeConv(), ('ns6', '<http://purl.org/lscr#xrefUniprot>', 'ns5'): EdgeConv(), ('ns5', 'rev_<http://purl.org/lscr#xrefUniprot>', 'ns6'): EdgeConv(), ('ns6', '<https://string-db.org/rdf/highest-confidence-cutoff>', 'ns6'): EdgeConv(), ('ns6', 'rev_<https://string-db.org/rdf/highest-confidence-cutoff>', 'ns6'): EdgeConv(), ('ns6', '<https://string-db.org/rdf/high-confidence-cutoff>', 'ns6'): EdgeConv(), ('ns6', 'rev_<https://string-db.org/rdf/high-confidence-cutoff>', 'ns6'): EdgeConv(), ('ns6', '<https://string-db.org/rdf/any-confidence>', 'ns6'): EdgeConv(), ('ns6', 'rev_<https://string-db.org/rdf/any-confidence>', 'ns6'): EdgeConv(), ('ns6', '<https://string-db.org/rdf/medium-confidence-cutoff>', 'ns6'): EdgeConv(), ('ns6', 'rev_<https://string-db.org/rdf/medium-confidence-cutoff>', 'ns6'): EdgeConv()}\n",
      "hidden units 100\n",
      "layer 0\n",
      "hidden units 100\n",
      "layer 1\n",
      "hidden units 100\n",
      "layer 2\n",
      "hidden units 100\n",
      "layer 3\n",
      "HeteroGCN_linkpred(\n",
      "  (convs): ModuleList(\n",
      "    (0): HeteroConv(num_relations=64)\n",
      "    (1): HeteroConv(num_relations=64)\n",
      "    (2): HeteroConv(num_relations=64)\n",
      "    (3): HeteroConv(num_relations=64)\n",
      "  )\n",
      "  (lins): ModuleDict(\n",
      "    (ns4): Linear(-1, 100, bias=True)\n",
      "    (ns3): Linear(-1, 100, bias=True)\n",
      "    (ns5): Linear(-1, 100, bias=True)\n",
      "    (ns6): Linear(-1, 100, bias=True)\n",
      "  )\n",
      "  (lins2): ModuleDict(\n",
      "    (ns4): Linear(-1, 50, bias=True)\n",
      "    (ns3): Linear(-1, 50, bias=True)\n",
      "    (ns5): Linear(-1, 50, bias=True)\n",
      "    (ns6): Linear(-1, 50, bias=True)\n",
      "  )\n",
      "  (classifier): Classifier()\n",
      ")\n"
     ]
    }
   ],
   "source": [
    "#get a model\n",
    "import buildmodel\n",
    "outputdims = { t : 50 for t in inputdims }\n",
    "model = buildmodel.HeteroGCN_linkpred( linkpred = (pred_s,pred_p,pred_o) , inpudims= inputdims, interactions = interactions , outputdims= outputdims , layers = [100,100,100 , 100] , tan_final = True)\n",
    "print(model)"
   ]
  },
  {
   "cell_type": "code",
   "execution_count": 64,
   "metadata": {},
   "outputs": [
    {
     "name": "stdout",
     "output_type": "stream",
     "text": [
      "Training data:\n",
      "==============\n",
      "HeteroData(\n",
      "  \u001b[1mns4\u001b[0m={ x=[334965, 1] },\n",
      "  \u001b[1mns3\u001b[0m={ x=[217024, 1] },\n",
      "  \u001b[1mns5\u001b[0m={ x=[346295, 1] },\n",
      "  \u001b[1mns6\u001b[0m={ x=[11108, 1] },\n",
      "  \u001b[1m(ns4, <file:///work/FAC/FBM/DBC/cdessim2/default/dmoi/projects/RDF_Graphnet/rdf2network/protein1_para_protein>, ns4)\u001b[0m={ edge_index=[2, 363777] },\n",
      "  \u001b[1m(ns4, <file:///work/FAC/FBM/DBC/cdessim2/default/dmoi/projects/RDF_Graphnet/rdf2network/protein1_orth_protein>, ns4)\u001b[0m={ edge_index=[2, 402573] },\n",
      "  \u001b[1m(ns4, <file:///work/FAC/FBM/DBC/cdessim2/default/dmoi/projects/RDF_Graphnet/rdf2network/protein1_taxon>, ns3)\u001b[0m={ edge_index=[2, 55] },\n",
      "  \u001b[1m(ns4, <file:///work/FAC/FBM/DBC/cdessim2/default/dmoi/projects/RDF_Graphnet/rdf2network/para_protein_taxon_para>, ns3)\u001b[0m={ edge_index=[2, 9342] },\n",
      "  \u001b[1m(ns4, <file:///work/FAC/FBM/DBC/cdessim2/default/dmoi/projects/RDF_Graphnet/rdf2network/protein1_taxon_orth>, ns3)\u001b[0m={ edge_index=[2, 20703] },\n",
      "  \u001b[1m(ns4, <file:///work/FAC/FBM/DBC/cdessim2/default/dmoi/projects/RDF_Graphnet/rdf2network/protein1_taxon_para>, ns3)\u001b[0m={ edge_index=[2, 5917] },\n",
      "  \u001b[1m(ns4, <file:///work/FAC/FBM/DBC/cdessim2/default/dmoi/projects/RDF_Graphnet/rdf2network/orth_protein_taxon_orth>, ns3)\u001b[0m={ edge_index=[2, 27910] },\n",
      "  \u001b[1m(ns4, <file:///work/FAC/FBM/DBC/cdessim2/default/dmoi/projects/RDF_Graphnet/rdf2network/protein1_protein1_uniprot>, ns5)\u001b[0m={ edge_index=[2, 55] },\n",
      "  \u001b[1m(ns4, <file:///work/FAC/FBM/DBC/cdessim2/default/dmoi/projects/RDF_Graphnet/rdf2network/orth_protein_orth_protein_uniprot>, ns5)\u001b[0m={ edge_index=[2, 35473] },\n",
      "  \u001b[1m(ns4, <file:///work/FAC/FBM/DBC/cdessim2/default/dmoi/projects/RDF_Graphnet/rdf2network/protein1_para_protein_uniprot>, ns5)\u001b[0m={ edge_index=[2, 15379] },\n",
      "  \u001b[1m(ns4, <file:///work/FAC/FBM/DBC/cdessim2/default/dmoi/projects/RDF_Graphnet/rdf2network/protein1_orth_protein_uniprot>, ns5)\u001b[0m={ edge_index=[2, 36478] },\n",
      "  \u001b[1m(ns4, <file:///work/FAC/FBM/DBC/cdessim2/default/dmoi/projects/RDF_Graphnet/rdf2network/para_protein_para_protein_uniprot>, ns5)\u001b[0m={ edge_index=[2, 11860] },\n",
      "  \u001b[1m(ns3, <file:///work/FAC/FBM/DBC/cdessim2/default/dmoi/projects/RDF_Graphnet/rdf2network/taxon_orth_protein>, ns4)\u001b[0m={ edge_index=[2, 27910] },\n",
      "  \u001b[1m(ns3, <file:///work/FAC/FBM/DBC/cdessim2/default/dmoi/projects/RDF_Graphnet/rdf2network/taxon_para_protein>, ns4)\u001b[0m={ edge_index=[2, 9342] },\n",
      "  \u001b[1m(ns3, <file:///work/FAC/FBM/DBC/cdessim2/default/dmoi/projects/RDF_Graphnet/rdf2network/taxon_taxon_para>, ns3)\u001b[0m={ edge_index=[2, 217959] },\n",
      "  \u001b[1m(ns3, <file:///work/FAC/FBM/DBC/cdessim2/default/dmoi/projects/RDF_Graphnet/rdf2network/taxon_taxon_orth>, ns3)\u001b[0m={ edge_index=[2, 219152] },\n",
      "  \u001b[1m(ns3, <file:///work/FAC/FBM/DBC/cdessim2/default/dmoi/projects/RDF_Graphnet/rdf2network/taxon_orth_protein_uniprot>, ns5)\u001b[0m={ edge_index=[2, 33138] },\n",
      "  \u001b[1m(ns3, <file:///work/FAC/FBM/DBC/cdessim2/default/dmoi/projects/RDF_Graphnet/rdf2network/taxon_para_protein_uniprot>, ns5)\u001b[0m={ edge_index=[2, 10965] },\n",
      "  \u001b[1m(ns5, <file:///work/FAC/FBM/DBC/cdessim2/default/dmoi/projects/RDF_Graphnet/rdf2network/protein1_uniprot_para_protein>, ns4)\u001b[0m={ edge_index=[2, 9739] },\n",
      "  \u001b[1m(ns5, <file:///work/FAC/FBM/DBC/cdessim2/default/dmoi/projects/RDF_Graphnet/rdf2network/protein1_uniprot_orth_protein>, ns4)\u001b[0m={ edge_index=[2, 28368] },\n",
      "  \u001b[1m(ns5, <file:///work/FAC/FBM/DBC/cdessim2/default/dmoi/projects/RDF_Graphnet/rdf2network/orth_protein_uniprot_taxon_orth>, ns3)\u001b[0m={ edge_index=[2, 33275] },\n",
      "  \u001b[1m(ns5, <file:///work/FAC/FBM/DBC/cdessim2/default/dmoi/projects/RDF_Graphnet/rdf2network/protein1_uniprot_taxon_para>, ns3)\u001b[0m={ edge_index=[2, 4639] },\n",
      "  \u001b[1m(ns5, <file:///work/FAC/FBM/DBC/cdessim2/default/dmoi/projects/RDF_Graphnet/rdf2network/protein1_uniprot_taxon>, ns3)\u001b[0m={ edge_index=[2, 51] },\n",
      "  \u001b[1m(ns5, <file:///work/FAC/FBM/DBC/cdessim2/default/dmoi/projects/RDF_Graphnet/rdf2network/protein1_uniprot_taxon_orth>, ns3)\u001b[0m={ edge_index=[2, 19703] },\n",
      "  \u001b[1m(ns5, <file:///work/FAC/FBM/DBC/cdessim2/default/dmoi/projects/RDF_Graphnet/rdf2network/para_protein_uniprot_taxon_para>, ns3)\u001b[0m={ edge_index=[2, 11010] },\n",
      "  \u001b[1m(ns5, <file:///work/FAC/FBM/DBC/cdessim2/default/dmoi/projects/RDF_Graphnet/rdf2network/protein1_uniprot_orth_protein_uniprot>, ns5)\u001b[0m={ edge_index=[2, 413683] },\n",
      "  \u001b[1m(ns5, <file:///work/FAC/FBM/DBC/cdessim2/default/dmoi/projects/RDF_Graphnet/rdf2network/protein1_uniprot_para_protein_uniprot>, ns5)\u001b[0m={ edge_index=[2, 369217] },\n",
      "  \u001b[1m(ns6, <http://purl.org/lscr#xrefUniprot>, ns5)\u001b[0m={ edge_index=[2, 5848] },\n",
      "  \u001b[1m(ns6, <https://string-db.org/rdf/highest-confidence-cutoff>, ns6)\u001b[0m={ edge_index=[2, 11252] },\n",
      "  \u001b[1m(ns6, <https://string-db.org/rdf/high-confidence-cutoff>, ns6)\u001b[0m={ edge_index=[2, 13792] },\n",
      "  \u001b[1m(ns6, <https://string-db.org/rdf/any-confidence>, ns6)\u001b[0m={\n",
      "    edge_index=[2, 7335],\n",
      "    edge_label=[9429],\n",
      "    edge_label_index=[2, 9429]\n",
      "  },\n",
      "  \u001b[1m(ns6, <https://string-db.org/rdf/medium-confidence-cutoff>, ns6)\u001b[0m={ edge_index=[2, 11288] },\n",
      "  \u001b[1m(ns3, rev_<file:///work/FAC/FBM/DBC/cdessim2/default/dmoi/projects/RDF_Graphnet/rdf2network/protein1_taxon>, ns4)\u001b[0m={ edge_index=[2, 55] },\n",
      "  \u001b[1m(ns3, rev_<file:///work/FAC/FBM/DBC/cdessim2/default/dmoi/projects/RDF_Graphnet/rdf2network/para_protein_taxon_para>, ns4)\u001b[0m={ edge_index=[2, 9342] },\n",
      "  \u001b[1m(ns3, rev_<file:///work/FAC/FBM/DBC/cdessim2/default/dmoi/projects/RDF_Graphnet/rdf2network/protein1_taxon_orth>, ns4)\u001b[0m={ edge_index=[2, 20703] },\n",
      "  \u001b[1m(ns3, rev_<file:///work/FAC/FBM/DBC/cdessim2/default/dmoi/projects/RDF_Graphnet/rdf2network/protein1_taxon_para>, ns4)\u001b[0m={ edge_index=[2, 5917] },\n",
      "  \u001b[1m(ns3, rev_<file:///work/FAC/FBM/DBC/cdessim2/default/dmoi/projects/RDF_Graphnet/rdf2network/orth_protein_taxon_orth>, ns4)\u001b[0m={ edge_index=[2, 27910] },\n",
      "  \u001b[1m(ns5, rev_<file:///work/FAC/FBM/DBC/cdessim2/default/dmoi/projects/RDF_Graphnet/rdf2network/protein1_protein1_uniprot>, ns4)\u001b[0m={ edge_index=[2, 55] },\n",
      "  \u001b[1m(ns5, rev_<file:///work/FAC/FBM/DBC/cdessim2/default/dmoi/projects/RDF_Graphnet/rdf2network/orth_protein_orth_protein_uniprot>, ns4)\u001b[0m={ edge_index=[2, 35473] },\n",
      "  \u001b[1m(ns5, rev_<file:///work/FAC/FBM/DBC/cdessim2/default/dmoi/projects/RDF_Graphnet/rdf2network/protein1_para_protein_uniprot>, ns4)\u001b[0m={ edge_index=[2, 15379] },\n",
      "  \u001b[1m(ns5, rev_<file:///work/FAC/FBM/DBC/cdessim2/default/dmoi/projects/RDF_Graphnet/rdf2network/protein1_orth_protein_uniprot>, ns4)\u001b[0m={ edge_index=[2, 36478] },\n",
      "  \u001b[1m(ns5, rev_<file:///work/FAC/FBM/DBC/cdessim2/default/dmoi/projects/RDF_Graphnet/rdf2network/para_protein_para_protein_uniprot>, ns4)\u001b[0m={ edge_index=[2, 11860] },\n",
      "  \u001b[1m(ns4, rev_<file:///work/FAC/FBM/DBC/cdessim2/default/dmoi/projects/RDF_Graphnet/rdf2network/taxon_orth_protein>, ns3)\u001b[0m={ edge_index=[2, 27910] },\n",
      "  \u001b[1m(ns4, rev_<file:///work/FAC/FBM/DBC/cdessim2/default/dmoi/projects/RDF_Graphnet/rdf2network/taxon_para_protein>, ns3)\u001b[0m={ edge_index=[2, 9342] },\n",
      "  \u001b[1m(ns5, rev_<file:///work/FAC/FBM/DBC/cdessim2/default/dmoi/projects/RDF_Graphnet/rdf2network/taxon_orth_protein_uniprot>, ns3)\u001b[0m={ edge_index=[2, 33138] },\n",
      "  \u001b[1m(ns5, rev_<file:///work/FAC/FBM/DBC/cdessim2/default/dmoi/projects/RDF_Graphnet/rdf2network/taxon_para_protein_uniprot>, ns3)\u001b[0m={ edge_index=[2, 10965] },\n",
      "  \u001b[1m(ns4, rev_<file:///work/FAC/FBM/DBC/cdessim2/default/dmoi/projects/RDF_Graphnet/rdf2network/protein1_uniprot_para_protein>, ns5)\u001b[0m={ edge_index=[2, 9739] },\n",
      "  \u001b[1m(ns4, rev_<file:///work/FAC/FBM/DBC/cdessim2/default/dmoi/projects/RDF_Graphnet/rdf2network/protein1_uniprot_orth_protein>, ns5)\u001b[0m={ edge_index=[2, 28368] },\n",
      "  \u001b[1m(ns3, rev_<file:///work/FAC/FBM/DBC/cdessim2/default/dmoi/projects/RDF_Graphnet/rdf2network/orth_protein_uniprot_taxon_orth>, ns5)\u001b[0m={ edge_index=[2, 33275] },\n",
      "  \u001b[1m(ns3, rev_<file:///work/FAC/FBM/DBC/cdessim2/default/dmoi/projects/RDF_Graphnet/rdf2network/protein1_uniprot_taxon_para>, ns5)\u001b[0m={ edge_index=[2, 4639] },\n",
      "  \u001b[1m(ns3, rev_<file:///work/FAC/FBM/DBC/cdessim2/default/dmoi/projects/RDF_Graphnet/rdf2network/protein1_uniprot_taxon>, ns5)\u001b[0m={ edge_index=[2, 51] },\n",
      "  \u001b[1m(ns3, rev_<file:///work/FAC/FBM/DBC/cdessim2/default/dmoi/projects/RDF_Graphnet/rdf2network/protein1_uniprot_taxon_orth>, ns5)\u001b[0m={ edge_index=[2, 19703] },\n",
      "  \u001b[1m(ns3, rev_<file:///work/FAC/FBM/DBC/cdessim2/default/dmoi/projects/RDF_Graphnet/rdf2network/para_protein_uniprot_taxon_para>, ns5)\u001b[0m={ edge_index=[2, 11010] },\n",
      "  \u001b[1m(ns5, rev_<http://purl.org/lscr#xrefUniprot>, ns6)\u001b[0m={ edge_index=[2, 5848] }\n",
      ")\n",
      "\n",
      "Validation data:\n",
      "================\n",
      "HeteroData(\n",
      "  \u001b[1mns4\u001b[0m={ x=[334965, 1] },\n",
      "  \u001b[1mns3\u001b[0m={ x=[217024, 1] },\n",
      "  \u001b[1mns5\u001b[0m={ x=[346295, 1] },\n",
      "  \u001b[1mns6\u001b[0m={ x=[11108, 1] },\n",
      "  \u001b[1m(ns4, <file:///work/FAC/FBM/DBC/cdessim2/default/dmoi/projects/RDF_Graphnet/rdf2network/protein1_para_protein>, ns4)\u001b[0m={ edge_index=[2, 363777] },\n",
      "  \u001b[1m(ns4, <file:///work/FAC/FBM/DBC/cdessim2/default/dmoi/projects/RDF_Graphnet/rdf2network/protein1_orth_protein>, ns4)\u001b[0m={ edge_index=[2, 402573] },\n",
      "  \u001b[1m(ns4, <file:///work/FAC/FBM/DBC/cdessim2/default/dmoi/projects/RDF_Graphnet/rdf2network/protein1_taxon>, ns3)\u001b[0m={ edge_index=[2, 55] },\n",
      "  \u001b[1m(ns4, <file:///work/FAC/FBM/DBC/cdessim2/default/dmoi/projects/RDF_Graphnet/rdf2network/para_protein_taxon_para>, ns3)\u001b[0m={ edge_index=[2, 9342] },\n",
      "  \u001b[1m(ns4, <file:///work/FAC/FBM/DBC/cdessim2/default/dmoi/projects/RDF_Graphnet/rdf2network/protein1_taxon_orth>, ns3)\u001b[0m={ edge_index=[2, 20703] },\n",
      "  \u001b[1m(ns4, <file:///work/FAC/FBM/DBC/cdessim2/default/dmoi/projects/RDF_Graphnet/rdf2network/protein1_taxon_para>, ns3)\u001b[0m={ edge_index=[2, 5917] },\n",
      "  \u001b[1m(ns4, <file:///work/FAC/FBM/DBC/cdessim2/default/dmoi/projects/RDF_Graphnet/rdf2network/orth_protein_taxon_orth>, ns3)\u001b[0m={ edge_index=[2, 27910] },\n",
      "  \u001b[1m(ns4, <file:///work/FAC/FBM/DBC/cdessim2/default/dmoi/projects/RDF_Graphnet/rdf2network/protein1_protein1_uniprot>, ns5)\u001b[0m={ edge_index=[2, 55] },\n",
      "  \u001b[1m(ns4, <file:///work/FAC/FBM/DBC/cdessim2/default/dmoi/projects/RDF_Graphnet/rdf2network/orth_protein_orth_protein_uniprot>, ns5)\u001b[0m={ edge_index=[2, 35473] },\n",
      "  \u001b[1m(ns4, <file:///work/FAC/FBM/DBC/cdessim2/default/dmoi/projects/RDF_Graphnet/rdf2network/protein1_para_protein_uniprot>, ns5)\u001b[0m={ edge_index=[2, 15379] },\n",
      "  \u001b[1m(ns4, <file:///work/FAC/FBM/DBC/cdessim2/default/dmoi/projects/RDF_Graphnet/rdf2network/protein1_orth_protein_uniprot>, ns5)\u001b[0m={ edge_index=[2, 36478] },\n",
      "  \u001b[1m(ns4, <file:///work/FAC/FBM/DBC/cdessim2/default/dmoi/projects/RDF_Graphnet/rdf2network/para_protein_para_protein_uniprot>, ns5)\u001b[0m={ edge_index=[2, 11860] },\n",
      "  \u001b[1m(ns3, <file:///work/FAC/FBM/DBC/cdessim2/default/dmoi/projects/RDF_Graphnet/rdf2network/taxon_orth_protein>, ns4)\u001b[0m={ edge_index=[2, 27910] },\n",
      "  \u001b[1m(ns3, <file:///work/FAC/FBM/DBC/cdessim2/default/dmoi/projects/RDF_Graphnet/rdf2network/taxon_para_protein>, ns4)\u001b[0m={ edge_index=[2, 9342] },\n",
      "  \u001b[1m(ns3, <file:///work/FAC/FBM/DBC/cdessim2/default/dmoi/projects/RDF_Graphnet/rdf2network/taxon_taxon_para>, ns3)\u001b[0m={ edge_index=[2, 217959] },\n",
      "  \u001b[1m(ns3, <file:///work/FAC/FBM/DBC/cdessim2/default/dmoi/projects/RDF_Graphnet/rdf2network/taxon_taxon_orth>, ns3)\u001b[0m={ edge_index=[2, 219152] },\n",
      "  \u001b[1m(ns3, <file:///work/FAC/FBM/DBC/cdessim2/default/dmoi/projects/RDF_Graphnet/rdf2network/taxon_orth_protein_uniprot>, ns5)\u001b[0m={ edge_index=[2, 33138] },\n",
      "  \u001b[1m(ns3, <file:///work/FAC/FBM/DBC/cdessim2/default/dmoi/projects/RDF_Graphnet/rdf2network/taxon_para_protein_uniprot>, ns5)\u001b[0m={ edge_index=[2, 10965] },\n",
      "  \u001b[1m(ns5, <file:///work/FAC/FBM/DBC/cdessim2/default/dmoi/projects/RDF_Graphnet/rdf2network/protein1_uniprot_para_protein>, ns4)\u001b[0m={ edge_index=[2, 9739] },\n",
      "  \u001b[1m(ns5, <file:///work/FAC/FBM/DBC/cdessim2/default/dmoi/projects/RDF_Graphnet/rdf2network/protein1_uniprot_orth_protein>, ns4)\u001b[0m={ edge_index=[2, 28368] },\n",
      "  \u001b[1m(ns5, <file:///work/FAC/FBM/DBC/cdessim2/default/dmoi/projects/RDF_Graphnet/rdf2network/orth_protein_uniprot_taxon_orth>, ns3)\u001b[0m={ edge_index=[2, 33275] },\n",
      "  \u001b[1m(ns5, <file:///work/FAC/FBM/DBC/cdessim2/default/dmoi/projects/RDF_Graphnet/rdf2network/protein1_uniprot_taxon_para>, ns3)\u001b[0m={ edge_index=[2, 4639] },\n",
      "  \u001b[1m(ns5, <file:///work/FAC/FBM/DBC/cdessim2/default/dmoi/projects/RDF_Graphnet/rdf2network/protein1_uniprot_taxon>, ns3)\u001b[0m={ edge_index=[2, 51] },\n",
      "  \u001b[1m(ns5, <file:///work/FAC/FBM/DBC/cdessim2/default/dmoi/projects/RDF_Graphnet/rdf2network/protein1_uniprot_taxon_orth>, ns3)\u001b[0m={ edge_index=[2, 19703] },\n",
      "  \u001b[1m(ns5, <file:///work/FAC/FBM/DBC/cdessim2/default/dmoi/projects/RDF_Graphnet/rdf2network/para_protein_uniprot_taxon_para>, ns3)\u001b[0m={ edge_index=[2, 11010] },\n",
      "  \u001b[1m(ns5, <file:///work/FAC/FBM/DBC/cdessim2/default/dmoi/projects/RDF_Graphnet/rdf2network/protein1_uniprot_orth_protein_uniprot>, ns5)\u001b[0m={ edge_index=[2, 413683] },\n",
      "  \u001b[1m(ns5, <file:///work/FAC/FBM/DBC/cdessim2/default/dmoi/projects/RDF_Graphnet/rdf2network/protein1_uniprot_para_protein_uniprot>, ns5)\u001b[0m={ edge_index=[2, 369217] },\n",
      "  \u001b[1m(ns6, <http://purl.org/lscr#xrefUniprot>, ns5)\u001b[0m={ edge_index=[2, 5848] },\n",
      "  \u001b[1m(ns6, <https://string-db.org/rdf/highest-confidence-cutoff>, ns6)\u001b[0m={ edge_index=[2, 11252] },\n",
      "  \u001b[1m(ns6, <https://string-db.org/rdf/high-confidence-cutoff>, ns6)\u001b[0m={ edge_index=[2, 13792] },\n",
      "  \u001b[1m(ns6, <https://string-db.org/rdf/any-confidence>, ns6)\u001b[0m={\n",
      "    edge_index=[2, 10478],\n",
      "    edge_label=[3927],\n",
      "    edge_label_index=[2, 3927]\n",
      "  },\n",
      "  \u001b[1m(ns6, <https://string-db.org/rdf/medium-confidence-cutoff>, ns6)\u001b[0m={ edge_index=[2, 11288] },\n",
      "  \u001b[1m(ns3, rev_<file:///work/FAC/FBM/DBC/cdessim2/default/dmoi/projects/RDF_Graphnet/rdf2network/protein1_taxon>, ns4)\u001b[0m={ edge_index=[2, 55] },\n",
      "  \u001b[1m(ns3, rev_<file:///work/FAC/FBM/DBC/cdessim2/default/dmoi/projects/RDF_Graphnet/rdf2network/para_protein_taxon_para>, ns4)\u001b[0m={ edge_index=[2, 9342] },\n",
      "  \u001b[1m(ns3, rev_<file:///work/FAC/FBM/DBC/cdessim2/default/dmoi/projects/RDF_Graphnet/rdf2network/protein1_taxon_orth>, ns4)\u001b[0m={ edge_index=[2, 20703] },\n",
      "  \u001b[1m(ns3, rev_<file:///work/FAC/FBM/DBC/cdessim2/default/dmoi/projects/RDF_Graphnet/rdf2network/protein1_taxon_para>, ns4)\u001b[0m={ edge_index=[2, 5917] },\n",
      "  \u001b[1m(ns3, rev_<file:///work/FAC/FBM/DBC/cdessim2/default/dmoi/projects/RDF_Graphnet/rdf2network/orth_protein_taxon_orth>, ns4)\u001b[0m={ edge_index=[2, 27910] },\n",
      "  \u001b[1m(ns5, rev_<file:///work/FAC/FBM/DBC/cdessim2/default/dmoi/projects/RDF_Graphnet/rdf2network/protein1_protein1_uniprot>, ns4)\u001b[0m={ edge_index=[2, 55] },\n",
      "  \u001b[1m(ns5, rev_<file:///work/FAC/FBM/DBC/cdessim2/default/dmoi/projects/RDF_Graphnet/rdf2network/orth_protein_orth_protein_uniprot>, ns4)\u001b[0m={ edge_index=[2, 35473] },\n",
      "  \u001b[1m(ns5, rev_<file:///work/FAC/FBM/DBC/cdessim2/default/dmoi/projects/RDF_Graphnet/rdf2network/protein1_para_protein_uniprot>, ns4)\u001b[0m={ edge_index=[2, 15379] },\n",
      "  \u001b[1m(ns5, rev_<file:///work/FAC/FBM/DBC/cdessim2/default/dmoi/projects/RDF_Graphnet/rdf2network/protein1_orth_protein_uniprot>, ns4)\u001b[0m={ edge_index=[2, 36478] },\n",
      "  \u001b[1m(ns5, rev_<file:///work/FAC/FBM/DBC/cdessim2/default/dmoi/projects/RDF_Graphnet/rdf2network/para_protein_para_protein_uniprot>, ns4)\u001b[0m={ edge_index=[2, 11860] },\n",
      "  \u001b[1m(ns4, rev_<file:///work/FAC/FBM/DBC/cdessim2/default/dmoi/projects/RDF_Graphnet/rdf2network/taxon_orth_protein>, ns3)\u001b[0m={ edge_index=[2, 27910] },\n",
      "  \u001b[1m(ns4, rev_<file:///work/FAC/FBM/DBC/cdessim2/default/dmoi/projects/RDF_Graphnet/rdf2network/taxon_para_protein>, ns3)\u001b[0m={ edge_index=[2, 9342] },\n",
      "  \u001b[1m(ns5, rev_<file:///work/FAC/FBM/DBC/cdessim2/default/dmoi/projects/RDF_Graphnet/rdf2network/taxon_orth_protein_uniprot>, ns3)\u001b[0m={ edge_index=[2, 33138] },\n",
      "  \u001b[1m(ns5, rev_<file:///work/FAC/FBM/DBC/cdessim2/default/dmoi/projects/RDF_Graphnet/rdf2network/taxon_para_protein_uniprot>, ns3)\u001b[0m={ edge_index=[2, 10965] },\n",
      "  \u001b[1m(ns4, rev_<file:///work/FAC/FBM/DBC/cdessim2/default/dmoi/projects/RDF_Graphnet/rdf2network/protein1_uniprot_para_protein>, ns5)\u001b[0m={ edge_index=[2, 9739] },\n",
      "  \u001b[1m(ns4, rev_<file:///work/FAC/FBM/DBC/cdessim2/default/dmoi/projects/RDF_Graphnet/rdf2network/protein1_uniprot_orth_protein>, ns5)\u001b[0m={ edge_index=[2, 28368] },\n",
      "  \u001b[1m(ns3, rev_<file:///work/FAC/FBM/DBC/cdessim2/default/dmoi/projects/RDF_Graphnet/rdf2network/orth_protein_uniprot_taxon_orth>, ns5)\u001b[0m={ edge_index=[2, 33275] },\n",
      "  \u001b[1m(ns3, rev_<file:///work/FAC/FBM/DBC/cdessim2/default/dmoi/projects/RDF_Graphnet/rdf2network/protein1_uniprot_taxon_para>, ns5)\u001b[0m={ edge_index=[2, 4639] },\n",
      "  \u001b[1m(ns3, rev_<file:///work/FAC/FBM/DBC/cdessim2/default/dmoi/projects/RDF_Graphnet/rdf2network/protein1_uniprot_taxon>, ns5)\u001b[0m={ edge_index=[2, 51] },\n",
      "  \u001b[1m(ns3, rev_<file:///work/FAC/FBM/DBC/cdessim2/default/dmoi/projects/RDF_Graphnet/rdf2network/protein1_uniprot_taxon_orth>, ns5)\u001b[0m={ edge_index=[2, 19703] },\n",
      "  \u001b[1m(ns3, rev_<file:///work/FAC/FBM/DBC/cdessim2/default/dmoi/projects/RDF_Graphnet/rdf2network/para_protein_uniprot_taxon_para>, ns5)\u001b[0m={ edge_index=[2, 11010] },\n",
      "  \u001b[1m(ns5, rev_<http://purl.org/lscr#xrefUniprot>, ns6)\u001b[0m={ edge_index=[2, 5848] }\n",
      ")\n"
     ]
    }
   ],
   "source": [
    "#sample edges\n",
    "# For this, we first split the set of edges into\n",
    "# training (80%), validation (10%), and testing edges (10%).\n",
    "# Across the training edges, we use 70% of edges for message passing,\n",
    "# and 30% of edges for supervision.\n",
    "# We further want to generate fixed negative edges for evaluation with a ratio of 2:1.\n",
    "# Negative edges during training will be generated on-the-fly.\n",
    "# We can leverage the `RandomLinkSplit()` transform for this from PyG:\n",
    "#HERE the only EDGE TYPE you would use for split would be (\"protein\", \"interacts\", \"protein\")\n",
    "# although the graph would also contain (\"protein\", \"isOrtho\", \"protein\")\n",
    "# maybe also species as a link?? or should it be a node feature\n",
    "\n",
    "if pred_s == pred_o:\n",
    "    revpred = (pred_s,pred_p,pred_o)\n",
    "else:\n",
    "    revpred  = pred_o, 'rev_'+pred_p,pred_s\n",
    "\n",
    "transform = T.RandomLinkSplit(\n",
    "    num_val=0.1,  # percentage of VALIDATION\n",
    "    num_test=0.1,  # percentage of TESTING\n",
    "    disjoint_train_ratio=0.3,  # this somehow has to do with the 30% we need for supervision\n",
    "    neg_sampling_ratio=2,  # TODO\n",
    "    add_negative_train_samples=True,  # TODO\n",
    "    edge_types=(pred_s,pred_p,pred_o),\n",
    "    rev_edge_types=(pred_s,pred_p,pred_o), \n",
    ")\n",
    "\n",
    "train_data, val_data, test_data = transform(data)\n",
    "print(\"Training data:\")\n",
    "print(\"==============\")\n",
    "print(train_data)\n",
    "print()\n",
    "print(\"Validation data:\")\n",
    "print(\"================\")\n",
    "print(val_data)"
   ]
  },
  {
   "cell_type": "code",
   "execution_count": 65,
   "metadata": {},
   "outputs": [
    {
     "name": "stdout",
     "output_type": "stream",
     "text": [
      "Sampled mini-batch:\n",
      "===================\n",
      "HeteroData(\n",
      "  \u001b[1mns4\u001b[0m={ x=[14757, 1] },\n",
      "  \u001b[1mns3\u001b[0m={ x=[638, 1] },\n",
      "  \u001b[1mns5\u001b[0m={ x=[15593, 1] },\n",
      "  \u001b[1mns6\u001b[0m={ x=[4717, 1] },\n",
      "  \u001b[1m(ns4, <file:///work/FAC/FBM/DBC/cdessim2/default/dmoi/projects/RDF_Graphnet/rdf2network/protein1_para_protein>, ns4)\u001b[0m={ edge_index=[2, 7236] },\n",
      "  \u001b[1m(ns4, <file:///work/FAC/FBM/DBC/cdessim2/default/dmoi/projects/RDF_Graphnet/rdf2network/protein1_orth_protein>, ns4)\u001b[0m={ edge_index=[2, 3646] },\n",
      "  \u001b[1m(ns4, <file:///work/FAC/FBM/DBC/cdessim2/default/dmoi/projects/RDF_Graphnet/rdf2network/protein1_taxon>, ns3)\u001b[0m={ edge_index=[2, 20] },\n",
      "  \u001b[1m(ns4, <file:///work/FAC/FBM/DBC/cdessim2/default/dmoi/projects/RDF_Graphnet/rdf2network/para_protein_taxon_para>, ns3)\u001b[0m={ edge_index=[2, 6103] },\n",
      "  \u001b[1m(ns4, <file:///work/FAC/FBM/DBC/cdessim2/default/dmoi/projects/RDF_Graphnet/rdf2network/protein1_taxon_orth>, ns3)\u001b[0m={ edge_index=[2, 7190] },\n",
      "  \u001b[1m(ns4, <file:///work/FAC/FBM/DBC/cdessim2/default/dmoi/projects/RDF_Graphnet/rdf2network/protein1_taxon_para>, ns3)\u001b[0m={ edge_index=[2, 4577] },\n",
      "  \u001b[1m(ns4, <file:///work/FAC/FBM/DBC/cdessim2/default/dmoi/projects/RDF_Graphnet/rdf2network/orth_protein_taxon_orth>, ns3)\u001b[0m={ edge_index=[2, 7197] },\n",
      "  \u001b[1m(ns4, <file:///work/FAC/FBM/DBC/cdessim2/default/dmoi/projects/RDF_Graphnet/rdf2network/protein1_protein1_uniprot>, ns5)\u001b[0m={ edge_index=[2, 35] },\n",
      "  \u001b[1m(ns4, <file:///work/FAC/FBM/DBC/cdessim2/default/dmoi/projects/RDF_Graphnet/rdf2network/orth_protein_orth_protein_uniprot>, ns5)\u001b[0m={ edge_index=[2, 277] },\n",
      "  \u001b[1m(ns4, <file:///work/FAC/FBM/DBC/cdessim2/default/dmoi/projects/RDF_Graphnet/rdf2network/protein1_para_protein_uniprot>, ns5)\u001b[0m={ edge_index=[2, 3762] },\n",
      "  \u001b[1m(ns4, <file:///work/FAC/FBM/DBC/cdessim2/default/dmoi/projects/RDF_Graphnet/rdf2network/protein1_orth_protein_uniprot>, ns5)\u001b[0m={ edge_index=[2, 322] },\n",
      "  \u001b[1m(ns4, <file:///work/FAC/FBM/DBC/cdessim2/default/dmoi/projects/RDF_Graphnet/rdf2network/para_protein_para_protein_uniprot>, ns5)\u001b[0m={ edge_index=[2, 2851] },\n",
      "  \u001b[1m(ns3, <file:///work/FAC/FBM/DBC/cdessim2/default/dmoi/projects/RDF_Graphnet/rdf2network/taxon_orth_protein>, ns4)\u001b[0m={ edge_index=[2, 258] },\n",
      "  \u001b[1m(ns3, <file:///work/FAC/FBM/DBC/cdessim2/default/dmoi/projects/RDF_Graphnet/rdf2network/taxon_para_protein>, ns4)\u001b[0m={ edge_index=[2, 2614] },\n",
      "  \u001b[1m(ns3, <file:///work/FAC/FBM/DBC/cdessim2/default/dmoi/projects/RDF_Graphnet/rdf2network/taxon_taxon_para>, ns3)\u001b[0m={ edge_index=[2, 730] },\n",
      "  \u001b[1m(ns3, <file:///work/FAC/FBM/DBC/cdessim2/default/dmoi/projects/RDF_Graphnet/rdf2network/taxon_taxon_orth>, ns3)\u001b[0m={ edge_index=[2, 754] },\n",
      "  \u001b[1m(ns3, <file:///work/FAC/FBM/DBC/cdessim2/default/dmoi/projects/RDF_Graphnet/rdf2network/taxon_orth_protein_uniprot>, ns5)\u001b[0m={ edge_index=[2, 273] },\n",
      "  \u001b[1m(ns3, <file:///work/FAC/FBM/DBC/cdessim2/default/dmoi/projects/RDF_Graphnet/rdf2network/taxon_para_protein_uniprot>, ns5)\u001b[0m={ edge_index=[2, 2619] },\n",
      "  \u001b[1m(ns5, <file:///work/FAC/FBM/DBC/cdessim2/default/dmoi/projects/RDF_Graphnet/rdf2network/protein1_uniprot_para_protein>, ns4)\u001b[0m={ edge_index=[2, 2722] },\n",
      "  \u001b[1m(ns5, <file:///work/FAC/FBM/DBC/cdessim2/default/dmoi/projects/RDF_Graphnet/rdf2network/protein1_uniprot_orth_protein>, ns4)\u001b[0m={ edge_index=[2, 269] },\n",
      "  \u001b[1m(ns5, <file:///work/FAC/FBM/DBC/cdessim2/default/dmoi/projects/RDF_Graphnet/rdf2network/orth_protein_uniprot_taxon_orth>, ns3)\u001b[0m={ edge_index=[2, 7229] },\n",
      "  \u001b[1m(ns5, <file:///work/FAC/FBM/DBC/cdessim2/default/dmoi/projects/RDF_Graphnet/rdf2network/protein1_uniprot_taxon_para>, ns3)\u001b[0m={ edge_index=[2, 3606] },\n",
      "  \u001b[1m(ns5, <file:///work/FAC/FBM/DBC/cdessim2/default/dmoi/projects/RDF_Graphnet/rdf2network/protein1_uniprot_taxon>, ns3)\u001b[0m={ edge_index=[2, 20] },\n",
      "  \u001b[1m(ns5, <file:///work/FAC/FBM/DBC/cdessim2/default/dmoi/projects/RDF_Graphnet/rdf2network/protein1_uniprot_taxon_orth>, ns3)\u001b[0m={ edge_index=[2, 7156] },\n",
      "  \u001b[1m(ns5, <file:///work/FAC/FBM/DBC/cdessim2/default/dmoi/projects/RDF_Graphnet/rdf2network/para_protein_uniprot_taxon_para>, ns3)\u001b[0m={ edge_index=[2, 6233] },\n",
      "  \u001b[1m(ns5, <file:///work/FAC/FBM/DBC/cdessim2/default/dmoi/projects/RDF_Graphnet/rdf2network/protein1_uniprot_orth_protein_uniprot>, ns5)\u001b[0m={ edge_index=[2, 3546] },\n",
      "  \u001b[1m(ns5, <file:///work/FAC/FBM/DBC/cdessim2/default/dmoi/projects/RDF_Graphnet/rdf2network/protein1_uniprot_para_protein_uniprot>, ns5)\u001b[0m={ edge_index=[2, 5911] },\n",
      "  \u001b[1m(ns6, <http://purl.org/lscr#xrefUniprot>, ns5)\u001b[0m={ edge_index=[2, 2598] },\n",
      "  \u001b[1m(ns6, <https://string-db.org/rdf/highest-confidence-cutoff>, ns6)\u001b[0m={ edge_index=[2, 4840] },\n",
      "  \u001b[1m(ns6, <https://string-db.org/rdf/high-confidence-cutoff>, ns6)\u001b[0m={ edge_index=[2, 7372] },\n",
      "  \u001b[1m(ns6, <https://string-db.org/rdf/any-confidence>, ns6)\u001b[0m={\n",
      "    edge_index=[2, 3680],\n",
      "    edge_label=[3000],\n",
      "    edge_label_index=[2, 3000],\n",
      "    input_id=[1000]\n",
      "  },\n",
      "  \u001b[1m(ns6, <https://string-db.org/rdf/medium-confidence-cutoff>, ns6)\u001b[0m={ edge_index=[2, 4876] },\n",
      "  \u001b[1m(ns3, rev_<file:///work/FAC/FBM/DBC/cdessim2/default/dmoi/projects/RDF_Graphnet/rdf2network/protein1_taxon>, ns4)\u001b[0m={ edge_index=[2, 35] },\n",
      "  \u001b[1m(ns3, rev_<file:///work/FAC/FBM/DBC/cdessim2/default/dmoi/projects/RDF_Graphnet/rdf2network/para_protein_taxon_para>, ns4)\u001b[0m={ edge_index=[2, 2614] },\n",
      "  \u001b[1m(ns3, rev_<file:///work/FAC/FBM/DBC/cdessim2/default/dmoi/projects/RDF_Graphnet/rdf2network/protein1_taxon_orth>, ns4)\u001b[0m={ edge_index=[2, 700] },\n",
      "  \u001b[1m(ns3, rev_<file:///work/FAC/FBM/DBC/cdessim2/default/dmoi/projects/RDF_Graphnet/rdf2network/protein1_taxon_para>, ns4)\u001b[0m={ edge_index=[2, 580] },\n",
      "  \u001b[1m(ns3, rev_<file:///work/FAC/FBM/DBC/cdessim2/default/dmoi/projects/RDF_Graphnet/rdf2network/orth_protein_taxon_orth>, ns4)\u001b[0m={ edge_index=[2, 258] },\n",
      "  \u001b[1m(ns5, rev_<file:///work/FAC/FBM/DBC/cdessim2/default/dmoi/projects/RDF_Graphnet/rdf2network/protein1_protein1_uniprot>, ns4)\u001b[0m={ edge_index=[2, 35] },\n",
      "  \u001b[1m(ns5, rev_<file:///work/FAC/FBM/DBC/cdessim2/default/dmoi/projects/RDF_Graphnet/rdf2network/orth_protein_orth_protein_uniprot>, ns4)\u001b[0m={ edge_index=[2, 338] },\n",
      "  \u001b[1m(ns5, rev_<file:///work/FAC/FBM/DBC/cdessim2/default/dmoi/projects/RDF_Graphnet/rdf2network/protein1_para_protein_uniprot>, ns4)\u001b[0m={ edge_index=[2, 603] },\n",
      "  \u001b[1m(ns5, rev_<file:///work/FAC/FBM/DBC/cdessim2/default/dmoi/projects/RDF_Graphnet/rdf2network/protein1_orth_protein_uniprot>, ns4)\u001b[0m={ edge_index=[2, 700] },\n",
      "  \u001b[1m(ns5, rev_<file:///work/FAC/FBM/DBC/cdessim2/default/dmoi/projects/RDF_Graphnet/rdf2network/para_protein_para_protein_uniprot>, ns4)\u001b[0m={ edge_index=[2, 3430] },\n",
      "  \u001b[1m(ns4, rev_<file:///work/FAC/FBM/DBC/cdessim2/default/dmoi/projects/RDF_Graphnet/rdf2network/taxon_orth_protein>, ns3)\u001b[0m={ edge_index=[2, 20] },\n",
      "  \u001b[1m(ns4, rev_<file:///work/FAC/FBM/DBC/cdessim2/default/dmoi/projects/RDF_Graphnet/rdf2network/taxon_para_protein>, ns3)\u001b[0m={ edge_index=[2, 20] },\n",
      "  \u001b[1m(ns5, rev_<file:///work/FAC/FBM/DBC/cdessim2/default/dmoi/projects/RDF_Graphnet/rdf2network/taxon_orth_protein_uniprot>, ns3)\u001b[0m={ edge_index=[2, 20] },\n",
      "  \u001b[1m(ns5, rev_<file:///work/FAC/FBM/DBC/cdessim2/default/dmoi/projects/RDF_Graphnet/rdf2network/taxon_para_protein_uniprot>, ns3)\u001b[0m={ edge_index=[2, 20] },\n",
      "  \u001b[1m(ns4, rev_<file:///work/FAC/FBM/DBC/cdessim2/default/dmoi/projects/RDF_Graphnet/rdf2network/protein1_uniprot_para_protein>, ns5)\u001b[0m={ edge_index=[2, 504] },\n",
      "  \u001b[1m(ns4, rev_<file:///work/FAC/FBM/DBC/cdessim2/default/dmoi/projects/RDF_Graphnet/rdf2network/protein1_uniprot_orth_protein>, ns5)\u001b[0m={ edge_index=[2, 620] },\n",
      "  \u001b[1m(ns3, rev_<file:///work/FAC/FBM/DBC/cdessim2/default/dmoi/projects/RDF_Graphnet/rdf2network/orth_protein_uniprot_taxon_orth>, ns5)\u001b[0m={ edge_index=[2, 273] },\n",
      "  \u001b[1m(ns3, rev_<file:///work/FAC/FBM/DBC/cdessim2/default/dmoi/projects/RDF_Graphnet/rdf2network/protein1_uniprot_taxon_para>, ns5)\u001b[0m={ edge_index=[2, 500] },\n",
      "  \u001b[1m(ns3, rev_<file:///work/FAC/FBM/DBC/cdessim2/default/dmoi/projects/RDF_Graphnet/rdf2network/protein1_uniprot_taxon>, ns5)\u001b[0m={ edge_index=[2, 31] },\n",
      "  \u001b[1m(ns3, rev_<file:///work/FAC/FBM/DBC/cdessim2/default/dmoi/projects/RDF_Graphnet/rdf2network/protein1_uniprot_taxon_orth>, ns5)\u001b[0m={ edge_index=[2, 620] },\n",
      "  \u001b[1m(ns3, rev_<file:///work/FAC/FBM/DBC/cdessim2/default/dmoi/projects/RDF_Graphnet/rdf2network/para_protein_uniprot_taxon_para>, ns5)\u001b[0m={ edge_index=[2, 2619] },\n",
      "  \u001b[1m(ns5, rev_<http://purl.org/lscr#xrefUniprot>, ns6)\u001b[0m={ edge_index=[2, 2603] }\n",
      ")\n"
     ]
    }
   ],
   "source": [
    "# In the first hop, we sample at most 20 neighbors.\n",
    "# In the second hop, we sample at most 10 neighbors.\n",
    "# In addition, during training, we want to sample negative edges on-the-fly with\n",
    "# a ratio of 2:1.\n",
    "# We can make use of the `loader.LinkNeighborLoader` from PyG:\n",
    "from torch_geometric.loader import LinkNeighborLoader\n",
    "# Define seed edges:\n",
    "## HERE IS where you would basically train with both types of links, but then for testing you would only want to generate INTERACT\n",
    "edge_label_index = train_data[pred_s,pred_p,pred_o].edge_label_index\n",
    "edge_label = train_data[pred_s,pred_p,pred_o].edge_label\n",
    "\n",
    "train_loader = LinkNeighborLoader(\n",
    "    data=train_data,  # TODO\n",
    "    num_neighbors=[20, 20 , 20],  # TODO\n",
    "    edge_label_index=((pred_s,pred_p,pred_o), edge_label_index),\n",
    "    #edge_label=edge_label,\n",
    "    neg_sampling_ratio=2,  # TODO\n",
    "    batch_size=1000,\n",
    "    shuffle=True\n",
    ")\n",
    "\n",
    "\n",
    "# Inspect a sample:\n",
    "sampled_data = next(iter(train_loader))\n",
    "\n",
    "print(\"Sampled mini-batch:\")\n",
    "print(\"===================\")\n",
    "print(sampled_data)"
   ]
  },
  {
   "cell_type": "code",
   "execution_count": 66,
   "metadata": {},
   "outputs": [
    {
     "name": "stdout",
     "output_type": "stream",
     "text": [
      "Device: 'cuda'\n"
     ]
    },
    {
     "name": "stderr",
     "output_type": "stream",
     "text": [
      "  0%|          | 0/10 [00:00<?, ?it/s]/work/FAC/FBM/DBC/cdessim2/default/dmoi/miniconda3/envs/ML2/lib/python3.10/site-packages/torch/nn/functional.py:1956: UserWarning: nn.functional.tanh is deprecated. Use torch.tanh instead.\n",
      "  warnings.warn(\"nn.functional.tanh is deprecated. Use torch.tanh instead.\")\n",
      "100%|██████████| 10/10 [00:02<00:00,  4.43it/s]\n"
     ]
    },
    {
     "name": "stdout",
     "output_type": "stream",
     "text": [
      "Epoch: 001, Loss: 1.0127\n"
     ]
    },
    {
     "name": "stderr",
     "output_type": "stream",
     "text": [
      "100%|██████████| 10/10 [00:02<00:00,  4.51it/s]\n"
     ]
    },
    {
     "name": "stdout",
     "output_type": "stream",
     "text": [
      "Epoch: 002, Loss: 0.8011\n"
     ]
    },
    {
     "name": "stderr",
     "output_type": "stream",
     "text": [
      "100%|██████████| 10/10 [00:02<00:00,  4.53it/s]\n"
     ]
    },
    {
     "name": "stdout",
     "output_type": "stream",
     "text": [
      "Epoch: 003, Loss: 0.7399\n"
     ]
    },
    {
     "name": "stderr",
     "output_type": "stream",
     "text": [
      "100%|██████████| 10/10 [00:02<00:00,  4.51it/s]\n"
     ]
    },
    {
     "name": "stdout",
     "output_type": "stream",
     "text": [
      "Epoch: 004, Loss: 0.7168\n"
     ]
    },
    {
     "name": "stderr",
     "output_type": "stream",
     "text": [
      "100%|██████████| 10/10 [00:02<00:00,  4.52it/s]\n"
     ]
    },
    {
     "name": "stdout",
     "output_type": "stream",
     "text": [
      "Epoch: 005, Loss: 0.7028\n"
     ]
    },
    {
     "name": "stderr",
     "output_type": "stream",
     "text": [
      "100%|██████████| 10/10 [00:02<00:00,  4.53it/s]\n"
     ]
    },
    {
     "name": "stdout",
     "output_type": "stream",
     "text": [
      "Epoch: 006, Loss: 0.6964\n"
     ]
    },
    {
     "name": "stderr",
     "output_type": "stream",
     "text": [
      "100%|██████████| 10/10 [00:02<00:00,  4.52it/s]\n"
     ]
    },
    {
     "name": "stdout",
     "output_type": "stream",
     "text": [
      "Epoch: 007, Loss: 0.6872\n"
     ]
    },
    {
     "name": "stderr",
     "output_type": "stream",
     "text": [
      "100%|██████████| 10/10 [00:02<00:00,  4.52it/s]\n"
     ]
    },
    {
     "name": "stdout",
     "output_type": "stream",
     "text": [
      "Epoch: 008, Loss: 0.6816\n"
     ]
    },
    {
     "name": "stderr",
     "output_type": "stream",
     "text": [
      "100%|██████████| 10/10 [00:02<00:00,  4.53it/s]\n"
     ]
    },
    {
     "name": "stdout",
     "output_type": "stream",
     "text": [
      "Epoch: 009, Loss: 0.6768\n"
     ]
    },
    {
     "name": "stderr",
     "output_type": "stream",
     "text": [
      "100%|██████████| 10/10 [00:02<00:00,  4.53it/s]\n"
     ]
    },
    {
     "name": "stdout",
     "output_type": "stream",
     "text": [
      "Epoch: 010, Loss: 0.6774\n"
     ]
    },
    {
     "name": "stderr",
     "output_type": "stream",
     "text": [
      "100%|██████████| 10/10 [00:02<00:00,  4.53it/s]\n"
     ]
    },
    {
     "name": "stdout",
     "output_type": "stream",
     "text": [
      "Epoch: 011, Loss: 0.6729\n"
     ]
    },
    {
     "name": "stderr",
     "output_type": "stream",
     "text": [
      "100%|██████████| 10/10 [00:02<00:00,  4.51it/s]\n"
     ]
    },
    {
     "name": "stdout",
     "output_type": "stream",
     "text": [
      "Epoch: 012, Loss: 0.6690\n"
     ]
    },
    {
     "name": "stderr",
     "output_type": "stream",
     "text": [
      "100%|██████████| 10/10 [00:02<00:00,  4.54it/s]\n"
     ]
    },
    {
     "name": "stdout",
     "output_type": "stream",
     "text": [
      "Epoch: 013, Loss: 0.6679\n"
     ]
    },
    {
     "name": "stderr",
     "output_type": "stream",
     "text": [
      "100%|██████████| 10/10 [00:02<00:00,  4.53it/s]\n"
     ]
    },
    {
     "name": "stdout",
     "output_type": "stream",
     "text": [
      "Epoch: 014, Loss: 0.6657\n"
     ]
    },
    {
     "name": "stderr",
     "output_type": "stream",
     "text": [
      "100%|██████████| 10/10 [00:02<00:00,  4.51it/s]\n"
     ]
    },
    {
     "name": "stdout",
     "output_type": "stream",
     "text": [
      "Epoch: 015, Loss: 0.6649\n"
     ]
    },
    {
     "name": "stderr",
     "output_type": "stream",
     "text": [
      "100%|██████████| 10/10 [00:02<00:00,  4.52it/s]\n"
     ]
    },
    {
     "name": "stdout",
     "output_type": "stream",
     "text": [
      "Epoch: 016, Loss: 0.6624\n"
     ]
    },
    {
     "name": "stderr",
     "output_type": "stream",
     "text": [
      "100%|██████████| 10/10 [00:02<00:00,  4.52it/s]\n"
     ]
    },
    {
     "name": "stdout",
     "output_type": "stream",
     "text": [
      "Epoch: 017, Loss: 0.6621\n"
     ]
    },
    {
     "name": "stderr",
     "output_type": "stream",
     "text": [
      "100%|██████████| 10/10 [00:02<00:00,  4.54it/s]\n"
     ]
    },
    {
     "name": "stdout",
     "output_type": "stream",
     "text": [
      "Epoch: 018, Loss: 0.6621\n"
     ]
    },
    {
     "name": "stderr",
     "output_type": "stream",
     "text": [
      "100%|██████████| 10/10 [00:02<00:00,  4.51it/s]\n"
     ]
    },
    {
     "name": "stdout",
     "output_type": "stream",
     "text": [
      "Epoch: 019, Loss: 0.6605\n"
     ]
    },
    {
     "name": "stderr",
     "output_type": "stream",
     "text": [
      "100%|██████████| 10/10 [00:02<00:00,  4.51it/s]\n"
     ]
    },
    {
     "name": "stdout",
     "output_type": "stream",
     "text": [
      "Epoch: 020, Loss: 0.6615\n"
     ]
    },
    {
     "name": "stderr",
     "output_type": "stream",
     "text": [
      "100%|██████████| 10/10 [00:02<00:00,  4.49it/s]\n"
     ]
    },
    {
     "name": "stdout",
     "output_type": "stream",
     "text": [
      "Epoch: 021, Loss: 0.6595\n"
     ]
    },
    {
     "name": "stderr",
     "output_type": "stream",
     "text": [
      "100%|██████████| 10/10 [00:02<00:00,  4.52it/s]\n"
     ]
    },
    {
     "name": "stdout",
     "output_type": "stream",
     "text": [
      "Epoch: 022, Loss: 0.6589\n"
     ]
    },
    {
     "name": "stderr",
     "output_type": "stream",
     "text": [
      "100%|██████████| 10/10 [00:02<00:00,  4.54it/s]\n"
     ]
    },
    {
     "name": "stdout",
     "output_type": "stream",
     "text": [
      "Epoch: 023, Loss: 0.6585\n"
     ]
    },
    {
     "name": "stderr",
     "output_type": "stream",
     "text": [
      "100%|██████████| 10/10 [00:02<00:00,  4.53it/s]\n"
     ]
    },
    {
     "name": "stdout",
     "output_type": "stream",
     "text": [
      "Epoch: 024, Loss: 0.6594\n"
     ]
    },
    {
     "name": "stderr",
     "output_type": "stream",
     "text": [
      "100%|██████████| 10/10 [00:02<00:00,  4.50it/s]\n"
     ]
    },
    {
     "name": "stdout",
     "output_type": "stream",
     "text": [
      "Epoch: 025, Loss: 0.6568\n"
     ]
    },
    {
     "name": "stderr",
     "output_type": "stream",
     "text": [
      "100%|██████████| 10/10 [00:02<00:00,  4.47it/s]\n"
     ]
    },
    {
     "name": "stdout",
     "output_type": "stream",
     "text": [
      "Epoch: 026, Loss: 0.6555\n"
     ]
    },
    {
     "name": "stderr",
     "output_type": "stream",
     "text": [
      "100%|██████████| 10/10 [00:02<00:00,  4.51it/s]\n"
     ]
    },
    {
     "name": "stdout",
     "output_type": "stream",
     "text": [
      "Epoch: 027, Loss: 0.6563\n"
     ]
    },
    {
     "name": "stderr",
     "output_type": "stream",
     "text": [
      "100%|██████████| 10/10 [00:02<00:00,  4.49it/s]\n"
     ]
    },
    {
     "name": "stdout",
     "output_type": "stream",
     "text": [
      "Epoch: 028, Loss: 0.6573\n"
     ]
    },
    {
     "name": "stderr",
     "output_type": "stream",
     "text": [
      "100%|██████████| 10/10 [00:02<00:00,  4.53it/s]\n"
     ]
    },
    {
     "name": "stdout",
     "output_type": "stream",
     "text": [
      "Epoch: 029, Loss: 0.6541\n"
     ]
    },
    {
     "name": "stderr",
     "output_type": "stream",
     "text": [
      "100%|██████████| 10/10 [00:02<00:00,  4.49it/s]\n"
     ]
    },
    {
     "name": "stdout",
     "output_type": "stream",
     "text": [
      "Epoch: 030, Loss: 0.6573\n"
     ]
    },
    {
     "name": "stderr",
     "output_type": "stream",
     "text": [
      "100%|██████████| 10/10 [00:02<00:00,  4.54it/s]\n"
     ]
    },
    {
     "name": "stdout",
     "output_type": "stream",
     "text": [
      "Epoch: 031, Loss: 0.6541\n"
     ]
    },
    {
     "name": "stderr",
     "output_type": "stream",
     "text": [
      "100%|██████████| 10/10 [00:02<00:00,  4.52it/s]\n"
     ]
    },
    {
     "name": "stdout",
     "output_type": "stream",
     "text": [
      "Epoch: 032, Loss: 0.6539\n"
     ]
    },
    {
     "name": "stderr",
     "output_type": "stream",
     "text": [
      "100%|██████████| 10/10 [00:02<00:00,  4.48it/s]\n"
     ]
    },
    {
     "name": "stdout",
     "output_type": "stream",
     "text": [
      "Epoch: 033, Loss: 0.6564\n"
     ]
    },
    {
     "name": "stderr",
     "output_type": "stream",
     "text": [
      "100%|██████████| 10/10 [00:02<00:00,  4.52it/s]\n"
     ]
    },
    {
     "name": "stdout",
     "output_type": "stream",
     "text": [
      "Epoch: 034, Loss: 0.6508\n"
     ]
    },
    {
     "name": "stderr",
     "output_type": "stream",
     "text": [
      "100%|██████████| 10/10 [00:02<00:00,  4.52it/s]\n"
     ]
    },
    {
     "name": "stdout",
     "output_type": "stream",
     "text": [
      "Epoch: 035, Loss: 0.6544\n"
     ]
    },
    {
     "name": "stderr",
     "output_type": "stream",
     "text": [
      "100%|██████████| 10/10 [00:02<00:00,  4.53it/s]\n"
     ]
    },
    {
     "name": "stdout",
     "output_type": "stream",
     "text": [
      "Epoch: 036, Loss: 0.6519\n"
     ]
    },
    {
     "name": "stderr",
     "output_type": "stream",
     "text": [
      "100%|██████████| 10/10 [00:02<00:00,  4.53it/s]\n"
     ]
    },
    {
     "name": "stdout",
     "output_type": "stream",
     "text": [
      "Epoch: 037, Loss: 0.6524\n"
     ]
    },
    {
     "name": "stderr",
     "output_type": "stream",
     "text": [
      "100%|██████████| 10/10 [00:02<00:00,  4.52it/s]\n"
     ]
    },
    {
     "name": "stdout",
     "output_type": "stream",
     "text": [
      "Epoch: 038, Loss: 0.6511\n"
     ]
    },
    {
     "name": "stderr",
     "output_type": "stream",
     "text": [
      "100%|██████████| 10/10 [00:02<00:00,  4.51it/s]\n"
     ]
    },
    {
     "name": "stdout",
     "output_type": "stream",
     "text": [
      "Epoch: 039, Loss: 0.6516\n"
     ]
    },
    {
     "name": "stderr",
     "output_type": "stream",
     "text": [
      "100%|██████████| 10/10 [00:02<00:00,  4.50it/s]\n"
     ]
    },
    {
     "name": "stdout",
     "output_type": "stream",
     "text": [
      "Epoch: 040, Loss: 0.6509\n"
     ]
    },
    {
     "name": "stderr",
     "output_type": "stream",
     "text": [
      "100%|██████████| 10/10 [00:02<00:00,  4.52it/s]\n"
     ]
    },
    {
     "name": "stdout",
     "output_type": "stream",
     "text": [
      "Epoch: 041, Loss: 0.6502\n"
     ]
    },
    {
     "name": "stderr",
     "output_type": "stream",
     "text": [
      "100%|██████████| 10/10 [00:02<00:00,  4.51it/s]\n"
     ]
    },
    {
     "name": "stdout",
     "output_type": "stream",
     "text": [
      "Epoch: 042, Loss: 0.6497\n"
     ]
    },
    {
     "name": "stderr",
     "output_type": "stream",
     "text": [
      "100%|██████████| 10/10 [00:02<00:00,  4.53it/s]\n"
     ]
    },
    {
     "name": "stdout",
     "output_type": "stream",
     "text": [
      "Epoch: 043, Loss: 0.6513\n"
     ]
    },
    {
     "name": "stderr",
     "output_type": "stream",
     "text": [
      "100%|██████████| 10/10 [00:02<00:00,  4.51it/s]\n"
     ]
    },
    {
     "name": "stdout",
     "output_type": "stream",
     "text": [
      "Epoch: 044, Loss: 0.6516\n"
     ]
    },
    {
     "name": "stderr",
     "output_type": "stream",
     "text": [
      "100%|██████████| 10/10 [00:02<00:00,  4.53it/s]\n"
     ]
    },
    {
     "name": "stdout",
     "output_type": "stream",
     "text": [
      "Epoch: 045, Loss: 0.6502\n"
     ]
    },
    {
     "name": "stderr",
     "output_type": "stream",
     "text": [
      "100%|██████████| 10/10 [00:02<00:00,  4.53it/s]\n"
     ]
    },
    {
     "name": "stdout",
     "output_type": "stream",
     "text": [
      "Epoch: 046, Loss: 0.6502\n"
     ]
    },
    {
     "name": "stderr",
     "output_type": "stream",
     "text": [
      "100%|██████████| 10/10 [00:02<00:00,  4.54it/s]\n"
     ]
    },
    {
     "name": "stdout",
     "output_type": "stream",
     "text": [
      "Epoch: 047, Loss: 0.6518\n"
     ]
    },
    {
     "name": "stderr",
     "output_type": "stream",
     "text": [
      "100%|██████████| 10/10 [00:02<00:00,  4.52it/s]\n"
     ]
    },
    {
     "name": "stdout",
     "output_type": "stream",
     "text": [
      "Epoch: 048, Loss: 0.6492\n"
     ]
    },
    {
     "name": "stderr",
     "output_type": "stream",
     "text": [
      "100%|██████████| 10/10 [00:02<00:00,  4.52it/s]\n"
     ]
    },
    {
     "name": "stdout",
     "output_type": "stream",
     "text": [
      "Epoch: 049, Loss: 0.6501\n"
     ]
    },
    {
     "name": "stderr",
     "output_type": "stream",
     "text": [
      "100%|██████████| 10/10 [00:02<00:00,  4.50it/s]\n"
     ]
    },
    {
     "name": "stdout",
     "output_type": "stream",
     "text": [
      "Epoch: 050, Loss: 0.6469\n"
     ]
    },
    {
     "name": "stderr",
     "output_type": "stream",
     "text": [
      "100%|██████████| 10/10 [00:02<00:00,  4.50it/s]\n"
     ]
    },
    {
     "name": "stdout",
     "output_type": "stream",
     "text": [
      "Epoch: 051, Loss: 0.6493\n"
     ]
    },
    {
     "name": "stderr",
     "output_type": "stream",
     "text": [
      "100%|██████████| 10/10 [00:02<00:00,  4.52it/s]\n"
     ]
    },
    {
     "name": "stdout",
     "output_type": "stream",
     "text": [
      "Epoch: 052, Loss: 0.6489\n"
     ]
    },
    {
     "name": "stderr",
     "output_type": "stream",
     "text": [
      "100%|██████████| 10/10 [00:02<00:00,  4.51it/s]\n"
     ]
    },
    {
     "name": "stdout",
     "output_type": "stream",
     "text": [
      "Epoch: 053, Loss: 0.6489\n"
     ]
    },
    {
     "name": "stderr",
     "output_type": "stream",
     "text": [
      "100%|██████████| 10/10 [00:02<00:00,  4.49it/s]\n"
     ]
    },
    {
     "name": "stdout",
     "output_type": "stream",
     "text": [
      "Epoch: 054, Loss: 0.6494\n"
     ]
    },
    {
     "name": "stderr",
     "output_type": "stream",
     "text": [
      "100%|██████████| 10/10 [00:02<00:00,  4.50it/s]\n"
     ]
    },
    {
     "name": "stdout",
     "output_type": "stream",
     "text": [
      "Epoch: 055, Loss: 0.6490\n"
     ]
    },
    {
     "name": "stderr",
     "output_type": "stream",
     "text": [
      "100%|██████████| 10/10 [00:02<00:00,  4.52it/s]\n"
     ]
    },
    {
     "name": "stdout",
     "output_type": "stream",
     "text": [
      "Epoch: 056, Loss: 0.6503\n"
     ]
    },
    {
     "name": "stderr",
     "output_type": "stream",
     "text": [
      "100%|██████████| 10/10 [00:02<00:00,  4.55it/s]\n"
     ]
    },
    {
     "name": "stdout",
     "output_type": "stream",
     "text": [
      "Epoch: 057, Loss: 0.6476\n"
     ]
    },
    {
     "name": "stderr",
     "output_type": "stream",
     "text": [
      "100%|██████████| 10/10 [00:02<00:00,  4.51it/s]\n"
     ]
    },
    {
     "name": "stdout",
     "output_type": "stream",
     "text": [
      "Epoch: 058, Loss: 0.6472\n"
     ]
    },
    {
     "name": "stderr",
     "output_type": "stream",
     "text": [
      "100%|██████████| 10/10 [00:02<00:00,  4.53it/s]\n"
     ]
    },
    {
     "name": "stdout",
     "output_type": "stream",
     "text": [
      "Epoch: 059, Loss: 0.6474\n"
     ]
    },
    {
     "name": "stderr",
     "output_type": "stream",
     "text": [
      "100%|██████████| 10/10 [00:02<00:00,  4.47it/s]\n"
     ]
    },
    {
     "name": "stdout",
     "output_type": "stream",
     "text": [
      "Epoch: 060, Loss: 0.6474\n"
     ]
    },
    {
     "name": "stderr",
     "output_type": "stream",
     "text": [
      "100%|██████████| 10/10 [00:02<00:00,  4.52it/s]\n"
     ]
    },
    {
     "name": "stdout",
     "output_type": "stream",
     "text": [
      "Epoch: 061, Loss: 0.6481\n"
     ]
    },
    {
     "name": "stderr",
     "output_type": "stream",
     "text": [
      "100%|██████████| 10/10 [00:02<00:00,  4.54it/s]\n"
     ]
    },
    {
     "name": "stdout",
     "output_type": "stream",
     "text": [
      "Epoch: 062, Loss: 0.6474\n"
     ]
    },
    {
     "name": "stderr",
     "output_type": "stream",
     "text": [
      "100%|██████████| 10/10 [00:02<00:00,  4.51it/s]\n"
     ]
    },
    {
     "name": "stdout",
     "output_type": "stream",
     "text": [
      "Epoch: 063, Loss: 0.6479\n"
     ]
    },
    {
     "name": "stderr",
     "output_type": "stream",
     "text": [
      "100%|██████████| 10/10 [00:02<00:00,  4.52it/s]\n"
     ]
    },
    {
     "name": "stdout",
     "output_type": "stream",
     "text": [
      "Epoch: 064, Loss: 0.6471\n"
     ]
    },
    {
     "name": "stderr",
     "output_type": "stream",
     "text": [
      "100%|██████████| 10/10 [00:02<00:00,  4.52it/s]\n"
     ]
    },
    {
     "name": "stdout",
     "output_type": "stream",
     "text": [
      "Epoch: 065, Loss: 0.6456\n"
     ]
    },
    {
     "name": "stderr",
     "output_type": "stream",
     "text": [
      "100%|██████████| 10/10 [00:02<00:00,  4.52it/s]\n"
     ]
    },
    {
     "name": "stdout",
     "output_type": "stream",
     "text": [
      "Epoch: 066, Loss: 0.6458\n"
     ]
    },
    {
     "name": "stderr",
     "output_type": "stream",
     "text": [
      "100%|██████████| 10/10 [00:02<00:00,  4.51it/s]\n"
     ]
    },
    {
     "name": "stdout",
     "output_type": "stream",
     "text": [
      "Epoch: 067, Loss: 0.6469\n"
     ]
    },
    {
     "name": "stderr",
     "output_type": "stream",
     "text": [
      "100%|██████████| 10/10 [00:02<00:00,  4.51it/s]\n"
     ]
    },
    {
     "name": "stdout",
     "output_type": "stream",
     "text": [
      "Epoch: 068, Loss: 0.6477\n"
     ]
    },
    {
     "name": "stderr",
     "output_type": "stream",
     "text": [
      "100%|██████████| 10/10 [00:02<00:00,  4.54it/s]\n"
     ]
    },
    {
     "name": "stdout",
     "output_type": "stream",
     "text": [
      "Epoch: 069, Loss: 0.6475\n"
     ]
    },
    {
     "name": "stderr",
     "output_type": "stream",
     "text": [
      "100%|██████████| 10/10 [00:02<00:00,  4.51it/s]\n"
     ]
    },
    {
     "name": "stdout",
     "output_type": "stream",
     "text": [
      "Epoch: 070, Loss: 0.6461\n"
     ]
    },
    {
     "name": "stderr",
     "output_type": "stream",
     "text": [
      "100%|██████████| 10/10 [00:02<00:00,  4.52it/s]\n"
     ]
    },
    {
     "name": "stdout",
     "output_type": "stream",
     "text": [
      "Epoch: 071, Loss: 0.6463\n"
     ]
    },
    {
     "name": "stderr",
     "output_type": "stream",
     "text": [
      "100%|██████████| 10/10 [00:02<00:00,  4.53it/s]\n"
     ]
    },
    {
     "name": "stdout",
     "output_type": "stream",
     "text": [
      "Epoch: 072, Loss: 0.6447\n"
     ]
    },
    {
     "name": "stderr",
     "output_type": "stream",
     "text": [
      "100%|██████████| 10/10 [00:02<00:00,  4.52it/s]\n"
     ]
    },
    {
     "name": "stdout",
     "output_type": "stream",
     "text": [
      "Epoch: 073, Loss: 0.6461\n"
     ]
    },
    {
     "name": "stderr",
     "output_type": "stream",
     "text": [
      "100%|██████████| 10/10 [00:02<00:00,  4.53it/s]\n"
     ]
    },
    {
     "name": "stdout",
     "output_type": "stream",
     "text": [
      "Epoch: 074, Loss: 0.6461\n"
     ]
    },
    {
     "name": "stderr",
     "output_type": "stream",
     "text": [
      "100%|██████████| 10/10 [00:02<00:00,  4.53it/s]\n"
     ]
    },
    {
     "name": "stdout",
     "output_type": "stream",
     "text": [
      "Epoch: 075, Loss: 0.6446\n"
     ]
    },
    {
     "name": "stderr",
     "output_type": "stream",
     "text": [
      "100%|██████████| 10/10 [00:02<00:00,  4.53it/s]\n"
     ]
    },
    {
     "name": "stdout",
     "output_type": "stream",
     "text": [
      "Epoch: 076, Loss: 0.6451\n"
     ]
    },
    {
     "name": "stderr",
     "output_type": "stream",
     "text": [
      "100%|██████████| 10/10 [00:02<00:00,  4.51it/s]\n"
     ]
    },
    {
     "name": "stdout",
     "output_type": "stream",
     "text": [
      "Epoch: 077, Loss: 0.6455\n"
     ]
    },
    {
     "name": "stderr",
     "output_type": "stream",
     "text": [
      "100%|██████████| 10/10 [00:02<00:00,  4.53it/s]\n"
     ]
    },
    {
     "name": "stdout",
     "output_type": "stream",
     "text": [
      "Epoch: 078, Loss: 0.6452\n"
     ]
    },
    {
     "name": "stderr",
     "output_type": "stream",
     "text": [
      "100%|██████████| 10/10 [00:02<00:00,  4.53it/s]\n"
     ]
    },
    {
     "name": "stdout",
     "output_type": "stream",
     "text": [
      "Epoch: 079, Loss: 0.6446\n"
     ]
    },
    {
     "name": "stderr",
     "output_type": "stream",
     "text": [
      "100%|██████████| 10/10 [00:02<00:00,  4.52it/s]\n"
     ]
    },
    {
     "name": "stdout",
     "output_type": "stream",
     "text": [
      "Epoch: 080, Loss: 0.6440\n"
     ]
    },
    {
     "name": "stderr",
     "output_type": "stream",
     "text": [
      "100%|██████████| 10/10 [00:02<00:00,  4.50it/s]\n"
     ]
    },
    {
     "name": "stdout",
     "output_type": "stream",
     "text": [
      "Epoch: 081, Loss: 0.6447\n"
     ]
    },
    {
     "name": "stderr",
     "output_type": "stream",
     "text": [
      "100%|██████████| 10/10 [00:02<00:00,  4.52it/s]\n"
     ]
    },
    {
     "name": "stdout",
     "output_type": "stream",
     "text": [
      "Epoch: 082, Loss: 0.6459\n"
     ]
    },
    {
     "name": "stderr",
     "output_type": "stream",
     "text": [
      "100%|██████████| 10/10 [00:02<00:00,  4.53it/s]\n"
     ]
    },
    {
     "name": "stdout",
     "output_type": "stream",
     "text": [
      "Epoch: 083, Loss: 0.6438\n"
     ]
    },
    {
     "name": "stderr",
     "output_type": "stream",
     "text": [
      "100%|██████████| 10/10 [00:02<00:00,  4.52it/s]\n"
     ]
    },
    {
     "name": "stdout",
     "output_type": "stream",
     "text": [
      "Epoch: 084, Loss: 0.6455\n"
     ]
    },
    {
     "name": "stderr",
     "output_type": "stream",
     "text": [
      "100%|██████████| 10/10 [00:02<00:00,  4.50it/s]\n"
     ]
    },
    {
     "name": "stdout",
     "output_type": "stream",
     "text": [
      "Epoch: 085, Loss: 0.6446\n"
     ]
    },
    {
     "name": "stderr",
     "output_type": "stream",
     "text": [
      "100%|██████████| 10/10 [00:02<00:00,  4.50it/s]\n"
     ]
    },
    {
     "name": "stdout",
     "output_type": "stream",
     "text": [
      "Epoch: 086, Loss: 0.6441\n"
     ]
    },
    {
     "name": "stderr",
     "output_type": "stream",
     "text": [
      "100%|██████████| 10/10 [00:02<00:00,  4.54it/s]\n"
     ]
    },
    {
     "name": "stdout",
     "output_type": "stream",
     "text": [
      "Epoch: 087, Loss: 0.6457\n"
     ]
    },
    {
     "name": "stderr",
     "output_type": "stream",
     "text": [
      "100%|██████████| 10/10 [00:02<00:00,  4.49it/s]\n"
     ]
    },
    {
     "name": "stdout",
     "output_type": "stream",
     "text": [
      "Epoch: 088, Loss: 0.6449\n"
     ]
    },
    {
     "name": "stderr",
     "output_type": "stream",
     "text": [
      "100%|██████████| 10/10 [00:02<00:00,  4.55it/s]\n"
     ]
    },
    {
     "name": "stdout",
     "output_type": "stream",
     "text": [
      "Epoch: 089, Loss: 0.6444\n"
     ]
    },
    {
     "name": "stderr",
     "output_type": "stream",
     "text": [
      "100%|██████████| 10/10 [00:02<00:00,  4.52it/s]\n"
     ]
    },
    {
     "name": "stdout",
     "output_type": "stream",
     "text": [
      "Epoch: 090, Loss: 0.6435\n"
     ]
    },
    {
     "name": "stderr",
     "output_type": "stream",
     "text": [
      "100%|██████████| 10/10 [00:02<00:00,  4.50it/s]\n"
     ]
    },
    {
     "name": "stdout",
     "output_type": "stream",
     "text": [
      "Epoch: 091, Loss: 0.6453\n"
     ]
    },
    {
     "name": "stderr",
     "output_type": "stream",
     "text": [
      "100%|██████████| 10/10 [00:02<00:00,  4.53it/s]\n"
     ]
    },
    {
     "name": "stdout",
     "output_type": "stream",
     "text": [
      "Epoch: 092, Loss: 0.6426\n"
     ]
    },
    {
     "name": "stderr",
     "output_type": "stream",
     "text": [
      "100%|██████████| 10/10 [00:02<00:00,  4.49it/s]\n"
     ]
    },
    {
     "name": "stdout",
     "output_type": "stream",
     "text": [
      "Epoch: 093, Loss: 0.6431\n"
     ]
    },
    {
     "name": "stderr",
     "output_type": "stream",
     "text": [
      "100%|██████████| 10/10 [00:02<00:00,  4.52it/s]\n"
     ]
    },
    {
     "name": "stdout",
     "output_type": "stream",
     "text": [
      "Epoch: 094, Loss: 0.6442\n"
     ]
    },
    {
     "name": "stderr",
     "output_type": "stream",
     "text": [
      "100%|██████████| 10/10 [00:02<00:00,  4.50it/s]\n"
     ]
    },
    {
     "name": "stdout",
     "output_type": "stream",
     "text": [
      "Epoch: 095, Loss: 0.6449\n"
     ]
    },
    {
     "name": "stderr",
     "output_type": "stream",
     "text": [
      "100%|██████████| 10/10 [00:02<00:00,  4.52it/s]\n"
     ]
    },
    {
     "name": "stdout",
     "output_type": "stream",
     "text": [
      "Epoch: 096, Loss: 0.6423\n"
     ]
    },
    {
     "name": "stderr",
     "output_type": "stream",
     "text": [
      "100%|██████████| 10/10 [00:02<00:00,  4.53it/s]\n"
     ]
    },
    {
     "name": "stdout",
     "output_type": "stream",
     "text": [
      "Epoch: 097, Loss: 0.6431\n"
     ]
    },
    {
     "name": "stderr",
     "output_type": "stream",
     "text": [
      "100%|██████████| 10/10 [00:02<00:00,  4.54it/s]\n"
     ]
    },
    {
     "name": "stdout",
     "output_type": "stream",
     "text": [
      "Epoch: 098, Loss: 0.6436\n"
     ]
    },
    {
     "name": "stderr",
     "output_type": "stream",
     "text": [
      "100%|██████████| 10/10 [00:02<00:00,  4.51it/s]"
     ]
    },
    {
     "name": "stdout",
     "output_type": "stream",
     "text": [
      "Epoch: 099, Loss: 0.6429\n"
     ]
    },
    {
     "name": "stderr",
     "output_type": "stream",
     "text": [
      "\n"
     ]
    }
   ],
   "source": [
    "#train\n",
    "import tqdm\n",
    "import torch.nn.functional as F\n",
    "device = torch.device('cuda' if torch.cuda.is_available() else 'cpu')\n",
    "print(f\"Device: '{device}'\")\n",
    "model = model.to(device)\n",
    "optimizer = torch.optim.Adam(model.parameters(), lr=0.0001)\n",
    "for epoch in range(1, 100):\n",
    "    total_loss = total_examples = 0\n",
    "    for sampled_data in tqdm.tqdm(train_loader):\n",
    "        optimizer.zero_grad()\n",
    "        sampled_data = sampled_data.to(device)\n",
    "        pred = model.forward(sampled_data )\n",
    "        loss = F.binary_cross_entropy_with_logits(pred , sampled_data[pred_s,pred_p,pred_o].edge_label)\n",
    "        loss.backward()\n",
    "        optimizer.step()\n",
    "        total_loss += float(loss) * pred.numel() # numel = number of elements\n",
    "        total_examples += pred.numel()\n",
    "    print(f\"Epoch: {epoch:03d}, Loss: {total_loss / total_examples:.4f}\")\n"
   ]
  },
  {
   "cell_type": "code",
   "execution_count": 71,
   "metadata": {},
   "outputs": [
    {
     "name": "stderr",
     "output_type": "stream",
     "text": [
      "  0%|          | 0/10 [00:00<?, ?it/s]/work/FAC/FBM/DBC/cdessim2/default/dmoi/miniconda3/envs/ML2/lib/python3.10/site-packages/torch/nn/functional.py:1956: UserWarning: nn.functional.tanh is deprecated. Use torch.tanh instead.\n",
      "  warnings.warn(\"nn.functional.tanh is deprecated. Use torch.tanh instead.\")\n",
      "100%|██████████| 10/10 [00:01<00:00,  6.49it/s]"
     ]
    },
    {
     "name": "stdout",
     "output_type": "stream",
     "text": [
      "\n",
      "Validation AUC: 0.6447\n"
     ]
    },
    {
     "name": "stderr",
     "output_type": "stream",
     "text": [
      "\n"
     ]
    }
   ],
   "source": [
    "#pred  and validate \n",
    "\n",
    "from sklearn.metrics import roc_auc_score\n",
    "from matplotlib import pyplot as plt\n",
    "\n",
    "\n",
    "val_loader = LinkNeighborLoader(\n",
    "    data=val_data,  # TODO\n",
    "    num_neighbors=[20, 20 , 20],  # TODO\n",
    "    edge_label_index=((pred_s,pred_p,pred_o), edge_label_index),\n",
    "    #edge_label=edge_label,\n",
    "    neg_sampling_ratio=2,  # TODO\n",
    "    batch_size=1000,\n",
    "    shuffle=True\n",
    ")\n",
    "\n",
    "preds = []\n",
    "ground_truths = []\n",
    "for sampled_data in tqdm.tqdm(val_loader):\n",
    "    with torch.no_grad():\n",
    "        # TODO: Collect predictions and ground-truths and write them into\n",
    "        # `preds` and `ground_truths`.\n",
    "        sampled_data = sampled_data.to(device)\n",
    "        pred = model.forward(sampled_data)\n",
    "        preds += [pred]\n",
    "        ground_truths += [sampled_data[pred_s,pred_p,pred_o].edge_label]\n",
    "\n",
    "pred = torch.cat(preds, dim=0).cpu().numpy()\n",
    "ground_truth = torch.cat(ground_truths, dim=0).cpu().numpy()\n",
    "auc = roc_auc_score(ground_truth, pred)\n",
    "\n",
    "print()\n",
    "print(f\"Validation AUC: {auc:.4f}\")"
   ]
  },
  {
   "cell_type": "code",
   "execution_count": 79,
   "metadata": {},
   "outputs": [
    {
     "data": {
      "image/png": "[encoded data removed]",
      "text/plain": [
       "<Figure size 640x480 with 1 Axes>"
      ]
     },
     "metadata": {},
     "output_type": "display_data"
    },
    {
     "data": {
      "image/png": "[encoded data removed]",
      "text/plain": [
       "<Figure size 640x480 with 1 Axes>"
      ]
     },
     "metadata": {},
     "output_type": "display_data"
    }
   ],
   "source": [
    "\n",
    "from sklearn.metrics import roc_curve\n",
    "from sklearn.metrics import RocCurveDisplay\n",
    "\n",
    "\n",
    "fpr, tpr, _ = roc_curve(ground_truth, pred)\n",
    "plt.plot([[0,0],[1,1]] )\n",
    "roc_display = RocCurveDisplay(fpr=fpr, tpr=tpr).plot()"
   ]
  },
  {
   "cell_type": "code",
   "execution_count": 80,
   "metadata": {},
   "outputs": [
    {
     "data": {
      "image/png": "[encoded data removed]",
      "text/plain": [
       "<Figure size 640x480 with 1 Axes>"
      ]
     },
     "metadata": {},
     "output_type": "display_data"
    }
   ],
   "source": [
    "from sklearn.metrics import precision_recall_curve\n",
    "from sklearn.metrics import PrecisionRecallDisplay\n",
    "\n",
    "prec, recall, _ = precision_recall_curve(ground_truth, pred)\n",
    "pr_display = PrecisionRecallDisplay(precision=prec, recall=recall).plot()"
   ]
  },
  {
   "cell_type": "code",
   "execution_count": null,
   "metadata": {},
   "outputs": [],
   "source": []
  }
 ],
 "metadata": {
  "colab": {
   "provenance": []
  },
  "kernelspec": {
   "display_name": "Python 3 (ipykernel)",
   "language": "python",
   "name": "python3"
  },
  "language_info": {
   "codemirror_mode": {
    "name": "ipython",
    "version": 3
   },
   "file_extension": ".py",
   "mimetype": "text/x-python",
   "name": "python",
   "nbconvert_exporter": "python",
   "pygments_lexer": "ipython3",
   "version": "3.10.8"
  }
 },
 "nbformat": 4,
 "nbformat_minor": 4
}
