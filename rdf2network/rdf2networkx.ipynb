{
 "cells": [
  {
   "cell_type": "code",
   "execution_count": 1,
   "metadata": {
    "id": "sZJA7QRc-lnW"
   },
   "outputs": [],
   "source": [
    "# Install required packages in the current Jupyter kernel\n",
    "# Uncomment the following lines if you need to install these libraries\n",
    "# If you run into permission issues, try with the --user option\n",
    "#import sys\n",
    "#!pip install -q rdflib networkx matplotlib\n",
    "#!{sys.executable} -m pip install rdflib networkx matplotlib pandas stringdb --user\n"
   ]
  },
  {
   "cell_type": "code",
   "execution_count": 17,
   "metadata": {},
   "outputs": [],
   "source": [
    "%load_ext autoreload\n",
    "%autoreload 2\n",
    "import sampler\n",
    "import grabhogs_sparql\n",
    "import map2string_fast\n",
    "import addfrombloom\n",
    "import rdflib\n",
    "import SPARQLWrapper\n",
    "import colour\n",
    "import itertools\n",
    "import networkx as nx\n",
    "import glob\n",
    "from matplotlib import pyplot as plt"
   ]
  },
  {
   "cell_type": "code",
   "execution_count": 12,
   "metadata": {
    "id": "aVA-JNpI-lna",
    "outputId": "a418ca78-5317-4b62-9367-642d64e2c709"
   },
   "outputs": [
    {
     "name": "stdout",
     "output_type": "stream",
     "text": [
      "rdflib Graph loaded successfully with 2620310 triples\n",
      "rdflib Graph loaded successfully with 14559 triples\n"
     ]
    }
   ],
   "source": [
    "datapath = '/work/FAC/FBM/DBC/cdessim2/default/dmoi/datasets/STRING/rdf/protein.links.rdf.v11.5/402676.protein.links.rdf.v11.5.txt.gz'\n",
    "# RDF graph loading\n",
    "rg = sampler.load_graph(datapath)\n",
    "\n",
    "datapath2 = '/work/FAC/FBM/DBC/cdessim2/default/dmoi/datasets/STRING/rdf/protein.info.rdf.v11.5/402676.protein.info.rdf.v11.5.txt.gz'\n",
    "# RDF graph loading\n",
    "rg_info  = sampler.load_graph(datapath2)"
   ]
  },
  {
   "cell_type": "code",
   "execution_count": 13,
   "metadata": {},
   "outputs": [
    {
     "name": "stdout",
     "output_type": "stream",
     "text": [
      "1831\n"
     ]
    }
   ],
   "source": [
    "links = '/work/FAC/FBM/DBC/cdessim2/default/dmoi/datasets/STRING/rdf/protein.links.rdf.v11.5/*.protein.links.rdf.v11.5.txt.gz'\n",
    "linkfiles = glob.glob(links)\n",
    "linkfiles = { l:{ 'links':l , 'info':l.replace('protein.links' , 'protein.info' ) } for l in linkfiles}\n",
    "print(len(linkfiles ))"
   ]
  },
  {
   "cell_type": "code",
   "execution_count": 14,
   "metadata": {},
   "outputs": [
    {
     "name": "stdout",
     "output_type": "stream",
     "text": [
      "https://string-db.org/network/402676.B6JXZ5\n"
     ]
    }
   ],
   "source": [
    "subjs = rg.subjects( unique = True)\n",
    "seed = next(subjs)\n",
    "print(seed)"
   ]
  },
  {
   "cell_type": "code",
   "execution_count": 15,
   "metadata": {},
   "outputs": [
    {
     "name": "stdout",
     "output_type": "stream",
     "text": [
      "176 690\n",
      "{rdflib.term.URIRef('https://string-db.org/rdf/any-confidence'), rdflib.term.URIRef('https://string-db.org/rdf/highest-confidence-cutoff'), rdflib.term.URIRef('https://string-db.org/rdf/high-confidence-cutoff'), rdflib.term.URIRef('https://string-db.org/rdf/medium-confidence-cutoff')}\n",
      "rdflib Graph sampled successfully with 528 triples\n"
     ]
    }
   ],
   "source": [
    "subg = sampler.sample( rg = rg , seed = seed,  layer_limit= 2 , sample_run = 20 )\n",
    "print(set([p for p in subg.predicates()]))\n",
    "print(\"rdflib Graph sampled successfully with {} triples\".format(len(subg)))\n",
    "\n"
   ]
  },
  {
   "cell_type": "code",
   "execution_count": 16,
   "metadata": {
    "id": "aVA-JNpI-lna",
    "outputId": "a418ca78-5317-4b62-9367-642d64e2c709"
   },
   "outputs": [
    {
     "name": "stdout",
     "output_type": "stream",
     "text": [
      "80\n",
      "80\n",
      "rdflib Graph annotated successfully with 608 triples\n",
      "{rdflib.term.URIRef('https://string-db.org/rdf/highest-confidence-cutoff'), rdflib.term.URIRef('https://string-db.org/rdf/medium-confidence-cutoff'), rdflib.term.URIRef('https://string-db.org/rdf/high-confidence-cutoff'), rdflib.term.URIRef('https://string-db.org/rdf/any-confidence'), rdflib.term.URIRef('http://purl.org/lscr#xrefUniprot')}\n",
      "https://string-db.org/network/402676.B6K0A5 http://purl.org/lscr#xrefUniprot http://purl.uniprot.org/uniprot/B6K0A5\n",
      "https://string-db.org/network/402676.B6JY01 http://purl.org/lscr#xrefUniprot http://purl.uniprot.org/uniprot/B6JY01\n",
      "https://string-db.org/network/402676.B6JW66 http://purl.org/lscr#xrefUniprot http://purl.uniprot.org/uniprot/B6JW66\n",
      "https://string-db.org/network/402676.B6K160 http://purl.org/lscr#xrefUniprot http://purl.uniprot.org/uniprot/B6K160\n",
      "https://string-db.org/network/402676.B6K2E1 http://purl.org/lscr#xrefUniprot http://purl.uniprot.org/uniprot/B6K2E1\n",
      "https://string-db.org/network/402676.B6JWU4 http://purl.org/lscr#xrefUniprot http://purl.uniprot.org/uniprot/B6JWU4\n",
      "https://string-db.org/network/402676.B6JW88 http://purl.org/lscr#xrefUniprot http://purl.uniprot.org/uniprot/B6JW88\n",
      "https://string-db.org/network/402676.B6JWD9 http://purl.org/lscr#xrefUniprot http://purl.uniprot.org/uniprot/B6JWD9\n",
      "https://string-db.org/network/402676.B6K448 http://purl.org/lscr#xrefUniprot http://purl.uniprot.org/uniprot/B6K448\n",
      "https://string-db.org/network/402676.B6JZF9 http://purl.org/lscr#xrefUniprot http://purl.uniprot.org/uniprot/B6JZF9\n",
      "https://string-db.org/network/402676.B6K508 http://purl.org/lscr#xrefUniprot http://purl.uniprot.org/uniprot/B6K508\n"
     ]
    }
   ],
   "source": [
    "subg = sampler.add_xrefs( rg_info , subg )\n",
    "print(\"rdflib Graph annotated successfully with {} triples\".format(len(subg)))\n",
    "print(set([p for p in subg.predicates()]))\n",
    "cross_ref = rdflib.term.URIRef(\"http://purl.org/lscr#xrefUniprot\")\n",
    "i = 0 \n",
    "for s,p,o in subg.triples((None, cross_ref, None)):\n",
    "    print(s,p,o)\n",
    "    i+= 1\n",
    "    if i > 10:\n",
    "        break"
   ]
  },
  {
   "cell_type": "code",
   "execution_count": 17,
   "metadata": {},
   "outputs": [],
   "source": [
    "#proteins_by_species , results_subj_para , results_subj_ortho  = grabhogs_sparql.grab_hogs( subg , cross_ref = rdflib.term.URIRef(\"http://purl.org/lscr#xrefUniprot\") )"
   ]
  },
  {
   "cell_type": "code",
   "execution_count": 18,
   "metadata": {},
   "outputs": [],
   "source": [
    "#print(results_subj_ortho)"
   ]
  },
  {
   "cell_type": "code",
   "execution_count": 19,
   "metadata": {},
   "outputs": [
    {
     "name": "stdout",
     "output_type": "stream",
     "text": [
      "80\n",
      "Total time for 160 SPARQL queries: 59.66235828399658 seconds (multiple batch calls in: 0 cases)\n",
      "Num errors: 0\n"
     ]
    }
   ],
   "source": [
    "orthograph =  grabhogs_sparql.grab_hogs_graph( subg , cross_ref , sparql_endpoint= None\n",
    "            , USE_CASE = 1 , verbose = True , cross_ref_prop = rdflib.term.URIRef(\"http://purl.org/lscr#xrefUniprot\"))"
   ]
  },
  {
   "cell_type": "code",
   "execution_count": 20,
   "metadata": {},
   "outputs": [
    {
     "name": "stdout",
     "output_type": "stream",
     "text": [
      "rdflib Graph annotated successfully with 1064315 triples\n"
     ]
    }
   ],
   "source": [
    "from rdflib import Graph, URIRef\n",
    "print(\"rdflib Graph annotated successfully with {} triples\".format(len(orthograph)))\n",
    "#get all species\n",
    "taxa = [ 'protein1_uniprot_taxon_orth' , 'protein1_uniprot_taxon_para']\n",
    "species = set( [ o for t in taxa  for s,p,o in orthograph.triples((None, URIRef(t), None))  ])\n"
   ]
  },
  {
   "cell_type": "code",
   "execution_count": 21,
   "metadata": {},
   "outputs": [],
   "source": [
    "#get all the results for that species\n",
    "taxa = [ 'orth_protein_uniprot_taxon_orth' , 'para_protein_uniprot_taxon_para']\n",
    "#get all proteins for each species\n",
    "prots_by_species = { spec: set([s  for s,p,o in orthograph.triples((None, URIRef(t), spec ))]) for t in taxa for spec in species  }\n",
    "prots_by_species = { spec:prots_by_species[spec] for spec in prots_by_species if len(prots_by_species[spec])   }\n",
    "prots_by_species = { spec:[ p.replace('http://purl.uniprot.org/uniprot/' , '' ) for p in prots_by_species[spec] ] for spec in prots_by_species }\n"
   ]
  },
  {
   "cell_type": "code",
   "execution_count": 22,
   "metadata": {},
   "outputs": [
    {
     "ename": "NameError",
     "evalue": "name 'traceback' is not defined",
     "output_type": "error",
     "traceback": [
      "\u001b[0;31m---------------------------------------------------------------------------\u001b[0m",
      "\u001b[0;31mConnectionRefusedError\u001b[0m                    Traceback (most recent call last)",
      "File \u001b[0;32m/work/FAC/FBM/DBC/cdessim2/default/dmoi/miniconda3/envs/ML2/lib/python3.10/urllib/request.py:1348\u001b[0m, in \u001b[0;36mAbstractHTTPHandler.do_open\u001b[0;34m(self, http_class, req, **http_conn_args)\u001b[0m\n\u001b[1;32m   1347\u001b[0m \u001b[38;5;28;01mtry\u001b[39;00m:\n\u001b[0;32m-> 1348\u001b[0m     \u001b[43mh\u001b[49m\u001b[38;5;241;43m.\u001b[39;49m\u001b[43mrequest\u001b[49m\u001b[43m(\u001b[49m\u001b[43mreq\u001b[49m\u001b[38;5;241;43m.\u001b[39;49m\u001b[43mget_method\u001b[49m\u001b[43m(\u001b[49m\u001b[43m)\u001b[49m\u001b[43m,\u001b[49m\u001b[43m \u001b[49m\u001b[43mreq\u001b[49m\u001b[38;5;241;43m.\u001b[39;49m\u001b[43mselector\u001b[49m\u001b[43m,\u001b[49m\u001b[43m \u001b[49m\u001b[43mreq\u001b[49m\u001b[38;5;241;43m.\u001b[39;49m\u001b[43mdata\u001b[49m\u001b[43m,\u001b[49m\u001b[43m \u001b[49m\u001b[43mheaders\u001b[49m\u001b[43m,\u001b[49m\n\u001b[1;32m   1349\u001b[0m \u001b[43m              \u001b[49m\u001b[43mencode_chunked\u001b[49m\u001b[38;5;241;43m=\u001b[39;49m\u001b[43mreq\u001b[49m\u001b[38;5;241;43m.\u001b[39;49m\u001b[43mhas_header\u001b[49m\u001b[43m(\u001b[49m\u001b[38;5;124;43m'\u001b[39;49m\u001b[38;5;124;43mTransfer-encoding\u001b[39;49m\u001b[38;5;124;43m'\u001b[39;49m\u001b[43m)\u001b[49m\u001b[43m)\u001b[49m\n\u001b[1;32m   1350\u001b[0m \u001b[38;5;28;01mexcept\u001b[39;00m \u001b[38;5;167;01mOSError\u001b[39;00m \u001b[38;5;28;01mas\u001b[39;00m err: \u001b[38;5;66;03m# timeout error\u001b[39;00m\n",
      "File \u001b[0;32m/work/FAC/FBM/DBC/cdessim2/default/dmoi/miniconda3/envs/ML2/lib/python3.10/http/client.py:1282\u001b[0m, in \u001b[0;36mHTTPConnection.request\u001b[0;34m(self, method, url, body, headers, encode_chunked)\u001b[0m\n\u001b[1;32m   1281\u001b[0m \u001b[38;5;124;03m\"\"\"Send a complete request to the server.\"\"\"\u001b[39;00m\n\u001b[0;32m-> 1282\u001b[0m \u001b[38;5;28;43mself\u001b[39;49m\u001b[38;5;241;43m.\u001b[39;49m\u001b[43m_send_request\u001b[49m\u001b[43m(\u001b[49m\u001b[43mmethod\u001b[49m\u001b[43m,\u001b[49m\u001b[43m \u001b[49m\u001b[43murl\u001b[49m\u001b[43m,\u001b[49m\u001b[43m \u001b[49m\u001b[43mbody\u001b[49m\u001b[43m,\u001b[49m\u001b[43m \u001b[49m\u001b[43mheaders\u001b[49m\u001b[43m,\u001b[49m\u001b[43m \u001b[49m\u001b[43mencode_chunked\u001b[49m\u001b[43m)\u001b[49m\n",
      "File \u001b[0;32m/work/FAC/FBM/DBC/cdessim2/default/dmoi/miniconda3/envs/ML2/lib/python3.10/http/client.py:1328\u001b[0m, in \u001b[0;36mHTTPConnection._send_request\u001b[0;34m(self, method, url, body, headers, encode_chunked)\u001b[0m\n\u001b[1;32m   1327\u001b[0m     body \u001b[38;5;241m=\u001b[39m _encode(body, \u001b[38;5;124m'\u001b[39m\u001b[38;5;124mbody\u001b[39m\u001b[38;5;124m'\u001b[39m)\n\u001b[0;32m-> 1328\u001b[0m \u001b[38;5;28;43mself\u001b[39;49m\u001b[38;5;241;43m.\u001b[39;49m\u001b[43mendheaders\u001b[49m\u001b[43m(\u001b[49m\u001b[43mbody\u001b[49m\u001b[43m,\u001b[49m\u001b[43m \u001b[49m\u001b[43mencode_chunked\u001b[49m\u001b[38;5;241;43m=\u001b[39;49m\u001b[43mencode_chunked\u001b[49m\u001b[43m)\u001b[49m\n",
      "File \u001b[0;32m/work/FAC/FBM/DBC/cdessim2/default/dmoi/miniconda3/envs/ML2/lib/python3.10/http/client.py:1277\u001b[0m, in \u001b[0;36mHTTPConnection.endheaders\u001b[0;34m(self, message_body, encode_chunked)\u001b[0m\n\u001b[1;32m   1276\u001b[0m     \u001b[38;5;28;01mraise\u001b[39;00m CannotSendHeader()\n\u001b[0;32m-> 1277\u001b[0m \u001b[38;5;28;43mself\u001b[39;49m\u001b[38;5;241;43m.\u001b[39;49m\u001b[43m_send_output\u001b[49m\u001b[43m(\u001b[49m\u001b[43mmessage_body\u001b[49m\u001b[43m,\u001b[49m\u001b[43m \u001b[49m\u001b[43mencode_chunked\u001b[49m\u001b[38;5;241;43m=\u001b[39;49m\u001b[43mencode_chunked\u001b[49m\u001b[43m)\u001b[49m\n",
      "File \u001b[0;32m/work/FAC/FBM/DBC/cdessim2/default/dmoi/miniconda3/envs/ML2/lib/python3.10/http/client.py:1037\u001b[0m, in \u001b[0;36mHTTPConnection._send_output\u001b[0;34m(self, message_body, encode_chunked)\u001b[0m\n\u001b[1;32m   1036\u001b[0m \u001b[38;5;28;01mdel\u001b[39;00m \u001b[38;5;28mself\u001b[39m\u001b[38;5;241m.\u001b[39m_buffer[:]\n\u001b[0;32m-> 1037\u001b[0m \u001b[38;5;28;43mself\u001b[39;49m\u001b[38;5;241;43m.\u001b[39;49m\u001b[43msend\u001b[49m\u001b[43m(\u001b[49m\u001b[43mmsg\u001b[49m\u001b[43m)\u001b[49m\n\u001b[1;32m   1039\u001b[0m \u001b[38;5;28;01mif\u001b[39;00m message_body \u001b[38;5;129;01mis\u001b[39;00m \u001b[38;5;129;01mnot\u001b[39;00m \u001b[38;5;28;01mNone\u001b[39;00m:\n\u001b[1;32m   1040\u001b[0m \n\u001b[1;32m   1041\u001b[0m     \u001b[38;5;66;03m# create a consistent interface to message_body\u001b[39;00m\n",
      "File \u001b[0;32m/work/FAC/FBM/DBC/cdessim2/default/dmoi/miniconda3/envs/ML2/lib/python3.10/http/client.py:975\u001b[0m, in \u001b[0;36mHTTPConnection.send\u001b[0;34m(self, data)\u001b[0m\n\u001b[1;32m    974\u001b[0m \u001b[38;5;28;01mif\u001b[39;00m \u001b[38;5;28mself\u001b[39m\u001b[38;5;241m.\u001b[39mauto_open:\n\u001b[0;32m--> 975\u001b[0m     \u001b[38;5;28;43mself\u001b[39;49m\u001b[38;5;241;43m.\u001b[39;49m\u001b[43mconnect\u001b[49m\u001b[43m(\u001b[49m\u001b[43m)\u001b[49m\n\u001b[1;32m    976\u001b[0m \u001b[38;5;28;01melse\u001b[39;00m:\n",
      "File \u001b[0;32m/work/FAC/FBM/DBC/cdessim2/default/dmoi/miniconda3/envs/ML2/lib/python3.10/http/client.py:941\u001b[0m, in \u001b[0;36mHTTPConnection.connect\u001b[0;34m(self)\u001b[0m\n\u001b[1;32m    940\u001b[0m sys\u001b[38;5;241m.\u001b[39maudit(\u001b[38;5;124m\"\u001b[39m\u001b[38;5;124mhttp.client.connect\u001b[39m\u001b[38;5;124m\"\u001b[39m, \u001b[38;5;28mself\u001b[39m, \u001b[38;5;28mself\u001b[39m\u001b[38;5;241m.\u001b[39mhost, \u001b[38;5;28mself\u001b[39m\u001b[38;5;241m.\u001b[39mport)\n\u001b[0;32m--> 941\u001b[0m \u001b[38;5;28mself\u001b[39m\u001b[38;5;241m.\u001b[39msock \u001b[38;5;241m=\u001b[39m \u001b[38;5;28;43mself\u001b[39;49m\u001b[38;5;241;43m.\u001b[39;49m\u001b[43m_create_connection\u001b[49m\u001b[43m(\u001b[49m\n\u001b[1;32m    942\u001b[0m \u001b[43m    \u001b[49m\u001b[43m(\u001b[49m\u001b[38;5;28;43mself\u001b[39;49m\u001b[38;5;241;43m.\u001b[39;49m\u001b[43mhost\u001b[49m\u001b[43m,\u001b[49m\u001b[38;5;28;43mself\u001b[39;49m\u001b[38;5;241;43m.\u001b[39;49m\u001b[43mport\u001b[49m\u001b[43m)\u001b[49m\u001b[43m,\u001b[49m\u001b[43m \u001b[49m\u001b[38;5;28;43mself\u001b[39;49m\u001b[38;5;241;43m.\u001b[39;49m\u001b[43mtimeout\u001b[49m\u001b[43m,\u001b[49m\u001b[43m \u001b[49m\u001b[38;5;28;43mself\u001b[39;49m\u001b[38;5;241;43m.\u001b[39;49m\u001b[43msource_address\u001b[49m\u001b[43m)\u001b[49m\n\u001b[1;32m    943\u001b[0m \u001b[38;5;66;03m# Might fail in OSs that don't implement TCP_NODELAY\u001b[39;00m\n",
      "File \u001b[0;32m/work/FAC/FBM/DBC/cdessim2/default/dmoi/miniconda3/envs/ML2/lib/python3.10/socket.py:845\u001b[0m, in \u001b[0;36mcreate_connection\u001b[0;34m(address, timeout, source_address)\u001b[0m\n\u001b[1;32m    844\u001b[0m \u001b[38;5;28;01mtry\u001b[39;00m:\n\u001b[0;32m--> 845\u001b[0m     \u001b[38;5;28;01mraise\u001b[39;00m err\n\u001b[1;32m    846\u001b[0m \u001b[38;5;28;01mfinally\u001b[39;00m:\n\u001b[1;32m    847\u001b[0m     \u001b[38;5;66;03m# Break explicitly a reference cycle\u001b[39;00m\n",
      "File \u001b[0;32m/work/FAC/FBM/DBC/cdessim2/default/dmoi/miniconda3/envs/ML2/lib/python3.10/socket.py:833\u001b[0m, in \u001b[0;36mcreate_connection\u001b[0;34m(address, timeout, source_address)\u001b[0m\n\u001b[1;32m    832\u001b[0m     sock\u001b[38;5;241m.\u001b[39mbind(source_address)\n\u001b[0;32m--> 833\u001b[0m \u001b[43msock\u001b[49m\u001b[38;5;241;43m.\u001b[39;49m\u001b[43mconnect\u001b[49m\u001b[43m(\u001b[49m\u001b[43msa\u001b[49m\u001b[43m)\u001b[49m\n\u001b[1;32m    834\u001b[0m \u001b[38;5;66;03m# Break explicitly a reference cycle\u001b[39;00m\n",
      "\u001b[0;31mConnectionRefusedError\u001b[0m: [Errno 111] Connection refused",
      "\nDuring handling of the above exception, another exception occurred:\n",
      "\u001b[0;31mURLError\u001b[0m                                  Traceback (most recent call last)",
      "File \u001b[0;32m/work/FAC/FBM/DBC/cdessim2/default/dmoi/projects/RDF_Graphnet/rdf2network/map2string_fast.py:44\u001b[0m, in \u001b[0;36mmapall\u001b[0;34m(proteins_by_species, serverurl, verbose, retgraph)\u001b[0m\n\u001b[1;32m     43\u001b[0m \u001b[38;5;28;01mif\u001b[39;00m retgraph \u001b[38;5;241m==\u001b[39m \u001b[38;5;28;01mTrue\u001b[39;00m:\n\u001b[0;32m---> 44\u001b[0m     ret \u001b[38;5;241m=\u001b[39m \u001b[43mmap2string_SPARQL\u001b[49m\u001b[43m(\u001b[49m\u001b[38;5;124;43m\"\u001b[39;49m\u001b[38;5;124;43mhttp://purl.uniprot.org/uniprot/\u001b[39;49m\u001b[38;5;124;43m\"\u001b[39;49m\u001b[43m \u001b[49m\u001b[38;5;241;43m+\u001b[39;49m\u001b[43m \u001b[49m\u001b[43mprotein\u001b[49m\u001b[43m \u001b[49m\u001b[43m,\u001b[49m\u001b[43m \u001b[49m\u001b[43mserverurl\u001b[49m\u001b[38;5;241;43m=\u001b[39;49m\u001b[43m \u001b[49m\u001b[43mserverurl\u001b[49m\u001b[43m,\u001b[49m\u001b[43m \u001b[49m\u001b[43mretgraph\u001b[49m\u001b[43m \u001b[49m\u001b[38;5;241;43m=\u001b[39;49m\u001b[43m \u001b[49m\u001b[38;5;28;43;01mTrue\u001b[39;49;00m\u001b[43m)\u001b[49m \n\u001b[1;32m     45\u001b[0m     \u001b[38;5;28;01mif\u001b[39;00m ret \u001b[38;5;129;01mis\u001b[39;00m \u001b[38;5;129;01mnot\u001b[39;00m \u001b[38;5;28;01mNone\u001b[39;00m:\n",
      "File \u001b[0;32m/work/FAC/FBM/DBC/cdessim2/default/dmoi/projects/RDF_Graphnet/rdf2network/map2string_fast.py:19\u001b[0m, in \u001b[0;36mmap2string_SPARQL\u001b[0;34m(uniprot_id, serverurl, fmt, retgraph)\u001b[0m\n\u001b[1;32m     18\u001b[0m sparql_STRING\u001b[38;5;241m.\u001b[39msetReturnFormat(JSON)\n\u001b[0;32m---> 19\u001b[0m json_results \u001b[38;5;241m=\u001b[39m \u001b[43msparql_STRING\u001b[49m\u001b[38;5;241;43m.\u001b[39;49m\u001b[43mquery\u001b[49m\u001b[43m(\u001b[49m\u001b[43m)\u001b[49m\u001b[38;5;241m.\u001b[39mconvert()\n\u001b[1;32m     20\u001b[0m \u001b[38;5;28;01mif\u001b[39;00m retgraph \u001b[38;5;241m==\u001b[39m \u001b[38;5;28;01mFalse\u001b[39;00m:\n",
      "File \u001b[0;32m/work/FAC/FBM/DBC/cdessim2/default/dmoi/miniconda3/envs/ML2/lib/python3.10/site-packages/SPARQLWrapper/Wrapper.py:960\u001b[0m, in \u001b[0;36mSPARQLWrapper.query\u001b[0;34m(self)\u001b[0m\n\u001b[1;32m    943\u001b[0m \u001b[38;5;124;03m\"\"\"\u001b[39;00m\n\u001b[1;32m    944\u001b[0m \u001b[38;5;124;03mExecute the query.\u001b[39;00m\n\u001b[1;32m    945\u001b[0m \u001b[38;5;124;03mExceptions can be raised if either the URI is wrong or the HTTP sends back an error (this is also the\u001b[39;00m\n\u001b[0;32m   (...)\u001b[0m\n\u001b[1;32m    958\u001b[0m \u001b[38;5;124;03m:rtype: :class:`QueryResult` instance\u001b[39;00m\n\u001b[1;32m    959\u001b[0m \u001b[38;5;124;03m\"\"\"\u001b[39;00m\n\u001b[0;32m--> 960\u001b[0m \u001b[38;5;28;01mreturn\u001b[39;00m QueryResult(\u001b[38;5;28;43mself\u001b[39;49m\u001b[38;5;241;43m.\u001b[39;49m\u001b[43m_query\u001b[49m\u001b[43m(\u001b[49m\u001b[43m)\u001b[49m)\n",
      "File \u001b[0;32m/work/FAC/FBM/DBC/cdessim2/default/dmoi/miniconda3/envs/ML2/lib/python3.10/site-packages/SPARQLWrapper/Wrapper.py:926\u001b[0m, in \u001b[0;36mSPARQLWrapper._query\u001b[0;34m(self)\u001b[0m\n\u001b[1;32m    925\u001b[0m \u001b[38;5;28;01melse\u001b[39;00m:\n\u001b[0;32m--> 926\u001b[0m     response \u001b[38;5;241m=\u001b[39m \u001b[43murlopener\u001b[49m\u001b[43m(\u001b[49m\u001b[43mrequest\u001b[49m\u001b[43m)\u001b[49m\n\u001b[1;32m    927\u001b[0m \u001b[38;5;28;01mreturn\u001b[39;00m response, \u001b[38;5;28mself\u001b[39m\u001b[38;5;241m.\u001b[39mreturnFormat\n",
      "File \u001b[0;32m/work/FAC/FBM/DBC/cdessim2/default/dmoi/miniconda3/envs/ML2/lib/python3.10/urllib/request.py:216\u001b[0m, in \u001b[0;36murlopen\u001b[0;34m(url, data, timeout, cafile, capath, cadefault, context)\u001b[0m\n\u001b[1;32m    215\u001b[0m     opener \u001b[38;5;241m=\u001b[39m _opener\n\u001b[0;32m--> 216\u001b[0m \u001b[38;5;28;01mreturn\u001b[39;00m \u001b[43mopener\u001b[49m\u001b[38;5;241;43m.\u001b[39;49m\u001b[43mopen\u001b[49m\u001b[43m(\u001b[49m\u001b[43murl\u001b[49m\u001b[43m,\u001b[49m\u001b[43m \u001b[49m\u001b[43mdata\u001b[49m\u001b[43m,\u001b[49m\u001b[43m \u001b[49m\u001b[43mtimeout\u001b[49m\u001b[43m)\u001b[49m\n",
      "File \u001b[0;32m/work/FAC/FBM/DBC/cdessim2/default/dmoi/miniconda3/envs/ML2/lib/python3.10/urllib/request.py:519\u001b[0m, in \u001b[0;36mOpenerDirector.open\u001b[0;34m(self, fullurl, data, timeout)\u001b[0m\n\u001b[1;32m    518\u001b[0m sys\u001b[38;5;241m.\u001b[39maudit(\u001b[38;5;124m'\u001b[39m\u001b[38;5;124murllib.Request\u001b[39m\u001b[38;5;124m'\u001b[39m, req\u001b[38;5;241m.\u001b[39mfull_url, req\u001b[38;5;241m.\u001b[39mdata, req\u001b[38;5;241m.\u001b[39mheaders, req\u001b[38;5;241m.\u001b[39mget_method())\n\u001b[0;32m--> 519\u001b[0m response \u001b[38;5;241m=\u001b[39m \u001b[38;5;28;43mself\u001b[39;49m\u001b[38;5;241;43m.\u001b[39;49m\u001b[43m_open\u001b[49m\u001b[43m(\u001b[49m\u001b[43mreq\u001b[49m\u001b[43m,\u001b[49m\u001b[43m \u001b[49m\u001b[43mdata\u001b[49m\u001b[43m)\u001b[49m\n\u001b[1;32m    521\u001b[0m \u001b[38;5;66;03m# post-process response\u001b[39;00m\n",
      "File \u001b[0;32m/work/FAC/FBM/DBC/cdessim2/default/dmoi/miniconda3/envs/ML2/lib/python3.10/urllib/request.py:536\u001b[0m, in \u001b[0;36mOpenerDirector._open\u001b[0;34m(self, req, data)\u001b[0m\n\u001b[1;32m    535\u001b[0m protocol \u001b[38;5;241m=\u001b[39m req\u001b[38;5;241m.\u001b[39mtype\n\u001b[0;32m--> 536\u001b[0m result \u001b[38;5;241m=\u001b[39m \u001b[38;5;28;43mself\u001b[39;49m\u001b[38;5;241;43m.\u001b[39;49m\u001b[43m_call_chain\u001b[49m\u001b[43m(\u001b[49m\u001b[38;5;28;43mself\u001b[39;49m\u001b[38;5;241;43m.\u001b[39;49m\u001b[43mhandle_open\u001b[49m\u001b[43m,\u001b[49m\u001b[43m \u001b[49m\u001b[43mprotocol\u001b[49m\u001b[43m,\u001b[49m\u001b[43m \u001b[49m\u001b[43mprotocol\u001b[49m\u001b[43m \u001b[49m\u001b[38;5;241;43m+\u001b[39;49m\n\u001b[1;32m    537\u001b[0m \u001b[43m                          \u001b[49m\u001b[38;5;124;43m'\u001b[39;49m\u001b[38;5;124;43m_open\u001b[39;49m\u001b[38;5;124;43m'\u001b[39;49m\u001b[43m,\u001b[49m\u001b[43m \u001b[49m\u001b[43mreq\u001b[49m\u001b[43m)\u001b[49m\n\u001b[1;32m    538\u001b[0m \u001b[38;5;28;01mif\u001b[39;00m result:\n",
      "File \u001b[0;32m/work/FAC/FBM/DBC/cdessim2/default/dmoi/miniconda3/envs/ML2/lib/python3.10/urllib/request.py:496\u001b[0m, in \u001b[0;36mOpenerDirector._call_chain\u001b[0;34m(self, chain, kind, meth_name, *args)\u001b[0m\n\u001b[1;32m    495\u001b[0m func \u001b[38;5;241m=\u001b[39m \u001b[38;5;28mgetattr\u001b[39m(handler, meth_name)\n\u001b[0;32m--> 496\u001b[0m result \u001b[38;5;241m=\u001b[39m \u001b[43mfunc\u001b[49m\u001b[43m(\u001b[49m\u001b[38;5;241;43m*\u001b[39;49m\u001b[43margs\u001b[49m\u001b[43m)\u001b[49m\n\u001b[1;32m    497\u001b[0m \u001b[38;5;28;01mif\u001b[39;00m result \u001b[38;5;129;01mis\u001b[39;00m \u001b[38;5;129;01mnot\u001b[39;00m \u001b[38;5;28;01mNone\u001b[39;00m:\n",
      "File \u001b[0;32m/work/FAC/FBM/DBC/cdessim2/default/dmoi/miniconda3/envs/ML2/lib/python3.10/urllib/request.py:1377\u001b[0m, in \u001b[0;36mHTTPHandler.http_open\u001b[0;34m(self, req)\u001b[0m\n\u001b[1;32m   1376\u001b[0m \u001b[38;5;28;01mdef\u001b[39;00m \u001b[38;5;21mhttp_open\u001b[39m(\u001b[38;5;28mself\u001b[39m, req):\n\u001b[0;32m-> 1377\u001b[0m     \u001b[38;5;28;01mreturn\u001b[39;00m \u001b[38;5;28;43mself\u001b[39;49m\u001b[38;5;241;43m.\u001b[39;49m\u001b[43mdo_open\u001b[49m\u001b[43m(\u001b[49m\u001b[43mhttp\u001b[49m\u001b[38;5;241;43m.\u001b[39;49m\u001b[43mclient\u001b[49m\u001b[38;5;241;43m.\u001b[39;49m\u001b[43mHTTPConnection\u001b[49m\u001b[43m,\u001b[49m\u001b[43m \u001b[49m\u001b[43mreq\u001b[49m\u001b[43m)\u001b[49m\n",
      "File \u001b[0;32m/work/FAC/FBM/DBC/cdessim2/default/dmoi/miniconda3/envs/ML2/lib/python3.10/urllib/request.py:1351\u001b[0m, in \u001b[0;36mAbstractHTTPHandler.do_open\u001b[0;34m(self, http_class, req, **http_conn_args)\u001b[0m\n\u001b[1;32m   1350\u001b[0m \u001b[38;5;28;01mexcept\u001b[39;00m \u001b[38;5;167;01mOSError\u001b[39;00m \u001b[38;5;28;01mas\u001b[39;00m err: \u001b[38;5;66;03m# timeout error\u001b[39;00m\n\u001b[0;32m-> 1351\u001b[0m     \u001b[38;5;28;01mraise\u001b[39;00m URLError(err)\n\u001b[1;32m   1352\u001b[0m r \u001b[38;5;241m=\u001b[39m h\u001b[38;5;241m.\u001b[39mgetresponse()\n",
      "\u001b[0;31mURLError\u001b[0m: <urlopen error [Errno 111] Connection refused>",
      "\nDuring handling of the above exception, another exception occurred:\n",
      "\u001b[0;31mNameError\u001b[0m                                 Traceback (most recent call last)",
      "Cell \u001b[0;32mIn[22], line 2\u001b[0m\n\u001b[1;32m      1\u001b[0m server \u001b[38;5;241m=\u001b[39m \u001b[38;5;124m'\u001b[39m\u001b[38;5;124mdna067\u001b[39m\u001b[38;5;124m'\u001b[39m\n\u001b[0;32m----> 2\u001b[0m ortho_xrefgraph \u001b[38;5;241m=\u001b[39m \u001b[43mmap2string_fast\u001b[49m\u001b[38;5;241;43m.\u001b[39;49m\u001b[43mmapall\u001b[49m\u001b[43m(\u001b[49m\u001b[43mprots_by_species\u001b[49m\u001b[43m \u001b[49m\u001b[43m,\u001b[49m\u001b[43m \u001b[49m\u001b[43mserverurl\u001b[49m\u001b[38;5;241;43m=\u001b[39;49m\u001b[43m \u001b[49m\u001b[38;5;124;43m\"\u001b[39;49m\u001b[38;5;124;43mhttp://\u001b[39;49m\u001b[38;5;124;43m\"\u001b[39;49m\u001b[38;5;241;43m+\u001b[39;49m\u001b[43mserver\u001b[49m\u001b[38;5;241;43m+\u001b[39;49m\u001b[38;5;124;43m\"\u001b[39;49m\u001b[38;5;124;43m:3030/string_fuseki/sparql\u001b[39;49m\u001b[38;5;124;43m\"\u001b[39;49m\u001b[43m \u001b[49m\u001b[43m,\u001b[49m\u001b[43m \u001b[49m\u001b[43mretgraph\u001b[49m\u001b[43m \u001b[49m\u001b[38;5;241;43m=\u001b[39;49m\u001b[43m \u001b[49m\u001b[38;5;28;43;01mTrue\u001b[39;49;00m\u001b[43m)\u001b[49m\n\u001b[1;32m      3\u001b[0m \u001b[38;5;28mprint\u001b[39m(\u001b[38;5;28mlen\u001b[39m(ortho_xrefgraph))\n",
      "File \u001b[0;32m/work/FAC/FBM/DBC/cdessim2/default/dmoi/projects/RDF_Graphnet/rdf2network/map2string_fast.py:67\u001b[0m, in \u001b[0;36mmapall\u001b[0;34m(proteins_by_species, serverurl, verbose, retgraph)\u001b[0m\n\u001b[1;32m     56\u001b[0m     \u001b[38;5;66;03m# invoking the STRING API is costly, only do this for validation:\u001b[39;00m\n\u001b[1;32m     57\u001b[0m     \u001b[38;5;66;03m#try:\u001b[39;00m\n\u001b[1;32m     58\u001b[0m     \u001b[38;5;66;03m#    string_id = stringdb.get_string_ids([protein], int(taxon_id))\u001b[39;00m\n\u001b[0;32m   (...)\u001b[0m\n\u001b[1;32m     62\u001b[0m     \u001b[38;5;66;03m#except Exception:\u001b[39;00m\n\u001b[1;32m     63\u001b[0m     \u001b[38;5;66;03m#    pass\u001b[39;00m\n\u001b[1;32m     64\u001b[0m \u001b[38;5;28;01mexcept\u001b[39;00m \u001b[38;5;167;01mException\u001b[39;00m:\n\u001b[1;32m     65\u001b[0m     \u001b[38;5;66;03m#print(proteins_by_species[taxon_id])\u001b[39;00m\n\u001b[1;32m     66\u001b[0m     \u001b[38;5;66;03m#print(\"Error computing IDs for taxon {}\".format(taxon_id))\u001b[39;00m\n\u001b[0;32m---> 67\u001b[0m     \u001b[43mtraceback\u001b[49m\u001b[38;5;241m.\u001b[39mprint_exc()\n\u001b[1;32m     68\u001b[0m     error_taxa\u001b[38;5;241m.\u001b[39madd(taxon_id)\n\u001b[1;32m     69\u001b[0m     error_proteins\u001b[38;5;241m.\u001b[39madd(protein)\n",
      "\u001b[0;31mNameError\u001b[0m: name 'traceback' is not defined"
     ]
    }
   ],
   "source": [
    "server = 'dna066'\n",
    "ortho_xrefgraph = map2string_fast.mapall(prots_by_species , serverurl= \"http://\"+server+\":3030/string_fuseki/sparql\" , retgraph = True)\n",
    "print(len(ortho_xrefgraph))"
   ]
  },
  {
   "cell_type": "code",
   "execution_count": null,
   "metadata": {},
   "outputs": [],
   "source": [
    "orthograph += ortho_xrefgraph\n",
    "subg += orthograph\n",
    "#we have interactions for one species and ortho info to all others"
   ]
  },
  {
   "cell_type": "code",
   "execution_count": null,
   "metadata": {},
   "outputs": [],
   "source": [
    "filters = addfrombloom.load_filters()"
   ]
  },
  {
   "cell_type": "code",
   "execution_count": null,
   "metadata": {},
   "outputs": [],
   "source": [
    "import addfrombloom\n",
    "pred = rdflib.term.URIRef('http://purl.org/lscr#xrefUniprot')\n",
    "interactions = []\n",
    "for i,spec in enumerate(prots_by_species):\n",
    "    stringids = [ s for prot in prots_by_species[spec] for s,p,o in orthograph.triples((None, pred , URIRef('http://purl.uniprot.org/uniprot/'+prot) )) ]\n",
    "    stringids = [ s.replace('https://string-db.org/network/' , '' ) for s in stringids ]\n",
    "    before = len(interactions)\n",
    "    if len(stringids ) > 2 :\n",
    "        interactions += addfrombloom.check_allvall( objects = stringids , urlstring = 'https://string-db.org/network/' , filters = filters )\n",
    "        if len(interactions)-before>0:\n",
    "            print('found {} interactions for species {}'.format(len(interactions)-before , spec))\n",
    "            print(len(subg))\n",
    "            for inter in interactions:\n",
    "                subg = subg.add( inter)\n",
    "            print(len(subg))\n",
    "            interactions = []\n",
    "    if i % 10 == 0 :\n",
    "        print('saving')\n",
    "        v = subg.serialize(format=\"ttl\")\n",
    "        with open('testgraph_'+str(i)+'.ttl', 'w') as graphout:\n",
    "            graphout.write(v)"
   ]
  },
  {
   "cell_type": "code",
   "execution_count": null,
   "metadata": {},
   "outputs": [],
   "source": [
    "#halelujah we have a graph with everything in it\n",
    "#serialize to turtle format\n",
    "v = subg.serialize(format=\"ttl\")\n",
    "with open('testgraph.ttl', 'w') as graphout:\n",
    "    graphout.write(v)"
   ]
  },
  {
   "cell_type": "code",
   "execution_count": 18,
   "metadata": {},
   "outputs": [
    {
     "name": "stdout",
     "output_type": "stream",
     "text": [
      "['./test/tax_9606.ENSP00000357838_seed_9606.ttl', './test/tax_402676.B6JZZ0_seed_402676.ttl', './test/tax_59689.fgenesh2_kg.5__2757__AT3G62670.1_seed_59689.ttl', './test/tax_59689.fgenesh2_kg.3__1006__AT3G09820.1_seed_59689.ttl', './test/tax_59689.fgenesh2_kg.4__2551__AT2G43760.3_seed_59689.ttl', './test/tax_402676.B6K648_seed_402676.ttl', './test/tax_9606.ENSP00000329295_seed_9606.ttl', './test/tax_59689.fgenesh2_kg.1__1697__AT1G15420.1_seed_59689.ttl', './test/tax_59689.scaffold_600900.1_seed_59689.ttl', './test/tax_402676.B6JVE4_seed_402676.ttl', './test/tax_9606.ENSP00000480012_seed_9606.ttl', './test/tax_59689.fgenesh1_pm.C_scaffold_1000066_seed_59689.ttl', './test/tax_59689.scaffold_802252.1_seed_59689.ttl', './test/tax_59689.Al_scaffold_0004_854_seed_59689.ttl', './test/tax_9606.ENSP00000448073_seed_9606.ttl', './test/tax_402676.B6JVZ4_seed_402676.ttl', './test/tax_9606.ENSP00000368190_seed_9606.ttl', './test/tax_59689.fgenesh2_kg.4__3062__AT2G48100.3_seed_59689.ttl', './test/tax_9606.ENSP00000258455_seed_9606.ttl', './test/tax_9031.ENSGALP00000000419_seed_9031.ttl', './test/tax_59689.scaffold_300885.1_seed_59689.ttl', './test/tax_59689.fgenesh2_kg.4__551__AT2G26330.1_seed_59689.ttl', './test/tax_59689.fgenesh1_pm.C_scaffold_8002229_seed_59689.ttl', './test/tax_59689.fgenesh2_kg.1__1616__AT1G14750.1_seed_59689.ttl', './test/tax_402676.B6K6T8_seed_402676.ttl', './test/tax_9606.ENSP00000360266_seed_9606.ttl', './test/tax_59689.scaffold_600670.1_seed_59689.ttl', './test/tax_402676.B6JX45_seed_402676.ttl', './test/tax_9031.ENSGALP00000014058_seed_9031.ttl', './test/tax_9606.ENSP00000310861_seed_9606.ttl', './test/tax_402676.B6JYG6_seed_402676.ttl', './test/tax_59689.scaffold_802553.1_seed_59689.ttl', './test/tax_59689.scaffold_601220.1_seed_59689.ttl', './test/tax_59689.scaffold_201096.1_seed_59689.ttl', './test/tax_9606.ENSP00000358698_seed_9606.ttl', './test/tax_59689.Al_scaffold_0007_2742_seed_59689.ttl', './test/tax_402676.B6JY77_seed_402676.ttl', './test/tax_59689.scaffold_701161.1_seed_59689.ttl', './test/tax_402676.B6K0H3_seed_402676.ttl', './test/tax_402676.B6K143_seed_402676.ttl', './test/tax_59689.fgenesh2_kg.5__360__AT3G26060.1_seed_59689.ttl', './test/tax_9606.ENSP00000307701_seed_9606.ttl', './test/tax_9031.ENSGALP00000013608_seed_9031.ttl']\n",
      "1818596\n",
      "ns6 22463 ns6 22463\n",
      "nadj: 277.0\n",
      "ns6 22463 ns6 22463\n",
      "https://string-db.org/rdf/medium-confidence-cutoff 277\n",
      "nadj: 255.0\n",
      "ns6 22463 ns6 22463\n",
      "https://string-db.org/rdf/highest-confidence-cutoff 255\n",
      "nadj: 277.0\n",
      "ns6 22463 ns6 22463\n",
      "https://string-db.org/rdf/any-confidence 277\n",
      "nadj: 104004.0\n",
      "ns6 22463 ns6 22463\n",
      "https://string-db.org/rdf/high-confidence-cutoff 104004\n",
      "ns6 22463 ns3 123152\n",
      "ns6 22463 ns5 163298\n",
      "nadj: 22370.0\n",
      "ns6 22463 ns5 163298\n",
      "http://purl.org/lscr#xrefUniprot 22370\n",
      "ns6 22463 ns4 2474\n",
      "ns3 123152 ns6 22463\n",
      "ns3 123152 ns3 123152\n",
      "nadj: 43728.0\n",
      "ns3 123152 ns3 123152\n",
      "file:///work/FAC/FBM/DBC/cdessim2/default/dmoi/projects/RDF_Graphnet/rdf2network/test/protein1_para_protein 43728\n",
      "nadj: 108858.0\n",
      "ns3 123152 ns3 123152\n",
      "file:///work/FAC/FBM/DBC/cdessim2/default/dmoi/projects/RDF_Graphnet/rdf2network/test/protein1_orth_protein 108858\n",
      "ns3 123152 ns5 163298\n",
      "nadj: 133410.0\n",
      "ns3 123152 ns5 163298\n",
      "file:///work/FAC/FBM/DBC/cdessim2/default/dmoi/projects/RDF_Graphnet/rdf2network/test/orth_protein_orth_protein_uniprot 133410\n",
      "nadj: 44434.0\n",
      "ns3 123152 ns5 163298\n",
      "file:///work/FAC/FBM/DBC/cdessim2/default/dmoi/projects/RDF_Graphnet/rdf2network/test/para_protein_para_protein_uniprot 44434\n",
      "nadj: 55004.0\n",
      "ns3 123152 ns5 163298\n",
      "file:///work/FAC/FBM/DBC/cdessim2/default/dmoi/projects/RDF_Graphnet/rdf2network/test/protein1_para_protein_uniprot 55004\n",
      "nadj: 119.0\n",
      "ns3 123152 ns5 163298\n",
      "file:///work/FAC/FBM/DBC/cdessim2/default/dmoi/projects/RDF_Graphnet/rdf2network/test/protein1_protein1_uniprot 119\n",
      "nadj: 149115.0\n",
      "ns3 123152 ns5 163298\n",
      "file:///work/FAC/FBM/DBC/cdessim2/default/dmoi/projects/RDF_Graphnet/rdf2network/test/protein1_orth_protein_uniprot 149115\n",
      "ns3 123152 ns4 2474\n",
      "nadj: 74695.0\n",
      "ns3 123152 ns4 2474\n",
      "file:///work/FAC/FBM/DBC/cdessim2/default/dmoi/projects/RDF_Graphnet/rdf2network/test/protein1_taxon_orth 74695\n",
      "nadj: 119.0\n",
      "ns3 123152 ns4 2474\n",
      "file:///work/FAC/FBM/DBC/cdessim2/default/dmoi/projects/RDF_Graphnet/rdf2network/test/protein1_taxon 119\n",
      "nadj: 35344.0\n",
      "ns3 123152 ns4 2474\n",
      "file:///work/FAC/FBM/DBC/cdessim2/default/dmoi/projects/RDF_Graphnet/rdf2network/test/para_protein_taxon_para 35344\n",
      "nadj: 94111.0\n",
      "ns3 123152 ns4 2474\n",
      "file:///work/FAC/FBM/DBC/cdessim2/default/dmoi/projects/RDF_Graphnet/rdf2network/test/orth_protein_taxon_orth 94111\n",
      "nadj: 14325.0\n",
      "ns3 123152 ns4 2474\n",
      "file:///work/FAC/FBM/DBC/cdessim2/default/dmoi/projects/RDF_Graphnet/rdf2network/test/protein1_taxon_para 14325\n",
      "ns5 163298 ns6 22463\n",
      "ns5 163298 ns3 123152\n",
      "nadj: 108858.0\n",
      "ns5 163298 ns3 123152\n",
      "file:///work/FAC/FBM/DBC/cdessim2/default/dmoi/projects/RDF_Graphnet/rdf2network/test/protein1_uniprot_orth_protein 108858\n",
      "nadj: 43728.0\n",
      "ns5 163298 ns3 123152\n",
      "file:///work/FAC/FBM/DBC/cdessim2/default/dmoi/projects/RDF_Graphnet/rdf2network/test/protein1_uniprot_para_protein 43728\n",
      "ns5 163298 ns5 163298\n",
      "nadj: 55004.0\n",
      "ns5 163298 ns5 163298\n",
      "file:///work/FAC/FBM/DBC/cdessim2/default/dmoi/projects/RDF_Graphnet/rdf2network/test/protein1_uniprot_para_protein_uniprot 55004\n",
      "nadj: 149115.0\n",
      "ns5 163298 ns5 163298\n",
      "file:///work/FAC/FBM/DBC/cdessim2/default/dmoi/projects/RDF_Graphnet/rdf2network/test/protein1_uniprot_orth_protein_uniprot 149115\n",
      "ns5 163298 ns4 2474\n",
      "nadj: 74695.0\n",
      "ns5 163298 ns4 2474\n",
      "file:///work/FAC/FBM/DBC/cdessim2/default/dmoi/projects/RDF_Graphnet/rdf2network/test/protein1_uniprot_taxon_orth 74695\n",
      "nadj: 132703.0\n",
      "ns5 163298 ns4 2474\n",
      "file:///work/FAC/FBM/DBC/cdessim2/default/dmoi/projects/RDF_Graphnet/rdf2network/test/orth_protein_uniprot_taxon_orth 132703\n",
      "nadj: 119.0\n",
      "ns5 163298 ns4 2474\n",
      "file:///work/FAC/FBM/DBC/cdessim2/default/dmoi/projects/RDF_Graphnet/rdf2network/test/protein1_uniprot_taxon 119\n",
      "nadj: 14325.0\n",
      "ns5 163298 ns4 2474\n",
      "file:///work/FAC/FBM/DBC/cdessim2/default/dmoi/projects/RDF_Graphnet/rdf2network/test/protein1_uniprot_taxon_para 14325\n",
      "nadj: 44210.0\n",
      "ns5 163298 ns4 2474\n",
      "file:///work/FAC/FBM/DBC/cdessim2/default/dmoi/projects/RDF_Graphnet/rdf2network/test/para_protein_uniprot_taxon_para 44210\n",
      "ns4 2474 ns6 22463\n",
      "ns4 2474 ns3 123152\n",
      "nadj: 37449.0\n",
      "ns4 2474 ns3 123152\n",
      "file:///work/FAC/FBM/DBC/cdessim2/default/dmoi/projects/RDF_Graphnet/rdf2network/test/taxon_para_protein 37449\n",
      "nadj: 95559.0\n",
      "ns4 2474 ns3 123152\n",
      "file:///work/FAC/FBM/DBC/cdessim2/default/dmoi/projects/RDF_Graphnet/rdf2network/test/taxon_orth_protein 95559\n",
      "ns4 2474 ns5 163298\n",
      "nadj: 46797.0\n",
      "ns4 2474 ns5 163298\n",
      "file:///work/FAC/FBM/DBC/cdessim2/default/dmoi/projects/RDF_Graphnet/rdf2network/test/taxon_para_protein_uniprot 46797\n",
      "nadj: 129289.0\n",
      "ns4 2474 ns5 163298\n",
      "file:///work/FAC/FBM/DBC/cdessim2/default/dmoi/projects/RDF_Graphnet/rdf2network/test/taxon_orth_protein_uniprot 129289\n",
      "ns4 2474 ns4 2474\n",
      "nadj: 1076.0\n",
      "ns4 2474 ns4 2474\n",
      "file:///work/FAC/FBM/DBC/cdessim2/default/dmoi/projects/RDF_Graphnet/rdf2network/test/taxon_taxon_para 1076\n",
      "nadj: 4875.0\n",
      "ns4 2474 ns4 2474\n",
      "file:///work/FAC/FBM/DBC/cdessim2/default/dmoi/projects/RDF_Graphnet/rdf2network/test/taxon_taxon_orth 4875\n",
      "HeteroData(\n",
      "  \u001b[1mns6\u001b[0m={ x=[232345, 1] },\n",
      "  \u001b[1mns3\u001b[0m={ x=[1191442, 1] },\n",
      "  \u001b[1mns5\u001b[0m={ x=[1407414, 1] },\n",
      "  \u001b[1mns4\u001b[0m={ x=[805642, 1] },\n",
      "  \u001b[1m(ns6, <https://string-db.org/rdf/medium-confidence-cutoff>, ns6)\u001b[0m={ edge_index=[2, 232841] },\n",
      "  \u001b[1m(ns6, <https://string-db.org/rdf/highest-confidence-cutoff>, ns6)\u001b[0m={ edge_index=[2, 232797] },\n",
      "  \u001b[1m(ns6, <https://string-db.org/rdf/any-confidence>, ns6)\u001b[0m={ edge_index=[2, 232841] },\n",
      "  \u001b[1m(ns6, <https://string-db.org/rdf/high-confidence-cutoff>, ns6)\u001b[0m={ edge_index=[2, 440289] },\n",
      "  \u001b[1m(ns6, <http://purl.org/lscr#xrefUniprot>, ns5)\u001b[0m={ edge_index=[2, 22370] },\n",
      "  \u001b[1m(ns3, <file:///work/FAC/FBM/DBC/cdessim2/default/dmoi/projects/RDF_Graphnet/rdf2network/test/protein1_para_protein>, ns3)\u001b[0m={ edge_index=[2, 1278848] },\n",
      "  \u001b[1m(ns3, <file:///work/FAC/FBM/DBC/cdessim2/default/dmoi/projects/RDF_Graphnet/rdf2network/test/protein1_orth_protein>, ns3)\u001b[0m={ edge_index=[2, 1409154] },\n",
      "  \u001b[1m(ns3, <file:///work/FAC/FBM/DBC/cdessim2/default/dmoi/projects/RDF_Graphnet/rdf2network/test/orth_protein_orth_protein_uniprot>, ns5)\u001b[0m={ edge_index=[2, 133410] },\n",
      "  \u001b[1m(ns3, <file:///work/FAC/FBM/DBC/cdessim2/default/dmoi/projects/RDF_Graphnet/rdf2network/test/para_protein_para_protein_uniprot>, ns5)\u001b[0m={ edge_index=[2, 44434] },\n",
      "  \u001b[1m(ns3, <file:///work/FAC/FBM/DBC/cdessim2/default/dmoi/projects/RDF_Graphnet/rdf2network/test/protein1_para_protein_uniprot>, ns5)\u001b[0m={ edge_index=[2, 55004] },\n",
      "  \u001b[1m(ns3, <file:///work/FAC/FBM/DBC/cdessim2/default/dmoi/projects/RDF_Graphnet/rdf2network/test/protein1_protein1_uniprot>, ns5)\u001b[0m={ edge_index=[2, 119] },\n",
      "  \u001b[1m(ns3, <file:///work/FAC/FBM/DBC/cdessim2/default/dmoi/projects/RDF_Graphnet/rdf2network/test/protein1_orth_protein_uniprot>, ns5)\u001b[0m={ edge_index=[2, 149115] },\n",
      "  \u001b[1m(ns3, <file:///work/FAC/FBM/DBC/cdessim2/default/dmoi/projects/RDF_Graphnet/rdf2network/test/protein1_taxon_orth>, ns4)\u001b[0m={ edge_index=[2, 74695] },\n",
      "  \u001b[1m(ns3, <file:///work/FAC/FBM/DBC/cdessim2/default/dmoi/projects/RDF_Graphnet/rdf2network/test/protein1_taxon>, ns4)\u001b[0m={ edge_index=[2, 119] },\n",
      "  \u001b[1m(ns3, <file:///work/FAC/FBM/DBC/cdessim2/default/dmoi/projects/RDF_Graphnet/rdf2network/test/para_protein_taxon_para>, ns4)\u001b[0m={ edge_index=[2, 35344] },\n",
      "  \u001b[1m(ns3, <file:///work/FAC/FBM/DBC/cdessim2/default/dmoi/projects/RDF_Graphnet/rdf2network/test/orth_protein_taxon_orth>, ns4)\u001b[0m={ edge_index=[2, 94111] },\n",
      "  \u001b[1m(ns3, <file:///work/FAC/FBM/DBC/cdessim2/default/dmoi/projects/RDF_Graphnet/rdf2network/test/protein1_taxon_para>, ns4)\u001b[0m={ edge_index=[2, 14325] },\n",
      "  \u001b[1m(ns5, <file:///work/FAC/FBM/DBC/cdessim2/default/dmoi/projects/RDF_Graphnet/rdf2network/test/protein1_uniprot_orth_protein>, ns3)\u001b[0m={ edge_index=[2, 108858] },\n",
      "  \u001b[1m(ns5, <file:///work/FAC/FBM/DBC/cdessim2/default/dmoi/projects/RDF_Graphnet/rdf2network/test/protein1_uniprot_para_protein>, ns3)\u001b[0m={ edge_index=[2, 43728] },\n",
      "  \u001b[1m(ns5, <file:///work/FAC/FBM/DBC/cdessim2/default/dmoi/projects/RDF_Graphnet/rdf2network/test/protein1_uniprot_para_protein_uniprot>, ns5)\u001b[0m={ edge_index=[2, 1517372] },\n",
      "  \u001b[1m(ns5, <file:///work/FAC/FBM/DBC/cdessim2/default/dmoi/projects/RDF_Graphnet/rdf2network/test/protein1_uniprot_orth_protein_uniprot>, ns5)\u001b[0m={ edge_index=[2, 1705640] },\n",
      "  \u001b[1m(ns5, <file:///work/FAC/FBM/DBC/cdessim2/default/dmoi/projects/RDF_Graphnet/rdf2network/test/protein1_uniprot_taxon_orth>, ns4)\u001b[0m={ edge_index=[2, 74695] },\n",
      "  \u001b[1m(ns5, <file:///work/FAC/FBM/DBC/cdessim2/default/dmoi/projects/RDF_Graphnet/rdf2network/test/orth_protein_uniprot_taxon_orth>, ns4)\u001b[0m={ edge_index=[2, 132703] },\n",
      "  \u001b[1m(ns5, <file:///work/FAC/FBM/DBC/cdessim2/default/dmoi/projects/RDF_Graphnet/rdf2network/test/protein1_uniprot_taxon>, ns4)\u001b[0m={ edge_index=[2, 119] },\n",
      "  \u001b[1m(ns5, <file:///work/FAC/FBM/DBC/cdessim2/default/dmoi/projects/RDF_Graphnet/rdf2network/test/protein1_uniprot_taxon_para>, ns4)\u001b[0m={ edge_index=[2, 14325] },\n",
      "  \u001b[1m(ns5, <file:///work/FAC/FBM/DBC/cdessim2/default/dmoi/projects/RDF_Graphnet/rdf2network/test/para_protein_uniprot_taxon_para>, ns4)\u001b[0m={ edge_index=[2, 44210] },\n",
      "  \u001b[1m(ns4, <file:///work/FAC/FBM/DBC/cdessim2/default/dmoi/projects/RDF_Graphnet/rdf2network/test/taxon_para_protein>, ns3)\u001b[0m={ edge_index=[2, 37449] },\n",
      "  \u001b[1m(ns4, <file:///work/FAC/FBM/DBC/cdessim2/default/dmoi/projects/RDF_Graphnet/rdf2network/test/taxon_orth_protein>, ns3)\u001b[0m={ edge_index=[2, 95559] },\n",
      "  \u001b[1m(ns4, <file:///work/FAC/FBM/DBC/cdessim2/default/dmoi/projects/RDF_Graphnet/rdf2network/test/taxon_para_protein_uniprot>, ns5)\u001b[0m={ edge_index=[2, 46797] },\n",
      "  \u001b[1m(ns4, <file:///work/FAC/FBM/DBC/cdessim2/default/dmoi/projects/RDF_Graphnet/rdf2network/test/taxon_orth_protein_uniprot>, ns5)\u001b[0m={ edge_index=[2, 129289] },\n",
      "  \u001b[1m(ns4, <file:///work/FAC/FBM/DBC/cdessim2/default/dmoi/projects/RDF_Graphnet/rdf2network/test/taxon_taxon_para>, ns4)\u001b[0m={ edge_index=[2, 807790] },\n",
      "  \u001b[1m(ns4, <file:///work/FAC/FBM/DBC/cdessim2/default/dmoi/projects/RDF_Graphnet/rdf2network/test/taxon_taxon_orth>, ns4)\u001b[0m={ edge_index=[2, 815390] },\n",
      "  \u001b[1m(ns5, rev_<http://purl.org/lscr#xrefUniprot>, ns6)\u001b[0m={ edge_index=[2, 22370] },\n",
      "  \u001b[1m(ns5, rev_<file:///work/FAC/FBM/DBC/cdessim2/default/dmoi/projects/RDF_Graphnet/rdf2network/test/orth_protein_orth_protein_uniprot>, ns3)\u001b[0m={ edge_index=[2, 133410] },\n",
      "  \u001b[1m(ns5, rev_<file:///work/FAC/FBM/DBC/cdessim2/default/dmoi/projects/RDF_Graphnet/rdf2network/test/para_protein_para_protein_uniprot>, ns3)\u001b[0m={ edge_index=[2, 44434] },\n",
      "  \u001b[1m(ns5, rev_<file:///work/FAC/FBM/DBC/cdessim2/default/dmoi/projects/RDF_Graphnet/rdf2network/test/protein1_para_protein_uniprot>, ns3)\u001b[0m={ edge_index=[2, 55004] },\n",
      "  \u001b[1m(ns5, rev_<file:///work/FAC/FBM/DBC/cdessim2/default/dmoi/projects/RDF_Graphnet/rdf2network/test/protein1_protein1_uniprot>, ns3)\u001b[0m={ edge_index=[2, 119] },\n",
      "  \u001b[1m(ns5, rev_<file:///work/FAC/FBM/DBC/cdessim2/default/dmoi/projects/RDF_Graphnet/rdf2network/test/protein1_orth_protein_uniprot>, ns3)\u001b[0m={ edge_index=[2, 149115] },\n",
      "  \u001b[1m(ns4, rev_<file:///work/FAC/FBM/DBC/cdessim2/default/dmoi/projects/RDF_Graphnet/rdf2network/test/protein1_taxon_orth>, ns3)\u001b[0m={ edge_index=[2, 74695] },\n",
      "  \u001b[1m(ns4, rev_<file:///work/FAC/FBM/DBC/cdessim2/default/dmoi/projects/RDF_Graphnet/rdf2network/test/protein1_taxon>, ns3)\u001b[0m={ edge_index=[2, 119] },\n",
      "  \u001b[1m(ns4, rev_<file:///work/FAC/FBM/DBC/cdessim2/default/dmoi/projects/RDF_Graphnet/rdf2network/test/para_protein_taxon_para>, ns3)\u001b[0m={ edge_index=[2, 35344] },\n",
      "  \u001b[1m(ns4, rev_<file:///work/FAC/FBM/DBC/cdessim2/default/dmoi/projects/RDF_Graphnet/rdf2network/test/orth_protein_taxon_orth>, ns3)\u001b[0m={ edge_index=[2, 94111] },\n",
      "  \u001b[1m(ns4, rev_<file:///work/FAC/FBM/DBC/cdessim2/default/dmoi/projects/RDF_Graphnet/rdf2network/test/protein1_taxon_para>, ns3)\u001b[0m={ edge_index=[2, 14325] },\n",
      "  \u001b[1m(ns3, rev_<file:///work/FAC/FBM/DBC/cdessim2/default/dmoi/projects/RDF_Graphnet/rdf2network/test/protein1_uniprot_orth_protein>, ns5)\u001b[0m={ edge_index=[2, 108858] },\n",
      "  \u001b[1m(ns3, rev_<file:///work/FAC/FBM/DBC/cdessim2/default/dmoi/projects/RDF_Graphnet/rdf2network/test/protein1_uniprot_para_protein>, ns5)\u001b[0m={ edge_index=[2, 43728] },\n",
      "  \u001b[1m(ns4, rev_<file:///work/FAC/FBM/DBC/cdessim2/default/dmoi/projects/RDF_Graphnet/rdf2network/test/protein1_uniprot_taxon_orth>, ns5)\u001b[0m={ edge_index=[2, 74695] },\n",
      "  \u001b[1m(ns4, rev_<file:///work/FAC/FBM/DBC/cdessim2/default/dmoi/projects/RDF_Graphnet/rdf2network/test/orth_protein_uniprot_taxon_orth>, ns5)\u001b[0m={ edge_index=[2, 132703] },\n",
      "  \u001b[1m(ns4, rev_<file:///work/FAC/FBM/DBC/cdessim2/default/dmoi/projects/RDF_Graphnet/rdf2network/test/protein1_uniprot_taxon>, ns5)\u001b[0m={ edge_index=[2, 119] },\n",
      "  \u001b[1m(ns4, rev_<file:///work/FAC/FBM/DBC/cdessim2/default/dmoi/projects/RDF_Graphnet/rdf2network/test/protein1_uniprot_taxon_para>, ns5)\u001b[0m={ edge_index=[2, 14325] },\n",
      "  \u001b[1m(ns4, rev_<file:///work/FAC/FBM/DBC/cdessim2/default/dmoi/projects/RDF_Graphnet/rdf2network/test/para_protein_uniprot_taxon_para>, ns5)\u001b[0m={ edge_index=[2, 44210] },\n",
      "  \u001b[1m(ns3, rev_<file:///work/FAC/FBM/DBC/cdessim2/default/dmoi/projects/RDF_Graphnet/rdf2network/test/taxon_para_protein>, ns4)\u001b[0m={ edge_index=[2, 37449] },\n",
      "  \u001b[1m(ns3, rev_<file:///work/FAC/FBM/DBC/cdessim2/default/dmoi/projects/RDF_Graphnet/rdf2network/test/taxon_orth_protein>, ns4)\u001b[0m={ edge_index=[2, 95559] },\n",
      "  \u001b[1m(ns5, rev_<file:///work/FAC/FBM/DBC/cdessim2/default/dmoi/projects/RDF_Graphnet/rdf2network/test/taxon_para_protein_uniprot>, ns4)\u001b[0m={ edge_index=[2, 46797] },\n",
      "  \u001b[1m(ns5, rev_<file:///work/FAC/FBM/DBC/cdessim2/default/dmoi/projects/RDF_Graphnet/rdf2network/test/taxon_orth_protein_uniprot>, ns4)\u001b[0m={ edge_index=[2, 129289] }\n",
      ") {'ns6': 1, 'ns3': 1, 'ns5': 1, 'ns4': 1} {('ns6', '<https://string-db.org/rdf/medium-confidence-cutoff>', 'ns6'): 1, ('ns6', 'rev_<https://string-db.org/rdf/medium-confidence-cutoff>', 'ns6'): 1, ('ns6', '<https://string-db.org/rdf/highest-confidence-cutoff>', 'ns6'): 1, ('ns6', 'rev_<https://string-db.org/rdf/highest-confidence-cutoff>', 'ns6'): 1, ('ns6', '<https://string-db.org/rdf/any-confidence>', 'ns6'): 1, ('ns6', 'rev_<https://string-db.org/rdf/any-confidence>', 'ns6'): 1, ('ns6', '<https://string-db.org/rdf/high-confidence-cutoff>', 'ns6'): 1, ('ns6', 'rev_<https://string-db.org/rdf/high-confidence-cutoff>', 'ns6'): 1, ('ns6', '<http://purl.org/lscr#xrefUniprot>', 'ns5'): 1, ('ns5', 'rev_<http://purl.org/lscr#xrefUniprot>', 'ns6'): 1, ('ns3', '<file:///work/FAC/FBM/DBC/cdessim2/default/dmoi/projects/RDF_Graphnet/rdf2network/test/protein1_para_protein>', 'ns3'): 1, ('ns3', 'rev_<file:///work/FAC/FBM/DBC/cdessim2/default/dmoi/projects/RDF_Graphnet/rdf2network/test/protein1_para_protein>', 'ns3'): 1, ('ns3', '<file:///work/FAC/FBM/DBC/cdessim2/default/dmoi/projects/RDF_Graphnet/rdf2network/test/protein1_orth_protein>', 'ns3'): 1, ('ns3', 'rev_<file:///work/FAC/FBM/DBC/cdessim2/default/dmoi/projects/RDF_Graphnet/rdf2network/test/protein1_orth_protein>', 'ns3'): 1, ('ns3', '<file:///work/FAC/FBM/DBC/cdessim2/default/dmoi/projects/RDF_Graphnet/rdf2network/test/orth_protein_orth_protein_uniprot>', 'ns5'): 1, ('ns5', 'rev_<file:///work/FAC/FBM/DBC/cdessim2/default/dmoi/projects/RDF_Graphnet/rdf2network/test/orth_protein_orth_protein_uniprot>', 'ns3'): 1, ('ns3', '<file:///work/FAC/FBM/DBC/cdessim2/default/dmoi/projects/RDF_Graphnet/rdf2network/test/para_protein_para_protein_uniprot>', 'ns5'): 1, ('ns5', 'rev_<file:///work/FAC/FBM/DBC/cdessim2/default/dmoi/projects/RDF_Graphnet/rdf2network/test/para_protein_para_protein_uniprot>', 'ns3'): 1, ('ns3', '<file:///work/FAC/FBM/DBC/cdessim2/default/dmoi/projects/RDF_Graphnet/rdf2network/test/protein1_para_protein_uniprot>', 'ns5'): 1, ('ns5', 'rev_<file:///work/FAC/FBM/DBC/cdessim2/default/dmoi/projects/RDF_Graphnet/rdf2network/test/protein1_para_protein_uniprot>', 'ns3'): 1, ('ns3', '<file:///work/FAC/FBM/DBC/cdessim2/default/dmoi/projects/RDF_Graphnet/rdf2network/test/protein1_protein1_uniprot>', 'ns5'): 1, ('ns5', 'rev_<file:///work/FAC/FBM/DBC/cdessim2/default/dmoi/projects/RDF_Graphnet/rdf2network/test/protein1_protein1_uniprot>', 'ns3'): 1, ('ns3', '<file:///work/FAC/FBM/DBC/cdessim2/default/dmoi/projects/RDF_Graphnet/rdf2network/test/protein1_orth_protein_uniprot>', 'ns5'): 1, ('ns5', 'rev_<file:///work/FAC/FBM/DBC/cdessim2/default/dmoi/projects/RDF_Graphnet/rdf2network/test/protein1_orth_protein_uniprot>', 'ns3'): 1, ('ns3', '<file:///work/FAC/FBM/DBC/cdessim2/default/dmoi/projects/RDF_Graphnet/rdf2network/test/protein1_taxon_orth>', 'ns4'): 1, ('ns4', 'rev_<file:///work/FAC/FBM/DBC/cdessim2/default/dmoi/projects/RDF_Graphnet/rdf2network/test/protein1_taxon_orth>', 'ns3'): 1, ('ns3', '<file:///work/FAC/FBM/DBC/cdessim2/default/dmoi/projects/RDF_Graphnet/rdf2network/test/protein1_taxon>', 'ns4'): 1, ('ns4', 'rev_<file:///work/FAC/FBM/DBC/cdessim2/default/dmoi/projects/RDF_Graphnet/rdf2network/test/protein1_taxon>', 'ns3'): 1, ('ns3', '<file:///work/FAC/FBM/DBC/cdessim2/default/dmoi/projects/RDF_Graphnet/rdf2network/test/para_protein_taxon_para>', 'ns4'): 1, ('ns4', 'rev_<file:///work/FAC/FBM/DBC/cdessim2/default/dmoi/projects/RDF_Graphnet/rdf2network/test/para_protein_taxon_para>', 'ns3'): 1, ('ns3', '<file:///work/FAC/FBM/DBC/cdessim2/default/dmoi/projects/RDF_Graphnet/rdf2network/test/orth_protein_taxon_orth>', 'ns4'): 1, ('ns4', 'rev_<file:///work/FAC/FBM/DBC/cdessim2/default/dmoi/projects/RDF_Graphnet/rdf2network/test/orth_protein_taxon_orth>', 'ns3'): 1, ('ns3', '<file:///work/FAC/FBM/DBC/cdessim2/default/dmoi/projects/RDF_Graphnet/rdf2network/test/protein1_taxon_para>', 'ns4'): 1, ('ns4', 'rev_<file:///work/FAC/FBM/DBC/cdessim2/default/dmoi/projects/RDF_Graphnet/rdf2network/test/protein1_taxon_para>', 'ns3'): 1, ('ns5', '<file:///work/FAC/FBM/DBC/cdessim2/default/dmoi/projects/RDF_Graphnet/rdf2network/test/protein1_uniprot_orth_protein>', 'ns3'): 1, ('ns3', 'rev_<file:///work/FAC/FBM/DBC/cdessim2/default/dmoi/projects/RDF_Graphnet/rdf2network/test/protein1_uniprot_orth_protein>', 'ns5'): 1, ('ns5', '<file:///work/FAC/FBM/DBC/cdessim2/default/dmoi/projects/RDF_Graphnet/rdf2network/test/protein1_uniprot_para_protein>', 'ns3'): 1, ('ns3', 'rev_<file:///work/FAC/FBM/DBC/cdessim2/default/dmoi/projects/RDF_Graphnet/rdf2network/test/protein1_uniprot_para_protein>', 'ns5'): 1, ('ns5', '<file:///work/FAC/FBM/DBC/cdessim2/default/dmoi/projects/RDF_Graphnet/rdf2network/test/protein1_uniprot_para_protein_uniprot>', 'ns5'): 1, ('ns5', 'rev_<file:///work/FAC/FBM/DBC/cdessim2/default/dmoi/projects/RDF_Graphnet/rdf2network/test/protein1_uniprot_para_protein_uniprot>', 'ns5'): 1, ('ns5', '<file:///work/FAC/FBM/DBC/cdessim2/default/dmoi/projects/RDF_Graphnet/rdf2network/test/protein1_uniprot_orth_protein_uniprot>', 'ns5'): 1, ('ns5', 'rev_<file:///work/FAC/FBM/DBC/cdessim2/default/dmoi/projects/RDF_Graphnet/rdf2network/test/protein1_uniprot_orth_protein_uniprot>', 'ns5'): 1, ('ns5', '<file:///work/FAC/FBM/DBC/cdessim2/default/dmoi/projects/RDF_Graphnet/rdf2network/test/protein1_uniprot_taxon_orth>', 'ns4'): 1, ('ns4', 'rev_<file:///work/FAC/FBM/DBC/cdessim2/default/dmoi/projects/RDF_Graphnet/rdf2network/test/protein1_uniprot_taxon_orth>', 'ns5'): 1, ('ns5', '<file:///work/FAC/FBM/DBC/cdessim2/default/dmoi/projects/RDF_Graphnet/rdf2network/test/orth_protein_uniprot_taxon_orth>', 'ns4'): 1, ('ns4', 'rev_<file:///work/FAC/FBM/DBC/cdessim2/default/dmoi/projects/RDF_Graphnet/rdf2network/test/orth_protein_uniprot_taxon_orth>', 'ns5'): 1, ('ns5', '<file:///work/FAC/FBM/DBC/cdessim2/default/dmoi/projects/RDF_Graphnet/rdf2network/test/protein1_uniprot_taxon>', 'ns4'): 1, ('ns4', 'rev_<file:///work/FAC/FBM/DBC/cdessim2/default/dmoi/projects/RDF_Graphnet/rdf2network/test/protein1_uniprot_taxon>', 'ns5'): 1, ('ns5', '<file:///work/FAC/FBM/DBC/cdessim2/default/dmoi/projects/RDF_Graphnet/rdf2network/test/protein1_uniprot_taxon_para>', 'ns4'): 1, ('ns4', 'rev_<file:///work/FAC/FBM/DBC/cdessim2/default/dmoi/projects/RDF_Graphnet/rdf2network/test/protein1_uniprot_taxon_para>', 'ns5'): 1, ('ns5', '<file:///work/FAC/FBM/DBC/cdessim2/default/dmoi/projects/RDF_Graphnet/rdf2network/test/para_protein_uniprot_taxon_para>', 'ns4'): 1, ('ns4', 'rev_<file:///work/FAC/FBM/DBC/cdessim2/default/dmoi/projects/RDF_Graphnet/rdf2network/test/para_protein_uniprot_taxon_para>', 'ns5'): 1, ('ns4', '<file:///work/FAC/FBM/DBC/cdessim2/default/dmoi/projects/RDF_Graphnet/rdf2network/test/taxon_para_protein>', 'ns3'): 1, ('ns3', 'rev_<file:///work/FAC/FBM/DBC/cdessim2/default/dmoi/projects/RDF_Graphnet/rdf2network/test/taxon_para_protein>', 'ns4'): 1, ('ns4', '<file:///work/FAC/FBM/DBC/cdessim2/default/dmoi/projects/RDF_Graphnet/rdf2network/test/taxon_orth_protein>', 'ns3'): 1, ('ns3', 'rev_<file:///work/FAC/FBM/DBC/cdessim2/default/dmoi/projects/RDF_Graphnet/rdf2network/test/taxon_orth_protein>', 'ns4'): 1, ('ns4', '<file:///work/FAC/FBM/DBC/cdessim2/default/dmoi/projects/RDF_Graphnet/rdf2network/test/taxon_para_protein_uniprot>', 'ns5'): 1, ('ns5', 'rev_<file:///work/FAC/FBM/DBC/cdessim2/default/dmoi/projects/RDF_Graphnet/rdf2network/test/taxon_para_protein_uniprot>', 'ns4'): 1, ('ns4', '<file:///work/FAC/FBM/DBC/cdessim2/default/dmoi/projects/RDF_Graphnet/rdf2network/test/taxon_orth_protein_uniprot>', 'ns5'): 1, ('ns5', 'rev_<file:///work/FAC/FBM/DBC/cdessim2/default/dmoi/projects/RDF_Graphnet/rdf2network/test/taxon_orth_protein_uniprot>', 'ns4'): 1, ('ns4', '<file:///work/FAC/FBM/DBC/cdessim2/default/dmoi/projects/RDF_Graphnet/rdf2network/test/taxon_taxon_para>', 'ns4'): 1, ('ns4', 'rev_<file:///work/FAC/FBM/DBC/cdessim2/default/dmoi/projects/RDF_Graphnet/rdf2network/test/taxon_taxon_para>', 'ns4'): 1, ('ns4', '<file:///work/FAC/FBM/DBC/cdessim2/default/dmoi/projects/RDF_Graphnet/rdf2network/test/taxon_taxon_orth>', 'ns4'): 1, ('ns4', 'rev_<file:///work/FAC/FBM/DBC/cdessim2/default/dmoi/projects/RDF_Graphnet/rdf2network/test/taxon_taxon_orth>', 'ns4'): 1}\n"
     ]
    }
   ],
   "source": [
    "#get a model\n",
    "import NX2pyg\n",
    "import buildmodel\n",
    "import rdflib\n",
    "import glob\n",
    "graphs = glob.glob('./test/*.ttl')\n",
    "import NX2pyg\n",
    "print(graphs ) \n",
    "#load 1 sample to initialize a model\n",
    "readg.parse('./test/tax_402676.B6JZZ0_seed_402676.ttl')\n",
    "print(len(readg))\n",
    "#set prediction link type\n",
    "\n",
    "pred_s,pred_p,pred_o = ('ns6', '<https://string-db.org/rdf/high-confidence-cutoff>', 'ns6')\n",
    "#load one heterodata sample\n",
    "data , inputdims , interactions  = NX2pyg.rdf2hetero(readg)\n",
    "print(data , inputdims , interactions )\n",
    "#set final layer before linkpred size\n",
    "outputdims = { t : 50 for t in inputdims }"
   ]
  },
  {
   "cell_type": "code",
   "execution_count": 23,
   "metadata": {},
   "outputs": [
    {
     "name": "stdout",
     "output_type": "stream",
     "text": [
      "{('ns3', '<file:///work/FAC/FBM/DBC/cdessim2/default/dmoi/projects/RDF_Graphnet/rdf2network/test/protein1_para_protein>', 'ns3'): EdgeConv(), ('ns3', 'rev_<file:///work/FAC/FBM/DBC/cdessim2/default/dmoi/projects/RDF_Graphnet/rdf2network/test/protein1_para_protein>', 'ns3'): EdgeConv(), ('ns3', '<file:///work/FAC/FBM/DBC/cdessim2/default/dmoi/projects/RDF_Graphnet/rdf2network/test/protein1_orth_protein>', 'ns3'): EdgeConv(), ('ns3', 'rev_<file:///work/FAC/FBM/DBC/cdessim2/default/dmoi/projects/RDF_Graphnet/rdf2network/test/protein1_orth_protein>', 'ns3'): EdgeConv(), ('ns3', '<file:///work/FAC/FBM/DBC/cdessim2/default/dmoi/projects/RDF_Graphnet/rdf2network/test/protein1_taxon_orth>', 'ns4'): EdgeConv(), ('ns4', 'rev_<file:///work/FAC/FBM/DBC/cdessim2/default/dmoi/projects/RDF_Graphnet/rdf2network/test/protein1_taxon_orth>', 'ns3'): EdgeConv(), ('ns3', '<file:///work/FAC/FBM/DBC/cdessim2/default/dmoi/projects/RDF_Graphnet/rdf2network/test/protein1_taxon>', 'ns4'): EdgeConv(), ('ns4', 'rev_<file:///work/FAC/FBM/DBC/cdessim2/default/dmoi/projects/RDF_Graphnet/rdf2network/test/protein1_taxon>', 'ns3'): EdgeConv(), ('ns3', '<file:///work/FAC/FBM/DBC/cdessim2/default/dmoi/projects/RDF_Graphnet/rdf2network/test/para_protein_taxon_para>', 'ns4'): EdgeConv(), ('ns4', 'rev_<file:///work/FAC/FBM/DBC/cdessim2/default/dmoi/projects/RDF_Graphnet/rdf2network/test/para_protein_taxon_para>', 'ns3'): EdgeConv(), ('ns3', '<file:///work/FAC/FBM/DBC/cdessim2/default/dmoi/projects/RDF_Graphnet/rdf2network/test/orth_protein_taxon_orth>', 'ns4'): EdgeConv(), ('ns4', 'rev_<file:///work/FAC/FBM/DBC/cdessim2/default/dmoi/projects/RDF_Graphnet/rdf2network/test/orth_protein_taxon_orth>', 'ns3'): EdgeConv(), ('ns3', '<file:///work/FAC/FBM/DBC/cdessim2/default/dmoi/projects/RDF_Graphnet/rdf2network/test/protein1_taxon_para>', 'ns4'): EdgeConv(), ('ns4', 'rev_<file:///work/FAC/FBM/DBC/cdessim2/default/dmoi/projects/RDF_Graphnet/rdf2network/test/protein1_taxon_para>', 'ns3'): EdgeConv(), ('ns3', '<file:///work/FAC/FBM/DBC/cdessim2/default/dmoi/projects/RDF_Graphnet/rdf2network/test/orth_protein_orth_protein_uniprot>', 'ns5'): EdgeConv(), ('ns5', 'rev_<file:///work/FAC/FBM/DBC/cdessim2/default/dmoi/projects/RDF_Graphnet/rdf2network/test/orth_protein_orth_protein_uniprot>', 'ns3'): EdgeConv(), ('ns3', '<file:///work/FAC/FBM/DBC/cdessim2/default/dmoi/projects/RDF_Graphnet/rdf2network/test/para_protein_para_protein_uniprot>', 'ns5'): EdgeConv(), ('ns5', 'rev_<file:///work/FAC/FBM/DBC/cdessim2/default/dmoi/projects/RDF_Graphnet/rdf2network/test/para_protein_para_protein_uniprot>', 'ns3'): EdgeConv(), ('ns3', '<file:///work/FAC/FBM/DBC/cdessim2/default/dmoi/projects/RDF_Graphnet/rdf2network/test/protein1_para_protein_uniprot>', 'ns5'): EdgeConv(), ('ns5', 'rev_<file:///work/FAC/FBM/DBC/cdessim2/default/dmoi/projects/RDF_Graphnet/rdf2network/test/protein1_para_protein_uniprot>', 'ns3'): EdgeConv(), ('ns3', '<file:///work/FAC/FBM/DBC/cdessim2/default/dmoi/projects/RDF_Graphnet/rdf2network/test/protein1_protein1_uniprot>', 'ns5'): EdgeConv(), ('ns5', 'rev_<file:///work/FAC/FBM/DBC/cdessim2/default/dmoi/projects/RDF_Graphnet/rdf2network/test/protein1_protein1_uniprot>', 'ns3'): EdgeConv(), ('ns3', '<file:///work/FAC/FBM/DBC/cdessim2/default/dmoi/projects/RDF_Graphnet/rdf2network/test/protein1_orth_protein_uniprot>', 'ns5'): EdgeConv(), ('ns5', 'rev_<file:///work/FAC/FBM/DBC/cdessim2/default/dmoi/projects/RDF_Graphnet/rdf2network/test/protein1_orth_protein_uniprot>', 'ns3'): EdgeConv(), ('ns4', '<file:///work/FAC/FBM/DBC/cdessim2/default/dmoi/projects/RDF_Graphnet/rdf2network/test/taxon_para_protein>', 'ns3'): EdgeConv(), ('ns3', 'rev_<file:///work/FAC/FBM/DBC/cdessim2/default/dmoi/projects/RDF_Graphnet/rdf2network/test/taxon_para_protein>', 'ns4'): EdgeConv(), ('ns4', '<file:///work/FAC/FBM/DBC/cdessim2/default/dmoi/projects/RDF_Graphnet/rdf2network/test/taxon_orth_protein>', 'ns3'): EdgeConv(), ('ns3', 'rev_<file:///work/FAC/FBM/DBC/cdessim2/default/dmoi/projects/RDF_Graphnet/rdf2network/test/taxon_orth_protein>', 'ns4'): EdgeConv(), ('ns4', '<file:///work/FAC/FBM/DBC/cdessim2/default/dmoi/projects/RDF_Graphnet/rdf2network/test/taxon_taxon_para>', 'ns4'): EdgeConv(), ('ns4', 'rev_<file:///work/FAC/FBM/DBC/cdessim2/default/dmoi/projects/RDF_Graphnet/rdf2network/test/taxon_taxon_para>', 'ns4'): EdgeConv(), ('ns4', '<file:///work/FAC/FBM/DBC/cdessim2/default/dmoi/projects/RDF_Graphnet/rdf2network/test/taxon_taxon_orth>', 'ns4'): EdgeConv(), ('ns4', 'rev_<file:///work/FAC/FBM/DBC/cdessim2/default/dmoi/projects/RDF_Graphnet/rdf2network/test/taxon_taxon_orth>', 'ns4'): EdgeConv(), ('ns4', '<file:///work/FAC/FBM/DBC/cdessim2/default/dmoi/projects/RDF_Graphnet/rdf2network/test/taxon_para_protein_uniprot>', 'ns5'): EdgeConv(), ('ns5', 'rev_<file:///work/FAC/FBM/DBC/cdessim2/default/dmoi/projects/RDF_Graphnet/rdf2network/test/taxon_para_protein_uniprot>', 'ns4'): EdgeConv(), ('ns4', '<file:///work/FAC/FBM/DBC/cdessim2/default/dmoi/projects/RDF_Graphnet/rdf2network/test/taxon_orth_protein_uniprot>', 'ns5'): EdgeConv(), ('ns5', 'rev_<file:///work/FAC/FBM/DBC/cdessim2/default/dmoi/projects/RDF_Graphnet/rdf2network/test/taxon_orth_protein_uniprot>', 'ns4'): EdgeConv(), ('ns5', '<file:///work/FAC/FBM/DBC/cdessim2/default/dmoi/projects/RDF_Graphnet/rdf2network/test/protein1_uniprot_orth_protein>', 'ns3'): EdgeConv(), ('ns3', 'rev_<file:///work/FAC/FBM/DBC/cdessim2/default/dmoi/projects/RDF_Graphnet/rdf2network/test/protein1_uniprot_orth_protein>', 'ns5'): EdgeConv(), ('ns5', '<file:///work/FAC/FBM/DBC/cdessim2/default/dmoi/projects/RDF_Graphnet/rdf2network/test/protein1_uniprot_para_protein>', 'ns3'): EdgeConv(), ('ns3', 'rev_<file:///work/FAC/FBM/DBC/cdessim2/default/dmoi/projects/RDF_Graphnet/rdf2network/test/protein1_uniprot_para_protein>', 'ns5'): EdgeConv(), ('ns5', '<file:///work/FAC/FBM/DBC/cdessim2/default/dmoi/projects/RDF_Graphnet/rdf2network/test/protein1_uniprot_taxon_orth>', 'ns4'): EdgeConv(), ('ns4', 'rev_<file:///work/FAC/FBM/DBC/cdessim2/default/dmoi/projects/RDF_Graphnet/rdf2network/test/protein1_uniprot_taxon_orth>', 'ns5'): EdgeConv(), ('ns5', '<file:///work/FAC/FBM/DBC/cdessim2/default/dmoi/projects/RDF_Graphnet/rdf2network/test/orth_protein_uniprot_taxon_orth>', 'ns4'): EdgeConv(), ('ns4', 'rev_<file:///work/FAC/FBM/DBC/cdessim2/default/dmoi/projects/RDF_Graphnet/rdf2network/test/orth_protein_uniprot_taxon_orth>', 'ns5'): EdgeConv(), ('ns5', '<file:///work/FAC/FBM/DBC/cdessim2/default/dmoi/projects/RDF_Graphnet/rdf2network/test/protein1_uniprot_taxon>', 'ns4'): EdgeConv(), ('ns4', 'rev_<file:///work/FAC/FBM/DBC/cdessim2/default/dmoi/projects/RDF_Graphnet/rdf2network/test/protein1_uniprot_taxon>', 'ns5'): EdgeConv(), ('ns5', '<file:///work/FAC/FBM/DBC/cdessim2/default/dmoi/projects/RDF_Graphnet/rdf2network/test/protein1_uniprot_taxon_para>', 'ns4'): EdgeConv(), ('ns4', 'rev_<file:///work/FAC/FBM/DBC/cdessim2/default/dmoi/projects/RDF_Graphnet/rdf2network/test/protein1_uniprot_taxon_para>', 'ns5'): EdgeConv(), ('ns5', '<file:///work/FAC/FBM/DBC/cdessim2/default/dmoi/projects/RDF_Graphnet/rdf2network/test/para_protein_uniprot_taxon_para>', 'ns4'): EdgeConv(), ('ns4', 'rev_<file:///work/FAC/FBM/DBC/cdessim2/default/dmoi/projects/RDF_Graphnet/rdf2network/test/para_protein_uniprot_taxon_para>', 'ns5'): EdgeConv(), ('ns5', '<file:///work/FAC/FBM/DBC/cdessim2/default/dmoi/projects/RDF_Graphnet/rdf2network/test/protein1_uniprot_para_protein_uniprot>', 'ns5'): EdgeConv(), ('ns5', 'rev_<file:///work/FAC/FBM/DBC/cdessim2/default/dmoi/projects/RDF_Graphnet/rdf2network/test/protein1_uniprot_para_protein_uniprot>', 'ns5'): EdgeConv(), ('ns5', '<file:///work/FAC/FBM/DBC/cdessim2/default/dmoi/projects/RDF_Graphnet/rdf2network/test/protein1_uniprot_orth_protein_uniprot>', 'ns5'): EdgeConv(), ('ns5', 'rev_<file:///work/FAC/FBM/DBC/cdessim2/default/dmoi/projects/RDF_Graphnet/rdf2network/test/protein1_uniprot_orth_protein_uniprot>', 'ns5'): EdgeConv(), ('ns6', '<http://purl.org/lscr#xrefUniprot>', 'ns5'): EdgeConv(), ('ns5', 'rev_<http://purl.org/lscr#xrefUniprot>', 'ns6'): EdgeConv(), ('ns6', '<https://string-db.org/rdf/medium-confidence-cutoff>', 'ns6'): EdgeConv(), ('ns6', 'rev_<https://string-db.org/rdf/medium-confidence-cutoff>', 'ns6'): EdgeConv(), ('ns6', '<https://string-db.org/rdf/highest-confidence-cutoff>', 'ns6'): EdgeConv(), ('ns6', 'rev_<https://string-db.org/rdf/highest-confidence-cutoff>', 'ns6'): EdgeConv(), ('ns6', '<https://string-db.org/rdf/any-confidence>', 'ns6'): EdgeConv(), ('ns6', 'rev_<https://string-db.org/rdf/any-confidence>', 'ns6'): EdgeConv(), ('ns6', '<https://string-db.org/rdf/high-confidence-cutoff>', 'ns6'): EdgeConv(), ('ns6', 'rev_<https://string-db.org/rdf/high-confidence-cutoff>', 'ns6'): EdgeConv()}\n",
      "hidden units 500\n",
      "layer 0\n",
      "hidden units 500\n",
      "layer 1\n",
      "hidden units 500\n",
      "layer 2\n",
      "hidden units 500\n",
      "layer 3\n",
      "HeteroGCN_linkpred(\n",
      "  (convs): ModuleList(\n",
      "    (0): HeteroConv(num_relations=64)\n",
      "    (1): HeteroConv(num_relations=64)\n",
      "    (2): HeteroConv(num_relations=64)\n",
      "    (3): HeteroConv(num_relations=64)\n",
      "  )\n",
      "  (lins): ModuleDict(\n",
      "    (ns3): Linear(-1, 500, bias=True)\n",
      "    (ns4): Linear(-1, 500, bias=True)\n",
      "    (ns5): Linear(-1, 500, bias=True)\n",
      "    (ns6): Linear(-1, 500, bias=True)\n",
      "  )\n",
      "  (lins2): ModuleDict(\n",
      "    (ns6): Linear(-1, 50, bias=True)\n",
      "    (ns3): Linear(-1, 50, bias=True)\n",
      "    (ns5): Linear(-1, 50, bias=True)\n",
      "    (ns4): Linear(-1, 50, bias=True)\n",
      "  )\n",
      "  (classifier): Classifier()\n",
      ")\n"
     ]
    }
   ],
   "source": [
    "#init model\n",
    "model = buildmodel.HeteroGCN_linkpred( linkpred = (pred_s,pred_p,pred_o) , inpudims= inputdims, interactions = interactions , outputdims= outputdims , dropout = .3 , layers = [500,500,500 , 500] , tan_final = True)\n",
    "print(model)"
   ]
  },
  {
   "cell_type": "code",
   "execution_count": null,
   "metadata": {},
   "outputs": [
    {
     "name": "stdout",
     "output_type": "stream",
     "text": [
      "Device: 'cuda'\n",
      "learning from  ./test/tax_9606.ENSP00000357838_seed_9606.ttl\n",
      "ns3 50033 ns3 50033\n",
      "nadj: 16505.0\n",
      "ns3 50033 ns3 50033\n",
      "file:///work/FAC/FBM/DBC/cdessim2/default/dmoi/projects/RDF_Graphnet/rdf2network/test/protein1_para_protein 16505\n",
      "nadj: 47999.0\n",
      "ns3 50033 ns3 50033\n",
      "file:///work/FAC/FBM/DBC/cdessim2/default/dmoi/projects/RDF_Graphnet/rdf2network/test/protein1_orth_protein 47999\n",
      "ns3 50033 ns4 2422\n",
      "nadj: 36553.0\n",
      "ns3 50033 ns4 2422\n",
      "file:///work/FAC/FBM/DBC/cdessim2/default/dmoi/projects/RDF_Graphnet/rdf2network/test/protein1_taxon_orth 36553\n",
      "nadj: 54.0\n",
      "ns3 50033 ns4 2422\n",
      "file:///work/FAC/FBM/DBC/cdessim2/default/dmoi/projects/RDF_Graphnet/rdf2network/test/protein1_taxon 54\n",
      "nadj: 13787.0\n",
      "ns3 50033 ns4 2422\n",
      "file:///work/FAC/FBM/DBC/cdessim2/default/dmoi/projects/RDF_Graphnet/rdf2network/test/para_protein_taxon_para 13787\n",
      "nadj: 39479.0\n",
      "ns3 50033 ns4 2422\n",
      "file:///work/FAC/FBM/DBC/cdessim2/default/dmoi/projects/RDF_Graphnet/rdf2network/test/orth_protein_taxon_orth 39479\n",
      "nadj: 7046.0\n",
      "ns3 50033 ns4 2422\n",
      "file:///work/FAC/FBM/DBC/cdessim2/default/dmoi/projects/RDF_Graphnet/rdf2network/test/protein1_taxon_para 7046\n",
      "ns3 50033 ns5 69568\n",
      "nadj: 59752.0\n",
      "ns3 50033 ns5 69568\n",
      "file:///work/FAC/FBM/DBC/cdessim2/default/dmoi/projects/RDF_Graphnet/rdf2network/test/orth_protein_orth_protein_uniprot 59752\n",
      "nadj: 17220.0\n",
      "ns3 50033 ns5 69568\n",
      "file:///work/FAC/FBM/DBC/cdessim2/default/dmoi/projects/RDF_Graphnet/rdf2network/test/para_protein_para_protein_uniprot 17220\n",
      "nadj: 20664.0\n",
      "ns3 50033 ns5 69568\n",
      "file:///work/FAC/FBM/DBC/cdessim2/default/dmoi/projects/RDF_Graphnet/rdf2network/test/protein1_para_protein_uniprot 20664\n",
      "nadj: 54.0\n",
      "ns3 50033 ns5 69568\n",
      "file:///work/FAC/FBM/DBC/cdessim2/default/dmoi/projects/RDF_Graphnet/rdf2network/test/protein1_protein1_uniprot 54\n",
      "nadj: 69511.0\n",
      "ns3 50033 ns5 69568\n",
      "file:///work/FAC/FBM/DBC/cdessim2/default/dmoi/projects/RDF_Graphnet/rdf2network/test/protein1_orth_protein_uniprot 69511\n",
      "ns3 50033 ns6 8108\n",
      "ns4 2422 ns3 50033\n",
      "nadj: 13787.0\n",
      "ns4 2422 ns3 50033\n",
      "file:///work/FAC/FBM/DBC/cdessim2/default/dmoi/projects/RDF_Graphnet/rdf2network/test/taxon_para_protein 13787\n",
      "nadj: 39479.0\n",
      "ns4 2422 ns3 50033\n",
      "file:///work/FAC/FBM/DBC/cdessim2/default/dmoi/projects/RDF_Graphnet/rdf2network/test/taxon_orth_protein 39479\n",
      "ns4 2422 ns4 2422\n",
      "nadj: 454.0\n",
      "ns4 2422 ns4 2422\n",
      "file:///work/FAC/FBM/DBC/cdessim2/default/dmoi/projects/RDF_Graphnet/rdf2network/test/taxon_taxon_para 454\n",
      "nadj: 2420.0\n",
      "ns4 2422 ns4 2422\n",
      "file:///work/FAC/FBM/DBC/cdessim2/default/dmoi/projects/RDF_Graphnet/rdf2network/test/taxon_taxon_orth 2420\n",
      "ns4 2422 ns5 69568\n",
      "nadj: 17131.0\n",
      "ns4 2422 ns5 69568\n",
      "file:///work/FAC/FBM/DBC/cdessim2/default/dmoi/projects/RDF_Graphnet/rdf2network/test/taxon_para_protein_uniprot 17131\n",
      "nadj: 56728.0\n",
      "ns4 2422 ns5 69568\n",
      "file:///work/FAC/FBM/DBC/cdessim2/default/dmoi/projects/RDF_Graphnet/rdf2network/test/taxon_orth_protein_uniprot 56728\n",
      "ns4 2422 ns6 8108\n",
      "ns5 69568 ns3 50033\n",
      "nadj: 47999.0\n",
      "ns5 69568 ns3 50033\n",
      "file:///work/FAC/FBM/DBC/cdessim2/default/dmoi/projects/RDF_Graphnet/rdf2network/test/protein1_uniprot_orth_protein 47999\n",
      "nadj: 16505.0\n",
      "ns5 69568 ns3 50033\n",
      "file:///work/FAC/FBM/DBC/cdessim2/default/dmoi/projects/RDF_Graphnet/rdf2network/test/protein1_uniprot_para_protein 16505\n",
      "ns5 69568 ns4 2422\n",
      "nadj: 36553.0\n",
      "ns5 69568 ns4 2422\n",
      "file:///work/FAC/FBM/DBC/cdessim2/default/dmoi/projects/RDF_Graphnet/rdf2network/test/protein1_uniprot_taxon_orth 36553\n",
      "nadj: 59336.0\n",
      "ns5 69568 ns4 2422\n",
      "file:///work/FAC/FBM/DBC/cdessim2/default/dmoi/projects/RDF_Graphnet/rdf2network/test/orth_protein_uniprot_taxon_orth 59336\n",
      "nadj: 54.0\n",
      "ns5 69568 ns4 2422\n",
      "file:///work/FAC/FBM/DBC/cdessim2/default/dmoi/projects/RDF_Graphnet/rdf2network/test/protein1_uniprot_taxon 54\n",
      "nadj: 7046.0\n",
      "ns5 69568 ns4 2422\n",
      "file:///work/FAC/FBM/DBC/cdessim2/default/dmoi/projects/RDF_Graphnet/rdf2network/test/protein1_uniprot_taxon_para 7046\n",
      "nadj: 17159.0\n",
      "ns5 69568 ns4 2422\n",
      "file:///work/FAC/FBM/DBC/cdessim2/default/dmoi/projects/RDF_Graphnet/rdf2network/test/para_protein_uniprot_taxon_para 17159\n",
      "ns5 69568 ns5 69568\n",
      "nadj: 20664.0\n",
      "ns5 69568 ns5 69568\n",
      "file:///work/FAC/FBM/DBC/cdessim2/default/dmoi/projects/RDF_Graphnet/rdf2network/test/protein1_uniprot_para_protein_uniprot 20664\n",
      "nadj: 69511.0\n",
      "ns5 69568 ns5 69568\n",
      "file:///work/FAC/FBM/DBC/cdessim2/default/dmoi/projects/RDF_Graphnet/rdf2network/test/protein1_uniprot_orth_protein_uniprot 69511\n",
      "ns5 69568 ns6 8108\n",
      "ns6 8108 ns3 50033\n",
      "ns6 8108 ns4 2422\n",
      "ns6 8108 ns5 69568\n",
      "nadj: 8072.0\n",
      "ns6 8108 ns5 69568\n",
      "http://purl.org/lscr#xrefUniprot 8072\n",
      "ns6 8108 ns6 8108\n",
      "nadj: 132.0\n",
      "ns6 8108 ns6 8108\n",
      "https://string-db.org/rdf/medium-confidence-cutoff 132\n",
      "nadj: 123.0\n",
      "ns6 8108 ns6 8108\n",
      "https://string-db.org/rdf/highest-confidence-cutoff 123\n",
      "nadj: 132.0\n",
      "ns6 8108 ns6 8108\n",
      "https://string-db.org/rdf/any-confidence 132\n",
      "nadj: 132.0\n",
      "ns6 8108 ns6 8108\n",
      "https://string-db.org/rdf/high-confidence-cutoff 132\n"
     ]
    },
    {
     "name": "stderr",
     "output_type": "stream",
     "text": [
      "  0%|          | 0/7 [00:00<?, ?it/s]/work/FAC/FBM/DBC/cdessim2/default/dmoi/miniconda3/envs/ML2/lib/python3.10/site-packages/torch/nn/functional.py:1956: UserWarning: nn.functional.tanh is deprecated. Use torch.tanh instead.\n",
      "  warnings.warn(\"nn.functional.tanh is deprecated. Use torch.tanh instead.\")\n",
      "100%|██████████| 7/7 [00:04<00:00,  1.65it/s]\n"
     ]
    },
    {
     "name": "stdout",
     "output_type": "stream",
     "text": [
      "Epoch: 001, Loss: 3.3026\n"
     ]
    },
    {
     "name": "stderr",
     "output_type": "stream",
     "text": [
      "100%|██████████| 7/7 [00:03<00:00,  1.95it/s]\n"
     ]
    },
    {
     "name": "stdout",
     "output_type": "stream",
     "text": [
      "Epoch: 002, Loss: 1.2768\n"
     ]
    },
    {
     "name": "stderr",
     "output_type": "stream",
     "text": [
      "100%|██████████| 7/7 [00:03<00:00,  1.94it/s]\n"
     ]
    },
    {
     "name": "stdout",
     "output_type": "stream",
     "text": [
      "Epoch: 003, Loss: 0.9960\n"
     ]
    },
    {
     "name": "stderr",
     "output_type": "stream",
     "text": [
      "100%|██████████| 7/7 [00:03<00:00,  1.94it/s]\n"
     ]
    },
    {
     "name": "stdout",
     "output_type": "stream",
     "text": [
      "Epoch: 004, Loss: 0.9365\n"
     ]
    },
    {
     "name": "stderr",
     "output_type": "stream",
     "text": [
      "100%|██████████| 7/7 [00:03<00:00,  1.94it/s]\n"
     ]
    },
    {
     "name": "stdout",
     "output_type": "stream",
     "text": [
      "Epoch: 005, Loss: 0.8690\n"
     ]
    },
    {
     "name": "stderr",
     "output_type": "stream",
     "text": [
      "100%|██████████| 7/7 [00:03<00:00,  1.95it/s]\n"
     ]
    },
    {
     "name": "stdout",
     "output_type": "stream",
     "text": [
      "Epoch: 006, Loss: 0.8348\n"
     ]
    },
    {
     "name": "stderr",
     "output_type": "stream",
     "text": [
      "100%|██████████| 7/7 [00:03<00:00,  1.94it/s]\n"
     ]
    },
    {
     "name": "stdout",
     "output_type": "stream",
     "text": [
      "Epoch: 007, Loss: 0.7972\n"
     ]
    },
    {
     "name": "stderr",
     "output_type": "stream",
     "text": [
      "100%|██████████| 7/7 [00:03<00:00,  1.95it/s]\n"
     ]
    },
    {
     "name": "stdout",
     "output_type": "stream",
     "text": [
      "Epoch: 008, Loss: 0.7690\n"
     ]
    },
    {
     "name": "stderr",
     "output_type": "stream",
     "text": [
      "100%|██████████| 7/7 [00:03<00:00,  1.94it/s]\n"
     ]
    },
    {
     "name": "stdout",
     "output_type": "stream",
     "text": [
      "Epoch: 009, Loss: 0.7549\n",
      "learning from  ./test/tax_402676.B6JZZ0_seed_402676.ttl\n"
     ]
    }
   ],
   "source": [
    "#train\n",
    "import torch\n",
    "import tqdm\n",
    "import torch_geometric.transforms as T\n",
    "import torch.nn.functional as F\n",
    "import torch\n",
    "device = torch.device('cuda' if torch.cuda.is_available() else 'cpu')\n",
    "print(f\"Device: '{device}'\")\n",
    "model = model.to(device)\n",
    "optimizer = torch.optim.Adam(model.parameters(), lr=0.0001)\n",
    "for subgraph in graphs[0:5]:\n",
    "    print('learning from ' , subgraph)\n",
    "    readg = rdflib.Graph()\n",
    "    readg.parse(subgraph)\n",
    "    data , inputdims , interactions  = NX2pyg.rdf2hetero(readg)\n",
    "    if pred_s == pred_o:\n",
    "        revpred = (pred_s,pred_p,pred_o)\n",
    "    else:\n",
    "        revpred  = pred_o, 'rev_'+pred_p,pred_s\n",
    "    transform = T.RandomLinkSplit(\n",
    "        num_val=0.1,  # percentage of VALIDATION\n",
    "        num_test=0.1,  # percentage of TESTING\n",
    "        disjoint_train_ratio=0.3,  # this somehow has to do with the 30% we need for supervision\n",
    "        neg_sampling_ratio=2,  # TODO\n",
    "        add_negative_train_samples=True,  # TODO\n",
    "        edge_types=(pred_s,pred_p,pred_o),\n",
    "        rev_edge_types=(pred_s,pred_p,pred_o), \n",
    "    )\n",
    "    train_data, val_data, test_data = transform(data)\n",
    "    # Define seed edges:\n",
    "    ## HERE IS where you would basically train with both types of links, but then for testing you would only want to generate INTERACT\n",
    "    edge_label_index = train_data[pred_s,pred_p,pred_o].edge_label_index\n",
    "    edge_label = train_data[pred_s,pred_p,pred_o].edge_label\n",
    "    train_loader = LinkNeighborLoader(\n",
    "        data=train_data,  # TODO\n",
    "        num_neighbors=[20, 20 , 20],  # TODO\n",
    "        edge_label_index=((pred_s,pred_p,pred_o), edge_label_index),\n",
    "        #edge_label=edge_label,\n",
    "        neg_sampling_ratio=2,  # TODO\n",
    "        batch_size=1000,\n",
    "        shuffle=True\n",
    "    )\n",
    "    for epoch in range(1, 10):\n",
    "        total_loss = total_examples = 0\n",
    "        for sampled_data in tqdm.tqdm(train_loader):\n",
    "            optimizer.zero_grad()\n",
    "            sampled_data = sampled_data.to(device)\n",
    "            pred = model.forward(sampled_data )\n",
    "            loss = F.binary_cross_entropy_with_logits(pred , sampled_data[pred_s,pred_p,pred_o].edge_label)\n",
    "            loss.backward()\n",
    "            optimizer.step()\n",
    "            total_loss += float(loss) * pred.numel() # numel = number of elements\n",
    "            total_examples += pred.numel()\n",
    "        print(f\"Epoch: {epoch:03d}, Loss: {total_loss / total_examples:.4f}\")\n",
    "\n",
    "        \n",
    "        \n",
    "        "
   ]
  },
  {
   "cell_type": "code",
   "execution_count": null,
   "metadata": {},
   "outputs": [],
   "source": [
    "#pred  and validate for one validation set\n",
    "from sklearn.metrics import roc_auc_score\n",
    "from matplotlib import pyplot as plt\n",
    "\n",
    "\n",
    "val_loader = LinkNeighborLoader(\n",
    "    data=val_data,  # TODO\n",
    "    num_neighbors=[20, 20 , 20],  # TODO\n",
    "    edge_label_index=((pred_s,pred_p,pred_o), edge_label_index),\n",
    "    #edge_label=edge_label,\n",
    "    neg_sampling_ratio=2,  # TODO\n",
    "    batch_size=1000,\n",
    "    shuffle=True\n",
    ")\n",
    "\n",
    "preds = []\n",
    "ground_truths = []\n",
    "for sampled_data in tqdm.tqdm(val_loader):\n",
    "    with torch.no_grad():\n",
    "        # TODO: Collect predictions and ground-truths and write them into\n",
    "        # `preds` and `ground_truths`.\n",
    "        sampled_data = sampled_data.to(device)\n",
    "        pred = model.forward(sampled_data)\n",
    "        preds += [pred]\n",
    "        ground_truths += [sampled_data[pred_s,pred_p,pred_o].edge_label]\n",
    "\n",
    "pred = torch.cat(preds, dim=0).cpu().numpy()\n",
    "ground_truth = torch.cat(ground_truths, dim=0).cpu().numpy()\n",
    "auc = roc_auc_score(ground_truth, pred)\n",
    "\n",
    "print()\n",
    "print(f\"Validation AUC: {auc:.4f}\")"
   ]
  },
  {
   "cell_type": "code",
   "execution_count": 47,
   "metadata": {},
   "outputs": [
    {
     "data": {
      "image/png": "[encoded data removed]",
      "text/plain": [
       "<Figure size 640x480 with 1 Axes>"
      ]
     },
     "metadata": {},
     "output_type": "display_data"
    }
   ],
   "source": [
    "\n",
    "from sklearn.metrics import roc_curve\n",
    "from matplotlib import pyplot as plt\n",
    "\n",
    "fpr, tpr, _ = roc_curve(ground_truth, pred)\n",
    "plt.plot(fpr,tpr)\n",
    "plt.plot([[0,0],[1,1]] , c = 'black' , linestyle='dashed')\n",
    "plt.show()"
   ]
  },
  {
   "cell_type": "code",
   "execution_count": 48,
   "metadata": {},
   "outputs": [
    {
     "data": {
      "image/png": "[encoded data removed]",
      "text/plain": [
       "<Figure size 640x480 with 1 Axes>"
      ]
     },
     "metadata": {},
     "output_type": "display_data"
    }
   ],
   "source": [
    "from sklearn.metrics import precision_recall_curve\n",
    "from sklearn.metrics import PrecisionRecallDisplay\n",
    "\n",
    "prec, recall, _ = precision_recall_curve(ground_truth, pred)\n",
    "pr_display = PrecisionRecallDisplay(precision=prec, recall=recall).plot()"
   ]
  },
  {
   "cell_type": "code",
   "execution_count": null,
   "metadata": {},
   "outputs": [],
   "source": []
  }
 ],
 "metadata": {
  "colab": {
   "provenance": []
  },
  "kernelspec": {
   "display_name": "Python 3 (ipykernel)",
   "language": "python",
   "name": "python3"
  },
  "language_info": {
   "codemirror_mode": {
    "name": "ipython",
    "version": 3
   },
   "file_extension": ".py",
   "mimetype": "text/x-python",
   "name": "python",
   "nbconvert_exporter": "python",
   "pygments_lexer": "ipython3",
   "version": "3.10.8"
  }
 },
 "nbformat": 4,
 "nbformat_minor": 4
}
