{
 "cells": [
  {
   "cell_type": "markdown",
   "id": "5bfeae0a",
   "metadata": {},
   "source": [
    "## An example of how to query OMA RDF data in two variants: \n",
    "1. from a local RDF dump\n",
    "     - note: the code only uses a sample dataset, to use the full dump we would need to setup some sort of database copy on the cluster\n",
    "2. from the remote OMA SPARQL endpoint\n",
    "    - in this variant, you can experiment with any UniProt entry you want"
   ]
  },
  {
   "cell_type": "markdown",
   "id": "5e931845",
   "metadata": {},
   "source": [
    "### The sample data contains info for a few example UniProt URIs\n",
    "(to be used just for demo purposes)"
   ]
  },
  {
   "cell_type": "code",
   "execution_count": 3,
   "id": "e17e2f6c",
   "metadata": {},
   "outputs": [],
   "source": [
    "# NOTE: a list on entries can also be used in the SPARQL queries, e.g.\n",
    "\n",
    "# VALUES ?protein2_uniprot {<URI1> <URI2> <URI3>...}\n",
    "\n",
    "uniprot_entry = \"<http://purl.uniprot.org/uniprot/A0A832T5P4>\""
   ]
  },
  {
   "cell_type": "code",
   "execution_count": 4,
   "id": "031a6af9",
   "metadata": {},
   "outputs": [],
   "source": [
    "# The query that can be used both for local RDF or for remote SPARQL endpoint\n",
    "# get HOG by UniProt ID(s)\n",
    "query_OMA_HOGs = \"\"\"\n",
    "PREFIX obo: <http://purl.obolibrary.org/obo/>\n",
    "PREFIX orth: <http://purl.org/net/orth#>\n",
    "PREFIX taxon: <http://purl.uniprot.org/taxonomy/>\n",
    "PREFIX up: <http://purl.uniprot.org/core/>\n",
    "PREFIX lscr: <http://purl.org/lscr#>\n",
    "\n",
    "SELECT DISTINCT *  {\n",
    "\tVALUES ?protein2_uniprot { \"\"\" + uniprot_entry + \"}\" + \"\"\"\n",
    "    ?cluster a orth:OrthologsCluster.\n",
    "    ?cluster orth:hasHomologousMember ?node1.\n",
    "    ?cluster orth:hasHomologousMember ?node2.\n",
    "\t?node1 orth:hasHomologousMember ?protein1.\n",
    "\t?node2 orth:hasHomologousMember ?protein2.\n",
    "\t?protein2  lscr:xrefUniprot ?protein2_uniprot. \n",
    "    FILTER(?node1 != ?node2)\n",
    "}\n",
    "\n",
    "\"\"\""
   ]
  },
  {
   "cell_type": "markdown",
   "id": "046f5541",
   "metadata": {},
   "source": [
    "### Option 1. Get HOGs from local RDF dump\n",
    "\n",
    "Prerequisites: a folder with the relevant .ttl files"
   ]
  },
  {
   "cell_type": "code",
   "execution_count": 5,
   "id": "60a6d633-a2c3-4f05-9e21-3e5faf0b7180",
   "metadata": {},
   "outputs": [
    {
     "name": "stdout",
     "output_type": "stream",
     "text": [
      "Requirement already satisfied: rdflib in /work/FAC/FBM/DBC/cdessim2/default/dmoi/miniconda3/envs/ML2/lib/python3.10/site-packages (6.2.0)\n",
      "Requirement already satisfied: setuptools in /work/FAC/FBM/DBC/cdessim2/default/dmoi/miniconda3/envs/ML2/lib/python3.10/site-packages (from rdflib) (65.6.3)\n",
      "Requirement already satisfied: pyparsing in /work/FAC/FBM/DBC/cdessim2/default/dmoi/miniconda3/envs/ML2/lib/python3.10/site-packages (from rdflib) (3.0.9)\n",
      "Requirement already satisfied: isodate in /work/FAC/FBM/DBC/cdessim2/default/dmoi/miniconda3/envs/ML2/lib/python3.10/site-packages (from rdflib) (0.6.1)\n",
      "Requirement already satisfied: six in /work/FAC/FBM/DBC/cdessim2/default/dmoi/miniconda3/envs/ML2/lib/python3.10/site-packages (from isodate->rdflib) (1.16.0)\n",
      "Note: you may need to restart the kernel to use updated packages.\n"
     ]
    }
   ],
   "source": [
    "pip install rdflib\n"
   ]
  },
  {
   "cell_type": "code",
   "execution_count": 6,
   "id": "88510b67",
   "metadata": {},
   "outputs": [
    {
     "name": "stdout",
     "output_type": "stream",
     "text": [
      "oma_sample/orthOntology_v2_forOMA.ttl\n",
      "oma_sample/lscr.ttl\n",
      "oma_sample/sample_xref.ttl\n",
      "oma_sample/sample_oma_hogs.ttl\n"
     ]
    }
   ],
   "source": [
    "from rdflib import Graph\n",
    "\n",
    "#note: since full dump is large, consider using it only on cluster\n",
    "# it also seems like rdflib doesn't really scale...so it's better to use the SPARQL endpoint\n",
    "# if we need, we can setup a copy of the public one\n",
    "\n",
    "# https://stackoverflow.com/questions/5678623/how-to-parse-big-datasets-using-rdflib\n",
    "path_to_OMA_dir = \"oma_sample\"\n",
    "\n",
    "# get all ttl files in folder\n",
    "from os import listdir\n",
    "from os.path import isfile, join\n",
    "ttl_files_list = [join(path_to_OMA_dir, f) for f in listdir(path_to_OMA_dir) if isfile(join(path_to_OMA_dir, f)) and f.endswith(\".ttl\")]\n",
    "\n",
    "g = Graph()\n",
    "\n",
    "for ttl_file in ttl_files_list:\n",
    "    print(ttl_file)\n",
    "    g.parse(ttl_file)"
   ]
  },
  {
   "cell_type": "code",
   "execution_count": 7,
   "id": "489cacc7",
   "metadata": {},
   "outputs": [
    {
     "name": "stdout",
     "output_type": "stream",
     "text": [
      "1315\n"
     ]
    }
   ],
   "source": [
    "# number of triples parsed\n",
    "print(len(g))"
   ]
  },
  {
   "cell_type": "code",
   "execution_count": 8,
   "id": "5514a6b5",
   "metadata": {},
   "outputs": [
    {
     "name": "stdout",
     "output_type": "stream",
     "text": [
      "2\n",
      "[rdflib.term.Variable('protein1'), rdflib.term.Variable('cluster'), rdflib.term.Variable('protein2_uniprot'), rdflib.term.Variable('node1'), rdflib.term.Variable('node2'), rdflib.term.Variable('protein2')]\n",
      "<bound method NDFrame.head of                                              cluster  \\\n",
      "0  https://omabrowser.org/oma/hog/resolve/HOG:C00...   \n",
      "1  https://omabrowser.org/oma/hog/resolve/HOG:C00...   \n",
      "\n",
      "                                               node1  \\\n",
      "0  https://omabrowser.org/oma/hog/resolve/HOG:C00...   \n",
      "1  https://omabrowser.org/oma/hog/resolve/HOG:C00...   \n",
      "\n",
      "                                               node2  \\\n",
      "0  https://omabrowser.org/oma/hog/resolve/HOG:C00...   \n",
      "1  https://omabrowser.org/oma/hog/resolve/HOG:C00...   \n",
      "\n",
      "                                     protein1  \\\n",
      "0  https://omabrowser.org/oma/info/PYRAB00578   \n",
      "1  https://omabrowser.org/oma/info/PYRYC00473   \n",
      "\n",
      "                                     protein2  \\\n",
      "0  https://omabrowser.org/oma/info/PYRHO01642   \n",
      "1  https://omabrowser.org/oma/info/PYRHO01642   \n",
      "\n",
      "                             protein2_uniprot  \n",
      "0  http://purl.uniprot.org/uniprot/A0A832T5P4  \n",
      "1  http://purl.uniprot.org/uniprot/A0A832T5P4  >\n"
     ]
    }
   ],
   "source": [
    "import pandas as pds\n",
    "qres = g.query(query_OMA_HOGs)\n",
    "\n",
    "print(len(qres))\n",
    "\n",
    "# print the variables in the header\n",
    "\n",
    "print(qres.vars)\n",
    "# the actual result is stored in the \"bindings\"\n",
    "#print(qres.bindings)\n",
    "    \n",
    "# the result can be converted to e.g. a Pandas dataframe for later use\n",
    "df = pds.DataFrame(qres.bindings)\n",
    "print(df.head)"
   ]
  },
  {
   "cell_type": "markdown",
   "id": "d0c2de96",
   "metadata": {},
   "source": [
    "### Option 2. Get HOGs from OMA SPARQL endpoint\n",
    "\n",
    "Prerequisites: the address of the OMA SPARQL endpoint\n",
    "\n",
    "See extended examples in F1000 [tutorial](https://github.com/biosoda/tutorial_orthology/blob/master/Orthology_SPARQL_Notebook.ipynb)"
   ]
  },
  {
   "cell_type": "code",
   "execution_count": 9,
   "id": "c22ee510",
   "metadata": {},
   "outputs": [
    {
     "name": "stdout",
     "output_type": "stream",
     "text": [
      "Requirement already satisfied: SPARQLWrapper in /work/FAC/FBM/DBC/cdessim2/default/dmoi/miniconda3/envs/ML2/lib/python3.10/site-packages (2.0.0)\n",
      "Requirement already satisfied: rdflib>=6.1.1 in /work/FAC/FBM/DBC/cdessim2/default/dmoi/miniconda3/envs/ML2/lib/python3.10/site-packages (from SPARQLWrapper) (6.2.0)\n",
      "Requirement already satisfied: pyparsing in /work/FAC/FBM/DBC/cdessim2/default/dmoi/miniconda3/envs/ML2/lib/python3.10/site-packages (from rdflib>=6.1.1->SPARQLWrapper) (3.0.9)\n",
      "Requirement already satisfied: isodate in /work/FAC/FBM/DBC/cdessim2/default/dmoi/miniconda3/envs/ML2/lib/python3.10/site-packages (from rdflib>=6.1.1->SPARQLWrapper) (0.6.1)\n",
      "Requirement already satisfied: setuptools in /work/FAC/FBM/DBC/cdessim2/default/dmoi/miniconda3/envs/ML2/lib/python3.10/site-packages (from rdflib>=6.1.1->SPARQLWrapper) (65.6.3)\n",
      "Requirement already satisfied: six in /work/FAC/FBM/DBC/cdessim2/default/dmoi/miniconda3/envs/ML2/lib/python3.10/site-packages (from isodate->rdflib>=6.1.1->SPARQLWrapper) (1.16.0)\n"
     ]
    }
   ],
   "source": [
    "# first we need to define the SPARQL endpoints of each source, to use later in the protocols\n",
    "import sys\n",
    "!{sys.executable} -m pip install SPARQLWrapper\n",
    "from SPARQLWrapper import SPARQLWrapper, JSON\n",
    "import sys, os, time\n",
    "import pandas as pd\n",
    "\n",
    "# always display full column results (don't truncate output)\n",
    "pd.set_option('display.max_colwidth', None)\n",
    "\n",
    "# the endpoints must be defined as wrappers for executing SPARQL queries\n",
    "sparql_OMA = SPARQLWrapper(\"https://sparql.omabrowser.org/sparql\")\n",
    "\n",
    "\n",
    "# function to print in a table results of a SPARQL query\n",
    "def pretty_print(results):\n",
    "    \n",
    "    # how to transform SPARQL results into Pandas dataframes\n",
    "    \n",
    "    # get header (column names) from results\n",
    "    header = results[\"results\"][\"bindings\"][0].keys()\n",
    "\n",
    "    # display table of results:\n",
    "    table = []\n",
    "    \n",
    "    # the SPARQL JSON results to the query are available in the \"results\", \"bindings\" entry:\n",
    "    for entry in results[\"results\"][\"bindings\"]:\n",
    "        # append entries from the results to a regular Python list of rows, which we can then transform to a Pandas DF\n",
    "        row = [entry[column][\"value\"] if entry.get(column, None) != None else None for column in header]\n",
    "        table.append(row)\n",
    "    df = pd.DataFrame(table, columns=list(header))\n",
    "    return df"
   ]
  },
  {
   "cell_type": "code",
   "execution_count": 10,
   "id": "811640d5",
   "metadata": {},
   "outputs": [],
   "source": [
    "# the following variable defines how many entries to print from the results:\n",
    "# e.g. here, we only print 3 example entries (leave empty to show all results)\n",
    "\n",
    "NUM_EXAMPLES=3"
   ]
  },
  {
   "cell_type": "code",
   "execution_count": 11,
   "id": "11e09015",
   "metadata": {},
   "outputs": [
    {
     "data": {
      "text/html": [
       "<div>\n",
       "<style scoped>\n",
       "    .dataframe tbody tr th:only-of-type {\n",
       "        vertical-align: middle;\n",
       "    }\n",
       "\n",
       "    .dataframe tbody tr th {\n",
       "        vertical-align: top;\n",
       "    }\n",
       "\n",
       "    .dataframe thead th {\n",
       "        text-align: right;\n",
       "    }\n",
       "</style>\n",
       "<table border=\"1\" class=\"dataframe\">\n",
       "  <thead>\n",
       "    <tr style=\"text-align: right;\">\n",
       "      <th></th>\n",
       "      <th>protein2_uniprot</th>\n",
       "      <th>cluster</th>\n",
       "      <th>node1</th>\n",
       "      <th>node2</th>\n",
       "      <th>protein1</th>\n",
       "      <th>protein2</th>\n",
       "    </tr>\n",
       "  </thead>\n",
       "  <tbody>\n",
       "    <tr>\n",
       "      <th>0</th>\n",
       "      <td>http://purl.uniprot.org/uniprot/A0A832T5P4</td>\n",
       "      <td>https://omabrowser.org/oma/hog/resolve/HOG:C0017089.5f_2260</td>\n",
       "      <td>https://omabrowser.org/oma/hog/resolve/HOG:C0017089.5f_186497</td>\n",
       "      <td>https://omabrowser.org/oma/hog/resolve/HOG:C0017089.5f_70601</td>\n",
       "      <td>https://omabrowser.org/oma/info/PYRFU01582</td>\n",
       "      <td>https://omabrowser.org/oma/info/PYRHO01642</td>\n",
       "    </tr>\n",
       "    <tr>\n",
       "      <th>1</th>\n",
       "      <td>http://purl.uniprot.org/uniprot/A0A832T5P4</td>\n",
       "      <td>https://omabrowser.org/oma/hog/resolve/HOG:C0017089.5f_2260</td>\n",
       "      <td>https://omabrowser.org/oma/hog/resolve/HOG:C0017089.5f_272844</td>\n",
       "      <td>https://omabrowser.org/oma/hog/resolve/HOG:C0017089.5f_70601</td>\n",
       "      <td>https://omabrowser.org/oma/info/PYRAB00578</td>\n",
       "      <td>https://omabrowser.org/oma/info/PYRHO01642</td>\n",
       "    </tr>\n",
       "    <tr>\n",
       "      <th>2</th>\n",
       "      <td>http://purl.uniprot.org/uniprot/A0A832T5P4</td>\n",
       "      <td>https://omabrowser.org/oma/hog/resolve/HOG:C0017089.5f_2260</td>\n",
       "      <td>https://omabrowser.org/oma/hog/resolve/HOG:C0017089.5f_342949</td>\n",
       "      <td>https://omabrowser.org/oma/hog/resolve/HOG:C0017089.5f_70601</td>\n",
       "      <td>https://omabrowser.org/oma/info/PYRSN00170</td>\n",
       "      <td>https://omabrowser.org/oma/info/PYRHO01642</td>\n",
       "    </tr>\n",
       "  </tbody>\n",
       "</table>\n",
       "</div>"
      ],
      "text/plain": [
       "                             protein2_uniprot  \\\n",
       "0  http://purl.uniprot.org/uniprot/A0A832T5P4   \n",
       "1  http://purl.uniprot.org/uniprot/A0A832T5P4   \n",
       "2  http://purl.uniprot.org/uniprot/A0A832T5P4   \n",
       "\n",
       "                                                       cluster  \\\n",
       "0  https://omabrowser.org/oma/hog/resolve/HOG:C0017089.5f_2260   \n",
       "1  https://omabrowser.org/oma/hog/resolve/HOG:C0017089.5f_2260   \n",
       "2  https://omabrowser.org/oma/hog/resolve/HOG:C0017089.5f_2260   \n",
       "\n",
       "                                                           node1  \\\n",
       "0  https://omabrowser.org/oma/hog/resolve/HOG:C0017089.5f_186497   \n",
       "1  https://omabrowser.org/oma/hog/resolve/HOG:C0017089.5f_272844   \n",
       "2  https://omabrowser.org/oma/hog/resolve/HOG:C0017089.5f_342949   \n",
       "\n",
       "                                                          node2  \\\n",
       "0  https://omabrowser.org/oma/hog/resolve/HOG:C0017089.5f_70601   \n",
       "1  https://omabrowser.org/oma/hog/resolve/HOG:C0017089.5f_70601   \n",
       "2  https://omabrowser.org/oma/hog/resolve/HOG:C0017089.5f_70601   \n",
       "\n",
       "                                     protein1  \\\n",
       "0  https://omabrowser.org/oma/info/PYRFU01582   \n",
       "1  https://omabrowser.org/oma/info/PYRAB00578   \n",
       "2  https://omabrowser.org/oma/info/PYRSN00170   \n",
       "\n",
       "                                     protein2  \n",
       "0  https://omabrowser.org/oma/info/PYRHO01642  \n",
       "1  https://omabrowser.org/oma/info/PYRHO01642  \n",
       "2  https://omabrowser.org/oma/info/PYRHO01642  "
      ]
     },
     "execution_count": 11,
     "metadata": {},
     "output_type": "execute_result"
    }
   ],
   "source": [
    "sparql_OMA.setQuery(query_OMA_HOGs)\n",
    "sparql_OMA.setReturnFormat(JSON)\n",
    "\n",
    "results_OMA = sparql_OMA.query().convert()\n",
    "\n",
    "pretty_print(results_OMA).head(NUM_EXAMPLES)"
   ]
  },
  {
   "cell_type": "code",
   "execution_count": 12,
   "id": "b9e2a383",
   "metadata": {},
   "outputs": [
    {
     "name": "stdout",
     "output_type": "stream",
     "text": [
      "\n",
      "PREFIX obo: <http://purl.obolibrary.org/obo/>\n",
      "PREFIX orth: <http://purl.org/net/orth#>\n",
      "PREFIX taxon: <http://purl.uniprot.org/taxonomy/>\n",
      "PREFIX up: <http://purl.uniprot.org/core/>\n",
      "PREFIX lscr: <http://purl.org/lscr#>\n",
      "\n",
      "SELECT DISTINCT ?root_hog ?species_name ?protein1_uniprot (?protein1 as \n",
      "           ?protein1_OMA) ?taxLevel  {\n",
      "\tVALUES ?protein2_uniprot { <http://purl.uniprot.org/uniprot/A0A832T5P4>}\n",
      "\t?root_hog obo:CDAO_0000148 ?hog_cluster. #has_Root\n",
      "\t?hog_cluster orth:hasHomologousMember* ?node1.\n",
      "\t?node1 a orth:OrthologsCluster.\n",
      "\t?node1 orth:hasTaxonomicRange ?level.\n",
      "\t?level orth:taxRange ?taxLevel .\n",
      "\t?node1 orth:hasHomologousMember* ?protein1.\n",
      "\t?hog_cluster orth:hasHomologousMember* ?protein2.\n",
      "\t?protein1 a orth:Protein.\n",
      "    \t?protein1 orth:organism ?organism.\n",
      "    \t?organism obo:RO_0002162 ?taxon.\n",
      "    \t?taxon up:scientificName ?species_name.\n",
      "\tOPTIONAL {?protein1 lscr:xrefUniprot ?protein1_uniprot}. \n",
      "\t?protein2 a orth:Protein. \n",
      "\t?protein2  lscr:xrefUniprot ?protein2_uniprot. \n",
      "} ORDER BY ?taxLevel\n",
      "\n",
      "\n"
     ]
    }
   ],
   "source": [
    "# a little bit more info than in the sample can be found in the full dump OR \n",
    "# in the SPARQL endpoint\n",
    "\n",
    "# these queries can also be copy-pasted and executed at https://sparql.omabrowser.org/lode/sparql\n",
    "\n",
    "query_OMA_HOGs_extended = \"\"\"\n",
    "PREFIX obo: <http://purl.obolibrary.org/obo/>\n",
    "PREFIX orth: <http://purl.org/net/orth#>\n",
    "PREFIX taxon: <http://purl.uniprot.org/taxonomy/>\n",
    "PREFIX up: <http://purl.uniprot.org/core/>\n",
    "PREFIX lscr: <http://purl.org/lscr#>\n",
    "\n",
    "SELECT DISTINCT ?root_hog ?species_name ?protein1_uniprot (?protein1 as \n",
    "           ?protein1_OMA) ?taxLevel  {\n",
    "\tVALUES ?protein2_uniprot { \"\"\" + uniprot_entry + \"}\" + \"\"\"\n",
    "\t?root_hog obo:CDAO_0000148 ?hog_cluster. #has_Root\n",
    "\t?hog_cluster orth:hasHomologousMember* ?node1.\n",
    "\t?node1 a orth:OrthologsCluster.\n",
    "\t?node1 orth:hasTaxonomicRange ?level.\n",
    "\t?level orth:taxRange ?taxLevel .\n",
    "\t?node1 orth:hasHomologousMember* ?protein1.\n",
    "\t?hog_cluster orth:hasHomologousMember* ?protein2.\n",
    "\t?protein1 a orth:Protein.\n",
    "    \t?protein1 orth:organism ?organism.\n",
    "    \t?organism obo:RO_0002162 ?taxon.\n",
    "    \t?taxon up:scientificName ?species_name.\n",
    "\tOPTIONAL {?protein1 lscr:xrefUniprot ?protein1_uniprot}. \n",
    "\t?protein2 a orth:Protein. \n",
    "\t?protein2  lscr:xrefUniprot ?protein2_uniprot. \n",
    "} ORDER BY ?taxLevel\n",
    "\n",
    "\"\"\"\n",
    "print(query_OMA_HOGs_extended)"
   ]
  },
  {
   "cell_type": "code",
   "execution_count": 13,
   "id": "239fe4eb",
   "metadata": {},
   "outputs": [
    {
     "data": {
      "text/html": [
       "<div>\n",
       "<style scoped>\n",
       "    .dataframe tbody tr th:only-of-type {\n",
       "        vertical-align: middle;\n",
       "    }\n",
       "\n",
       "    .dataframe tbody tr th {\n",
       "        vertical-align: top;\n",
       "    }\n",
       "\n",
       "    .dataframe thead th {\n",
       "        text-align: right;\n",
       "    }\n",
       "</style>\n",
       "<table border=\"1\" class=\"dataframe\">\n",
       "  <thead>\n",
       "    <tr style=\"text-align: right;\">\n",
       "      <th></th>\n",
       "      <th>root_hog</th>\n",
       "      <th>species_name</th>\n",
       "      <th>protein1_uniprot</th>\n",
       "      <th>protein1_OMA</th>\n",
       "      <th>taxLevel</th>\n",
       "    </tr>\n",
       "  </thead>\n",
       "  <tbody>\n",
       "    <tr>\n",
       "      <th>0</th>\n",
       "      <td>https://omabrowser.org/oma/hog/resolve/HOG:C0017089_28890#ROOT_HOG</td>\n",
       "      <td>Archaeoglobus profundus (strain DSM 5631 / JCM 9629 / NBRC 100127 / Av18)</td>\n",
       "      <td>http://purl.uniprot.org/uniprot/D2RDS2</td>\n",
       "      <td>https://omabrowser.org/oma/info/ARCPA01188</td>\n",
       "      <td>Archaeoglobaceae</td>\n",
       "    </tr>\n",
       "    <tr>\n",
       "      <th>1</th>\n",
       "      <td>https://omabrowser.org/oma/hog/resolve/HOG:C0017089_28890#ROOT_HOG</td>\n",
       "      <td>Archaeoglobus veneficus (strain DSM 11195 / SNP6)</td>\n",
       "      <td>http://purl.uniprot.org/uniprot/F2KNH1</td>\n",
       "      <td>https://omabrowser.org/oma/info/ARCVS01308</td>\n",
       "      <td>Archaeoglobaceae</td>\n",
       "    </tr>\n",
       "    <tr>\n",
       "      <th>2</th>\n",
       "      <td>https://omabrowser.org/oma/hog/resolve/HOG:C0017089_28890#ROOT_HOG</td>\n",
       "      <td>Ferroglobus placidus (strain DSM 10642 / AEDII12DO)</td>\n",
       "      <td>http://purl.uniprot.org/uniprot/D3S1E4</td>\n",
       "      <td>https://omabrowser.org/oma/info/FERPA02200</td>\n",
       "      <td>Archaeoglobaceae</td>\n",
       "    </tr>\n",
       "  </tbody>\n",
       "</table>\n",
       "</div>"
      ],
      "text/plain": [
       "                                                             root_hog  \\\n",
       "0  https://omabrowser.org/oma/hog/resolve/HOG:C0017089_28890#ROOT_HOG   \n",
       "1  https://omabrowser.org/oma/hog/resolve/HOG:C0017089_28890#ROOT_HOG   \n",
       "2  https://omabrowser.org/oma/hog/resolve/HOG:C0017089_28890#ROOT_HOG   \n",
       "\n",
       "                                                                species_name  \\\n",
       "0  Archaeoglobus profundus (strain DSM 5631 / JCM 9629 / NBRC 100127 / Av18)   \n",
       "1                          Archaeoglobus veneficus (strain DSM 11195 / SNP6)   \n",
       "2                        Ferroglobus placidus (strain DSM 10642 / AEDII12DO)   \n",
       "\n",
       "                         protein1_uniprot  \\\n",
       "0  http://purl.uniprot.org/uniprot/D2RDS2   \n",
       "1  http://purl.uniprot.org/uniprot/F2KNH1   \n",
       "2  http://purl.uniprot.org/uniprot/D3S1E4   \n",
       "\n",
       "                                 protein1_OMA          taxLevel  \n",
       "0  https://omabrowser.org/oma/info/ARCPA01188  Archaeoglobaceae  \n",
       "1  https://omabrowser.org/oma/info/ARCVS01308  Archaeoglobaceae  \n",
       "2  https://omabrowser.org/oma/info/FERPA02200  Archaeoglobaceae  "
      ]
     },
     "execution_count": 13,
     "metadata": {},
     "output_type": "execute_result"
    }
   ],
   "source": [
    "sparql_OMA.setQuery(query_OMA_HOGs_extended)\n",
    "sparql_OMA.setReturnFormat(JSON)\n",
    "\n",
    "results_OMA = sparql_OMA.query().convert()\n",
    "\n",
    "# print some sample results...\n",
    "pretty_print(results_OMA).head(NUM_EXAMPLES)"
   ]
  },
  {
   "cell_type": "code",
   "execution_count": 14,
   "id": "7545075e",
   "metadata": {},
   "outputs": [
    {
     "name": "stdout",
     "output_type": "stream",
     "text": [
      "1785\n"
     ]
    }
   ],
   "source": [
    "# total number of orthologs for this gene (ordered by tax level)\n",
    "print(len(results_OMA[\"results\"][\"bindings\"]))"
   ]
  },
  {
   "cell_type": "code",
   "execution_count": null,
   "id": "2ef8b91a-c54c-4375-b82f-8c3f3d855ca3",
   "metadata": {},
   "outputs": [],
   "source": []
  },
  {
   "cell_type": "code",
   "execution_count": null,
   "id": "d4e34302-85dd-4b4d-a7df-a665a766a1c0",
   "metadata": {},
   "outputs": [],
   "source": [
    "#load string data\n",
    "\n",
    "#map OMA to string IDS\n",
    "\n",
    "#check interaction in the string dataset \n",
    "\n"
   ]
  }
 ],
 "metadata": {
  "kernelspec": {
   "display_name": "Python 3 (ipykernel)",
   "language": "python",
   "name": "python3"
  },
  "language_info": {
   "codemirror_mode": {
    "name": "ipython",
    "version": 3
   },
   "file_extension": ".py",
   "mimetype": "text/x-python",
   "name": "python",
   "nbconvert_exporter": "python",
   "pygments_lexer": "ipython3",
   "version": "3.10.8"
  }
 },
 "nbformat": 4,
 "nbformat_minor": 5
}
